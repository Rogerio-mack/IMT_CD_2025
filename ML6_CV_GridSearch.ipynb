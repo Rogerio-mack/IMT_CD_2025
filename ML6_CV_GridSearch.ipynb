{
  "nbformat": 4,
  "nbformat_minor": 0,
  "metadata": {
    "kernelspec": {
      "display_name": "Python 3",
      "language": "python",
      "name": "python3"
    },
    "language_info": {
      "codemirror_mode": {
        "name": "ipython",
        "version": 3
      },
      "file_extension": ".py",
      "mimetype": "text/x-python",
      "name": "python",
      "nbconvert_exporter": "python",
      "pygments_lexer": "ipython3",
      "version": "3.7.4"
    },
    "colab": {
      "name": "ML6_CV_GridSearch.ipynb",
      "provenance": [],
      "toc_visible": true,
      "include_colab_link": true
    }
  },
  "cells": [
    {
      "cell_type": "markdown",
      "metadata": {
        "id": "view-in-github",
        "colab_type": "text"
      },
      "source": [
        "<a href=\"https://colab.research.google.com/github/Rogerio-mack/IMT_CD_2025/blob/main/ML6_CV_GridSearch.ipynb\" target=\"_parent\"><img src=\"https://colab.research.google.com/assets/colab-badge.svg\" alt=\"Open In Colab\"/></a>"
      ]
    },
    {
      "cell_type": "markdown",
      "metadata": {
        "id": "RuZV62fGOorG"
      },
      "source": [
        "<head>\n",
        "  <meta name=\"author\" content=\"Rogério de Oliveira\">\n",
        "  <meta institution=\"author\" content=\"ITM\">\n",
        "</head>\n",
        "\n",
        "<img src=\"https://maua.br/images/selo-60-anos-maua.svg\" width=300, align=\"right\">\n",
        "<!-- <h1 align=left><font size = 6, style=\"color:rgb(200,0,0)\"> optional title </font></h1> -->\n"
      ]
    },
    {
      "cell_type": "markdown",
      "metadata": {
        "id": "zQX8WQPeHTwc"
      },
      "source": [
        "# **Validação Cruzada e *GridSearch***\n",
        "---\n",
        "\n",
        "Nesta aula você vai aprender:\n",
        "\n",
        "* O que são os conjuntos de Validação e Teste\n",
        "* Como e por que aplicar a Validação Cruzada dos modelos\n",
        "* Como empregar GridSearch do Scikit-Learn para selecionar os hiperparâmetros de um modelo"
      ]
    },
    {
      "cell_type": "markdown",
      "metadata": {
        "id": "zH-kFjI8TIUe"
      },
      "source": [
        "A avaliação dos diferentes hiperparâmetros dos modelos, como o valor de k no KNeighborsClassifier ou a profundidade da Árvore de Decisão, sobre o conjunto de teste traz o risco de produzirmos um sobreajuste do modelo, pois vamos empregando sempre hiperparâmetros que mais e mais elevam o ajuste do modelo ao conjunto de teste - é como se estivéssemos, de fato, empregando o conjunto de teste para o treinamento.\n",
        "\n",
        "> *Uma analogia útil: se medir a acuracidade sobre o conjunto de treinamento é como dar uma prova para um aluno onde haveria somente questões que ele já conheceu em aula (o conjunto de treinamento), o uso do conjunto de teste para ajustar os hiperparâmetros do modelo, seria como dar a nota para o aluno (mas sem indicar as respostas) para que ele fizesse novas tentativas da prova até obter o resultado que desejasse. Em ambos os casos parece ser uma má prática, seja para o aprendizado humano, seja para o aprendizado de máquina.*\n",
        "\n",
        "Uma técnica comum para resolver isso é o emprego da validação cruzada que, normalmente, é quase um padrão para a seleção e ajuste de modelos e, nesta aula, você vai aprender como empregar a validação cruzada e como aplicar técnicas eficientes para ajuste e seleção de modelos.\n",
        "\n",
        "\n"
      ]
    },
    {
      "cell_type": "code",
      "metadata": {
        "id": "xyywcuI7p1kG"
      },
      "source": [
        "import numpy as np\n",
        "import pandas as pd\n",
        "import matplotlib.pyplot as plt\n",
        "%matplotlib inline\n",
        "from matplotlib.lines import Line2D\n",
        "import seaborn as sns"
      ],
      "execution_count": null,
      "outputs": []
    },
    {
      "cell_type": "markdown",
      "source": [
        "Vamos partir visitando um caso de Classificação em que aplicamos o modelo de K-Vizinhos e estenderemos depois essas técnicas para Árvores de Decisão e Florestas Aleatórias."
      ],
      "metadata": {
        "id": "iyqcohxmTL-U"
      }
    },
    {
      "cell_type": "markdown",
      "metadata": {
        "id": "OeznxpCOckJ7"
      },
      "source": [
        "# CASO: Breast Cancer biopsy\n",
        "\n",
        "Este banco de dados de câncer de mama foi obtido dos Hospitais da Universidade de Wisconsin, que avaliou biópsias de tumores de mama em 699 pacientes até 1992;. Cada um dos nove atributos foi pontuado em uma escala de 1 a 10.\n",
        "\n",
        "Fonte: https://vincentarelbundock.github.io/Rdatasets/csv/MASS/biopsy.csv\n",
        "\n",
        "Documentação: https://stat.ethz.ch/R-manual/R-devel/library/MASS/html/biopsy.html"
      ]
    },
    {
      "cell_type": "code",
      "metadata": {
        "colab": {
          "base_uri": "https://localhost:8080/",
          "height": 206
        },
        "id": "OlF3XXOTckJ-",
        "outputId": "4031c21a-daa3-4baa-ebcc-73dc3cdb3889"
      },
      "source": [
        "df = pd.read_csv('https://vincentarelbundock.github.io/Rdatasets/csv/MASS/biopsy.csv',index_col=0)\n",
        "df.head()"
      ],
      "execution_count": null,
      "outputs": [
        {
          "output_type": "execute_result",
          "data": {
            "text/plain": [
              "        ID  V1  V2  V3  V4  V5    V6  V7  V8  V9   class\n",
              "1  1000025   5   1   1   1   2   1.0   3   1   1  benign\n",
              "2  1002945   5   4   4   5   7  10.0   3   2   1  benign\n",
              "3  1015425   3   1   1   1   2   2.0   3   1   1  benign\n",
              "4  1016277   6   8   8   1   3   4.0   3   7   1  benign\n",
              "5  1017023   4   1   1   3   2   1.0   3   1   1  benign"
            ],
            "text/html": [
              "\n",
              "  <div id=\"df-81a97517-ebee-4e8a-8f4b-bb7dc74338fb\">\n",
              "    <div class=\"colab-df-container\">\n",
              "      <div>\n",
              "<style scoped>\n",
              "    .dataframe tbody tr th:only-of-type {\n",
              "        vertical-align: middle;\n",
              "    }\n",
              "\n",
              "    .dataframe tbody tr th {\n",
              "        vertical-align: top;\n",
              "    }\n",
              "\n",
              "    .dataframe thead th {\n",
              "        text-align: right;\n",
              "    }\n",
              "</style>\n",
              "<table border=\"1\" class=\"dataframe\">\n",
              "  <thead>\n",
              "    <tr style=\"text-align: right;\">\n",
              "      <th></th>\n",
              "      <th>ID</th>\n",
              "      <th>V1</th>\n",
              "      <th>V2</th>\n",
              "      <th>V3</th>\n",
              "      <th>V4</th>\n",
              "      <th>V5</th>\n",
              "      <th>V6</th>\n",
              "      <th>V7</th>\n",
              "      <th>V8</th>\n",
              "      <th>V9</th>\n",
              "      <th>class</th>\n",
              "    </tr>\n",
              "  </thead>\n",
              "  <tbody>\n",
              "    <tr>\n",
              "      <th>1</th>\n",
              "      <td>1000025</td>\n",
              "      <td>5</td>\n",
              "      <td>1</td>\n",
              "      <td>1</td>\n",
              "      <td>1</td>\n",
              "      <td>2</td>\n",
              "      <td>1.0</td>\n",
              "      <td>3</td>\n",
              "      <td>1</td>\n",
              "      <td>1</td>\n",
              "      <td>benign</td>\n",
              "    </tr>\n",
              "    <tr>\n",
              "      <th>2</th>\n",
              "      <td>1002945</td>\n",
              "      <td>5</td>\n",
              "      <td>4</td>\n",
              "      <td>4</td>\n",
              "      <td>5</td>\n",
              "      <td>7</td>\n",
              "      <td>10.0</td>\n",
              "      <td>3</td>\n",
              "      <td>2</td>\n",
              "      <td>1</td>\n",
              "      <td>benign</td>\n",
              "    </tr>\n",
              "    <tr>\n",
              "      <th>3</th>\n",
              "      <td>1015425</td>\n",
              "      <td>3</td>\n",
              "      <td>1</td>\n",
              "      <td>1</td>\n",
              "      <td>1</td>\n",
              "      <td>2</td>\n",
              "      <td>2.0</td>\n",
              "      <td>3</td>\n",
              "      <td>1</td>\n",
              "      <td>1</td>\n",
              "      <td>benign</td>\n",
              "    </tr>\n",
              "    <tr>\n",
              "      <th>4</th>\n",
              "      <td>1016277</td>\n",
              "      <td>6</td>\n",
              "      <td>8</td>\n",
              "      <td>8</td>\n",
              "      <td>1</td>\n",
              "      <td>3</td>\n",
              "      <td>4.0</td>\n",
              "      <td>3</td>\n",
              "      <td>7</td>\n",
              "      <td>1</td>\n",
              "      <td>benign</td>\n",
              "    </tr>\n",
              "    <tr>\n",
              "      <th>5</th>\n",
              "      <td>1017023</td>\n",
              "      <td>4</td>\n",
              "      <td>1</td>\n",
              "      <td>1</td>\n",
              "      <td>3</td>\n",
              "      <td>2</td>\n",
              "      <td>1.0</td>\n",
              "      <td>3</td>\n",
              "      <td>1</td>\n",
              "      <td>1</td>\n",
              "      <td>benign</td>\n",
              "    </tr>\n",
              "  </tbody>\n",
              "</table>\n",
              "</div>\n",
              "      <button class=\"colab-df-convert\" onclick=\"convertToInteractive('df-81a97517-ebee-4e8a-8f4b-bb7dc74338fb')\"\n",
              "              title=\"Convert this dataframe to an interactive table.\"\n",
              "              style=\"display:none;\">\n",
              "        \n",
              "  <svg xmlns=\"http://www.w3.org/2000/svg\" height=\"24px\"viewBox=\"0 0 24 24\"\n",
              "       width=\"24px\">\n",
              "    <path d=\"M0 0h24v24H0V0z\" fill=\"none\"/>\n",
              "    <path d=\"M18.56 5.44l.94 2.06.94-2.06 2.06-.94-2.06-.94-.94-2.06-.94 2.06-2.06.94zm-11 1L8.5 8.5l.94-2.06 2.06-.94-2.06-.94L8.5 2.5l-.94 2.06-2.06.94zm10 10l.94 2.06.94-2.06 2.06-.94-2.06-.94-.94-2.06-.94 2.06-2.06.94z\"/><path d=\"M17.41 7.96l-1.37-1.37c-.4-.4-.92-.59-1.43-.59-.52 0-1.04.2-1.43.59L10.3 9.45l-7.72 7.72c-.78.78-.78 2.05 0 2.83L4 21.41c.39.39.9.59 1.41.59.51 0 1.02-.2 1.41-.59l7.78-7.78 2.81-2.81c.8-.78.8-2.07 0-2.86zM5.41 20L4 18.59l7.72-7.72 1.47 1.35L5.41 20z\"/>\n",
              "  </svg>\n",
              "      </button>\n",
              "      \n",
              "  <style>\n",
              "    .colab-df-container {\n",
              "      display:flex;\n",
              "      flex-wrap:wrap;\n",
              "      gap: 12px;\n",
              "    }\n",
              "\n",
              "    .colab-df-convert {\n",
              "      background-color: #E8F0FE;\n",
              "      border: none;\n",
              "      border-radius: 50%;\n",
              "      cursor: pointer;\n",
              "      display: none;\n",
              "      fill: #1967D2;\n",
              "      height: 32px;\n",
              "      padding: 0 0 0 0;\n",
              "      width: 32px;\n",
              "    }\n",
              "\n",
              "    .colab-df-convert:hover {\n",
              "      background-color: #E2EBFA;\n",
              "      box-shadow: 0px 1px 2px rgba(60, 64, 67, 0.3), 0px 1px 3px 1px rgba(60, 64, 67, 0.15);\n",
              "      fill: #174EA6;\n",
              "    }\n",
              "\n",
              "    [theme=dark] .colab-df-convert {\n",
              "      background-color: #3B4455;\n",
              "      fill: #D2E3FC;\n",
              "    }\n",
              "\n",
              "    [theme=dark] .colab-df-convert:hover {\n",
              "      background-color: #434B5C;\n",
              "      box-shadow: 0px 1px 3px 1px rgba(0, 0, 0, 0.15);\n",
              "      filter: drop-shadow(0px 1px 2px rgba(0, 0, 0, 0.3));\n",
              "      fill: #FFFFFF;\n",
              "    }\n",
              "  </style>\n",
              "\n",
              "      <script>\n",
              "        const buttonEl =\n",
              "          document.querySelector('#df-81a97517-ebee-4e8a-8f4b-bb7dc74338fb button.colab-df-convert');\n",
              "        buttonEl.style.display =\n",
              "          google.colab.kernel.accessAllowed ? 'block' : 'none';\n",
              "\n",
              "        async function convertToInteractive(key) {\n",
              "          const element = document.querySelector('#df-81a97517-ebee-4e8a-8f4b-bb7dc74338fb');\n",
              "          const dataTable =\n",
              "            await google.colab.kernel.invokeFunction('convertToInteractive',\n",
              "                                                     [key], {});\n",
              "          if (!dataTable) return;\n",
              "\n",
              "          const docLinkHtml = 'Like what you see? Visit the ' +\n",
              "            '<a target=\"_blank\" href=https://colab.research.google.com/notebooks/data_table.ipynb>data table notebook</a>'\n",
              "            + ' to learn more about interactive tables.';\n",
              "          element.innerHTML = '';\n",
              "          dataTable['output_type'] = 'display_data';\n",
              "          await google.colab.output.renderOutput(dataTable, element);\n",
              "          const docLink = document.createElement('div');\n",
              "          docLink.innerHTML = docLinkHtml;\n",
              "          element.appendChild(docLink);\n",
              "        }\n",
              "      </script>\n",
              "    </div>\n",
              "  </div>\n",
              "  "
            ]
          },
          "metadata": {},
          "execution_count": 2
        }
      ]
    },
    {
      "cell_type": "markdown",
      "metadata": {
        "id": "0-_4-cn_ckJ-"
      },
      "source": [
        "## Preparação dos Dados\n",
        "\n",
        "As variáveis preditoras são todas numéricas e não há, portanto, necessidade do hot encode dos atributos. Há, entretanto, valores ausentes."
      ]
    },
    {
      "cell_type": "code",
      "metadata": {
        "colab": {
          "base_uri": "https://localhost:8080/"
        },
        "id": "4kffDfiockJ-",
        "outputId": "3f6b87d8-6e20-494b-a036-11140db4f16a"
      },
      "source": [
        "df.isnull().sum() / len(df)"
      ],
      "execution_count": null,
      "outputs": [
        {
          "output_type": "execute_result",
          "data": {
            "text/plain": [
              "ID       0.00000\n",
              "V1       0.00000\n",
              "V2       0.00000\n",
              "V3       0.00000\n",
              "V4       0.00000\n",
              "V5       0.00000\n",
              "V6       0.02289\n",
              "V7       0.00000\n",
              "V8       0.00000\n",
              "V9       0.00000\n",
              "class    0.00000\n",
              "dtype: float64"
            ]
          },
          "metadata": {},
          "execution_count": 3
        }
      ]
    },
    {
      "cell_type": "markdown",
      "metadata": {
        "id": "l4do0DEpckJ-"
      },
      "source": [
        "O percentual é pequeno e assim vamos simplesmente excluir os dados ausentes."
      ]
    },
    {
      "cell_type": "code",
      "metadata": {
        "colab": {
          "base_uri": "https://localhost:8080/"
        },
        "id": "pP0AeZ1sckJ-",
        "outputId": "ac1e06b6-e49a-4693-936d-b785ea6ffacb"
      },
      "source": [
        "df['V6'] = df[['V6']].fillna(df['V6'].mean())\n",
        "df.isnull().sum() / len(df)"
      ],
      "execution_count": null,
      "outputs": [
        {
          "output_type": "execute_result",
          "data": {
            "text/plain": [
              "ID       0.0\n",
              "V1       0.0\n",
              "V2       0.0\n",
              "V3       0.0\n",
              "V4       0.0\n",
              "V5       0.0\n",
              "V6       0.0\n",
              "V7       0.0\n",
              "V8       0.0\n",
              "V9       0.0\n",
              "class    0.0\n",
              "dtype: float64"
            ]
          },
          "metadata": {},
          "execution_count": 4
        }
      ]
    },
    {
      "cell_type": "markdown",
      "source": [
        "Além disso sendo o Knn um modelo que emprega distância e, portanto, sensível à escala dos dados vamos normalizar os dados aplicando a transformação `MinMaxScaler`."
      ],
      "metadata": {
        "id": "oO5FHvCQUAdw"
      }
    },
    {
      "cell_type": "markdown",
      "metadata": {
        "id": "KeUjJzsEckJ_"
      },
      "source": [
        "## Aplicando o Modelo Knn"
      ]
    },
    {
      "cell_type": "markdown",
      "metadata": {
        "id": "MTLV3SNjckJ_"
      },
      "source": [
        "Vamos agora implementar o modelo empregando o esquema mais geral de aprendizado supervisionado incluindo o uso dos conjuntos de treinamento e teste, e as avaliações do modelo."
      ]
    },
    {
      "cell_type": "code",
      "metadata": {
        "colab": {
          "base_uri": "https://localhost:8080/"
        },
        "id": "ZBBtrUNbckJ_",
        "outputId": "c7c2b7df-adc2-434f-d910-4667fd7e504b"
      },
      "source": [
        "from sklearn.model_selection import train_test_split\n",
        "from sklearn.neighbors import KNeighborsClassifier\n",
        "from sklearn.preprocessing import MinMaxScaler\n",
        "\n",
        "X = df.drop(columns=['ID','class'])\n",
        "y = df['class']\n",
        "\n",
        "scaler = MinMaxScaler()\n",
        "scaler.fit(X)\n",
        "X = scaler.transform(X)\n",
        "\n",
        "X_train, X_test, y_train, y_test = train_test_split(X, y, stratify=y, test_size=0.3, random_state=123)\n",
        "\n",
        "clf = KNeighborsClassifier(n_neighbors = 9)\n",
        "\n",
        "clf.fit(X_train, y_train)\n",
        "\n",
        "y_pred = clf.predict(X_test)\n",
        "\n",
        "print( y_pred[0:10], '...' )\n",
        "print( clf.score(X_test,y_test) )"
      ],
      "execution_count": null,
      "outputs": [
        {
          "output_type": "stream",
          "name": "stdout",
          "text": [
            "['benign' 'benign' 'malignant' 'benign' 'benign' 'malignant' 'benign'\n",
            " 'benign' 'benign' 'benign'] ...\n",
            "0.9380952380952381\n"
          ]
        }
      ]
    },
    {
      "cell_type": "markdown",
      "metadata": {
        "id": "GMR7xzAqckJ_"
      },
      "source": [
        "## Predição de Novos Casos"
      ]
    },
    {
      "cell_type": "markdown",
      "metadata": {
        "id": "a9kt3dXfckJ_"
      },
      "source": [
        "Se considerarmos 0.93 um bom resultado podemos então aplicar o modelo para novos casos. Por exemplo, podemos fazer predição considerando pacientes hipotéticos valores das medidas v1-v9 dos tumores nos percentis  $[0.10, 0.25, 0.75, 0.90]$."
      ]
    },
    {
      "cell_type": "code",
      "metadata": {
        "colab": {
          "base_uri": "https://localhost:8080/",
          "height": 175
        },
        "id": "BdXvGD3xckJ_",
        "outputId": "531d7581-986f-4e22-e8e8-e86497728eb6"
      },
      "source": [
        "X_new = pd.DataFrame( df.drop(columns=['ID','class']).quantile([0.10, 0.25, 0.75, 0.90]) ).reset_index(drop=True)\n",
        "display(X_new)\n",
        "X_new_scaled = scaler.transform(X_new)"
      ],
      "execution_count": null,
      "outputs": [
        {
          "output_type": "display_data",
          "data": {
            "text/plain": [
              "    V1   V2   V3   V4   V5    V6   V7   V8   V9\n",
              "0  1.0  1.0  1.0  1.0  2.0   1.0  1.0  1.0  1.0\n",
              "1  2.0  1.0  1.0  1.0  2.0   1.0  2.0  1.0  1.0\n",
              "2  6.0  5.0  5.0  4.0  4.0   5.0  5.0  4.0  1.0\n",
              "3  9.0  9.0  8.0  8.0  6.0  10.0  7.0  9.0  3.0"
            ],
            "text/html": [
              "\n",
              "  <div id=\"df-894aa2e1-5821-4641-9a7c-eaec89b1b03a\">\n",
              "    <div class=\"colab-df-container\">\n",
              "      <div>\n",
              "<style scoped>\n",
              "    .dataframe tbody tr th:only-of-type {\n",
              "        vertical-align: middle;\n",
              "    }\n",
              "\n",
              "    .dataframe tbody tr th {\n",
              "        vertical-align: top;\n",
              "    }\n",
              "\n",
              "    .dataframe thead th {\n",
              "        text-align: right;\n",
              "    }\n",
              "</style>\n",
              "<table border=\"1\" class=\"dataframe\">\n",
              "  <thead>\n",
              "    <tr style=\"text-align: right;\">\n",
              "      <th></th>\n",
              "      <th>V1</th>\n",
              "      <th>V2</th>\n",
              "      <th>V3</th>\n",
              "      <th>V4</th>\n",
              "      <th>V5</th>\n",
              "      <th>V6</th>\n",
              "      <th>V7</th>\n",
              "      <th>V8</th>\n",
              "      <th>V9</th>\n",
              "    </tr>\n",
              "  </thead>\n",
              "  <tbody>\n",
              "    <tr>\n",
              "      <th>0</th>\n",
              "      <td>1.0</td>\n",
              "      <td>1.0</td>\n",
              "      <td>1.0</td>\n",
              "      <td>1.0</td>\n",
              "      <td>2.0</td>\n",
              "      <td>1.0</td>\n",
              "      <td>1.0</td>\n",
              "      <td>1.0</td>\n",
              "      <td>1.0</td>\n",
              "    </tr>\n",
              "    <tr>\n",
              "      <th>1</th>\n",
              "      <td>2.0</td>\n",
              "      <td>1.0</td>\n",
              "      <td>1.0</td>\n",
              "      <td>1.0</td>\n",
              "      <td>2.0</td>\n",
              "      <td>1.0</td>\n",
              "      <td>2.0</td>\n",
              "      <td>1.0</td>\n",
              "      <td>1.0</td>\n",
              "    </tr>\n",
              "    <tr>\n",
              "      <th>2</th>\n",
              "      <td>6.0</td>\n",
              "      <td>5.0</td>\n",
              "      <td>5.0</td>\n",
              "      <td>4.0</td>\n",
              "      <td>4.0</td>\n",
              "      <td>5.0</td>\n",
              "      <td>5.0</td>\n",
              "      <td>4.0</td>\n",
              "      <td>1.0</td>\n",
              "    </tr>\n",
              "    <tr>\n",
              "      <th>3</th>\n",
              "      <td>9.0</td>\n",
              "      <td>9.0</td>\n",
              "      <td>8.0</td>\n",
              "      <td>8.0</td>\n",
              "      <td>6.0</td>\n",
              "      <td>10.0</td>\n",
              "      <td>7.0</td>\n",
              "      <td>9.0</td>\n",
              "      <td>3.0</td>\n",
              "    </tr>\n",
              "  </tbody>\n",
              "</table>\n",
              "</div>\n",
              "      <button class=\"colab-df-convert\" onclick=\"convertToInteractive('df-894aa2e1-5821-4641-9a7c-eaec89b1b03a')\"\n",
              "              title=\"Convert this dataframe to an interactive table.\"\n",
              "              style=\"display:none;\">\n",
              "        \n",
              "  <svg xmlns=\"http://www.w3.org/2000/svg\" height=\"24px\"viewBox=\"0 0 24 24\"\n",
              "       width=\"24px\">\n",
              "    <path d=\"M0 0h24v24H0V0z\" fill=\"none\"/>\n",
              "    <path d=\"M18.56 5.44l.94 2.06.94-2.06 2.06-.94-2.06-.94-.94-2.06-.94 2.06-2.06.94zm-11 1L8.5 8.5l.94-2.06 2.06-.94-2.06-.94L8.5 2.5l-.94 2.06-2.06.94zm10 10l.94 2.06.94-2.06 2.06-.94-2.06-.94-.94-2.06-.94 2.06-2.06.94z\"/><path d=\"M17.41 7.96l-1.37-1.37c-.4-.4-.92-.59-1.43-.59-.52 0-1.04.2-1.43.59L10.3 9.45l-7.72 7.72c-.78.78-.78 2.05 0 2.83L4 21.41c.39.39.9.59 1.41.59.51 0 1.02-.2 1.41-.59l7.78-7.78 2.81-2.81c.8-.78.8-2.07 0-2.86zM5.41 20L4 18.59l7.72-7.72 1.47 1.35L5.41 20z\"/>\n",
              "  </svg>\n",
              "      </button>\n",
              "      \n",
              "  <style>\n",
              "    .colab-df-container {\n",
              "      display:flex;\n",
              "      flex-wrap:wrap;\n",
              "      gap: 12px;\n",
              "    }\n",
              "\n",
              "    .colab-df-convert {\n",
              "      background-color: #E8F0FE;\n",
              "      border: none;\n",
              "      border-radius: 50%;\n",
              "      cursor: pointer;\n",
              "      display: none;\n",
              "      fill: #1967D2;\n",
              "      height: 32px;\n",
              "      padding: 0 0 0 0;\n",
              "      width: 32px;\n",
              "    }\n",
              "\n",
              "    .colab-df-convert:hover {\n",
              "      background-color: #E2EBFA;\n",
              "      box-shadow: 0px 1px 2px rgba(60, 64, 67, 0.3), 0px 1px 3px 1px rgba(60, 64, 67, 0.15);\n",
              "      fill: #174EA6;\n",
              "    }\n",
              "\n",
              "    [theme=dark] .colab-df-convert {\n",
              "      background-color: #3B4455;\n",
              "      fill: #D2E3FC;\n",
              "    }\n",
              "\n",
              "    [theme=dark] .colab-df-convert:hover {\n",
              "      background-color: #434B5C;\n",
              "      box-shadow: 0px 1px 3px 1px rgba(0, 0, 0, 0.15);\n",
              "      filter: drop-shadow(0px 1px 2px rgba(0, 0, 0, 0.3));\n",
              "      fill: #FFFFFF;\n",
              "    }\n",
              "  </style>\n",
              "\n",
              "      <script>\n",
              "        const buttonEl =\n",
              "          document.querySelector('#df-894aa2e1-5821-4641-9a7c-eaec89b1b03a button.colab-df-convert');\n",
              "        buttonEl.style.display =\n",
              "          google.colab.kernel.accessAllowed ? 'block' : 'none';\n",
              "\n",
              "        async function convertToInteractive(key) {\n",
              "          const element = document.querySelector('#df-894aa2e1-5821-4641-9a7c-eaec89b1b03a');\n",
              "          const dataTable =\n",
              "            await google.colab.kernel.invokeFunction('convertToInteractive',\n",
              "                                                     [key], {});\n",
              "          if (!dataTable) return;\n",
              "\n",
              "          const docLinkHtml = 'Like what you see? Visit the ' +\n",
              "            '<a target=\"_blank\" href=https://colab.research.google.com/notebooks/data_table.ipynb>data table notebook</a>'\n",
              "            + ' to learn more about interactive tables.';\n",
              "          element.innerHTML = '';\n",
              "          dataTable['output_type'] = 'display_data';\n",
              "          await google.colab.output.renderOutput(dataTable, element);\n",
              "          const docLink = document.createElement('div');\n",
              "          docLink.innerHTML = docLinkHtml;\n",
              "          element.appendChild(docLink);\n",
              "        }\n",
              "      </script>\n",
              "    </div>\n",
              "  </div>\n",
              "  "
            ]
          },
          "metadata": {}
        }
      ]
    },
    {
      "cell_type": "code",
      "metadata": {
        "colab": {
          "base_uri": "https://localhost:8080/"
        },
        "id": "EkwA_uA-jet1",
        "outputId": "d665f11b-b1f8-4453-8139-5ff1cadb5f91"
      },
      "source": [
        "clf.predict(X_new_scaled)"
      ],
      "execution_count": null,
      "outputs": [
        {
          "output_type": "execute_result",
          "data": {
            "text/plain": [
              "array(['benign', 'benign', 'malignant', 'malignant'], dtype=object)"
            ]
          },
          "metadata": {},
          "execution_count": 7
        }
      ]
    },
    {
      "cell_type": "code",
      "metadata": {
        "colab": {
          "base_uri": "https://localhost:8080/",
          "height": 175
        },
        "id": "JWmJiM9Rjj7g",
        "outputId": "4b16fd1c-6a29-40a6-b7aa-b7017a2e2125"
      },
      "source": [
        "X_new['predicted'] = clf.predict(X_new_scaled)\n",
        "X_new"
      ],
      "execution_count": null,
      "outputs": [
        {
          "output_type": "execute_result",
          "data": {
            "text/plain": [
              "    V1   V2   V3   V4   V5    V6   V7   V8   V9  predicted\n",
              "0  1.0  1.0  1.0  1.0  2.0   1.0  1.0  1.0  1.0     benign\n",
              "1  2.0  1.0  1.0  1.0  2.0   1.0  2.0  1.0  1.0     benign\n",
              "2  6.0  5.0  5.0  4.0  4.0   5.0  5.0  4.0  1.0  malignant\n",
              "3  9.0  9.0  8.0  8.0  6.0  10.0  7.0  9.0  3.0  malignant"
            ],
            "text/html": [
              "\n",
              "  <div id=\"df-3e2b8583-0c59-46b4-9af1-591f2c5f2073\">\n",
              "    <div class=\"colab-df-container\">\n",
              "      <div>\n",
              "<style scoped>\n",
              "    .dataframe tbody tr th:only-of-type {\n",
              "        vertical-align: middle;\n",
              "    }\n",
              "\n",
              "    .dataframe tbody tr th {\n",
              "        vertical-align: top;\n",
              "    }\n",
              "\n",
              "    .dataframe thead th {\n",
              "        text-align: right;\n",
              "    }\n",
              "</style>\n",
              "<table border=\"1\" class=\"dataframe\">\n",
              "  <thead>\n",
              "    <tr style=\"text-align: right;\">\n",
              "      <th></th>\n",
              "      <th>V1</th>\n",
              "      <th>V2</th>\n",
              "      <th>V3</th>\n",
              "      <th>V4</th>\n",
              "      <th>V5</th>\n",
              "      <th>V6</th>\n",
              "      <th>V7</th>\n",
              "      <th>V8</th>\n",
              "      <th>V9</th>\n",
              "      <th>predicted</th>\n",
              "    </tr>\n",
              "  </thead>\n",
              "  <tbody>\n",
              "    <tr>\n",
              "      <th>0</th>\n",
              "      <td>1.0</td>\n",
              "      <td>1.0</td>\n",
              "      <td>1.0</td>\n",
              "      <td>1.0</td>\n",
              "      <td>2.0</td>\n",
              "      <td>1.0</td>\n",
              "      <td>1.0</td>\n",
              "      <td>1.0</td>\n",
              "      <td>1.0</td>\n",
              "      <td>benign</td>\n",
              "    </tr>\n",
              "    <tr>\n",
              "      <th>1</th>\n",
              "      <td>2.0</td>\n",
              "      <td>1.0</td>\n",
              "      <td>1.0</td>\n",
              "      <td>1.0</td>\n",
              "      <td>2.0</td>\n",
              "      <td>1.0</td>\n",
              "      <td>2.0</td>\n",
              "      <td>1.0</td>\n",
              "      <td>1.0</td>\n",
              "      <td>benign</td>\n",
              "    </tr>\n",
              "    <tr>\n",
              "      <th>2</th>\n",
              "      <td>6.0</td>\n",
              "      <td>5.0</td>\n",
              "      <td>5.0</td>\n",
              "      <td>4.0</td>\n",
              "      <td>4.0</td>\n",
              "      <td>5.0</td>\n",
              "      <td>5.0</td>\n",
              "      <td>4.0</td>\n",
              "      <td>1.0</td>\n",
              "      <td>malignant</td>\n",
              "    </tr>\n",
              "    <tr>\n",
              "      <th>3</th>\n",
              "      <td>9.0</td>\n",
              "      <td>9.0</td>\n",
              "      <td>8.0</td>\n",
              "      <td>8.0</td>\n",
              "      <td>6.0</td>\n",
              "      <td>10.0</td>\n",
              "      <td>7.0</td>\n",
              "      <td>9.0</td>\n",
              "      <td>3.0</td>\n",
              "      <td>malignant</td>\n",
              "    </tr>\n",
              "  </tbody>\n",
              "</table>\n",
              "</div>\n",
              "      <button class=\"colab-df-convert\" onclick=\"convertToInteractive('df-3e2b8583-0c59-46b4-9af1-591f2c5f2073')\"\n",
              "              title=\"Convert this dataframe to an interactive table.\"\n",
              "              style=\"display:none;\">\n",
              "        \n",
              "  <svg xmlns=\"http://www.w3.org/2000/svg\" height=\"24px\"viewBox=\"0 0 24 24\"\n",
              "       width=\"24px\">\n",
              "    <path d=\"M0 0h24v24H0V0z\" fill=\"none\"/>\n",
              "    <path d=\"M18.56 5.44l.94 2.06.94-2.06 2.06-.94-2.06-.94-.94-2.06-.94 2.06-2.06.94zm-11 1L8.5 8.5l.94-2.06 2.06-.94-2.06-.94L8.5 2.5l-.94 2.06-2.06.94zm10 10l.94 2.06.94-2.06 2.06-.94-2.06-.94-.94-2.06-.94 2.06-2.06.94z\"/><path d=\"M17.41 7.96l-1.37-1.37c-.4-.4-.92-.59-1.43-.59-.52 0-1.04.2-1.43.59L10.3 9.45l-7.72 7.72c-.78.78-.78 2.05 0 2.83L4 21.41c.39.39.9.59 1.41.59.51 0 1.02-.2 1.41-.59l7.78-7.78 2.81-2.81c.8-.78.8-2.07 0-2.86zM5.41 20L4 18.59l7.72-7.72 1.47 1.35L5.41 20z\"/>\n",
              "  </svg>\n",
              "      </button>\n",
              "      \n",
              "  <style>\n",
              "    .colab-df-container {\n",
              "      display:flex;\n",
              "      flex-wrap:wrap;\n",
              "      gap: 12px;\n",
              "    }\n",
              "\n",
              "    .colab-df-convert {\n",
              "      background-color: #E8F0FE;\n",
              "      border: none;\n",
              "      border-radius: 50%;\n",
              "      cursor: pointer;\n",
              "      display: none;\n",
              "      fill: #1967D2;\n",
              "      height: 32px;\n",
              "      padding: 0 0 0 0;\n",
              "      width: 32px;\n",
              "    }\n",
              "\n",
              "    .colab-df-convert:hover {\n",
              "      background-color: #E2EBFA;\n",
              "      box-shadow: 0px 1px 2px rgba(60, 64, 67, 0.3), 0px 1px 3px 1px rgba(60, 64, 67, 0.15);\n",
              "      fill: #174EA6;\n",
              "    }\n",
              "\n",
              "    [theme=dark] .colab-df-convert {\n",
              "      background-color: #3B4455;\n",
              "      fill: #D2E3FC;\n",
              "    }\n",
              "\n",
              "    [theme=dark] .colab-df-convert:hover {\n",
              "      background-color: #434B5C;\n",
              "      box-shadow: 0px 1px 3px 1px rgba(0, 0, 0, 0.15);\n",
              "      filter: drop-shadow(0px 1px 2px rgba(0, 0, 0, 0.3));\n",
              "      fill: #FFFFFF;\n",
              "    }\n",
              "  </style>\n",
              "\n",
              "      <script>\n",
              "        const buttonEl =\n",
              "          document.querySelector('#df-3e2b8583-0c59-46b4-9af1-591f2c5f2073 button.colab-df-convert');\n",
              "        buttonEl.style.display =\n",
              "          google.colab.kernel.accessAllowed ? 'block' : 'none';\n",
              "\n",
              "        async function convertToInteractive(key) {\n",
              "          const element = document.querySelector('#df-3e2b8583-0c59-46b4-9af1-591f2c5f2073');\n",
              "          const dataTable =\n",
              "            await google.colab.kernel.invokeFunction('convertToInteractive',\n",
              "                                                     [key], {});\n",
              "          if (!dataTable) return;\n",
              "\n",
              "          const docLinkHtml = 'Like what you see? Visit the ' +\n",
              "            '<a target=\"_blank\" href=https://colab.research.google.com/notebooks/data_table.ipynb>data table notebook</a>'\n",
              "            + ' to learn more about interactive tables.';\n",
              "          element.innerHTML = '';\n",
              "          dataTable['output_type'] = 'display_data';\n",
              "          await google.colab.output.renderOutput(dataTable, element);\n",
              "          const docLink = document.createElement('div');\n",
              "          docLink.innerHTML = docLinkHtml;\n",
              "          element.appendChild(docLink);\n",
              "        }\n",
              "      </script>\n",
              "    </div>\n",
              "  </div>\n",
              "  "
            ]
          },
          "metadata": {},
          "execution_count": 8
        }
      ]
    },
    {
      "cell_type": "markdown",
      "metadata": {
        "id": "lbTrs4IH3v_C"
      },
      "source": [
        "# Seleção de Hiperparâmetros\n",
        "\n",
        "No exemplo anterior empregamos o modelo Knn com k=9, uma escolha arbitrária, e a função de distância euclidiana. Será que haveria *hiperparâmetros* que apresentassem um desempenho melhor?\n",
        "\n",
        "A escolha de melhores *hiperparâmetros* é em geral por experimentação uma vez que não existem hiperparâmetros melhores *apriori* para quaisquer conjuntos de dados. A ideia, então, é criarmos os diferentes modelos e avaliarmos o desempenho de cada um para obtermos os melhores hiperparâmetros.\n",
        "\n",
        "Podemos então adaptar o nosso código do modelo Knn anterior para, por exemplo, variar os hiperparâmetros k, no range de valores de 2 a 10 e experimentar o resultado das funções distância 'euclidean' e 'manhattan'. manhattan"
      ]
    },
    {
      "cell_type": "code",
      "metadata": {
        "colab": {
          "base_uri": "https://localhost:8080/"
        },
        "id": "65CdWPS_4mjT",
        "outputId": "52bfbb4d-1470-462e-af12-35213c923220"
      },
      "source": [
        "from sklearn.model_selection import train_test_split\n",
        "from sklearn import neighbors\n",
        "from sklearn.preprocessing import MinMaxScaler\n",
        "from sklearn.preprocessing import OneHotEncoder, LabelEncoder\n",
        "\n",
        "df = pd.read_csv('https://vincentarelbundock.github.io/Rdatasets/csv/MASS/biopsy.csv',index_col=0)\n",
        "df['V6'] = df[['V6']].fillna(df['V6'].mean())\n",
        "\n",
        "X = df.drop(columns=['ID','class'])\n",
        "y = df['class']\n",
        "\n",
        "scaler.fit(X)\n",
        "X = scaler.transform(X)\n",
        "\n",
        "X_train, X_test, y_train, y_test = train_test_split(X, y, stratify=y, test_size=0.3, random_state=123)\n",
        "\n",
        "for k, d in [(k,d) for k in range(2,11) for d in ['euclidean','manhattan']]:\n",
        "\n",
        "  clf = neighbors.KNeighborsClassifier(n_neighbors = k, metric= d )\n",
        "\n",
        "  clf.fit(X_train, y_train)\n",
        "\n",
        "  y_pred = clf.predict(X_test)\n",
        "\n",
        "  print( k, d, np.round( clf.score(X_test,y_test), 4) )"
      ],
      "execution_count": null,
      "outputs": [
        {
          "output_type": "stream",
          "name": "stdout",
          "text": [
            "2 euclidean 0.9095\n",
            "2 manhattan 0.9286\n",
            "3 euclidean 0.9429\n",
            "3 manhattan 0.9381\n",
            "4 euclidean 0.9381\n",
            "4 manhattan 0.9333\n",
            "5 euclidean 0.9429\n",
            "5 manhattan 0.9333\n",
            "6 euclidean 0.9381\n",
            "6 manhattan 0.9286\n",
            "7 euclidean 0.9429\n",
            "7 manhattan 0.9333\n",
            "8 euclidean 0.9381\n",
            "8 manhattan 0.9333\n",
            "9 euclidean 0.9381\n",
            "9 manhattan 0.9381\n",
            "10 euclidean 0.9381\n",
            "10 manhattan 0.9429\n"
          ]
        }
      ]
    },
    {
      "cell_type": "markdown",
      "metadata": {
        "id": "Dr4SedpB5X-C"
      },
      "source": [
        "Embora tendo escolhido os conjuntos de treinamento e teste de forma aleatória o resultado acima, pode depender do par (treinamento, teste) escolhido.\n",
        "\n",
        "> *Tire o parâmetro `random_state=123` do código acima e veja que a cada nova execução diferentes valores de acuracidade são produzidos para os mesmos parâmetros. Assim, para obtermos uma medida mais efetiva dos modelos, precisamos executar sobre um grande número de diferentes conjuntos de teste.*\n",
        "\n",
        "Para não considerarmos o resultado de uma única amostra, podemos fazer várias execuções a obter a média dos valores sobre várias amostras, o que será uma medida independente de um par específico de dados e uma melhor aproximação do resultado esperado do modelo.\n",
        "\n"
      ]
    },
    {
      "cell_type": "code",
      "metadata": {
        "colab": {
          "base_uri": "https://localhost:8080/",
          "height": 604
        },
        "id": "hwf27Ik_--Qw",
        "outputId": "ae961d3e-4395-44dd-ffd3-8fd2bafbb944"
      },
      "source": [
        "scores_means = {}\n",
        "\n",
        "for k, d in [(k,d) for k in range(2,9) for d in ['euclidean','manhattan']]:\n",
        "\n",
        "  scores = []\n",
        "  for i in range(0,25):\n",
        "\n",
        "    X_train, X_test, y_train, y_test = train_test_split(X, y, stratify=y, test_size=0.3, random_state=123)\n",
        "\n",
        "    clf = KNeighborsClassifier(n_neighbors = k, metric= d )\n",
        "\n",
        "    clf.fit(X_train, y_train)\n",
        "\n",
        "    y_pred = clf.predict(X_test)\n",
        "\n",
        "    scores.append(clf.score(X_test,y_test))\n",
        "\n",
        "  scores_means[(k,d)] = np.mean(scores)\n",
        "\n",
        "scores_means = pd.DataFrame(scores_means.values(), index=scores_means.keys()).reset_index()\n",
        "scores_means.columns = ['k','metric','score']\n",
        "\n",
        "display(scores_means)\n",
        "print('\\nBest result:\\n')\n",
        "display(scores_means.nlargest(1,'score'))"
      ],
      "execution_count": null,
      "outputs": [
        {
          "output_type": "display_data",
          "data": {
            "text/plain": [
              "    k     metric     score\n",
              "0   2  euclidean  0.909524\n",
              "1   2  manhattan  0.928571\n",
              "2   3  euclidean  0.942857\n",
              "3   3  manhattan  0.938095\n",
              "4   4  euclidean  0.938095\n",
              "5   4  manhattan  0.933333\n",
              "6   5  euclidean  0.942857\n",
              "7   5  manhattan  0.933333\n",
              "8   6  euclidean  0.938095\n",
              "9   6  manhattan  0.928571\n",
              "10  7  euclidean  0.942857\n",
              "11  7  manhattan  0.933333\n",
              "12  8  euclidean  0.938095\n",
              "13  8  manhattan  0.933333"
            ],
            "text/html": [
              "\n",
              "  <div id=\"df-7c16561c-6333-4cf9-b521-dba7930ca612\">\n",
              "    <div class=\"colab-df-container\">\n",
              "      <div>\n",
              "<style scoped>\n",
              "    .dataframe tbody tr th:only-of-type {\n",
              "        vertical-align: middle;\n",
              "    }\n",
              "\n",
              "    .dataframe tbody tr th {\n",
              "        vertical-align: top;\n",
              "    }\n",
              "\n",
              "    .dataframe thead th {\n",
              "        text-align: right;\n",
              "    }\n",
              "</style>\n",
              "<table border=\"1\" class=\"dataframe\">\n",
              "  <thead>\n",
              "    <tr style=\"text-align: right;\">\n",
              "      <th></th>\n",
              "      <th>k</th>\n",
              "      <th>metric</th>\n",
              "      <th>score</th>\n",
              "    </tr>\n",
              "  </thead>\n",
              "  <tbody>\n",
              "    <tr>\n",
              "      <th>0</th>\n",
              "      <td>2</td>\n",
              "      <td>euclidean</td>\n",
              "      <td>0.909524</td>\n",
              "    </tr>\n",
              "    <tr>\n",
              "      <th>1</th>\n",
              "      <td>2</td>\n",
              "      <td>manhattan</td>\n",
              "      <td>0.928571</td>\n",
              "    </tr>\n",
              "    <tr>\n",
              "      <th>2</th>\n",
              "      <td>3</td>\n",
              "      <td>euclidean</td>\n",
              "      <td>0.942857</td>\n",
              "    </tr>\n",
              "    <tr>\n",
              "      <th>3</th>\n",
              "      <td>3</td>\n",
              "      <td>manhattan</td>\n",
              "      <td>0.938095</td>\n",
              "    </tr>\n",
              "    <tr>\n",
              "      <th>4</th>\n",
              "      <td>4</td>\n",
              "      <td>euclidean</td>\n",
              "      <td>0.938095</td>\n",
              "    </tr>\n",
              "    <tr>\n",
              "      <th>5</th>\n",
              "      <td>4</td>\n",
              "      <td>manhattan</td>\n",
              "      <td>0.933333</td>\n",
              "    </tr>\n",
              "    <tr>\n",
              "      <th>6</th>\n",
              "      <td>5</td>\n",
              "      <td>euclidean</td>\n",
              "      <td>0.942857</td>\n",
              "    </tr>\n",
              "    <tr>\n",
              "      <th>7</th>\n",
              "      <td>5</td>\n",
              "      <td>manhattan</td>\n",
              "      <td>0.933333</td>\n",
              "    </tr>\n",
              "    <tr>\n",
              "      <th>8</th>\n",
              "      <td>6</td>\n",
              "      <td>euclidean</td>\n",
              "      <td>0.938095</td>\n",
              "    </tr>\n",
              "    <tr>\n",
              "      <th>9</th>\n",
              "      <td>6</td>\n",
              "      <td>manhattan</td>\n",
              "      <td>0.928571</td>\n",
              "    </tr>\n",
              "    <tr>\n",
              "      <th>10</th>\n",
              "      <td>7</td>\n",
              "      <td>euclidean</td>\n",
              "      <td>0.942857</td>\n",
              "    </tr>\n",
              "    <tr>\n",
              "      <th>11</th>\n",
              "      <td>7</td>\n",
              "      <td>manhattan</td>\n",
              "      <td>0.933333</td>\n",
              "    </tr>\n",
              "    <tr>\n",
              "      <th>12</th>\n",
              "      <td>8</td>\n",
              "      <td>euclidean</td>\n",
              "      <td>0.938095</td>\n",
              "    </tr>\n",
              "    <tr>\n",
              "      <th>13</th>\n",
              "      <td>8</td>\n",
              "      <td>manhattan</td>\n",
              "      <td>0.933333</td>\n",
              "    </tr>\n",
              "  </tbody>\n",
              "</table>\n",
              "</div>\n",
              "      <button class=\"colab-df-convert\" onclick=\"convertToInteractive('df-7c16561c-6333-4cf9-b521-dba7930ca612')\"\n",
              "              title=\"Convert this dataframe to an interactive table.\"\n",
              "              style=\"display:none;\">\n",
              "        \n",
              "  <svg xmlns=\"http://www.w3.org/2000/svg\" height=\"24px\"viewBox=\"0 0 24 24\"\n",
              "       width=\"24px\">\n",
              "    <path d=\"M0 0h24v24H0V0z\" fill=\"none\"/>\n",
              "    <path d=\"M18.56 5.44l.94 2.06.94-2.06 2.06-.94-2.06-.94-.94-2.06-.94 2.06-2.06.94zm-11 1L8.5 8.5l.94-2.06 2.06-.94-2.06-.94L8.5 2.5l-.94 2.06-2.06.94zm10 10l.94 2.06.94-2.06 2.06-.94-2.06-.94-.94-2.06-.94 2.06-2.06.94z\"/><path d=\"M17.41 7.96l-1.37-1.37c-.4-.4-.92-.59-1.43-.59-.52 0-1.04.2-1.43.59L10.3 9.45l-7.72 7.72c-.78.78-.78 2.05 0 2.83L4 21.41c.39.39.9.59 1.41.59.51 0 1.02-.2 1.41-.59l7.78-7.78 2.81-2.81c.8-.78.8-2.07 0-2.86zM5.41 20L4 18.59l7.72-7.72 1.47 1.35L5.41 20z\"/>\n",
              "  </svg>\n",
              "      </button>\n",
              "      \n",
              "  <style>\n",
              "    .colab-df-container {\n",
              "      display:flex;\n",
              "      flex-wrap:wrap;\n",
              "      gap: 12px;\n",
              "    }\n",
              "\n",
              "    .colab-df-convert {\n",
              "      background-color: #E8F0FE;\n",
              "      border: none;\n",
              "      border-radius: 50%;\n",
              "      cursor: pointer;\n",
              "      display: none;\n",
              "      fill: #1967D2;\n",
              "      height: 32px;\n",
              "      padding: 0 0 0 0;\n",
              "      width: 32px;\n",
              "    }\n",
              "\n",
              "    .colab-df-convert:hover {\n",
              "      background-color: #E2EBFA;\n",
              "      box-shadow: 0px 1px 2px rgba(60, 64, 67, 0.3), 0px 1px 3px 1px rgba(60, 64, 67, 0.15);\n",
              "      fill: #174EA6;\n",
              "    }\n",
              "\n",
              "    [theme=dark] .colab-df-convert {\n",
              "      background-color: #3B4455;\n",
              "      fill: #D2E3FC;\n",
              "    }\n",
              "\n",
              "    [theme=dark] .colab-df-convert:hover {\n",
              "      background-color: #434B5C;\n",
              "      box-shadow: 0px 1px 3px 1px rgba(0, 0, 0, 0.15);\n",
              "      filter: drop-shadow(0px 1px 2px rgba(0, 0, 0, 0.3));\n",
              "      fill: #FFFFFF;\n",
              "    }\n",
              "  </style>\n",
              "\n",
              "      <script>\n",
              "        const buttonEl =\n",
              "          document.querySelector('#df-7c16561c-6333-4cf9-b521-dba7930ca612 button.colab-df-convert');\n",
              "        buttonEl.style.display =\n",
              "          google.colab.kernel.accessAllowed ? 'block' : 'none';\n",
              "\n",
              "        async function convertToInteractive(key) {\n",
              "          const element = document.querySelector('#df-7c16561c-6333-4cf9-b521-dba7930ca612');\n",
              "          const dataTable =\n",
              "            await google.colab.kernel.invokeFunction('convertToInteractive',\n",
              "                                                     [key], {});\n",
              "          if (!dataTable) return;\n",
              "\n",
              "          const docLinkHtml = 'Like what you see? Visit the ' +\n",
              "            '<a target=\"_blank\" href=https://colab.research.google.com/notebooks/data_table.ipynb>data table notebook</a>'\n",
              "            + ' to learn more about interactive tables.';\n",
              "          element.innerHTML = '';\n",
              "          dataTable['output_type'] = 'display_data';\n",
              "          await google.colab.output.renderOutput(dataTable, element);\n",
              "          const docLink = document.createElement('div');\n",
              "          docLink.innerHTML = docLinkHtml;\n",
              "          element.appendChild(docLink);\n",
              "        }\n",
              "      </script>\n",
              "    </div>\n",
              "  </div>\n",
              "  "
            ]
          },
          "metadata": {}
        },
        {
          "output_type": "stream",
          "name": "stdout",
          "text": [
            "\n",
            "Best result:\n",
            "\n"
          ]
        },
        {
          "output_type": "display_data",
          "data": {
            "text/plain": [
              "   k     metric     score\n",
              "2  3  euclidean  0.942857"
            ],
            "text/html": [
              "\n",
              "  <div id=\"df-6c7fb587-e3d2-48aa-af0a-a7a1a5f8315d\">\n",
              "    <div class=\"colab-df-container\">\n",
              "      <div>\n",
              "<style scoped>\n",
              "    .dataframe tbody tr th:only-of-type {\n",
              "        vertical-align: middle;\n",
              "    }\n",
              "\n",
              "    .dataframe tbody tr th {\n",
              "        vertical-align: top;\n",
              "    }\n",
              "\n",
              "    .dataframe thead th {\n",
              "        text-align: right;\n",
              "    }\n",
              "</style>\n",
              "<table border=\"1\" class=\"dataframe\">\n",
              "  <thead>\n",
              "    <tr style=\"text-align: right;\">\n",
              "      <th></th>\n",
              "      <th>k</th>\n",
              "      <th>metric</th>\n",
              "      <th>score</th>\n",
              "    </tr>\n",
              "  </thead>\n",
              "  <tbody>\n",
              "    <tr>\n",
              "      <th>2</th>\n",
              "      <td>3</td>\n",
              "      <td>euclidean</td>\n",
              "      <td>0.942857</td>\n",
              "    </tr>\n",
              "  </tbody>\n",
              "</table>\n",
              "</div>\n",
              "      <button class=\"colab-df-convert\" onclick=\"convertToInteractive('df-6c7fb587-e3d2-48aa-af0a-a7a1a5f8315d')\"\n",
              "              title=\"Convert this dataframe to an interactive table.\"\n",
              "              style=\"display:none;\">\n",
              "        \n",
              "  <svg xmlns=\"http://www.w3.org/2000/svg\" height=\"24px\"viewBox=\"0 0 24 24\"\n",
              "       width=\"24px\">\n",
              "    <path d=\"M0 0h24v24H0V0z\" fill=\"none\"/>\n",
              "    <path d=\"M18.56 5.44l.94 2.06.94-2.06 2.06-.94-2.06-.94-.94-2.06-.94 2.06-2.06.94zm-11 1L8.5 8.5l.94-2.06 2.06-.94-2.06-.94L8.5 2.5l-.94 2.06-2.06.94zm10 10l.94 2.06.94-2.06 2.06-.94-2.06-.94-.94-2.06-.94 2.06-2.06.94z\"/><path d=\"M17.41 7.96l-1.37-1.37c-.4-.4-.92-.59-1.43-.59-.52 0-1.04.2-1.43.59L10.3 9.45l-7.72 7.72c-.78.78-.78 2.05 0 2.83L4 21.41c.39.39.9.59 1.41.59.51 0 1.02-.2 1.41-.59l7.78-7.78 2.81-2.81c.8-.78.8-2.07 0-2.86zM5.41 20L4 18.59l7.72-7.72 1.47 1.35L5.41 20z\"/>\n",
              "  </svg>\n",
              "      </button>\n",
              "      \n",
              "  <style>\n",
              "    .colab-df-container {\n",
              "      display:flex;\n",
              "      flex-wrap:wrap;\n",
              "      gap: 12px;\n",
              "    }\n",
              "\n",
              "    .colab-df-convert {\n",
              "      background-color: #E8F0FE;\n",
              "      border: none;\n",
              "      border-radius: 50%;\n",
              "      cursor: pointer;\n",
              "      display: none;\n",
              "      fill: #1967D2;\n",
              "      height: 32px;\n",
              "      padding: 0 0 0 0;\n",
              "      width: 32px;\n",
              "    }\n",
              "\n",
              "    .colab-df-convert:hover {\n",
              "      background-color: #E2EBFA;\n",
              "      box-shadow: 0px 1px 2px rgba(60, 64, 67, 0.3), 0px 1px 3px 1px rgba(60, 64, 67, 0.15);\n",
              "      fill: #174EA6;\n",
              "    }\n",
              "\n",
              "    [theme=dark] .colab-df-convert {\n",
              "      background-color: #3B4455;\n",
              "      fill: #D2E3FC;\n",
              "    }\n",
              "\n",
              "    [theme=dark] .colab-df-convert:hover {\n",
              "      background-color: #434B5C;\n",
              "      box-shadow: 0px 1px 3px 1px rgba(0, 0, 0, 0.15);\n",
              "      filter: drop-shadow(0px 1px 2px rgba(0, 0, 0, 0.3));\n",
              "      fill: #FFFFFF;\n",
              "    }\n",
              "  </style>\n",
              "\n",
              "      <script>\n",
              "        const buttonEl =\n",
              "          document.querySelector('#df-6c7fb587-e3d2-48aa-af0a-a7a1a5f8315d button.colab-df-convert');\n",
              "        buttonEl.style.display =\n",
              "          google.colab.kernel.accessAllowed ? 'block' : 'none';\n",
              "\n",
              "        async function convertToInteractive(key) {\n",
              "          const element = document.querySelector('#df-6c7fb587-e3d2-48aa-af0a-a7a1a5f8315d');\n",
              "          const dataTable =\n",
              "            await google.colab.kernel.invokeFunction('convertToInteractive',\n",
              "                                                     [key], {});\n",
              "          if (!dataTable) return;\n",
              "\n",
              "          const docLinkHtml = 'Like what you see? Visit the ' +\n",
              "            '<a target=\"_blank\" href=https://colab.research.google.com/notebooks/data_table.ipynb>data table notebook</a>'\n",
              "            + ' to learn more about interactive tables.';\n",
              "          element.innerHTML = '';\n",
              "          dataTable['output_type'] = 'display_data';\n",
              "          await google.colab.output.renderOutput(dataTable, element);\n",
              "          const docLink = document.createElement('div');\n",
              "          docLink.innerHTML = docLinkHtml;\n",
              "          element.appendChild(docLink);\n",
              "        }\n",
              "      </script>\n",
              "    </div>\n",
              "  </div>\n",
              "  "
            ]
          },
          "metadata": {}
        }
      ]
    },
    {
      "cell_type": "markdown",
      "metadata": {
        "id": "H7U5JRpQ6n_A"
      },
      "source": [
        "Desse modo, concluímos que para o nosso conjunto de dados os melhores resultados com o modelo knn são obtidos com os parâmetros k=3 e a métrica Euclidiana.\n",
        "\n",
        "Um procedimento análogo pode  ser aplicado ao Modelo de Árvore de Decisão para escolha de diferentes hiperparâmetros desse modelo, como a profundidade da Árvore e o critério de escolha dos nós raiz.\n",
        "\n"
      ]
    },
    {
      "cell_type": "code",
      "metadata": {
        "colab": {
          "base_uri": "https://localhost:8080/",
          "height": 416
        },
        "outputId": "47c40120-d260-469b-f288-7e73304f7575",
        "id": "PjJgXWzNVkk6"
      },
      "source": [
        "from sklearn.tree import DecisionTreeClassifier\n",
        "\n",
        "scores_means = {}\n",
        "\n",
        "for max_depth, criterion in [(max_depth, criterion) for max_depth in range(2,6) for criterion in ['gini','entropy']]:\n",
        "\n",
        "  scores = []\n",
        "  for i in range(0,25):\n",
        "\n",
        "    X_train, X_test, y_train, y_test = train_test_split(X, y, stratify=y, test_size=0.3, random_state=123)\n",
        "\n",
        "    clf = DecisionTreeClassifier(max_depth=max_depth, criterion=criterion)\n",
        "\n",
        "    clf.fit(X_train, y_train)\n",
        "\n",
        "    y_pred = clf.predict(X_test)\n",
        "\n",
        "    scores.append(clf.score(X_test,y_test))\n",
        "\n",
        "  scores_means[(max_depth, criterion)] = np.mean(scores)\n",
        "\n",
        "scores_means = pd.DataFrame(scores_means.values(), index=scores_means.keys()).reset_index()\n",
        "scores_means.columns = ['max_depth', 'criterion' ,'score']\n",
        "\n",
        "display(scores_means)\n",
        "print('\\nBest result:\\n')\n",
        "display(scores_means.nlargest(1,'score'))"
      ],
      "execution_count": null,
      "outputs": [
        {
          "output_type": "display_data",
          "data": {
            "text/plain": [
              "   max_depth criterion     score\n",
              "0          2      gini  0.933333\n",
              "1          2   entropy  0.923810\n",
              "2          3      gini  0.938476\n",
              "3          3   entropy  0.923810\n",
              "4          4      gini  0.923429\n",
              "5          4   entropy  0.919048\n",
              "6          5      gini  0.924190\n",
              "7          5   entropy  0.920381"
            ],
            "text/html": [
              "\n",
              "  <div id=\"df-9f3456b0-3a6f-4943-8e0c-5d4337e12484\">\n",
              "    <div class=\"colab-df-container\">\n",
              "      <div>\n",
              "<style scoped>\n",
              "    .dataframe tbody tr th:only-of-type {\n",
              "        vertical-align: middle;\n",
              "    }\n",
              "\n",
              "    .dataframe tbody tr th {\n",
              "        vertical-align: top;\n",
              "    }\n",
              "\n",
              "    .dataframe thead th {\n",
              "        text-align: right;\n",
              "    }\n",
              "</style>\n",
              "<table border=\"1\" class=\"dataframe\">\n",
              "  <thead>\n",
              "    <tr style=\"text-align: right;\">\n",
              "      <th></th>\n",
              "      <th>max_depth</th>\n",
              "      <th>criterion</th>\n",
              "      <th>score</th>\n",
              "    </tr>\n",
              "  </thead>\n",
              "  <tbody>\n",
              "    <tr>\n",
              "      <th>0</th>\n",
              "      <td>2</td>\n",
              "      <td>gini</td>\n",
              "      <td>0.933333</td>\n",
              "    </tr>\n",
              "    <tr>\n",
              "      <th>1</th>\n",
              "      <td>2</td>\n",
              "      <td>entropy</td>\n",
              "      <td>0.923810</td>\n",
              "    </tr>\n",
              "    <tr>\n",
              "      <th>2</th>\n",
              "      <td>3</td>\n",
              "      <td>gini</td>\n",
              "      <td>0.938476</td>\n",
              "    </tr>\n",
              "    <tr>\n",
              "      <th>3</th>\n",
              "      <td>3</td>\n",
              "      <td>entropy</td>\n",
              "      <td>0.923810</td>\n",
              "    </tr>\n",
              "    <tr>\n",
              "      <th>4</th>\n",
              "      <td>4</td>\n",
              "      <td>gini</td>\n",
              "      <td>0.923429</td>\n",
              "    </tr>\n",
              "    <tr>\n",
              "      <th>5</th>\n",
              "      <td>4</td>\n",
              "      <td>entropy</td>\n",
              "      <td>0.919048</td>\n",
              "    </tr>\n",
              "    <tr>\n",
              "      <th>6</th>\n",
              "      <td>5</td>\n",
              "      <td>gini</td>\n",
              "      <td>0.924190</td>\n",
              "    </tr>\n",
              "    <tr>\n",
              "      <th>7</th>\n",
              "      <td>5</td>\n",
              "      <td>entropy</td>\n",
              "      <td>0.920381</td>\n",
              "    </tr>\n",
              "  </tbody>\n",
              "</table>\n",
              "</div>\n",
              "      <button class=\"colab-df-convert\" onclick=\"convertToInteractive('df-9f3456b0-3a6f-4943-8e0c-5d4337e12484')\"\n",
              "              title=\"Convert this dataframe to an interactive table.\"\n",
              "              style=\"display:none;\">\n",
              "        \n",
              "  <svg xmlns=\"http://www.w3.org/2000/svg\" height=\"24px\"viewBox=\"0 0 24 24\"\n",
              "       width=\"24px\">\n",
              "    <path d=\"M0 0h24v24H0V0z\" fill=\"none\"/>\n",
              "    <path d=\"M18.56 5.44l.94 2.06.94-2.06 2.06-.94-2.06-.94-.94-2.06-.94 2.06-2.06.94zm-11 1L8.5 8.5l.94-2.06 2.06-.94-2.06-.94L8.5 2.5l-.94 2.06-2.06.94zm10 10l.94 2.06.94-2.06 2.06-.94-2.06-.94-.94-2.06-.94 2.06-2.06.94z\"/><path d=\"M17.41 7.96l-1.37-1.37c-.4-.4-.92-.59-1.43-.59-.52 0-1.04.2-1.43.59L10.3 9.45l-7.72 7.72c-.78.78-.78 2.05 0 2.83L4 21.41c.39.39.9.59 1.41.59.51 0 1.02-.2 1.41-.59l7.78-7.78 2.81-2.81c.8-.78.8-2.07 0-2.86zM5.41 20L4 18.59l7.72-7.72 1.47 1.35L5.41 20z\"/>\n",
              "  </svg>\n",
              "      </button>\n",
              "      \n",
              "  <style>\n",
              "    .colab-df-container {\n",
              "      display:flex;\n",
              "      flex-wrap:wrap;\n",
              "      gap: 12px;\n",
              "    }\n",
              "\n",
              "    .colab-df-convert {\n",
              "      background-color: #E8F0FE;\n",
              "      border: none;\n",
              "      border-radius: 50%;\n",
              "      cursor: pointer;\n",
              "      display: none;\n",
              "      fill: #1967D2;\n",
              "      height: 32px;\n",
              "      padding: 0 0 0 0;\n",
              "      width: 32px;\n",
              "    }\n",
              "\n",
              "    .colab-df-convert:hover {\n",
              "      background-color: #E2EBFA;\n",
              "      box-shadow: 0px 1px 2px rgba(60, 64, 67, 0.3), 0px 1px 3px 1px rgba(60, 64, 67, 0.15);\n",
              "      fill: #174EA6;\n",
              "    }\n",
              "\n",
              "    [theme=dark] .colab-df-convert {\n",
              "      background-color: #3B4455;\n",
              "      fill: #D2E3FC;\n",
              "    }\n",
              "\n",
              "    [theme=dark] .colab-df-convert:hover {\n",
              "      background-color: #434B5C;\n",
              "      box-shadow: 0px 1px 3px 1px rgba(0, 0, 0, 0.15);\n",
              "      filter: drop-shadow(0px 1px 2px rgba(0, 0, 0, 0.3));\n",
              "      fill: #FFFFFF;\n",
              "    }\n",
              "  </style>\n",
              "\n",
              "      <script>\n",
              "        const buttonEl =\n",
              "          document.querySelector('#df-9f3456b0-3a6f-4943-8e0c-5d4337e12484 button.colab-df-convert');\n",
              "        buttonEl.style.display =\n",
              "          google.colab.kernel.accessAllowed ? 'block' : 'none';\n",
              "\n",
              "        async function convertToInteractive(key) {\n",
              "          const element = document.querySelector('#df-9f3456b0-3a6f-4943-8e0c-5d4337e12484');\n",
              "          const dataTable =\n",
              "            await google.colab.kernel.invokeFunction('convertToInteractive',\n",
              "                                                     [key], {});\n",
              "          if (!dataTable) return;\n",
              "\n",
              "          const docLinkHtml = 'Like what you see? Visit the ' +\n",
              "            '<a target=\"_blank\" href=https://colab.research.google.com/notebooks/data_table.ipynb>data table notebook</a>'\n",
              "            + ' to learn more about interactive tables.';\n",
              "          element.innerHTML = '';\n",
              "          dataTable['output_type'] = 'display_data';\n",
              "          await google.colab.output.renderOutput(dataTable, element);\n",
              "          const docLink = document.createElement('div');\n",
              "          docLink.innerHTML = docLinkHtml;\n",
              "          element.appendChild(docLink);\n",
              "        }\n",
              "      </script>\n",
              "    </div>\n",
              "  </div>\n",
              "  "
            ]
          },
          "metadata": {}
        },
        {
          "output_type": "stream",
          "name": "stdout",
          "text": [
            "\n",
            "Best result:\n",
            "\n"
          ]
        },
        {
          "output_type": "display_data",
          "data": {
            "text/plain": [
              "   max_depth criterion     score\n",
              "2          3      gini  0.938476"
            ],
            "text/html": [
              "\n",
              "  <div id=\"df-498e5c9f-3c66-40e4-a889-01ae2969f314\">\n",
              "    <div class=\"colab-df-container\">\n",
              "      <div>\n",
              "<style scoped>\n",
              "    .dataframe tbody tr th:only-of-type {\n",
              "        vertical-align: middle;\n",
              "    }\n",
              "\n",
              "    .dataframe tbody tr th {\n",
              "        vertical-align: top;\n",
              "    }\n",
              "\n",
              "    .dataframe thead th {\n",
              "        text-align: right;\n",
              "    }\n",
              "</style>\n",
              "<table border=\"1\" class=\"dataframe\">\n",
              "  <thead>\n",
              "    <tr style=\"text-align: right;\">\n",
              "      <th></th>\n",
              "      <th>max_depth</th>\n",
              "      <th>criterion</th>\n",
              "      <th>score</th>\n",
              "    </tr>\n",
              "  </thead>\n",
              "  <tbody>\n",
              "    <tr>\n",
              "      <th>2</th>\n",
              "      <td>3</td>\n",
              "      <td>gini</td>\n",
              "      <td>0.938476</td>\n",
              "    </tr>\n",
              "  </tbody>\n",
              "</table>\n",
              "</div>\n",
              "      <button class=\"colab-df-convert\" onclick=\"convertToInteractive('df-498e5c9f-3c66-40e4-a889-01ae2969f314')\"\n",
              "              title=\"Convert this dataframe to an interactive table.\"\n",
              "              style=\"display:none;\">\n",
              "        \n",
              "  <svg xmlns=\"http://www.w3.org/2000/svg\" height=\"24px\"viewBox=\"0 0 24 24\"\n",
              "       width=\"24px\">\n",
              "    <path d=\"M0 0h24v24H0V0z\" fill=\"none\"/>\n",
              "    <path d=\"M18.56 5.44l.94 2.06.94-2.06 2.06-.94-2.06-.94-.94-2.06-.94 2.06-2.06.94zm-11 1L8.5 8.5l.94-2.06 2.06-.94-2.06-.94L8.5 2.5l-.94 2.06-2.06.94zm10 10l.94 2.06.94-2.06 2.06-.94-2.06-.94-.94-2.06-.94 2.06-2.06.94z\"/><path d=\"M17.41 7.96l-1.37-1.37c-.4-.4-.92-.59-1.43-.59-.52 0-1.04.2-1.43.59L10.3 9.45l-7.72 7.72c-.78.78-.78 2.05 0 2.83L4 21.41c.39.39.9.59 1.41.59.51 0 1.02-.2 1.41-.59l7.78-7.78 2.81-2.81c.8-.78.8-2.07 0-2.86zM5.41 20L4 18.59l7.72-7.72 1.47 1.35L5.41 20z\"/>\n",
              "  </svg>\n",
              "      </button>\n",
              "      \n",
              "  <style>\n",
              "    .colab-df-container {\n",
              "      display:flex;\n",
              "      flex-wrap:wrap;\n",
              "      gap: 12px;\n",
              "    }\n",
              "\n",
              "    .colab-df-convert {\n",
              "      background-color: #E8F0FE;\n",
              "      border: none;\n",
              "      border-radius: 50%;\n",
              "      cursor: pointer;\n",
              "      display: none;\n",
              "      fill: #1967D2;\n",
              "      height: 32px;\n",
              "      padding: 0 0 0 0;\n",
              "      width: 32px;\n",
              "    }\n",
              "\n",
              "    .colab-df-convert:hover {\n",
              "      background-color: #E2EBFA;\n",
              "      box-shadow: 0px 1px 2px rgba(60, 64, 67, 0.3), 0px 1px 3px 1px rgba(60, 64, 67, 0.15);\n",
              "      fill: #174EA6;\n",
              "    }\n",
              "\n",
              "    [theme=dark] .colab-df-convert {\n",
              "      background-color: #3B4455;\n",
              "      fill: #D2E3FC;\n",
              "    }\n",
              "\n",
              "    [theme=dark] .colab-df-convert:hover {\n",
              "      background-color: #434B5C;\n",
              "      box-shadow: 0px 1px 3px 1px rgba(0, 0, 0, 0.15);\n",
              "      filter: drop-shadow(0px 1px 2px rgba(0, 0, 0, 0.3));\n",
              "      fill: #FFFFFF;\n",
              "    }\n",
              "  </style>\n",
              "\n",
              "      <script>\n",
              "        const buttonEl =\n",
              "          document.querySelector('#df-498e5c9f-3c66-40e4-a889-01ae2969f314 button.colab-df-convert');\n",
              "        buttonEl.style.display =\n",
              "          google.colab.kernel.accessAllowed ? 'block' : 'none';\n",
              "\n",
              "        async function convertToInteractive(key) {\n",
              "          const element = document.querySelector('#df-498e5c9f-3c66-40e4-a889-01ae2969f314');\n",
              "          const dataTable =\n",
              "            await google.colab.kernel.invokeFunction('convertToInteractive',\n",
              "                                                     [key], {});\n",
              "          if (!dataTable) return;\n",
              "\n",
              "          const docLinkHtml = 'Like what you see? Visit the ' +\n",
              "            '<a target=\"_blank\" href=https://colab.research.google.com/notebooks/data_table.ipynb>data table notebook</a>'\n",
              "            + ' to learn more about interactive tables.';\n",
              "          element.innerHTML = '';\n",
              "          dataTable['output_type'] = 'display_data';\n",
              "          await google.colab.output.renderOutput(dataTable, element);\n",
              "          const docLink = document.createElement('div');\n",
              "          docLink.innerHTML = docLinkHtml;\n",
              "          element.appendChild(docLink);\n",
              "        }\n",
              "      </script>\n",
              "    </div>\n",
              "  </div>\n",
              "  "
            ]
          },
          "metadata": {}
        }
      ]
    },
    {
      "cell_type": "markdown",
      "source": [
        "Aqui o melhor modelo de Árvore de Decisão apresenta um score inferior ao do modelo de K-Vizinhos mais Próximos como k=3 e métrica euclidiana e, assim, optaríamos por este último se levarmos somente o critério de acuracidade como o critério de seleção do melhor modelo, e uma alternativa comum é empregarmos o F1, e o procedimento poderia ser o mesmo."
      ],
      "metadata": {
        "id": "bRvsXrFJZKrC"
      }
    },
    {
      "cell_type": "markdown",
      "metadata": {
        "id": "aK61XG3V-j8r"
      },
      "source": [
        "# Conjuntos de Validação e Teste\n",
        "\n",
        "Como você pôde ver é algo bastante trabalhoso avaliar hiperparâmetros e diferentes modelos, havendo ainda dezenas de outros modelos cada um com muitos outros parâmetros.\n",
        "\n",
        "Além disso, como você viu na introdução desta aula, empregar o conjunto de teste para fazer esse ajuste é como dar a nota do aluno para que ele faça uma nova tentativa da prova até que possa ser aprovado! Fazer a seleção de hiperparâmetros e modelos desse modo traz o risco de sobreajuste no conjunto de teste, porque os hiperparâmetros e modelos podem ser ajustados *até que* o estimador tenha o desempenho ideal e, do mesmo modo que antes para o conjunto de treinamento, o conhecimento sobre o conjunto de teste *vaza* para o modelo e as métricas de avaliação e mascaram o desempenho e a capacidade de generalização do modelo.\n",
        "\n",
        "Deveríamos assim separar novamente uma outra parte do conjunto de dados, um *conjunto de validação* que seria empregado para validar o modelo durante a seleção dos hiperparâmetros: o treinamento, com diferentes hiperparâmetros,  continua no conjunto de treinamento; em seguida a avaliação é feita no conjunto de validação; após os experimentos sucedidos, a avaliação final pode ser feita no conjunto de teste.\n",
        "\n",
        "A implementação do nosso modelo seria então algo como:\n",
        "\n",
        "\n"
      ]
    },
    {
      "cell_type": "code",
      "metadata": {
        "colab": {
          "base_uri": "https://localhost:8080/",
          "height": 604
        },
        "id": "lqtGsDeIL5EL",
        "outputId": "8e6b684f-da55-473f-c5cf-8524f2916f98"
      },
      "source": [
        "scores_means = {}\n",
        "\n",
        "X_train, X_test, y_train, y_test = train_test_split(X, y, stratify=y, test_size=0.3, random_state=123)\n",
        "\n",
        "for k, d in [(k,d) for k in range(2,9) for d in ['euclidean','manhattan']]:\n",
        "\n",
        "  scores = []\n",
        "  for i in range(0,25):\n",
        "\n",
        "    X_train_val, X_val, y_train_val, y_val = train_test_split(X_train, y_train, stratify=y_train, test_size=0.2, random_state=123)\n",
        "\n",
        "    clf = neighbors.KNeighborsClassifier(n_neighbors = k, metric= d )\n",
        "\n",
        "    clf.fit(X_train_val, y_train_val)\n",
        "\n",
        "    y_pred = clf.predict(X_val)\n",
        "\n",
        "    scores.append(clf.score(X_val,y_val))\n",
        "\n",
        "  scores_means[(k,d)] = np.mean(scores)\n",
        "\n",
        "scores_means = pd.DataFrame(scores_means.values(), index=scores_means.keys()).reset_index()\n",
        "scores_means.columns = ['k','metric','score']\n",
        "\n",
        "display(scores_means)\n",
        "print('\\nBest result:\\n')\n",
        "display(scores_means.nlargest(1,'score'))\n",
        "\n"
      ],
      "execution_count": null,
      "outputs": [
        {
          "output_type": "display_data",
          "data": {
            "text/plain": [
              "    k     metric     score\n",
              "0   2  euclidean  0.928571\n",
              "1   2  manhattan  0.948980\n",
              "2   3  euclidean  0.948980\n",
              "3   3  manhattan  0.948980\n",
              "4   4  euclidean  0.948980\n",
              "5   4  manhattan  0.938776\n",
              "6   5  euclidean  0.959184\n",
              "7   5  manhattan  0.959184\n",
              "8   6  euclidean  0.959184\n",
              "9   6  manhattan  0.959184\n",
              "10  7  euclidean  0.959184\n",
              "11  7  manhattan  0.959184\n",
              "12  8  euclidean  0.959184\n",
              "13  8  manhattan  0.948980"
            ],
            "text/html": [
              "\n",
              "  <div id=\"df-cf2f8cec-ca5f-4574-9324-7da7c8636bfd\">\n",
              "    <div class=\"colab-df-container\">\n",
              "      <div>\n",
              "<style scoped>\n",
              "    .dataframe tbody tr th:only-of-type {\n",
              "        vertical-align: middle;\n",
              "    }\n",
              "\n",
              "    .dataframe tbody tr th {\n",
              "        vertical-align: top;\n",
              "    }\n",
              "\n",
              "    .dataframe thead th {\n",
              "        text-align: right;\n",
              "    }\n",
              "</style>\n",
              "<table border=\"1\" class=\"dataframe\">\n",
              "  <thead>\n",
              "    <tr style=\"text-align: right;\">\n",
              "      <th></th>\n",
              "      <th>k</th>\n",
              "      <th>metric</th>\n",
              "      <th>score</th>\n",
              "    </tr>\n",
              "  </thead>\n",
              "  <tbody>\n",
              "    <tr>\n",
              "      <th>0</th>\n",
              "      <td>2</td>\n",
              "      <td>euclidean</td>\n",
              "      <td>0.928571</td>\n",
              "    </tr>\n",
              "    <tr>\n",
              "      <th>1</th>\n",
              "      <td>2</td>\n",
              "      <td>manhattan</td>\n",
              "      <td>0.948980</td>\n",
              "    </tr>\n",
              "    <tr>\n",
              "      <th>2</th>\n",
              "      <td>3</td>\n",
              "      <td>euclidean</td>\n",
              "      <td>0.948980</td>\n",
              "    </tr>\n",
              "    <tr>\n",
              "      <th>3</th>\n",
              "      <td>3</td>\n",
              "      <td>manhattan</td>\n",
              "      <td>0.948980</td>\n",
              "    </tr>\n",
              "    <tr>\n",
              "      <th>4</th>\n",
              "      <td>4</td>\n",
              "      <td>euclidean</td>\n",
              "      <td>0.948980</td>\n",
              "    </tr>\n",
              "    <tr>\n",
              "      <th>5</th>\n",
              "      <td>4</td>\n",
              "      <td>manhattan</td>\n",
              "      <td>0.938776</td>\n",
              "    </tr>\n",
              "    <tr>\n",
              "      <th>6</th>\n",
              "      <td>5</td>\n",
              "      <td>euclidean</td>\n",
              "      <td>0.959184</td>\n",
              "    </tr>\n",
              "    <tr>\n",
              "      <th>7</th>\n",
              "      <td>5</td>\n",
              "      <td>manhattan</td>\n",
              "      <td>0.959184</td>\n",
              "    </tr>\n",
              "    <tr>\n",
              "      <th>8</th>\n",
              "      <td>6</td>\n",
              "      <td>euclidean</td>\n",
              "      <td>0.959184</td>\n",
              "    </tr>\n",
              "    <tr>\n",
              "      <th>9</th>\n",
              "      <td>6</td>\n",
              "      <td>manhattan</td>\n",
              "      <td>0.959184</td>\n",
              "    </tr>\n",
              "    <tr>\n",
              "      <th>10</th>\n",
              "      <td>7</td>\n",
              "      <td>euclidean</td>\n",
              "      <td>0.959184</td>\n",
              "    </tr>\n",
              "    <tr>\n",
              "      <th>11</th>\n",
              "      <td>7</td>\n",
              "      <td>manhattan</td>\n",
              "      <td>0.959184</td>\n",
              "    </tr>\n",
              "    <tr>\n",
              "      <th>12</th>\n",
              "      <td>8</td>\n",
              "      <td>euclidean</td>\n",
              "      <td>0.959184</td>\n",
              "    </tr>\n",
              "    <tr>\n",
              "      <th>13</th>\n",
              "      <td>8</td>\n",
              "      <td>manhattan</td>\n",
              "      <td>0.948980</td>\n",
              "    </tr>\n",
              "  </tbody>\n",
              "</table>\n",
              "</div>\n",
              "      <button class=\"colab-df-convert\" onclick=\"convertToInteractive('df-cf2f8cec-ca5f-4574-9324-7da7c8636bfd')\"\n",
              "              title=\"Convert this dataframe to an interactive table.\"\n",
              "              style=\"display:none;\">\n",
              "        \n",
              "  <svg xmlns=\"http://www.w3.org/2000/svg\" height=\"24px\"viewBox=\"0 0 24 24\"\n",
              "       width=\"24px\">\n",
              "    <path d=\"M0 0h24v24H0V0z\" fill=\"none\"/>\n",
              "    <path d=\"M18.56 5.44l.94 2.06.94-2.06 2.06-.94-2.06-.94-.94-2.06-.94 2.06-2.06.94zm-11 1L8.5 8.5l.94-2.06 2.06-.94-2.06-.94L8.5 2.5l-.94 2.06-2.06.94zm10 10l.94 2.06.94-2.06 2.06-.94-2.06-.94-.94-2.06-.94 2.06-2.06.94z\"/><path d=\"M17.41 7.96l-1.37-1.37c-.4-.4-.92-.59-1.43-.59-.52 0-1.04.2-1.43.59L10.3 9.45l-7.72 7.72c-.78.78-.78 2.05 0 2.83L4 21.41c.39.39.9.59 1.41.59.51 0 1.02-.2 1.41-.59l7.78-7.78 2.81-2.81c.8-.78.8-2.07 0-2.86zM5.41 20L4 18.59l7.72-7.72 1.47 1.35L5.41 20z\"/>\n",
              "  </svg>\n",
              "      </button>\n",
              "      \n",
              "  <style>\n",
              "    .colab-df-container {\n",
              "      display:flex;\n",
              "      flex-wrap:wrap;\n",
              "      gap: 12px;\n",
              "    }\n",
              "\n",
              "    .colab-df-convert {\n",
              "      background-color: #E8F0FE;\n",
              "      border: none;\n",
              "      border-radius: 50%;\n",
              "      cursor: pointer;\n",
              "      display: none;\n",
              "      fill: #1967D2;\n",
              "      height: 32px;\n",
              "      padding: 0 0 0 0;\n",
              "      width: 32px;\n",
              "    }\n",
              "\n",
              "    .colab-df-convert:hover {\n",
              "      background-color: #E2EBFA;\n",
              "      box-shadow: 0px 1px 2px rgba(60, 64, 67, 0.3), 0px 1px 3px 1px rgba(60, 64, 67, 0.15);\n",
              "      fill: #174EA6;\n",
              "    }\n",
              "\n",
              "    [theme=dark] .colab-df-convert {\n",
              "      background-color: #3B4455;\n",
              "      fill: #D2E3FC;\n",
              "    }\n",
              "\n",
              "    [theme=dark] .colab-df-convert:hover {\n",
              "      background-color: #434B5C;\n",
              "      box-shadow: 0px 1px 3px 1px rgba(0, 0, 0, 0.15);\n",
              "      filter: drop-shadow(0px 1px 2px rgba(0, 0, 0, 0.3));\n",
              "      fill: #FFFFFF;\n",
              "    }\n",
              "  </style>\n",
              "\n",
              "      <script>\n",
              "        const buttonEl =\n",
              "          document.querySelector('#df-cf2f8cec-ca5f-4574-9324-7da7c8636bfd button.colab-df-convert');\n",
              "        buttonEl.style.display =\n",
              "          google.colab.kernel.accessAllowed ? 'block' : 'none';\n",
              "\n",
              "        async function convertToInteractive(key) {\n",
              "          const element = document.querySelector('#df-cf2f8cec-ca5f-4574-9324-7da7c8636bfd');\n",
              "          const dataTable =\n",
              "            await google.colab.kernel.invokeFunction('convertToInteractive',\n",
              "                                                     [key], {});\n",
              "          if (!dataTable) return;\n",
              "\n",
              "          const docLinkHtml = 'Like what you see? Visit the ' +\n",
              "            '<a target=\"_blank\" href=https://colab.research.google.com/notebooks/data_table.ipynb>data table notebook</a>'\n",
              "            + ' to learn more about interactive tables.';\n",
              "          element.innerHTML = '';\n",
              "          dataTable['output_type'] = 'display_data';\n",
              "          await google.colab.output.renderOutput(dataTable, element);\n",
              "          const docLink = document.createElement('div');\n",
              "          docLink.innerHTML = docLinkHtml;\n",
              "          element.appendChild(docLink);\n",
              "        }\n",
              "      </script>\n",
              "    </div>\n",
              "  </div>\n",
              "  "
            ]
          },
          "metadata": {}
        },
        {
          "output_type": "stream",
          "name": "stdout",
          "text": [
            "\n",
            "Best result:\n",
            "\n"
          ]
        },
        {
          "output_type": "display_data",
          "data": {
            "text/plain": [
              "   k     metric     score\n",
              "6  5  euclidean  0.959184"
            ],
            "text/html": [
              "\n",
              "  <div id=\"df-29ec4af0-c044-4d8a-af9c-cc919452dbd8\">\n",
              "    <div class=\"colab-df-container\">\n",
              "      <div>\n",
              "<style scoped>\n",
              "    .dataframe tbody tr th:only-of-type {\n",
              "        vertical-align: middle;\n",
              "    }\n",
              "\n",
              "    .dataframe tbody tr th {\n",
              "        vertical-align: top;\n",
              "    }\n",
              "\n",
              "    .dataframe thead th {\n",
              "        text-align: right;\n",
              "    }\n",
              "</style>\n",
              "<table border=\"1\" class=\"dataframe\">\n",
              "  <thead>\n",
              "    <tr style=\"text-align: right;\">\n",
              "      <th></th>\n",
              "      <th>k</th>\n",
              "      <th>metric</th>\n",
              "      <th>score</th>\n",
              "    </tr>\n",
              "  </thead>\n",
              "  <tbody>\n",
              "    <tr>\n",
              "      <th>6</th>\n",
              "      <td>5</td>\n",
              "      <td>euclidean</td>\n",
              "      <td>0.959184</td>\n",
              "    </tr>\n",
              "  </tbody>\n",
              "</table>\n",
              "</div>\n",
              "      <button class=\"colab-df-convert\" onclick=\"convertToInteractive('df-29ec4af0-c044-4d8a-af9c-cc919452dbd8')\"\n",
              "              title=\"Convert this dataframe to an interactive table.\"\n",
              "              style=\"display:none;\">\n",
              "        \n",
              "  <svg xmlns=\"http://www.w3.org/2000/svg\" height=\"24px\"viewBox=\"0 0 24 24\"\n",
              "       width=\"24px\">\n",
              "    <path d=\"M0 0h24v24H0V0z\" fill=\"none\"/>\n",
              "    <path d=\"M18.56 5.44l.94 2.06.94-2.06 2.06-.94-2.06-.94-.94-2.06-.94 2.06-2.06.94zm-11 1L8.5 8.5l.94-2.06 2.06-.94-2.06-.94L8.5 2.5l-.94 2.06-2.06.94zm10 10l.94 2.06.94-2.06 2.06-.94-2.06-.94-.94-2.06-.94 2.06-2.06.94z\"/><path d=\"M17.41 7.96l-1.37-1.37c-.4-.4-.92-.59-1.43-.59-.52 0-1.04.2-1.43.59L10.3 9.45l-7.72 7.72c-.78.78-.78 2.05 0 2.83L4 21.41c.39.39.9.59 1.41.59.51 0 1.02-.2 1.41-.59l7.78-7.78 2.81-2.81c.8-.78.8-2.07 0-2.86zM5.41 20L4 18.59l7.72-7.72 1.47 1.35L5.41 20z\"/>\n",
              "  </svg>\n",
              "      </button>\n",
              "      \n",
              "  <style>\n",
              "    .colab-df-container {\n",
              "      display:flex;\n",
              "      flex-wrap:wrap;\n",
              "      gap: 12px;\n",
              "    }\n",
              "\n",
              "    .colab-df-convert {\n",
              "      background-color: #E8F0FE;\n",
              "      border: none;\n",
              "      border-radius: 50%;\n",
              "      cursor: pointer;\n",
              "      display: none;\n",
              "      fill: #1967D2;\n",
              "      height: 32px;\n",
              "      padding: 0 0 0 0;\n",
              "      width: 32px;\n",
              "    }\n",
              "\n",
              "    .colab-df-convert:hover {\n",
              "      background-color: #E2EBFA;\n",
              "      box-shadow: 0px 1px 2px rgba(60, 64, 67, 0.3), 0px 1px 3px 1px rgba(60, 64, 67, 0.15);\n",
              "      fill: #174EA6;\n",
              "    }\n",
              "\n",
              "    [theme=dark] .colab-df-convert {\n",
              "      background-color: #3B4455;\n",
              "      fill: #D2E3FC;\n",
              "    }\n",
              "\n",
              "    [theme=dark] .colab-df-convert:hover {\n",
              "      background-color: #434B5C;\n",
              "      box-shadow: 0px 1px 3px 1px rgba(0, 0, 0, 0.15);\n",
              "      filter: drop-shadow(0px 1px 2px rgba(0, 0, 0, 0.3));\n",
              "      fill: #FFFFFF;\n",
              "    }\n",
              "  </style>\n",
              "\n",
              "      <script>\n",
              "        const buttonEl =\n",
              "          document.querySelector('#df-29ec4af0-c044-4d8a-af9c-cc919452dbd8 button.colab-df-convert');\n",
              "        buttonEl.style.display =\n",
              "          google.colab.kernel.accessAllowed ? 'block' : 'none';\n",
              "\n",
              "        async function convertToInteractive(key) {\n",
              "          const element = document.querySelector('#df-29ec4af0-c044-4d8a-af9c-cc919452dbd8');\n",
              "          const dataTable =\n",
              "            await google.colab.kernel.invokeFunction('convertToInteractive',\n",
              "                                                     [key], {});\n",
              "          if (!dataTable) return;\n",
              "\n",
              "          const docLinkHtml = 'Like what you see? Visit the ' +\n",
              "            '<a target=\"_blank\" href=https://colab.research.google.com/notebooks/data_table.ipynb>data table notebook</a>'\n",
              "            + ' to learn more about interactive tables.';\n",
              "          element.innerHTML = '';\n",
              "          dataTable['output_type'] = 'display_data';\n",
              "          await google.colab.output.renderOutput(dataTable, element);\n",
              "          const docLink = document.createElement('div');\n",
              "          docLink.innerHTML = docLinkHtml;\n",
              "          element.appendChild(docLink);\n",
              "        }\n",
              "      </script>\n",
              "    </div>\n",
              "  </div>\n",
              "  "
            ]
          },
          "metadata": {}
        }
      ]
    },
    {
      "cell_type": "markdown",
      "metadata": {
        "id": "0alHLfvpQ3gr"
      },
      "source": [
        "E podemos agora verificar o resultado desse melhor modelo no conjunto de teste para a avaliação final."
      ]
    },
    {
      "cell_type": "code",
      "metadata": {
        "colab": {
          "base_uri": "https://localhost:8080/"
        },
        "id": "6xP5AovjPbXW",
        "outputId": "1344f73d-630d-4058-b8fb-ad3249f5594a"
      },
      "source": [
        "k = scores_means.nlargest(1,'score').k.values[0]\n",
        "metric = scores_means.nlargest(1,'score').metric.values[0]\n",
        "\n",
        "clf = neighbors.KNeighborsClassifier(n_neighbors = k, metric= metric )\n",
        "print(clf)\n",
        "\n",
        "clf.fit(X_train, y_train)\n",
        "\n",
        "print(\"accuracy: %0.3f\" % clf.score(X_test,y_test),'\\n')\n",
        "\n"
      ],
      "execution_count": null,
      "outputs": [
        {
          "output_type": "stream",
          "name": "stdout",
          "text": [
            "KNeighborsClassifier(metric='euclidean')\n",
            "accuracy: 0.943 \n",
            "\n"
          ]
        }
      ]
    },
    {
      "cell_type": "markdown",
      "metadata": {
        "id": "hXLUyZtgRA4a"
      },
      "source": [
        "Veja que são um modelo e valores de acuracidade diferentes do que obtivemos antes e, independentemente disso, é um resultado metodologicamente mais correto. Esperaremos, assim, com esse modelo obter um resultado de 0.93 de acuracidade (e não 0.95!) quando aplicado a novos casos.\n",
        "\n",
        "Deixo para você verificar o mesmo para o modelo de Árvore de Decisão. De qualquer modo, esses procedimentos são tão necessários e tão empregados que é razoável encontrarmos implementações prontas para realizar essas tarefas de seleção. Para isso, entretanto, é necessário que você conheça antes o que é o esquema de validação cruzada."
      ]
    },
    {
      "cell_type": "markdown",
      "metadata": {
        "id": "giVfh3l1QuIb"
      },
      "source": [
        "# Cross Validation\n",
        "\n",
        "Ao particionar os dados disponíveis em três conjuntos, reduzimos drasticamente o número de amostras que podem ser usadas para aprender o modelo.\n",
        "\n",
        "Uma solução para este problema, como também para buscarmos um resultado menos dependente de uma escolha aleatória particular do par (treino, validação), é uma técnica denominada validação cruzada ou cross validation (CV). Um conjunto de teste ainda deve ser apresentado para avaliação final, mas o conjunto de validação não é mais necessário ao empregar o CV. Em sua forma mais simples, denominada *k-fold CV*, o conjunto de treinamento é dividido em k partições aleatórias menores e o treinamento ocorre do seguinte modo:\n",
        "\n",
        "> Para as $k$ partições:  \n",
        "\n",
        "> 1. O modelo é treinado empregando-se $k-1$ partições dos dados de treinamento;\n",
        "\n",
        "> 2. O modelo resultante é validado na parte restante dos dados, isto é, é usado como conjunto de teste para calcular a métrica de desempenho, por exemplo a acuracidade ou a precisão.\n",
        "\n",
        "A medida de desempenho do CV é, então, a média dos valores calculados para as $k$ medidas. Embora computacionalmente cara, o CV não desperdiça e é um procedimento mais sistemático que garante que todos os dados serão testados pelo modelo em algum momento.\n",
        "\n",
        "<br>\n",
        "\n",
        "<br>\n",
        "\n",
        "![imagem](https://scikit-learn.org/stable/_images/grid_search_cross_validation.png)\n",
        "\n",
        "<small>\n",
        "<b>\n",
        "Figura 1. Esquema de Cross-Validation. <br></b>  (Fonte: https://scikit-learn.org)"
      ]
    },
    {
      "cell_type": "markdown",
      "metadata": {
        "id": "o-kb6lB85qsU"
      },
      "source": [
        "O `scikit-learn` implementa diferentes tipos de CV que variam basicamente na forma com são selecionadas as partições. O `KFold` e o `StratifiedKFold` são as formas mais comuns e suas partições são exemplificadas abaixo."
      ]
    },
    {
      "cell_type": "code",
      "metadata": {
        "id": "semml6Wx9j9s"
      },
      "source": [
        "# you can skip this code!\n",
        "\n",
        "# Código livremente adaptado de: https://scikit-learn.org/stable/auto_examples/model_selection/plot_cv_indices.html\n",
        "#\n",
        "cmap_data = plt.cm.viridis\n",
        "cmap_cv = plt.cm.binary\n",
        "\n",
        "def plot_cv_indices(cv, X, y, group, ax, n_splits, lw=25):\n",
        "    \"\"\"Create a sample plot for indices of a cross-validation object.\"\"\"\n",
        "\n",
        "    # Generate the training/testing visualizations for each CV split\n",
        "    for ii, (tr, tt) in enumerate(cv.split(X=X, y=y, groups=group)):\n",
        "        # Fill in indices with the training/test groups\n",
        "        indices = np.array([np.nan] * len(X))\n",
        "        indices[tt] = 1\n",
        "        indices[tr] = 0\n",
        "\n",
        "        # Visualize the results\n",
        "        ax.scatter(\n",
        "            range(len(indices)),\n",
        "            [ii + 0.5] * len(indices),\n",
        "            c=indices,\n",
        "            marker=\"_\",\n",
        "            lw=lw,\n",
        "            cmap=cmap_cv,\n",
        "            vmin=-0.2,\n",
        "            vmax=1.2,\n",
        "        )\n",
        "\n",
        "    custom_lines = [Line2D([0], [0], color=cmap_cv(0.2), lw=6),\n",
        "                Line2D([0], [0], color=cmap_cv(0.8), lw=6)]\n",
        "    ax.legend(custom_lines, ['Train', 'Test'], loc='upper right')\n",
        "\n",
        "    # Plot the data classes and groups at the end\n",
        "    ax.scatter(\n",
        "        range(len(X)), [ii + 2.5] * len(X), c=y, marker=\"_\", lw=lw, cmap=cmap_data\n",
        "    )\n",
        "\n",
        "    # Formatting\n",
        "    yticklabels = list(range(n_splits)) + [\"\", \"class\"]\n",
        "    ax.set(\n",
        "        yticks=np.arange(n_splits + 2) + 0.5,\n",
        "        yticklabels=yticklabels,\n",
        "        xlabel=\"Sample index\",\n",
        "        ylabel=\"CV iteration\",\n",
        "        ylim=[n_splits + 2.2, -0.2],\n",
        "        xlim=[0, 100],\n",
        "    )\n",
        "    ax.set_title(\"{}\".format(type(cv).__name__), fontsize=15)\n",
        "    return ax\n",
        "\n"
      ],
      "execution_count": null,
      "outputs": []
    },
    {
      "cell_type": "code",
      "metadata": {
        "colab": {
          "base_uri": "https://localhost:8080/",
          "height": 577
        },
        "id": "yhGNBf54-pya",
        "outputId": "00d05d0f-a61b-4abd-bd06-b0d05375e55c"
      },
      "source": [
        "# you can skip this code!\n",
        "\n",
        "from sklearn.model_selection import KFold, StratifiedKFold\n",
        "np.random.seed(1338)\n",
        "\n",
        "n_splits = 4\n",
        "\n",
        "n_points = 100\n",
        "X = np.random.randn(100, 10)\n",
        "\n",
        "percentiles_classes = [0.1, 0.3, 0.6]\n",
        "y = np.hstack([[ii] * int(100 * perc) for ii, perc in enumerate(percentiles_classes)])\n",
        "\n",
        "# Evenly spaced groups repeated once\n",
        "groups = np.hstack([[ii] * 10 for ii in range(10)])\n",
        "\n",
        "fig, ax = plt.subplots()\n",
        "cv = KFold(n_splits)\n",
        "plot_cv_indices(cv, X, y, groups, ax, n_splits)\n",
        "plt.show()\n",
        "\n",
        "fig, ax = plt.subplots()\n",
        "cv = StratifiedKFold(n_splits)\n",
        "plot_cv_indices(cv, X, y, groups, ax, n_splits)\n",
        "plt.show()"
      ],
      "execution_count": null,
      "outputs": [
        {
          "output_type": "display_data",
          "data": {
            "text/plain": [
              "<Figure size 432x288 with 1 Axes>"
            ],
            "image/png": "[encoded data removed]"
          },
          "metadata": {
            "needs_background": "light"
          }
        },
        {
          "output_type": "display_data",
          "data": {
            "text/plain": [
              "<Figure size 432x288 with 1 Axes>"
            ],
            "image/png": "[encoded data removed]"
          },
          "metadata": {
            "needs_background": "light"
          }
        }
      ]
    },
    {
      "cell_type": "markdown",
      "metadata": {
        "id": "zsqvCEKZ-V8q"
      },
      "source": [
        "Note que as faixas correspodem a índices aleatórios e não dados contíguos."
      ]
    },
    {
      "cell_type": "markdown",
      "metadata": {
        "id": "gRzpDQUVDrAs"
      },
      "source": [
        "## Aplicando o CV\n",
        "\n",
        "A forma mais simples de empregar o CV é aplicar a função `cross_val_score()` sobre o estimador e o conjunto de dados. Ela por padrão irá retornar o *score* do estimador em uma estratégia de `StratifiedKFold`, mas outras métricas podem ser obtidas."
      ]
    },
    {
      "cell_type": "code",
      "metadata": {
        "colab": {
          "base_uri": "https://localhost:8080/"
        },
        "id": "KaTQuNdq_6ob",
        "outputId": "dda0b78f-f1ac-4566-f41d-70935a7fe345"
      },
      "source": [
        "from sklearn.model_selection import cross_val_score\n",
        "\n",
        "df = pd.read_csv('https://vincentarelbundock.github.io/Rdatasets/csv/MASS/biopsy.csv',index_col=0)\n",
        "df['V6'] = df[['V6']].fillna(df['V6'].mean())\n",
        "\n",
        "X = df.drop(columns=['ID','class'])\n",
        "y = df['class']\n",
        "\n",
        "scaler.fit(X)\n",
        "X = scaler.transform(X)\n",
        "\n",
        "X_train, X_test, y_train, y_test = train_test_split(X, y, stratify=y, test_size=0.3, random_state=123)\n",
        "\n",
        "clf = neighbors.KNeighborsClassifier(n_neighbors = 3, metric= 'euclidean' )\n",
        "\n",
        "acc_scores = cross_val_score(clf, X_train, y_train, cv = 10)\n",
        "\n",
        "print(acc_scores, '\\n')\n",
        "print(\"accuracy: %0.3f +/- %0.3f\" % (acc_scores.mean(), acc_scores.std() * 2),'\\n')\n",
        "\n",
        "for metric in ['accuracy','f1_macro','precision_macro','recall_macro']:\n",
        "  scores = cross_val_score(clf, X_train, y_train, cv = 4, scoring=metric)\n",
        "  print(metric + \": %0.3f +/- %0.3f\" % (scores.mean(), scores.std() * 2))\n",
        "\n",
        "\n"
      ],
      "execution_count": null,
      "outputs": [
        {
          "output_type": "stream",
          "name": "stdout",
          "text": [
            "[0.97959184 0.93877551 1.         0.97959184 0.95918367 0.95918367\n",
            " 1.         0.93877551 0.97959184 0.95833333] \n",
            "\n",
            "accuracy: 0.969 +/- 0.042 \n",
            "\n",
            "accuracy: 0.971 +/- 0.008\n",
            "f1_macro: 0.968 +/- 0.009\n",
            "precision_macro: 0.970 +/- 0.009\n",
            "recall_macro: 0.967 +/- 0.018\n"
          ]
        }
      ]
    },
    {
      "cell_type": "markdown",
      "metadata": {
        "id": "-WW8ikB93QaU"
      },
      "source": [
        "Aplicando agora o `cross_val_score()` ao nosso exemplo na busca de melhores hiperparâmetros você pode obter:"
      ]
    },
    {
      "cell_type": "code",
      "metadata": {
        "colab": {
          "base_uri": "https://localhost:8080/",
          "height": 133
        },
        "id": "76Q6GOkkGp5l",
        "outputId": "33354f33-5f07-4b8a-9ae3-af5f2ea9b78d"
      },
      "source": [
        "from sklearn.model_selection import train_test_split\n",
        "from sklearn import neighbors\n",
        "from sklearn.preprocessing import MinMaxScaler\n",
        "from sklearn.preprocessing import OneHotEncoder, LabelEncoder\n",
        "\n",
        "df = pd.read_csv('https://vincentarelbundock.github.io/Rdatasets/csv/MASS/biopsy.csv',index_col=0)\n",
        "df['V6'] = df[['V6']].fillna(df['V6'].mean())\n",
        "\n",
        "X = df.drop(columns=['ID','class'])\n",
        "y = df['class']\n",
        "\n",
        "scaler.fit(X)\n",
        "X = scaler.transform(X)\n",
        "\n",
        "X_train, X_test, y_train, y_test = train_test_split(X, y, stratify=y, test_size=0.3, random_state=123)\n",
        "\n",
        "scores_means = {}\n",
        "\n",
        "X_train, X_test, y_train, y_test = train_test_split(X, y, stratify=y, test_size=0.3, random_state=123)\n",
        "\n",
        "for k, d in [(k,d) for k in range(2,9) for d in ['euclidean','manhattan']]:\n",
        "\n",
        "  clf = neighbors.KNeighborsClassifier(n_neighbors = k, metric= d )\n",
        "\n",
        "  acc_scores = cross_val_score(clf, X_train, y_train, cv = 5)\n",
        "\n",
        "  scores_means[(k,d)] = acc_scores.mean()\n",
        "\n",
        "scores_means = pd.DataFrame(scores_means.values(), index=scores_means.keys()).reset_index()\n",
        "scores_means.columns = ['k','metric','score']\n",
        "\n",
        "# display(scores_means)\n",
        "print('\\nBest result:\\n')\n",
        "display(scores_means.nlargest(1,'score'))\n"
      ],
      "execution_count": null,
      "outputs": [
        {
          "output_type": "stream",
          "name": "stdout",
          "text": [
            "\n",
            "Best result:\n",
            "\n"
          ]
        },
        {
          "output_type": "display_data",
          "data": {
            "text/plain": [
              "   k     metric     score\n",
              "7  5  manhattan  0.975489"
            ],
            "text/html": [
              "\n",
              "  <div id=\"df-471b07f9-154d-4c53-aeac-6d81c9459ae3\">\n",
              "    <div class=\"colab-df-container\">\n",
              "      <div>\n",
              "<style scoped>\n",
              "    .dataframe tbody tr th:only-of-type {\n",
              "        vertical-align: middle;\n",
              "    }\n",
              "\n",
              "    .dataframe tbody tr th {\n",
              "        vertical-align: top;\n",
              "    }\n",
              "\n",
              "    .dataframe thead th {\n",
              "        text-align: right;\n",
              "    }\n",
              "</style>\n",
              "<table border=\"1\" class=\"dataframe\">\n",
              "  <thead>\n",
              "    <tr style=\"text-align: right;\">\n",
              "      <th></th>\n",
              "      <th>k</th>\n",
              "      <th>metric</th>\n",
              "      <th>score</th>\n",
              "    </tr>\n",
              "  </thead>\n",
              "  <tbody>\n",
              "    <tr>\n",
              "      <th>7</th>\n",
              "      <td>5</td>\n",
              "      <td>manhattan</td>\n",
              "      <td>0.975489</td>\n",
              "    </tr>\n",
              "  </tbody>\n",
              "</table>\n",
              "</div>\n",
              "      <button class=\"colab-df-convert\" onclick=\"convertToInteractive('df-471b07f9-154d-4c53-aeac-6d81c9459ae3')\"\n",
              "              title=\"Convert this dataframe to an interactive table.\"\n",
              "              style=\"display:none;\">\n",
              "        \n",
              "  <svg xmlns=\"http://www.w3.org/2000/svg\" height=\"24px\"viewBox=\"0 0 24 24\"\n",
              "       width=\"24px\">\n",
              "    <path d=\"M0 0h24v24H0V0z\" fill=\"none\"/>\n",
              "    <path d=\"M18.56 5.44l.94 2.06.94-2.06 2.06-.94-2.06-.94-.94-2.06-.94 2.06-2.06.94zm-11 1L8.5 8.5l.94-2.06 2.06-.94-2.06-.94L8.5 2.5l-.94 2.06-2.06.94zm10 10l.94 2.06.94-2.06 2.06-.94-2.06-.94-.94-2.06-.94 2.06-2.06.94z\"/><path d=\"M17.41 7.96l-1.37-1.37c-.4-.4-.92-.59-1.43-.59-.52 0-1.04.2-1.43.59L10.3 9.45l-7.72 7.72c-.78.78-.78 2.05 0 2.83L4 21.41c.39.39.9.59 1.41.59.51 0 1.02-.2 1.41-.59l7.78-7.78 2.81-2.81c.8-.78.8-2.07 0-2.86zM5.41 20L4 18.59l7.72-7.72 1.47 1.35L5.41 20z\"/>\n",
              "  </svg>\n",
              "      </button>\n",
              "      \n",
              "  <style>\n",
              "    .colab-df-container {\n",
              "      display:flex;\n",
              "      flex-wrap:wrap;\n",
              "      gap: 12px;\n",
              "    }\n",
              "\n",
              "    .colab-df-convert {\n",
              "      background-color: #E8F0FE;\n",
              "      border: none;\n",
              "      border-radius: 50%;\n",
              "      cursor: pointer;\n",
              "      display: none;\n",
              "      fill: #1967D2;\n",
              "      height: 32px;\n",
              "      padding: 0 0 0 0;\n",
              "      width: 32px;\n",
              "    }\n",
              "\n",
              "    .colab-df-convert:hover {\n",
              "      background-color: #E2EBFA;\n",
              "      box-shadow: 0px 1px 2px rgba(60, 64, 67, 0.3), 0px 1px 3px 1px rgba(60, 64, 67, 0.15);\n",
              "      fill: #174EA6;\n",
              "    }\n",
              "\n",
              "    [theme=dark] .colab-df-convert {\n",
              "      background-color: #3B4455;\n",
              "      fill: #D2E3FC;\n",
              "    }\n",
              "\n",
              "    [theme=dark] .colab-df-convert:hover {\n",
              "      background-color: #434B5C;\n",
              "      box-shadow: 0px 1px 3px 1px rgba(0, 0, 0, 0.15);\n",
              "      filter: drop-shadow(0px 1px 2px rgba(0, 0, 0, 0.3));\n",
              "      fill: #FFFFFF;\n",
              "    }\n",
              "  </style>\n",
              "\n",
              "      <script>\n",
              "        const buttonEl =\n",
              "          document.querySelector('#df-471b07f9-154d-4c53-aeac-6d81c9459ae3 button.colab-df-convert');\n",
              "        buttonEl.style.display =\n",
              "          google.colab.kernel.accessAllowed ? 'block' : 'none';\n",
              "\n",
              "        async function convertToInteractive(key) {\n",
              "          const element = document.querySelector('#df-471b07f9-154d-4c53-aeac-6d81c9459ae3');\n",
              "          const dataTable =\n",
              "            await google.colab.kernel.invokeFunction('convertToInteractive',\n",
              "                                                     [key], {});\n",
              "          if (!dataTable) return;\n",
              "\n",
              "          const docLinkHtml = 'Like what you see? Visit the ' +\n",
              "            '<a target=\"_blank\" href=https://colab.research.google.com/notebooks/data_table.ipynb>data table notebook</a>'\n",
              "            + ' to learn more about interactive tables.';\n",
              "          element.innerHTML = '';\n",
              "          dataTable['output_type'] = 'display_data';\n",
              "          await google.colab.output.renderOutput(dataTable, element);\n",
              "          const docLink = document.createElement('div');\n",
              "          docLink.innerHTML = docLinkHtml;\n",
              "          element.appendChild(docLink);\n",
              "        }\n",
              "      </script>\n",
              "    </div>\n",
              "  </div>\n",
              "  "
            ]
          },
          "metadata": {}
        }
      ]
    },
    {
      "cell_type": "markdown",
      "metadata": {
        "id": "vqihnHFv3jqz"
      },
      "source": [
        "E pode agora aplicar o melhor modelo obtido:"
      ]
    },
    {
      "cell_type": "code",
      "metadata": {
        "colab": {
          "base_uri": "https://localhost:8080/"
        },
        "id": "aKulpDqOIMM9",
        "outputId": "bcfdbffa-c34a-4da1-ac0f-aec09062cf08"
      },
      "source": [
        "k = scores_means.nlargest(1,'score').k.values[0]\n",
        "metric = scores_means.nlargest(1,'score').metric.values[0]\n",
        "\n",
        "clf = neighbors.KNeighborsClassifier(n_neighbors = k, metric= metric )\n",
        "print(clf)\n",
        "\n",
        "clf.fit(X_train, y_train)\n",
        "\n",
        "print(\"accuracy: %0.3f\" % clf.score(X_test,y_test),'\\n')"
      ],
      "execution_count": null,
      "outputs": [
        {
          "output_type": "stream",
          "name": "stdout",
          "text": [
            "KNeighborsClassifier(metric='manhattan')\n",
            "accuracy: 0.933 \n",
            "\n"
          ]
        }
      ]
    },
    {
      "cell_type": "markdown",
      "metadata": {
        "id": "iSAbp3aG5txd"
      },
      "source": [
        "Como vimos antes esse procedimento, variando hiperparâmetros do estimador, poderia ser igualmente empregado para avaliar e selecionar quaisquer outros estimadores e você pode tentar implementar os códigos acima para Árvores de Decisão."
      ]
    },
    {
      "cell_type": "markdown",
      "metadata": {
        "id": "HVBDcQZN-SzN"
      },
      "source": [
        "# Usando o Grid Search\n",
        "\n",
        "O último refinamento que faremos no procedimento de busca de melhores hiperparâmetros consiste em empregarmos `GridSearchCV()` do `scikit-learn`. Essa função automatiza a busca de melhores hiperparâmetros que fizemos acima implementando de forma manual os diferentes estimadores para um espaço de hiperparâmetros em `for k, d in [(k,d) for k in range(2,9) for d in ['euclidean','manhattan']]:...` e podendo ser aplicada a qualquer estimador.\n",
        "\n",
        "Qualquer parâmetro de um estimador pode ser otimizado desta maneira e para encontrar os nomes e valores dos parâmetros de um determinado estimador você pode empregar o método `estimator.get_params()`.\n",
        "\n",
        "\n"
      ]
    },
    {
      "cell_type": "code",
      "metadata": {
        "colab": {
          "base_uri": "https://localhost:8080/"
        },
        "id": "RypK0nSA-WiW",
        "outputId": "4321d26e-b52b-46e6-fdba-cfe1244344c7"
      },
      "source": [
        "clf = neighbors.KNeighborsClassifier()\n",
        "clf.get_params"
      ],
      "execution_count": null,
      "outputs": [
        {
          "output_type": "execute_result",
          "data": {
            "text/plain": [
              "<bound method BaseEstimator.get_params of KNeighborsClassifier()>"
            ]
          },
          "metadata": {},
          "execution_count": 19
        }
      ]
    },
    {
      "cell_type": "markdown",
      "metadata": {
        "id": "ZKeP7kRn9eJ9"
      },
      "source": [
        "e do mesmo modo os hiperparâmetros da regressão logística ou de uma Árvore de Decisão podem também ser obtidos:\n",
        "\n",
        "\n",
        "\n"
      ]
    },
    {
      "cell_type": "code",
      "metadata": {
        "colab": {
          "base_uri": "https://localhost:8080/"
        },
        "id": "R4oGpqVO9DAe",
        "outputId": "73cea400-af2c-43cf-d185-63ec47eaf2be"
      },
      "source": [
        "# e do mesmo modo os hiperparâmetros da regressão logística são também obtidos\n",
        "from sklearn.linear_model import LogisticRegression\n",
        "LogisticRegression().get_params"
      ],
      "execution_count": null,
      "outputs": [
        {
          "output_type": "execute_result",
          "data": {
            "text/plain": [
              "<bound method BaseEstimator.get_params of LogisticRegression()>"
            ]
          },
          "metadata": {},
          "execution_count": 20
        }
      ]
    },
    {
      "cell_type": "code",
      "source": [
        "# e do mesmo modo os hiperparâmetros da regressão logística são também obtidos\n",
        "from sklearn.tree import DecisionTreeClassifier\n",
        "\n",
        "clf = DecisionTreeClassifier(max_depth=3, criterion='entropy')\n",
        "clf.get_params"
      ],
      "metadata": {
        "colab": {
          "base_uri": "https://localhost:8080/"
        },
        "id": "x9e_rqUBPTY-",
        "outputId": "2aa6d8ab-f905-4786-f434-c039dd497946"
      },
      "execution_count": null,
      "outputs": [
        {
          "output_type": "execute_result",
          "data": {
            "text/plain": [
              "<bound method BaseEstimator.get_params of DecisionTreeClassifier(criterion='entropy', max_depth=3)>"
            ]
          },
          "metadata": {},
          "execution_count": 23
        }
      ]
    },
    {
      "cell_type": "markdown",
      "metadata": {
        "id": "pXIV7RxQ95JT"
      },
      "source": [
        "Duas abordagens para a pesquisa de hiperparâmetros são fornecidas no `scikit-learn` para os valores fornecedos pelo usuário. O `GridSearchCV` considera exaustivamente todas as combinações de parâmetros e o `RandomizedSearchCV` emprega uma amostra de candidatos de um espaço de hiperparâmetros com uma distribuição específica. Nos dois casos a aplicação é bastante direta e a função apenas precisa receber o classificador, os valores dos hiperparâmetros desejados e o CV a ser empregado.\n",
        "\n"
      ]
    },
    {
      "cell_type": "code",
      "metadata": {
        "colab": {
          "base_uri": "https://localhost:8080/"
        },
        "id": "MkouvxZx-WiW",
        "outputId": "2a5b2571-eebd-47c8-e30a-c12e2da8c832"
      },
      "source": [
        "from sklearn.model_selection import train_test_split\n",
        "from sklearn import neighbors\n",
        "from sklearn.preprocessing import MinMaxScaler\n",
        "from sklearn.preprocessing import OneHotEncoder, LabelEncoder\n",
        "from sklearn.model_selection import GridSearchCV\n",
        "from sklearn.metrics import classification_report\n",
        "\n",
        "df = pd.read_csv('https://vincentarelbundock.github.io/Rdatasets/csv/MASS/biopsy.csv',index_col=0)\n",
        "df['V6'] = df[['V6']].fillna(df['V6'].mean())\n",
        "\n",
        "X = df.drop(columns=['ID','class'])\n",
        "y = df['class']\n",
        "\n",
        "scaler.fit(X)\n",
        "X = scaler.transform(X)\n",
        "\n",
        "X_train, X_test, y_train, y_test = train_test_split(X, y, stratify=y, test_size=0.3, random_state=123)\n",
        "\n",
        "base_estimator = neighbors.KNeighborsClassifier()\n",
        "param_grid = {'n_neighbors': [3,4,5,6,7,8,9,10], 'metric': ['euclidean','manhattan']}\n",
        "\n",
        "clf = GridSearchCV(base_estimator, param_grid, cv=5, scoring='accuracy')\n",
        "clf.fit(X_train, y_train)\n",
        "\n",
        "# print(clf.cv_results_)\n",
        "print(clf.best_estimator_)\n",
        "\n",
        "print()\n",
        "print(\"Detailed classification report:\")\n",
        "print()\n",
        "y_pred = clf.predict(X_test)\n",
        "print(classification_report(y_test, y_pred))\n",
        "print()\n",
        "\n"
      ],
      "execution_count": null,
      "outputs": [
        {
          "output_type": "stream",
          "name": "stdout",
          "text": [
            "KNeighborsClassifier(metric='manhattan')\n",
            "\n",
            "Detailed classification report:\n",
            "\n",
            "              precision    recall  f1-score   support\n",
            "\n",
            "      benign       0.94      0.96      0.95       138\n",
            "   malignant       0.91      0.89      0.90        72\n",
            "\n",
            "    accuracy                           0.93       210\n",
            "   macro avg       0.93      0.92      0.93       210\n",
            "weighted avg       0.93      0.93      0.93       210\n",
            "\n",
            "\n"
          ]
        }
      ]
    },
    {
      "cell_type": "markdown",
      "metadata": {
        "id": "2JVeADdRCTT1"
      },
      "source": [
        "Por padrão as funções de pesquisa em grade, como o `GridSearchCV()` empregam o `score` padrão do estimador como função de pontuação (no caso de classificação é o `accuracy`), mas deixamos explícito o parâmetro pois você poderia querer empregar uma função de pontuação dos estimadores baseada em outra métrica.\n",
        "\n",
        "Sendo o formato final do nosso procedimento também substituímos no código acima a exibição final do `score` que vínhamos empregando pelo `classification_report` que exibe um resultado mais completo do modelo selecionado.\n",
        "\n",
        "Em resumo, nosso procedimento de pesquisa de melhores hiperparâmetros de um estimador consiste em:\n",
        "\n",
        "1. Selecionar um estimador (um classificador ou um regressor)  \n",
        "2. Definir um espaço de hiperparâmetros que desejamos avaliar\n",
        "3. Definir uma função de pontuação (*score function*)\n",
        "4. Empregar um esquema de validação cruzada\n",
        "\n"
      ]
    },
    {
      "cell_type": "markdown",
      "metadata": {
        "id": "sVRo61k090Px"
      },
      "source": [
        "  \n",
        "\n",
        "<br>\n",
        "\n",
        "<br>\n",
        "\n",
        "<img src=\"https://scikit-learn.org/stable/_images/grid_search_workflow.png\" width=600, align=\"center\">\n",
        "\n",
        "<br>\n",
        "\n",
        "<br>\n",
        "\n",
        "<small>\n",
        "<b>\n",
        "Figura 2. Esquema Geral da Avaliação de Modelos. <br></b>  (Fonte: https://scikit-learn.org)\n",
        "\n"
      ]
    },
    {
      "cell_type": "markdown",
      "metadata": {
        "id": "QGCtIPXmZbeH"
      },
      "source": [
        "# Random Forest, Floresta Aleatória\n",
        "\n",
        "No sumário da aula anterior comentamos uma variante das Árvores de Decisão, as **Florestas Aleatórias** ou **Random Forest**, como um modelo comumente aplicado de Árvores de Decisão que minimiza as chances de sobreajuste. Vamos agora aplicar esse modelo e fazer a seleção de vários hiperparâmetros para que você entenda que esse procedimento pode ser aplicado para qualquer estimador, mesmo um que você ainda não tenha visto aqui! Mas, é claro, é será sempre importante você entender um pouco sobre o modelo antes de aplicá-lo. Vamos, então, antes de aplicar o ajuste de hiperparâmetros entender um pouco o que são os modelos de Florestas Aleatórias.\n",
        "\n",
        "Uma Floresta Aleatória consiste basicamente em empregarmos várias diferentes  Árvores de Decisão sobre os mesmos dados e obtermos a média dessas árvores para a predição. Na construção de um modelo de conjunto, *ensemble model*, em que todos os modelos do conjunto são árvores de decisão é importante garantir que cada árvore individual não esteja muito correlacionada a qualquer uma das outras árvores no modelo. Para garantir isso a construção de florestas aleatórias baseia-se em dois princípios: a *agregação bootstrap*, ou *bagging*; e a seleção aleatória de atributos.\n",
        "\n"
      ]
    },
    {
      "cell_type": "markdown",
      "metadata": {
        "id": "CaW5aMoD58gG"
      },
      "source": [
        "### Bagging, *Bootstrap Aggregation*\n",
        "\n",
        "As árvores de decisão são muito sensíveis aos dados de treinamento com pequenas mudanças dos dados resultando em árvores significativamente diferentes. A floresta aleatória tira vantagem disso, permitindo que cada árvore individual faça uma amostra aleatória do conjunto de dados com substituição, resultando em árvores bastante diferentes. Este processo é conhecido como *bagging*.\n",
        "Note que não estamos subdividindo os dados de treinamento em partes menores e treinando cada árvore em uma parte diferente. O número de amostras de treinamento em cada árvore será o mesmo, mas em vez de empregarem os dados de  treinamento originais, cada árvore emprega uma amostra aleatória do mesmo tamanho $n$ dos dados originais com substituição. No exemplo abaixo, para os dados $[1, 2, 3, 4, 5, 6]$ originais são empregadas as amostras $[1,2,3,3,6,6]$,\n",
        "$[1,2,3,4,5,5]$ e $[2,2,3,4,5,6]$, no que se assemelha muito ao CV, embora seja diferente.\n",
        "\n",
        "![imagem](https://github.com/Rogerio-mack/BIG_DATA_Analytics_Mineracao_e_Analise_de_Dados/blob/main/figuras/randomforest2.png?raw=true)\n",
        "\n",
        "\n",
        "<small>\n",
        "<b>\n",
        "Figura 7. Esquema de Funcionamento de Random Forests."
      ]
    },
    {
      "cell_type": "markdown",
      "metadata": {
        "id": "kJfZdUM58bqm"
      },
      "source": [
        "### Seleção Aleatória de Atributos\n",
        "\n",
        "Como você viu na construção de uma árvore de decisão normal escolhemos a cada nível os atributos que produzem a maior separação entre as amostras. Se adotássemos isso em uma Floresta de Árvores, certamente iríamos obter Árvores bastante correlacionadas. Uma Floresta Aleatória se utiliza do fato de que podemos empregar outros atributos e outra ordem dos atributos para construir a árvore, assim cada árvore em uma floresta aleatória escolhe atributos apenas de um subconjunto aleatório o que permite uma maior variação entre as árvores no modelo de conjunto.\n",
        "\n",
        "\n"
      ]
    },
    {
      "cell_type": "markdown",
      "metadata": {
        "id": "ah3R6nXU9tuu"
      },
      "source": [
        "### Predição Final de uma Floresta Aleatória\n",
        "\n",
        "A final, a predição do modelo é obtida como uma média do resultado de cada árvore do conjunto (modelos de regressão) ou o *majority-voting* (classificação)."
      ]
    },
    {
      "cell_type": "markdown",
      "source": [
        "## Seleção de Hiperparâmetros\n",
        "\n",
        "Agora que você entendeu como é construído um modelo de Árvore Aleatória podemos aplicar a API `GridSearchCV()` do scikit-learn para fazer a busca dos melhores hiperparâmetros de um modelo de Floresta Aleatória para o mesmo problema que tratamos antes com o knn."
      ],
      "metadata": {
        "id": "VZdEJE5LSIzz"
      }
    },
    {
      "cell_type": "code",
      "metadata": {
        "colab": {
          "base_uri": "https://localhost:8080/"
        },
        "id": "59WHDVSCUXdG",
        "outputId": "c334f077-8fa6-404a-bb57-09e28632e130"
      },
      "source": [
        "from sklearn.ensemble import RandomForestClassifier\n",
        "\n",
        "from sklearn.model_selection import train_test_split\n",
        "from sklearn.metrics import classification_report\n",
        "\n",
        "df = pd.read_csv('https://vincentarelbundock.github.io/Rdatasets/csv/MASS/biopsy.csv',index_col=0)\n",
        "df['V6'] = df[['V6']].fillna(df['V6'].mean())\n",
        "\n",
        "X = df.drop(columns=['ID','class'])\n",
        "y = df['class']\n",
        "\n",
        "scaler.fit(X)\n",
        "X = scaler.transform(X)\n",
        "\n",
        "X_train, X_test, y_train, y_test = train_test_split(X, y, stratify=y, test_size=0.3, random_state=123)\n",
        "\n",
        "base_estimator = RandomForestClassifier(random_state=123)\n",
        "param_grid = {'n_estimators':[3,4,5,6],'criterion':['gini','entropy'],'max_depth':[2,3,4,5]}\n",
        "\n",
        "clf = GridSearchCV(base_estimator, param_grid, cv=5, scoring='accuracy')\n",
        "clf.fit(X_train, y_train)\n",
        "\n",
        "print(clf.cv_results_)\n",
        "print(clf.best_estimator_)\n",
        "\n",
        "print()\n",
        "print(\"Detailed classification report:\")\n",
        "print()\n",
        "y_pred = clf.predict(X_test)\n",
        "print(classification_report(y_test, y_pred))\n",
        "print()\n",
        "\n",
        "\n",
        "\n"
      ],
      "execution_count": null,
      "outputs": [
        {
          "output_type": "stream",
          "name": "stdout",
          "text": [
            "{'mean_fit_time': array([0.0102694 , 0.01148186, 0.0140111 , 0.01707783, 0.0091331 ,\n",
            "       0.01140065, 0.01381893, 0.02058053, 0.01114116, 0.01222229,\n",
            "       0.01391129, 0.01648264, 0.00917101, 0.01171231, 0.01360822,\n",
            "       0.01767907, 0.00909243, 0.01117682, 0.0139688 , 0.01764975,\n",
            "       0.01092615, 0.01157966, 0.01448021, 0.01643548, 0.00927157,\n",
            "       0.01166692, 0.01419621, 0.01922412, 0.01107616, 0.01220002,\n",
            "       0.01767769, 0.01638322]), 'std_fit_time': array([0.00028979, 0.00042947, 0.00039231, 0.00132915, 0.00025572,\n",
            "       0.00020471, 0.00025704, 0.00566673, 0.00319058, 0.0010563 ,\n",
            "       0.00011581, 0.00014669, 0.0002191 , 0.00099019, 0.00022068,\n",
            "       0.0029962 , 0.00021323, 0.0002074 , 0.00024902, 0.00185214,\n",
            "       0.00265708, 0.000442  , 0.00096345, 0.00078693, 0.00026153,\n",
            "       0.00011691, 0.00023763, 0.0041364 , 0.00282609, 0.00109223,\n",
            "       0.00708527, 0.00025924]), 'mean_score_time': array([0.00218592, 0.00218387, 0.00257506, 0.00267777, 0.00185122,\n",
            "       0.00213213, 0.00234823, 0.00352535, 0.00187931, 0.00357814,\n",
            "       0.00232267, 0.00288749, 0.00196152, 0.00212455, 0.00232139,\n",
            "       0.00256929, 0.00194473, 0.00206861, 0.00240688, 0.00264325,\n",
            "       0.00195704, 0.00208259, 0.00245814, 0.00255013, 0.00182271,\n",
            "       0.00211349, 0.00235715, 0.002882  , 0.00206261, 0.00213547,\n",
            "       0.00245852, 0.00375156]), 'std_score_time': array([1.66150047e-04, 1.61435500e-04, 3.11367712e-04, 9.26025373e-05,\n",
            "       6.94641603e-05, 1.04953949e-04, 6.52541503e-05, 1.72274870e-03,\n",
            "       6.13636994e-05, 2.63849234e-03, 5.46892933e-05, 3.82790871e-04,\n",
            "       1.43001898e-04, 3.60988090e-05, 1.19304009e-04, 6.11710897e-05,\n",
            "       5.73723288e-05, 9.97322443e-05, 7.14166766e-05, 1.39798344e-04,\n",
            "       5.00943704e-05, 7.92825486e-05, 2.10207884e-04, 7.67578979e-05,\n",
            "       9.55239442e-05, 1.04153898e-04, 1.52038135e-04, 1.79802135e-04,\n",
            "       1.38373296e-04, 7.38219385e-05, 2.49588612e-05, 2.41999518e-03]), 'param_criterion': masked_array(data=['gini', 'gini', 'gini', 'gini', 'gini', 'gini', 'gini',\n",
            "                   'gini', 'gini', 'gini', 'gini', 'gini', 'gini', 'gini',\n",
            "                   'gini', 'gini', 'entropy', 'entropy', 'entropy',\n",
            "                   'entropy', 'entropy', 'entropy', 'entropy', 'entropy',\n",
            "                   'entropy', 'entropy', 'entropy', 'entropy', 'entropy',\n",
            "                   'entropy', 'entropy', 'entropy'],\n",
            "             mask=[False, False, False, False, False, False, False, False,\n",
            "                   False, False, False, False, False, False, False, False,\n",
            "                   False, False, False, False, False, False, False, False,\n",
            "                   False, False, False, False, False, False, False, False],\n",
            "       fill_value='?',\n",
            "            dtype=object), 'param_max_depth': masked_array(data=[2, 2, 2, 2, 3, 3, 3, 3, 4, 4, 4, 4, 5, 5, 5, 5, 2, 2,\n",
            "                   2, 2, 3, 3, 3, 3, 4, 4, 4, 4, 5, 5, 5, 5],\n",
            "             mask=[False, False, False, False, False, False, False, False,\n",
            "                   False, False, False, False, False, False, False, False,\n",
            "                   False, False, False, False, False, False, False, False,\n",
            "                   False, False, False, False, False, False, False, False],\n",
            "       fill_value='?',\n",
            "            dtype=object), 'param_n_estimators': masked_array(data=[3, 4, 5, 6, 3, 4, 5, 6, 3, 4, 5, 6, 3, 4, 5, 6, 3, 4,\n",
            "                   5, 6, 3, 4, 5, 6, 3, 4, 5, 6, 3, 4, 5, 6],\n",
            "             mask=[False, False, False, False, False, False, False, False,\n",
            "                   False, False, False, False, False, False, False, False,\n",
            "                   False, False, False, False, False, False, False, False,\n",
            "                   False, False, False, False, False, False, False, False],\n",
            "       fill_value='?',\n",
            "            dtype=object), 'params': [{'criterion': 'gini', 'max_depth': 2, 'n_estimators': 3}, {'criterion': 'gini', 'max_depth': 2, 'n_estimators': 4}, {'criterion': 'gini', 'max_depth': 2, 'n_estimators': 5}, {'criterion': 'gini', 'max_depth': 2, 'n_estimators': 6}, {'criterion': 'gini', 'max_depth': 3, 'n_estimators': 3}, {'criterion': 'gini', 'max_depth': 3, 'n_estimators': 4}, {'criterion': 'gini', 'max_depth': 3, 'n_estimators': 5}, {'criterion': 'gini', 'max_depth': 3, 'n_estimators': 6}, {'criterion': 'gini', 'max_depth': 4, 'n_estimators': 3}, {'criterion': 'gini', 'max_depth': 4, 'n_estimators': 4}, {'criterion': 'gini', 'max_depth': 4, 'n_estimators': 5}, {'criterion': 'gini', 'max_depth': 4, 'n_estimators': 6}, {'criterion': 'gini', 'max_depth': 5, 'n_estimators': 3}, {'criterion': 'gini', 'max_depth': 5, 'n_estimators': 4}, {'criterion': 'gini', 'max_depth': 5, 'n_estimators': 5}, {'criterion': 'gini', 'max_depth': 5, 'n_estimators': 6}, {'criterion': 'entropy', 'max_depth': 2, 'n_estimators': 3}, {'criterion': 'entropy', 'max_depth': 2, 'n_estimators': 4}, {'criterion': 'entropy', 'max_depth': 2, 'n_estimators': 5}, {'criterion': 'entropy', 'max_depth': 2, 'n_estimators': 6}, {'criterion': 'entropy', 'max_depth': 3, 'n_estimators': 3}, {'criterion': 'entropy', 'max_depth': 3, 'n_estimators': 4}, {'criterion': 'entropy', 'max_depth': 3, 'n_estimators': 5}, {'criterion': 'entropy', 'max_depth': 3, 'n_estimators': 6}, {'criterion': 'entropy', 'max_depth': 4, 'n_estimators': 3}, {'criterion': 'entropy', 'max_depth': 4, 'n_estimators': 4}, {'criterion': 'entropy', 'max_depth': 4, 'n_estimators': 5}, {'criterion': 'entropy', 'max_depth': 4, 'n_estimators': 6}, {'criterion': 'entropy', 'max_depth': 5, 'n_estimators': 3}, {'criterion': 'entropy', 'max_depth': 5, 'n_estimators': 4}, {'criterion': 'entropy', 'max_depth': 5, 'n_estimators': 5}, {'criterion': 'entropy', 'max_depth': 5, 'n_estimators': 6}], 'split0_test_score': array([0.94897959, 0.92857143, 0.94897959, 0.92857143, 0.89795918,\n",
            "       0.91836735, 0.91836735, 0.91836735, 0.89795918, 0.94897959,\n",
            "       0.92857143, 0.93877551, 0.93877551, 0.95918367, 0.93877551,\n",
            "       0.94897959, 0.98979592, 0.98979592, 0.97959184, 0.96938776,\n",
            "       0.97959184, 0.95918367, 0.97959184, 0.95918367, 0.92857143,\n",
            "       0.94897959, 0.96938776, 0.95918367, 0.95918367, 0.95918367,\n",
            "       0.97959184, 0.95918367]), 'split1_test_score': array([0.96938776, 0.96938776, 0.93877551, 0.94897959, 0.94897959,\n",
            "       0.95918367, 0.96938776, 0.95918367, 0.97959184, 0.97959184,\n",
            "       0.96938776, 0.96938776, 0.96938776, 0.97959184, 0.96938776,\n",
            "       0.95918367, 0.94897959, 0.94897959, 0.92857143, 0.92857143,\n",
            "       0.93877551, 0.94897959, 0.95918367, 0.94897959, 0.96938776,\n",
            "       0.97959184, 0.97959184, 0.96938776, 0.97959184, 0.97959184,\n",
            "       0.96938776, 0.96938776]), 'split2_test_score': array([0.94897959, 0.93877551, 0.94897959, 0.94897959, 0.93877551,\n",
            "       0.94897959, 0.95918367, 0.95918367, 0.96938776, 0.94897959,\n",
            "       0.95918367, 0.95918367, 0.97959184, 0.93877551, 0.95918367,\n",
            "       0.95918367, 0.94897959, 0.95918367, 0.95918367, 0.95918367,\n",
            "       0.94897959, 0.94897959, 0.96938776, 0.96938776, 0.95918367,\n",
            "       0.95918367, 0.95918367, 0.95918367, 0.96938776, 0.95918367,\n",
            "       0.96938776, 0.96938776]), 'split3_test_score': array([0.94897959, 0.94897959, 0.92857143, 0.93877551, 0.94897959,\n",
            "       0.94897959, 0.94897959, 0.96938776, 0.94897959, 0.94897959,\n",
            "       0.95918367, 0.95918367, 0.93877551, 0.93877551, 0.94897959,\n",
            "       0.93877551, 0.95918367, 0.91836735, 0.91836735, 0.94897959,\n",
            "       0.94897959, 0.94897959, 0.95918367, 0.95918367, 0.95918367,\n",
            "       0.95918367, 0.95918367, 0.95918367, 0.95918367, 0.95918367,\n",
            "       0.95918367, 0.95918367]), 'split4_test_score': array([0.98969072, 0.98969072, 0.98969072, 0.98969072, 0.97938144,\n",
            "       0.97938144, 0.96907216, 0.95876289, 0.96907216, 0.96907216,\n",
            "       0.98969072, 0.98969072, 0.96907216, 0.96907216, 0.97938144,\n",
            "       0.97938144, 0.98969072, 0.98969072, 0.98969072, 0.98969072,\n",
            "       0.97938144, 0.98969072, 0.98969072, 0.98969072, 0.98969072,\n",
            "       0.97938144, 0.98969072, 0.97938144, 0.98969072, 0.98969072,\n",
            "       1.        , 0.98969072]), 'mean_test_score': array([0.96120345, 0.955081  , 0.95099937, 0.95099937, 0.94281506,\n",
            "       0.95097833, 0.95299811, 0.95297707, 0.95299811, 0.95912056,\n",
            "       0.96120345, 0.96324427, 0.95912056, 0.95707974, 0.95914159,\n",
            "       0.95710078, 0.9673259 , 0.96120345, 0.955081  , 0.95916263,\n",
            "       0.95914159, 0.95916263, 0.97140753, 0.96528508, 0.96120345,\n",
            "       0.96526404, 0.97140753, 0.96526404, 0.97140753, 0.96936672,\n",
            "       0.9755102 , 0.96936672]), 'std_test_score': array([0.01628972, 0.02194707, 0.02077313, 0.02077313, 0.02623536,\n",
            "       0.01972577, 0.01887165, 0.01776324, 0.02925629, 0.01285788,\n",
            "       0.01975609, 0.01654602, 0.0170374 , 0.01627961, 0.01437137,\n",
            "       0.01346755, 0.01867917, 0.02689791, 0.02780682, 0.02037662,\n",
            "       0.01702453, 0.01576736, 0.01186746, 0.01380428, 0.01975609,\n",
            "       0.012196  , 0.01186746, 0.00808973, 0.01186746, 0.01287402,\n",
            "       0.01384149, 0.01113961]), 'rank_test_score': array([12, 24, 29, 29, 32, 31, 26, 28, 27, 20, 12, 11, 21, 23, 18, 22,  7,\n",
            "       12, 25, 16, 18, 16,  2,  8, 12,  9,  2,  9,  2,  5,  1,  6],\n",
            "      dtype=int32)}\n",
            "RandomForestClassifier(criterion='entropy', max_depth=5, n_estimators=5,\n",
            "                       random_state=123)\n",
            "\n",
            "Detailed classification report:\n",
            "\n",
            "              precision    recall  f1-score   support\n",
            "\n",
            "      benign       0.98      0.94      0.96       138\n",
            "   malignant       0.90      0.97      0.93        72\n",
            "\n",
            "    accuracy                           0.95       210\n",
            "   macro avg       0.94      0.96      0.95       210\n",
            "weighted avg       0.95      0.95      0.95       210\n",
            "\n",
            "\n"
          ]
        }
      ]
    },
    {
      "cell_type": "markdown",
      "source": [
        "Aqui os  hiperparâmetros que buscamos foram o número de estimadores da Floresta, e a profundidade e critério das Árvores empregadas. A API `GridSearchCV()` ainda fornece acesso ao resultado de cada um dos modelos. Você pode notar o resultado melhor de acuracidade e até mesmo melhor que o que havíamos obtido antes com o modelo Knn."
      ],
      "metadata": {
        "id": "l7wYhQ_HVPNN"
      }
    },
    {
      "cell_type": "markdown",
      "metadata": {
        "id": "oO3RnKjR44_T"
      },
      "source": [
        "# Sumário da Aula\n",
        "\n",
        "Aqui você aprendeu conceitos e técnicas bastante importantes que são aplicadas à busca de melhores parâmetros dos modelos como:\n",
        "\n",
        "  * **Conjuntos de Validação e Teste**\n",
        "  * **Esquema de Validação Cruzada**\n",
        "  * **Pesquisa em Grade para seleção de hiperparâmetros**\n",
        "\n",
        "Todos esses procedimentos, que aplicamos para os estimadores  **Knn** , **Árvore de Decisão** e mesmo para um novo modelo de **Random Forest** que aprendemos aqui, podem ser igualmente aplicados a quaisquer estimadores e o procedimento final desta aula fornece um modelo de código que você poderá empregar em outros estimadores adiante.\n",
        "\n",
        "Na próxima aula veremos como combinar isso à seleção de diferentes modelos."
      ]
    },
    {
      "cell_type": "markdown",
      "metadata": {
        "id": "k4noMRT_YUd7"
      },
      "source": [
        "# Para Saber Mais\n",
        "\n",
        "* A documentação do `scikit-learn` é uma excelente fonte de consulta para todos as técnicas que empregamos aqui. Mas ela é também bastante extensa e selecionamos aqui alguns dos links principais que podem interessar:\n",
        "\n",
        "  * **Cross-validation: evaluating estimator performance**, Disponível em: https://scikit-learn.org/stable/modules/cross_validation.html#cross-validation\n",
        "  * **Tuning the hyper-parameters of an estimator**, Disponível em: https://scikit-learn.org/stable/modules/grid_search.html#grid-search, e aqui você pode buscar mais referência de como empregar a seleção de hiperparâmetros com múltiplas métricas.\n",
        "  * **Parameter estimation using grid search with cross-validation**, Disponível em: https://scikit-learn.org/stable/auto_examples/model_selection/plot_grid_search_digits.html#sphx-glr-auto-examples-model-selection-plot-grid-search-digits-py\n",
        "\n",
        "* Mas para saber mais sobre esses procedimentos o melhor mesmo é praticar. Você pode empregar então o último código dessa trilha, que é um modelo final de código para seleção de hiperparâmetros de um classificador, para fazer o mesmo para o classificador logístico, um regressor linear ou ainda empregar um outro conjunto de dados de seu interesse. Essas são atividades que, de fato, irão ajudá-lo a saber mais sobre o que tratamos aqui.\n",
        "\n",
        "* Nesta aula fizemos a normalização dos dados de entrada antes de aplicarmos os estimadores. Vamos saber mais sobre isso? De um modo simples, dados são normalizados ou redimensionados para trazer todas as variáveis ​​em proporção umas com as outras. Existem diferentes formas de normalização e redimensionamento de dados e aqui aplicamos apenas uma delas. Acesse o artigo **When to perform a Feature Scaling?** de Raghav Vashisht, disponível em: https://www.atoti.io/when-to-perform-a-feature-scaling/ para saber mais sobre isso e veja também **Compare the effect of different scalers on data with outliers** disponível em: https://scikit-learn.org/stable/auto_examples/preprocessing/plot_all_scaling.html para conhecer outros estimadores de normalização do `scikit-learn`.\n",
        "\n",
        "\n",
        "\n",
        "\n"
      ]
    },
    {
      "cell_type": "markdown",
      "metadata": {
        "id": "fa24d435"
      },
      "source": [
        "# Referências"
      ]
    },
    {
      "cell_type": "markdown",
      "metadata": {
        "id": "zlJfWteFyhFy"
      },
      "source": [
        "* Subasi, A. (2020). **Machine learning techniques. Practical Machine Learning for Data Analysis Using Python**, 91–202. doi:10.1016/b978-0-12-821379-7.00003-5\n",
        "\n",
        "* Larose, Chantal D.; Larose, Daniel T. **Data Science Using Python and R** Hoboken: Wiley, c2019. E-book (259 p.) (Wiley Series on Methods and Applications in Data Mining Ser.). ISBN 9781119526834 (electronic bk.). Disponível em: https://www3.mackenzie.br/biblioteca_virtual/index.php?tipoBiblio=ebookcentral&flashObg=n\n",
        "\n",
        "* Kotu, Vijay; Deshpande, Balachandre **Data Science: concepts and practice**. 2nd ed. Cambridge, [England]: Morgan Kaufmann, c2019. E-book (570 p.) ISBN 9780128147627 (electronic bk.). Disponível em: http://pergamum.mackenzie.br:8080/pergamumweb/vinculos/00003c/00003cef.jpg.\n",
        "\n",
        "* Jake VanderPlas. **Python Data Science Handbook**  O'Reilly Media, Inc. (2016). ISBN: 9781491912058. Disponível em: https://jakevdp.github.io/PythonDataScienceHandbook/. Acesso: 11 de Maio de 2022.\n",
        "\n",
        "* ___. **Cross-validation: evaluating estimator performance**, Disponível em: https://scikit-learn.org/stable/modules/cross_validation.html#cross-validation Acesso em:  11 de Maio de 2022.\n",
        "\n",
        "* ___.  **Tuning the hyper-parameters of an estimator**, Disponível em: https://scikit-learn.org/stable/modules/grid_search.html#grid-search Acesso em:  11 de Maio de 2022.\n",
        "\n",
        "* ___. **Parameter estimation using grid search with cross-validation**, Disponível em: https://scikit-learn.org/stable/auto_examples/model_selection/plot_grid_search_digits.html#sphx-glr-auto-examples-model-selection-plot-grid-search-digits-py Acesso em:  11 de Maio de 2022."
      ]
    }
  ]
}