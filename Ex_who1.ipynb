{
  "nbformat": 4,
  "nbformat_minor": 0,
  "metadata": {
    "colab": {
      "provenance": [],
      "authorship_tag": "ABX9TyMPGg5hBiQ3tdv3sF+CfOiO",
      "include_colab_link": true
    },
    "kernelspec": {
      "name": "python3",
      "display_name": "Python 3"
    },
    "language_info": {
      "name": "python"
    }
  },
  "cells": [
    {
      "cell_type": "markdown",
      "metadata": {
        "id": "view-in-github",
        "colab_type": "text"
      },
      "source": [
        "<a href=\"https://colab.research.google.com/github/Rogerio-mack/IMT_CD_2025/blob/main/Ex_who1.ipynb\" target=\"_parent\"><img src=\"https://colab.research.google.com/assets/colab-badge.svg\" alt=\"Open In Colab\"/></a>"
      ]
    },
    {
      "cell_type": "markdown",
      "source": [
        "# **Exercício: WHO World Health Organization**\n",
        "\n",
        "Explore a página\n",
        "\n",
        "https://www.who.int/teams/global-tuberculosis-programme/data\n",
        "\n",
        "Entenda como os dados de tuberculose podem ser encontrados e seus metadados. Descubra, então, se os casos e mortes por tuberculose no Brasil vem sendo descrescentes."
      ],
      "metadata": {
        "id": "3EVhgyVehlY2"
      }
    }
  ]
}