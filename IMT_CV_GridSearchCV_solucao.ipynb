{
  "nbformat": 4,
  "nbformat_minor": 0,
  "metadata": {
    "colab": {
      "provenance": [],
      "authorship_tag": "ABX9TyMi1pLxjnZ/U8nook9LboFd",
      "include_colab_link": true
    },
    "kernelspec": {
      "name": "python3",
      "display_name": "Python 3"
    },
    "language_info": {
      "name": "python"
    }
  },
  "cells": [
    {
      "cell_type": "markdown",
      "metadata": {
        "id": "view-in-github",
        "colab_type": "text"
      },
      "source": [
        "<a href=\"https://colab.research.google.com/github/Rogerio-mack/IMT_CD_2025/blob/main/IMT_CV_GridSearchCV_solucao.ipynb\" target=\"_parent\"><img src=\"https://colab.research.google.com/assets/colab-badge.svg\" alt=\"Open In Colab\"/></a>"
      ]
    },
    {
      "cell_type": "markdown",
      "metadata": {
        "id": "RuZV62fGOorG"
      },
      "source": [
        "<head>\n",
        "  <meta name=\"author\" content=\"Rogério de Oliveira\">\n",
        "  <meta institution=\"author\" content=\"ITM\">\n",
        "</head>\n",
        "\n",
        "<img src=\"https://maua.br/images/selo-60-anos-maua.svg\" width=300, align=\"right\">\n",
        "<!-- <h1 align=left><font size = 6, style=\"color:rgb(200,0,0)\"> optional title </font></h1> -->\n"
      ]
    },
    {
      "cell_type": "markdown",
      "source": [
        "# Cross Validation a GridSearchCV"
      ],
      "metadata": {
        "id": "3VTPbgT8MpR6"
      }
    },
    {
      "cell_type": "markdown",
      "source": [
        "[Alternative scikit-learn course](https://inria.github.io/scikit-learn-mooc/toc.html)"
      ],
      "metadata": {
        "id": "DjVrTm85EH3X"
      }
    },
    {
      "cell_type": "code",
      "source": [
        "from IPython.display import IFrame\n",
        "\n",
        "IFrame('https://allisonhorst.github.io/palmerpenguins/', width=800, height=600)\n"
      ],
      "metadata": {
        "colab": {
          "base_uri": "https://localhost:8080/",
          "height": 621
        },
        "id": "IrtvcaQDEdBz",
        "outputId": "e6bbb318-b017-4043-9848-21a37ed703be"
      },
      "execution_count": 1,
      "outputs": [
        {
          "output_type": "execute_result",
          "data": {
            "text/plain": [
              "<IPython.lib.display.IFrame at 0x7e9c79d7bf50>"
            ],
            "text/html": [
              "\n",
              "        <iframe\n",
              "            width=\"800\"\n",
              "            height=\"600\"\n",
              "            src=\"https://allisonhorst.github.io/palmerpenguins/\"\n",
              "            frameborder=\"0\"\n",
              "            allowfullscreen\n",
              "            \n",
              "        ></iframe>\n",
              "        "
            ]
          },
          "metadata": {},
          "execution_count": 1
        }
      ]
    },
    {
      "cell_type": "code",
      "source": [
        "import pandas as pd\n",
        "import seaborn as sns\n",
        "from sklearn.model_selection import GridSearchCV, train_test_split, cross_val_score, StratifiedKFold, KFold\n",
        "from sklearn.preprocessing import StandardScaler\n",
        "from sklearn.pipeline import Pipeline\n",
        "from sklearn.ensemble import RandomForestClassifier\n",
        "from sklearn.tree import DecisionTreeClassifier\n",
        "from sklearn.linear_model import LogisticRegression\n",
        "from sklearn.neighbors import KNeighborsClassifier\n",
        "from sklearn.metrics import accuracy_score\n"
      ],
      "metadata": {
        "id": "T3VeGKF5DrQ7"
      },
      "execution_count": 2,
      "outputs": []
    },
    {
      "cell_type": "markdown",
      "source": [
        "# Dados"
      ],
      "metadata": {
        "id": "UwwI1anLE8Rh"
      }
    },
    {
      "cell_type": "code",
      "source": [
        "df = sns.load_dataset('penguins')\n",
        "df.dropna(inplace=True)\n",
        "\n",
        "df.head()"
      ],
      "metadata": {
        "colab": {
          "base_uri": "https://localhost:8080/",
          "height": 206
        },
        "id": "2jgom28tDxzG",
        "outputId": "3d42d8bb-a76e-4936-ec17-cbff169590ed"
      },
      "execution_count": 3,
      "outputs": [
        {
          "output_type": "execute_result",
          "data": {
            "text/plain": [
              "  species     island  bill_length_mm  bill_depth_mm  flipper_length_mm  \\\n",
              "0  Adelie  Torgersen            39.1           18.7              181.0   \n",
              "1  Adelie  Torgersen            39.5           17.4              186.0   \n",
              "2  Adelie  Torgersen            40.3           18.0              195.0   \n",
              "4  Adelie  Torgersen            36.7           19.3              193.0   \n",
              "5  Adelie  Torgersen            39.3           20.6              190.0   \n",
              "\n",
              "   body_mass_g     sex  \n",
              "0       3750.0    Male  \n",
              "1       3800.0  Female  \n",
              "2       3250.0  Female  \n",
              "4       3450.0  Female  \n",
              "5       3650.0    Male  "
            ],
            "text/html": [
              "\n",
              "  <div id=\"df-93e3c567-ae02-476e-90c5-65c9418a97a0\" class=\"colab-df-container\">\n",
              "    <div>\n",
              "<style scoped>\n",
              "    .dataframe tbody tr th:only-of-type {\n",
              "        vertical-align: middle;\n",
              "    }\n",
              "\n",
              "    .dataframe tbody tr th {\n",
              "        vertical-align: top;\n",
              "    }\n",
              "\n",
              "    .dataframe thead th {\n",
              "        text-align: right;\n",
              "    }\n",
              "</style>\n",
              "<table border=\"1\" class=\"dataframe\">\n",
              "  <thead>\n",
              "    <tr style=\"text-align: right;\">\n",
              "      <th></th>\n",
              "      <th>species</th>\n",
              "      <th>island</th>\n",
              "      <th>bill_length_mm</th>\n",
              "      <th>bill_depth_mm</th>\n",
              "      <th>flipper_length_mm</th>\n",
              "      <th>body_mass_g</th>\n",
              "      <th>sex</th>\n",
              "    </tr>\n",
              "  </thead>\n",
              "  <tbody>\n",
              "    <tr>\n",
              "      <th>0</th>\n",
              "      <td>Adelie</td>\n",
              "      <td>Torgersen</td>\n",
              "      <td>39.1</td>\n",
              "      <td>18.7</td>\n",
              "      <td>181.0</td>\n",
              "      <td>3750.0</td>\n",
              "      <td>Male</td>\n",
              "    </tr>\n",
              "    <tr>\n",
              "      <th>1</th>\n",
              "      <td>Adelie</td>\n",
              "      <td>Torgersen</td>\n",
              "      <td>39.5</td>\n",
              "      <td>17.4</td>\n",
              "      <td>186.0</td>\n",
              "      <td>3800.0</td>\n",
              "      <td>Female</td>\n",
              "    </tr>\n",
              "    <tr>\n",
              "      <th>2</th>\n",
              "      <td>Adelie</td>\n",
              "      <td>Torgersen</td>\n",
              "      <td>40.3</td>\n",
              "      <td>18.0</td>\n",
              "      <td>195.0</td>\n",
              "      <td>3250.0</td>\n",
              "      <td>Female</td>\n",
              "    </tr>\n",
              "    <tr>\n",
              "      <th>4</th>\n",
              "      <td>Adelie</td>\n",
              "      <td>Torgersen</td>\n",
              "      <td>36.7</td>\n",
              "      <td>19.3</td>\n",
              "      <td>193.0</td>\n",
              "      <td>3450.0</td>\n",
              "      <td>Female</td>\n",
              "    </tr>\n",
              "    <tr>\n",
              "      <th>5</th>\n",
              "      <td>Adelie</td>\n",
              "      <td>Torgersen</td>\n",
              "      <td>39.3</td>\n",
              "      <td>20.6</td>\n",
              "      <td>190.0</td>\n",
              "      <td>3650.0</td>\n",
              "      <td>Male</td>\n",
              "    </tr>\n",
              "  </tbody>\n",
              "</table>\n",
              "</div>\n",
              "    <div class=\"colab-df-buttons\">\n",
              "\n",
              "  <div class=\"colab-df-container\">\n",
              "    <button class=\"colab-df-convert\" onclick=\"convertToInteractive('df-93e3c567-ae02-476e-90c5-65c9418a97a0')\"\n",
              "            title=\"Convert this dataframe to an interactive table.\"\n",
              "            style=\"display:none;\">\n",
              "\n",
              "  <svg xmlns=\"http://www.w3.org/2000/svg\" height=\"24px\" viewBox=\"0 -960 960 960\">\n",
              "    <path d=\"M120-120v-720h720v720H120Zm60-500h600v-160H180v160Zm220 220h160v-160H400v160Zm0 220h160v-160H400v160ZM180-400h160v-160H180v160Zm440 0h160v-160H620v160ZM180-180h160v-160H180v160Zm440 0h160v-160H620v160Z\"/>\n",
              "  </svg>\n",
              "    </button>\n",
              "\n",
              "  <style>\n",
              "    .colab-df-container {\n",
              "      display:flex;\n",
              "      gap: 12px;\n",
              "    }\n",
              "\n",
              "    .colab-df-convert {\n",
              "      background-color: #E8F0FE;\n",
              "      border: none;\n",
              "      border-radius: 50%;\n",
              "      cursor: pointer;\n",
              "      display: none;\n",
              "      fill: #1967D2;\n",
              "      height: 32px;\n",
              "      padding: 0 0 0 0;\n",
              "      width: 32px;\n",
              "    }\n",
              "\n",
              "    .colab-df-convert:hover {\n",
              "      background-color: #E2EBFA;\n",
              "      box-shadow: 0px 1px 2px rgba(60, 64, 67, 0.3), 0px 1px 3px 1px rgba(60, 64, 67, 0.15);\n",
              "      fill: #174EA6;\n",
              "    }\n",
              "\n",
              "    .colab-df-buttons div {\n",
              "      margin-bottom: 4px;\n",
              "    }\n",
              "\n",
              "    [theme=dark] .colab-df-convert {\n",
              "      background-color: #3B4455;\n",
              "      fill: #D2E3FC;\n",
              "    }\n",
              "\n",
              "    [theme=dark] .colab-df-convert:hover {\n",
              "      background-color: #434B5C;\n",
              "      box-shadow: 0px 1px 3px 1px rgba(0, 0, 0, 0.15);\n",
              "      filter: drop-shadow(0px 1px 2px rgba(0, 0, 0, 0.3));\n",
              "      fill: #FFFFFF;\n",
              "    }\n",
              "  </style>\n",
              "\n",
              "    <script>\n",
              "      const buttonEl =\n",
              "        document.querySelector('#df-93e3c567-ae02-476e-90c5-65c9418a97a0 button.colab-df-convert');\n",
              "      buttonEl.style.display =\n",
              "        google.colab.kernel.accessAllowed ? 'block' : 'none';\n",
              "\n",
              "      async function convertToInteractive(key) {\n",
              "        const element = document.querySelector('#df-93e3c567-ae02-476e-90c5-65c9418a97a0');\n",
              "        const dataTable =\n",
              "          await google.colab.kernel.invokeFunction('convertToInteractive',\n",
              "                                                    [key], {});\n",
              "        if (!dataTable) return;\n",
              "\n",
              "        const docLinkHtml = 'Like what you see? Visit the ' +\n",
              "          '<a target=\"_blank\" href=https://colab.research.google.com/notebooks/data_table.ipynb>data table notebook</a>'\n",
              "          + ' to learn more about interactive tables.';\n",
              "        element.innerHTML = '';\n",
              "        dataTable['output_type'] = 'display_data';\n",
              "        await google.colab.output.renderOutput(dataTable, element);\n",
              "        const docLink = document.createElement('div');\n",
              "        docLink.innerHTML = docLinkHtml;\n",
              "        element.appendChild(docLink);\n",
              "      }\n",
              "    </script>\n",
              "  </div>\n",
              "\n",
              "\n",
              "    <div id=\"df-f4ee8a36-c008-49d7-91d9-2d48dc3be3ab\">\n",
              "      <button class=\"colab-df-quickchart\" onclick=\"quickchart('df-f4ee8a36-c008-49d7-91d9-2d48dc3be3ab')\"\n",
              "                title=\"Suggest charts\"\n",
              "                style=\"display:none;\">\n",
              "\n",
              "<svg xmlns=\"http://www.w3.org/2000/svg\" height=\"24px\"viewBox=\"0 0 24 24\"\n",
              "     width=\"24px\">\n",
              "    <g>\n",
              "        <path d=\"M19 3H5c-1.1 0-2 .9-2 2v14c0 1.1.9 2 2 2h14c1.1 0 2-.9 2-2V5c0-1.1-.9-2-2-2zM9 17H7v-7h2v7zm4 0h-2V7h2v10zm4 0h-2v-4h2v4z\"/>\n",
              "    </g>\n",
              "</svg>\n",
              "      </button>\n",
              "\n",
              "<style>\n",
              "  .colab-df-quickchart {\n",
              "      --bg-color: #E8F0FE;\n",
              "      --fill-color: #1967D2;\n",
              "      --hover-bg-color: #E2EBFA;\n",
              "      --hover-fill-color: #174EA6;\n",
              "      --disabled-fill-color: #AAA;\n",
              "      --disabled-bg-color: #DDD;\n",
              "  }\n",
              "\n",
              "  [theme=dark] .colab-df-quickchart {\n",
              "      --bg-color: #3B4455;\n",
              "      --fill-color: #D2E3FC;\n",
              "      --hover-bg-color: #434B5C;\n",
              "      --hover-fill-color: #FFFFFF;\n",
              "      --disabled-bg-color: #3B4455;\n",
              "      --disabled-fill-color: #666;\n",
              "  }\n",
              "\n",
              "  .colab-df-quickchart {\n",
              "    background-color: var(--bg-color);\n",
              "    border: none;\n",
              "    border-radius: 50%;\n",
              "    cursor: pointer;\n",
              "    display: none;\n",
              "    fill: var(--fill-color);\n",
              "    height: 32px;\n",
              "    padding: 0;\n",
              "    width: 32px;\n",
              "  }\n",
              "\n",
              "  .colab-df-quickchart:hover {\n",
              "    background-color: var(--hover-bg-color);\n",
              "    box-shadow: 0 1px 2px rgba(60, 64, 67, 0.3), 0 1px 3px 1px rgba(60, 64, 67, 0.15);\n",
              "    fill: var(--button-hover-fill-color);\n",
              "  }\n",
              "\n",
              "  .colab-df-quickchart-complete:disabled,\n",
              "  .colab-df-quickchart-complete:disabled:hover {\n",
              "    background-color: var(--disabled-bg-color);\n",
              "    fill: var(--disabled-fill-color);\n",
              "    box-shadow: none;\n",
              "  }\n",
              "\n",
              "  .colab-df-spinner {\n",
              "    border: 2px solid var(--fill-color);\n",
              "    border-color: transparent;\n",
              "    border-bottom-color: var(--fill-color);\n",
              "    animation:\n",
              "      spin 1s steps(1) infinite;\n",
              "  }\n",
              "\n",
              "  @keyframes spin {\n",
              "    0% {\n",
              "      border-color: transparent;\n",
              "      border-bottom-color: var(--fill-color);\n",
              "      border-left-color: var(--fill-color);\n",
              "    }\n",
              "    20% {\n",
              "      border-color: transparent;\n",
              "      border-left-color: var(--fill-color);\n",
              "      border-top-color: var(--fill-color);\n",
              "    }\n",
              "    30% {\n",
              "      border-color: transparent;\n",
              "      border-left-color: var(--fill-color);\n",
              "      border-top-color: var(--fill-color);\n",
              "      border-right-color: var(--fill-color);\n",
              "    }\n",
              "    40% {\n",
              "      border-color: transparent;\n",
              "      border-right-color: var(--fill-color);\n",
              "      border-top-color: var(--fill-color);\n",
              "    }\n",
              "    60% {\n",
              "      border-color: transparent;\n",
              "      border-right-color: var(--fill-color);\n",
              "    }\n",
              "    80% {\n",
              "      border-color: transparent;\n",
              "      border-right-color: var(--fill-color);\n",
              "      border-bottom-color: var(--fill-color);\n",
              "    }\n",
              "    90% {\n",
              "      border-color: transparent;\n",
              "      border-bottom-color: var(--fill-color);\n",
              "    }\n",
              "  }\n",
              "</style>\n",
              "\n",
              "      <script>\n",
              "        async function quickchart(key) {\n",
              "          const quickchartButtonEl =\n",
              "            document.querySelector('#' + key + ' button');\n",
              "          quickchartButtonEl.disabled = true;  // To prevent multiple clicks.\n",
              "          quickchartButtonEl.classList.add('colab-df-spinner');\n",
              "          try {\n",
              "            const charts = await google.colab.kernel.invokeFunction(\n",
              "                'suggestCharts', [key], {});\n",
              "          } catch (error) {\n",
              "            console.error('Error during call to suggestCharts:', error);\n",
              "          }\n",
              "          quickchartButtonEl.classList.remove('colab-df-spinner');\n",
              "          quickchartButtonEl.classList.add('colab-df-quickchart-complete');\n",
              "        }\n",
              "        (() => {\n",
              "          let quickchartButtonEl =\n",
              "            document.querySelector('#df-f4ee8a36-c008-49d7-91d9-2d48dc3be3ab button');\n",
              "          quickchartButtonEl.style.display =\n",
              "            google.colab.kernel.accessAllowed ? 'block' : 'none';\n",
              "        })();\n",
              "      </script>\n",
              "    </div>\n",
              "\n",
              "    </div>\n",
              "  </div>\n"
            ],
            "application/vnd.google.colaboratory.intrinsic+json": {
              "type": "dataframe",
              "variable_name": "df",
              "summary": "{\n  \"name\": \"df\",\n  \"rows\": 333,\n  \"fields\": [\n    {\n      \"column\": \"species\",\n      \"properties\": {\n        \"dtype\": \"category\",\n        \"num_unique_values\": 3,\n        \"samples\": [\n          \"Adelie\",\n          \"Chinstrap\",\n          \"Gentoo\"\n        ],\n        \"semantic_type\": \"\",\n        \"description\": \"\"\n      }\n    },\n    {\n      \"column\": \"island\",\n      \"properties\": {\n        \"dtype\": \"category\",\n        \"num_unique_values\": 3,\n        \"samples\": [\n          \"Torgersen\",\n          \"Biscoe\",\n          \"Dream\"\n        ],\n        \"semantic_type\": \"\",\n        \"description\": \"\"\n      }\n    },\n    {\n      \"column\": \"bill_length_mm\",\n      \"properties\": {\n        \"dtype\": \"number\",\n        \"std\": 5.468668342647562,\n        \"min\": 32.1,\n        \"max\": 59.6,\n        \"num_unique_values\": 163,\n        \"samples\": [\n          59.6,\n          48.1,\n          46.3\n        ],\n        \"semantic_type\": \"\",\n        \"description\": \"\"\n      }\n    },\n    {\n      \"column\": \"bill_depth_mm\",\n      \"properties\": {\n        \"dtype\": \"number\",\n        \"std\": 1.9692354633199,\n        \"min\": 13.1,\n        \"max\": 21.5,\n        \"num_unique_values\": 79,\n        \"samples\": [\n          19.5,\n          18.7,\n          17.0\n        ],\n        \"semantic_type\": \"\",\n        \"description\": \"\"\n      }\n    },\n    {\n      \"column\": \"flipper_length_mm\",\n      \"properties\": {\n        \"dtype\": \"number\",\n        \"std\": 14.015765288287882,\n        \"min\": 172.0,\n        \"max\": 231.0,\n        \"num_unique_values\": 54,\n        \"samples\": [\n          188.0,\n          231.0,\n          224.0\n        ],\n        \"semantic_type\": \"\",\n        \"description\": \"\"\n      }\n    },\n    {\n      \"column\": \"body_mass_g\",\n      \"properties\": {\n        \"dtype\": \"number\",\n        \"std\": 805.2158019428966,\n        \"min\": 2700.0,\n        \"max\": 6300.0,\n        \"num_unique_values\": 93,\n        \"samples\": [\n          4725.0,\n          3100.0,\n          3575.0\n        ],\n        \"semantic_type\": \"\",\n        \"description\": \"\"\n      }\n    },\n    {\n      \"column\": \"sex\",\n      \"properties\": {\n        \"dtype\": \"category\",\n        \"num_unique_values\": 2,\n        \"samples\": [\n          \"Female\",\n          \"Male\"\n        ],\n        \"semantic_type\": \"\",\n        \"description\": \"\"\n      }\n    }\n  ]\n}"
            }
          },
          "metadata": {},
          "execution_count": 3
        }
      ]
    },
    {
      "cell_type": "markdown",
      "source": [
        "# Treinamento e Teste"
      ],
      "metadata": {
        "id": "UNOWIw-rFA2q"
      }
    },
    {
      "cell_type": "code",
      "source": [
        "# As features (X) e o alvo (y)\n",
        "X = df[['bill_length_mm', 'bill_depth_mm', 'flipper_length_mm', 'body_mass_g']]\n",
        "y = df['species']\n",
        "\n",
        "# Dividindo em treino e teste\n",
        "X_train, X_test, y_train, y_test = train_test_split(X, y, stratify=y, test_size=0.2, random_state=42)"
      ],
      "metadata": {
        "id": "0c7y0o-mE35y"
      },
      "execution_count": 4,
      "outputs": []
    },
    {
      "cell_type": "markdown",
      "source": [
        "# Modelos"
      ],
      "metadata": {
        "id": "sYFY4aQOFDVD"
      }
    },
    {
      "cell_type": "code",
      "source": [
        "# Criando o dicionário de modelos que iremos testar\n",
        "models = {\n",
        "    'RandomForest': RandomForestClassifier(random_state=42),\n",
        "    'DecisionTree': DecisionTreeClassifier(random_state=42),\n",
        "    'LogisticRegression': LogisticRegression(max_iter=10000),\n",
        "    'KNN': KNeighborsClassifier(),\n",
        "}"
      ],
      "metadata": {
        "id": "fnOjO7H-FHKs"
      },
      "execution_count": 5,
      "outputs": []
    },
    {
      "cell_type": "markdown",
      "source": [
        "# Cross Validation Scores\n"
      ],
      "metadata": {
        "id": "no5dVwszFJxc"
      }
    },
    {
      "cell_type": "markdown",
      "source": [
        "## Exercício 1.\n",
        "O obtenha a acuracidade média dos modelos para um cv de 5 partições. Explore a saída do estimador `cross_val_score()`."
      ],
      "metadata": {
        "id": "sdb6wL4KGW9H"
      }
    },
    {
      "cell_type": "code",
      "source": [
        "for name, model in models.items():\n",
        "    scores = cross_val_score(model, X_train, y_train, cv=5)\n",
        "    print(f\"{name}, score = {scores.mean():.4f}\")"
      ],
      "metadata": {
        "colab": {
          "base_uri": "https://localhost:8080/"
        },
        "id": "30Okmwj-Fjun",
        "outputId": "dc6b9d4b-58d5-452a-a3cf-05c4b0fdf22c"
      },
      "execution_count": 6,
      "outputs": [
        {
          "output_type": "stream",
          "name": "stdout",
          "text": [
            "RandomForest, score = 0.9736\n",
            "DecisionTree, score = 0.9623\n",
            "LogisticRegression, score = 0.9774\n",
            "KNN, score = 0.7705\n"
          ]
        }
      ]
    },
    {
      "cell_type": "markdown",
      "source": [
        "### Entenda\n",
        "\n",
        "Para `cv=` `<int/None>`, se o estimador for um classificador e `y` for binário ou multiclasse, `StratifiedKFold` é usado. Em todos os outros casos, `KFold` é usado. Esses divisores são instanciados com `shuffle=False` para que as divisões sejam as mesmas em todas as chamadas, mas isso pode não ser desejável já que os conjuntos de dados serão *fatias* contínuas dos dados.\n",
        "\n",
        "Veja como funcionam o  `StratifiedKFold` e o `KFold` com `shuffle=False` e `shuffle=True`.\n",
        "\n"
      ],
      "metadata": {
        "id": "os9WbqAm5Pjx"
      }
    },
    {
      "cell_type": "code",
      "source": [
        "import numpy as np\n",
        "from sklearn.model_selection import KFold\n",
        "\n",
        "# Criando um conjunto de dados simples\n",
        "X_simple = np.arange(12).reshape(-1, 1)\n",
        "y_simple = np.repeat([0, 1], 6)\n",
        "\n",
        "print(\"--- KFold com shuffle=False ---\")\n",
        "kf_no_shuffle = KFold(n_splits=3, shuffle=False)\n",
        "for fold, (train_index, test_index) in enumerate(kf_no_shuffle.split(X_simple)):\n",
        "    print(f\"Fold {fold+1}:\")\n",
        "    print(f\"  Índices de treino: {train_index}\")\n",
        "    print(f\"  Índices de teste: {test_index}\")\n",
        "    print(\"-\" * 20)\n",
        "\n",
        "print(\"\\n--- KFold com shuffle=True ---\")\n",
        "kf_shuffle = KFold(n_splits=3, shuffle=True, random_state=42) # Adicionando random_state para reprodutibilidade\n",
        "for fold, (train_index, test_index) in enumerate(kf_shuffle.split(X_simple)):\n",
        "    print(f\"Fold {fold+1}:\")\n",
        "    print(f\"  Índices de treino: {train_index}\")\n",
        "    print(f\"  Índices de teste: {test_index}\")\n",
        "    print(\"-\" * 20)"
      ],
      "metadata": {
        "colab": {
          "base_uri": "https://localhost:8080/"
        },
        "id": "oqbIe7J8tG4o",
        "outputId": "64a4600f-8a19-40c5-fb3c-171d097d50fa"
      },
      "execution_count": 7,
      "outputs": [
        {
          "output_type": "stream",
          "name": "stdout",
          "text": [
            "--- KFold com shuffle=False ---\n",
            "Fold 1:\n",
            "  Índices de treino: [ 4  5  6  7  8  9 10 11]\n",
            "  Índices de teste: [0 1 2 3]\n",
            "--------------------\n",
            "Fold 2:\n",
            "  Índices de treino: [ 0  1  2  3  8  9 10 11]\n",
            "  Índices de teste: [4 5 6 7]\n",
            "--------------------\n",
            "Fold 3:\n",
            "  Índices de treino: [0 1 2 3 4 5 6 7]\n",
            "  Índices de teste: [ 8  9 10 11]\n",
            "--------------------\n",
            "\n",
            "--- KFold com shuffle=True ---\n",
            "Fold 1:\n",
            "  Índices de treino: [ 1  2  3  4  5  6  7 11]\n",
            "  Índices de teste: [ 0  8  9 10]\n",
            "--------------------\n",
            "Fold 2:\n",
            "  Índices de treino: [ 0  3  4  6  7  8  9 10]\n",
            "  Índices de teste: [ 1  2  5 11]\n",
            "--------------------\n",
            "Fold 3:\n",
            "  Índices de treino: [ 0  1  2  5  8  9 10 11]\n",
            "  Índices de teste: [3 4 6 7]\n",
            "--------------------\n"
          ]
        }
      ]
    },
    {
      "cell_type": "code",
      "source": [
        "import numpy as np\n",
        "from sklearn.model_selection import StratifiedKFold\n",
        "\n",
        "# Criando um conjunto de dados simples\n",
        "X_simple = np.arange(12).reshape(-1, 1)\n",
        "y_simple = np.repeat([0, 1], 6)\n",
        "\n",
        "print(\"--- KFold com shuffle=False ---\")\n",
        "kf_no_shuffle = StratifiedKFold(n_splits=3, shuffle=False)\n",
        "for fold, (train_index, test_index) in enumerate(kf_no_shuffle.split(X_simple, y_simple)):\n",
        "    print(f\"Fold {fold+1}:\")\n",
        "    print(f\"  Índices de treino: {train_index}\")\n",
        "    print(f\"  Índices de teste: {test_index}\")\n",
        "    print(\"-\" * 20)\n",
        "\n",
        "print(\"\\n--- KFold com shuffle=True ---\")\n",
        "kf_shuffle = StratifiedKFold(n_splits=3, shuffle=True, random_state=42) # Adicionando random_state para reprodutibilidade\n",
        "for fold, (train_index, test_index) in enumerate(kf_shuffle.split(X_simple, y_simple)):\n",
        "    print(f\"Fold {fold+1}:\")\n",
        "    print(f\"  Índices de treino: {train_index}\")\n",
        "    print(f\"  Índices de teste: {test_index}\")\n",
        "    print(\"-\" * 20)"
      ],
      "metadata": {
        "colab": {
          "base_uri": "https://localhost:8080/"
        },
        "id": "TN8r5K9zt12f",
        "outputId": "65178cc9-7bf8-454d-9c7c-0d972a8b905f"
      },
      "execution_count": 8,
      "outputs": [
        {
          "output_type": "stream",
          "name": "stdout",
          "text": [
            "--- KFold com shuffle=False ---\n",
            "Fold 1:\n",
            "  Índices de treino: [ 2  3  4  5  8  9 10 11]\n",
            "  Índices de teste: [0 1 6 7]\n",
            "--------------------\n",
            "Fold 2:\n",
            "  Índices de treino: [ 0  1  4  5  6  7 10 11]\n",
            "  Índices de teste: [2 3 8 9]\n",
            "--------------------\n",
            "Fold 3:\n",
            "  Índices de treino: [0 1 2 3 6 7 8 9]\n",
            "  Índices de teste: [ 4  5 10 11]\n",
            "--------------------\n",
            "\n",
            "--- KFold com shuffle=True ---\n",
            "Fold 1:\n",
            "  Índices de treino: [ 2  3  4  5  6  9 10 11]\n",
            "  Índices de teste: [0 1 7 8]\n",
            "--------------------\n",
            "Fold 2:\n",
            "  Índices de treino: [ 0  1  2  4  7  8 10 11]\n",
            "  Índices de teste: [3 5 6 9]\n",
            "--------------------\n",
            "Fold 3:\n",
            "  Índices de treino: [0 1 3 5 6 7 8 9]\n",
            "  Índices de teste: [ 2  4 10 11]\n",
            "--------------------\n"
          ]
        }
      ]
    },
    {
      "cell_type": "markdown",
      "source": [
        "## Exercício 2.\n",
        "Acima foram empregadas partições fixas para cada modelo, mas com dados sem *fatias*  Empregue os estimadores KFold (ou alternativamente o StratifiedKFold), para fixar as partições aleatórias e obtenha o novo score dos modelos fazendo a seleção agora pela métrica `f1_macro`."
      ],
      "metadata": {
        "id": "V4H6So_9HI9V"
      }
    },
    {
      "cell_type": "code",
      "source": [
        "kf = KFold(n_splits=5, shuffle=True, random_state=1)\n",
        "\n",
        "for name, model in models.items():\n",
        "    scores = cross_val_score(model, X_train, y_train, cv=kf, scoring='f1_macro')\n",
        "    print(f\"{name}, score = {scores.mean():.4f}\")"
      ],
      "metadata": {
        "colab": {
          "base_uri": "https://localhost:8080/"
        },
        "id": "CxDNK77bGsU0",
        "outputId": "bc4f8179-4ab1-4c60-bd4c-4818fc2fcbda"
      },
      "execution_count": 9,
      "outputs": [
        {
          "output_type": "stream",
          "name": "stdout",
          "text": [
            "RandomForest, score = 0.9678\n",
            "DecisionTree, score = 0.9571\n",
            "LogisticRegression, score = 0.9769\n",
            "KNN, score = 0.7143\n"
          ]
        }
      ]
    },
    {
      "cell_type": "markdown",
      "source": [
        "## Exercício 3.\n",
        "Empregue o código anterior para selecionar *programaticamente* o melhor modelo, treinar, aplicar ao conjunto de teste e obter a acuracidade nesse conjunto."
      ],
      "metadata": {
        "id": "piJ15Ed8InZ5"
      }
    },
    {
      "cell_type": "code",
      "source": [
        "kf = KFold(n_splits=5, shuffle=True, random_state=1)\n",
        "\n",
        "models_scores = {}\n",
        "\n",
        "for name, model in models.items():\n",
        "    models_scores[model] = cross_val_score(model,  X_train, y_train, cv=kf, scoring='f1_macro').mean()\n",
        "\n",
        "models_scores"
      ],
      "metadata": {
        "colab": {
          "base_uri": "https://localhost:8080/"
        },
        "outputId": "a2ad5676-25e8-4526-8d3e-0d571875a193",
        "id": "y2Qc2nlNInZ6"
      },
      "execution_count": 10,
      "outputs": [
        {
          "output_type": "execute_result",
          "data": {
            "text/plain": [
              "{RandomForestClassifier(random_state=42): np.float64(0.9678167490132183),\n",
              " DecisionTreeClassifier(random_state=42): np.float64(0.9571106487387709),\n",
              " LogisticRegression(max_iter=10000): np.float64(0.9768825688059621),\n",
              " KNeighborsClassifier(): np.float64(0.7142803233154111)}"
            ]
          },
          "metadata": {},
          "execution_count": 10
        }
      ]
    },
    {
      "cell_type": "code",
      "source": [
        "best_model = max(models_scores, key=models_scores.get)\n",
        "print(best_model)\n"
      ],
      "metadata": {
        "colab": {
          "base_uri": "https://localhost:8080/"
        },
        "id": "Skg4pptGJN6g",
        "outputId": "a54d977c-dc1e-4b49-93c5-aaefa014db52"
      },
      "execution_count": 11,
      "outputs": [
        {
          "output_type": "stream",
          "name": "stdout",
          "text": [
            "LogisticRegression(max_iter=10000)\n"
          ]
        }
      ]
    },
    {
      "cell_type": "code",
      "source": [
        "model = best_model\n",
        "y_pred = model.fit(X_train,y_train).predict(X_test)\n",
        "\n",
        "accuracy = accuracy_score(y_test, y_pred)\n",
        "print(f\"Acurácia: {accuracy:.2f}\")"
      ],
      "metadata": {
        "colab": {
          "base_uri": "https://localhost:8080/"
        },
        "id": "kB5yn5oJJp6N",
        "outputId": "beea3e3c-3ece-41be-ffba-6e4269fd5dc7"
      },
      "execution_count": 12,
      "outputs": [
        {
          "output_type": "stream",
          "name": "stdout",
          "text": [
            "Acurácia: 0.99\n"
          ]
        }
      ]
    },
    {
      "cell_type": "code",
      "source": [
        "model.get_params()\n"
      ],
      "metadata": {
        "colab": {
          "base_uri": "https://localhost:8080/"
        },
        "id": "liqKZWf8WVsz",
        "outputId": "d7089cb9-e237-4712-fa8b-7cbe87ec210c"
      },
      "execution_count": 13,
      "outputs": [
        {
          "output_type": "execute_result",
          "data": {
            "text/plain": [
              "{'C': 1.0,\n",
              " 'class_weight': None,\n",
              " 'dual': False,\n",
              " 'fit_intercept': True,\n",
              " 'intercept_scaling': 1,\n",
              " 'l1_ratio': None,\n",
              " 'max_iter': 10000,\n",
              " 'multi_class': 'deprecated',\n",
              " 'n_jobs': None,\n",
              " 'penalty': 'l2',\n",
              " 'random_state': None,\n",
              " 'solver': 'lbfgs',\n",
              " 'tol': 0.0001,\n",
              " 'verbose': 0,\n",
              " 'warm_start': False}"
            ]
          },
          "metadata": {},
          "execution_count": 13
        }
      ]
    },
    {
      "cell_type": "markdown",
      "source": [
        "## Exercício 4.\n",
        "Empregando o `GridSearchCV`. O `GridSearchCV` permite automatizar todas essas operações.\n",
        "\n",
        "Empregue o exemplo de código abaixo para corrigir, como fizemos antes, o uso de partições diferentes na avaliação dos modelos (use o `KFold`)."
      ],
      "metadata": {
        "id": "m86iyZSOKktQ"
      }
    },
    {
      "cell_type": "markdown",
      "source": [
        "### `GridSearchCV`, seleção de hiperparâmetros (um único modelo base)"
      ],
      "metadata": {
        "id": "hcuIHPaIrJpP"
      }
    },
    {
      "cell_type": "code",
      "execution_count": 14,
      "metadata": {
        "colab": {
          "base_uri": "https://localhost:8080/"
        },
        "outputId": "afe2b03e-5cd3-4893-e11a-7a43bcf03e5a",
        "id": "6SJ9FQXNqUmQ"
      },
      "outputs": [
        {
          "output_type": "stream",
          "name": "stdout",
          "text": [
            "Melhor modelo: KNeighborsClassifier(n_neighbors=3)\n",
            "Acurácia no teste: 0.76\n"
          ]
        }
      ],
      "source": [
        "kf = KFold(n_splits=5, shuffle=True, random_state=1)\n",
        "\n",
        "baseline_model = KNeighborsClassifier()\n",
        "param_grid = {'n_neighbors': [3, 5, 7, 9]}\n",
        "\n",
        "# Usando o GridSearchCV para encontrar o melhor modelo\n",
        "grid_search = GridSearchCV(baseline_model, param_grid, cv=kf, scoring='accuracy')\n",
        "\n",
        "grid_search.fit(X_train, y_train)\n",
        "\n",
        "# Exibindo o melhor modelo encontrado\n",
        "print(f\"Melhor modelo: {grid_search.best_estimator_}\")\n",
        "\n",
        "# Avaliando o desempenho no conjunto de teste\n",
        "y_pred = grid_search.predict(X_test)\n",
        "accuracy = accuracy_score(y_test, y_pred)\n",
        "print(f\"Acurácia no teste: {accuracy:.2f}\")\n"
      ]
    },
    {
      "cell_type": "markdown",
      "source": [
        "### `pipeline + GridSearchCV`, seleção de modelo base"
      ],
      "metadata": {
        "id": "gTV_N0imralA"
      }
    },
    {
      "cell_type": "code",
      "execution_count": 16,
      "metadata": {
        "colab": {
          "base_uri": "https://localhost:8080/"
        },
        "id": "hLwah0rLQ6k0",
        "outputId": "309970fc-d864-470e-fbe4-ee2746237bbe"
      },
      "outputs": [
        {
          "output_type": "stream",
          "name": "stdout",
          "text": [
            "Melhor modelo: LogisticRegression(max_iter=10000)\n",
            "Acurácia no teste: 0.99\n"
          ]
        }
      ],
      "source": [
        "# Criando o pipeline com pré-processamento e modelo\n",
        "pipeline = Pipeline([('model', None)])\n",
        "# pipeline = Pipeline([('scaler', StandardScaler()), ('model', None)])\n",
        "\n",
        "# Definindo o dicionário de parâmetros para o GridSearchCV (somente diferentes modelos)\n",
        "param_grid = [\n",
        "    {'model': [RandomForestClassifier(random_state=42)]},\n",
        "    {'model': [models['DecisionTree']]},\n",
        "    {'model': [models['LogisticRegression']]},\n",
        "    {'model': [models['KNN']]}\n",
        "]\n",
        "\n",
        "# Usando o GridSearchCV para encontrar o melhor modelo\n",
        "grid_search = GridSearchCV(pipeline, param_grid, cv=5, scoring='accuracy')\n",
        "# grid_search = GridSearchCV(pipeline, param_grid, cv=5, scoring='f1_macro')\n",
        "\n",
        "grid_search.fit(X_train, y_train)\n",
        "\n",
        "# Exibindo o melhor modelo encontrado\n",
        "print(f\"Melhor modelo: {grid_search.best_estimator_['model']}\")\n",
        "\n",
        "# Avaliando o desempenho no conjunto de teste\n",
        "y_pred = grid_search.predict(X_test)\n",
        "accuracy = accuracy_score(y_test, y_pred)\n",
        "print(f\"Acurácia no teste: {accuracy:.2f}\")\n"
      ]
    },
    {
      "cell_type": "markdown",
      "source": [
        "### `pipeline + GridSearchCV`, seleção de modelos base e  hiperparâmetros  "
      ],
      "metadata": {
        "id": "U1-37aldrmMn"
      }
    },
    {
      "cell_type": "code",
      "execution_count": 17,
      "metadata": {
        "colab": {
          "base_uri": "https://localhost:8080/"
        },
        "outputId": "126258f9-8fec-495b-b8d1-098b7895240e",
        "id": "AiXhuLZ_LaSi"
      },
      "outputs": [
        {
          "output_type": "stream",
          "name": "stdout",
          "text": [
            "Melhor modelo: LogisticRegression(max_iter=10000)\n",
            "Acurácia no teste: 0.99\n"
          ]
        }
      ],
      "source": [
        "# Criando o pipeline com pré-processamento e modelo\n",
        "pipeline = Pipeline([('model', None)])\n",
        "# pipeline = Pipeline([('scaler', StandardScaler()), ('model', None)])\n",
        "\n",
        "# Definindo o dicionário de parâmetros para o GridSearchCV (somente diferentes modelos)\n",
        "param_grid = [\n",
        "    {'model': [RandomForestClassifier(random_state=42)]},\n",
        "    {'model': [models['DecisionTree']], 'model__max_depth': [5,6,7]},\n",
        "    {'model': [models['LogisticRegression']]},\n",
        "    {'model': [models['KNN']], 'model__n_neighbors': [3, 5, 7, 9]}\n",
        "]\n",
        "\n",
        "kf = KFold(n_splits=5, shuffle=True, random_state=1)\n",
        "\n",
        "# Usando o GridSearchCV para encontrar o melhor modelo\n",
        "grid_search = GridSearchCV(pipeline, param_grid, cv=kf, scoring='accuracy')\n",
        "# grid_search = GridSearchCV(pipeline, param_grid, cv=kf, scoring='f1_macro')\n",
        "\n",
        "grid_search.fit(X_train, y_train)\n",
        "\n",
        "# Exibindo o melhor modelo encontrado\n",
        "print(f\"Melhor modelo: {grid_search.best_estimator_['model']}\")\n",
        "\n",
        "# Avaliando o desempenho no conjunto de teste\n",
        "y_pred = grid_search.predict(X_test)\n",
        "accuracy = accuracy_score(y_test, y_pred)\n",
        "print(f\"Acurácia no teste: {accuracy:.2f}\")\n"
      ]
    },
    {
      "cell_type": "markdown",
      "source": [
        "# Exercício 5 (Extra)\n",
        "\n",
        "Adapte um dos códigos acima para fazer a seleção de um modelo incluindo um:\n",
        "\n",
        "1. Um modelo de rede neural (MLP).\n",
        "2. E um outro novo modelo de classificação de sua escolha.\n",
        "\n",
        "Faça de modo a tentar encontrar hiperparâmetros do MLP que forneçam uma acuracidade > .99.  "
      ],
      "metadata": {
        "id": "rEckQQBmtxq2"
      }
    },
    {
      "cell_type": "code",
      "source": [
        "from sklearn.neural_network import MLPClassifier\n",
        "from sklearn.svm import SVC"
      ],
      "metadata": {
        "id": "YcTUqx-ZvB1X"
      },
      "execution_count": 18,
      "outputs": []
    },
    {
      "cell_type": "code",
      "source": [
        "MLPClassifier().get_params()"
      ],
      "metadata": {
        "colab": {
          "base_uri": "https://localhost:8080/"
        },
        "id": "TIciMJ1IvQ42",
        "outputId": "d775d569-fea3-401d-efe8-1948d90ff2b8"
      },
      "execution_count": 20,
      "outputs": [
        {
          "output_type": "execute_result",
          "data": {
            "text/plain": [
              "{'activation': 'relu',\n",
              " 'alpha': 0.0001,\n",
              " 'batch_size': 'auto',\n",
              " 'beta_1': 0.9,\n",
              " 'beta_2': 0.999,\n",
              " 'early_stopping': False,\n",
              " 'epsilon': 1e-08,\n",
              " 'hidden_layer_sizes': (100,),\n",
              " 'learning_rate': 'constant',\n",
              " 'learning_rate_init': 0.001,\n",
              " 'max_fun': 15000,\n",
              " 'max_iter': 200,\n",
              " 'momentum': 0.9,\n",
              " 'n_iter_no_change': 10,\n",
              " 'nesterovs_momentum': True,\n",
              " 'power_t': 0.5,\n",
              " 'random_state': None,\n",
              " 'shuffle': True,\n",
              " 'solver': 'adam',\n",
              " 'tol': 0.0001,\n",
              " 'validation_fraction': 0.1,\n",
              " 'verbose': False,\n",
              " 'warm_start': False}"
            ]
          },
          "metadata": {},
          "execution_count": 20
        }
      ]
    },
    {
      "cell_type": "code",
      "source": [
        "SVC().get_params()"
      ],
      "metadata": {
        "colab": {
          "base_uri": "https://localhost:8080/"
        },
        "id": "K4Ifb37mvUJl",
        "outputId": "8e01403a-5cbc-4927-c4e3-7d14c3533aa2"
      },
      "execution_count": 21,
      "outputs": [
        {
          "output_type": "execute_result",
          "data": {
            "text/plain": [
              "{'C': 1.0,\n",
              " 'break_ties': False,\n",
              " 'cache_size': 200,\n",
              " 'class_weight': None,\n",
              " 'coef0': 0.0,\n",
              " 'decision_function_shape': 'ovr',\n",
              " 'degree': 3,\n",
              " 'gamma': 'scale',\n",
              " 'kernel': 'rbf',\n",
              " 'max_iter': -1,\n",
              " 'probability': False,\n",
              " 'random_state': None,\n",
              " 'shrinking': True,\n",
              " 'tol': 0.001,\n",
              " 'verbose': False}"
            ]
          },
          "metadata": {},
          "execution_count": 21
        }
      ]
    },
    {
      "cell_type": "code",
      "execution_count": 23,
      "metadata": {
        "colab": {
          "base_uri": "https://localhost:8080/"
        },
        "outputId": "96b21ac4-60dc-49c3-ed4d-c049719e52f2",
        "id": "sUIlzTu9u3pH"
      },
      "outputs": [
        {
          "output_type": "stream",
          "name": "stderr",
          "text": [
            "/usr/local/lib/python3.12/dist-packages/sklearn/linear_model/_logistic.py:465: ConvergenceWarning: lbfgs failed to converge (status=1):\n",
            "STOP: TOTAL NO. OF ITERATIONS REACHED LIMIT.\n",
            "\n",
            "Increase the number of iterations (max_iter) or scale the data as shown in:\n",
            "    https://scikit-learn.org/stable/modules/preprocessing.html\n",
            "Please also refer to the documentation for alternative solver options:\n",
            "    https://scikit-learn.org/stable/modules/linear_model.html#logistic-regression\n",
            "  n_iter_i = _check_optimize_result(\n",
            "/usr/local/lib/python3.12/dist-packages/sklearn/linear_model/_logistic.py:465: ConvergenceWarning: lbfgs failed to converge (status=1):\n",
            "STOP: TOTAL NO. OF ITERATIONS REACHED LIMIT.\n",
            "\n",
            "Increase the number of iterations (max_iter) or scale the data as shown in:\n",
            "    https://scikit-learn.org/stable/modules/preprocessing.html\n",
            "Please also refer to the documentation for alternative solver options:\n",
            "    https://scikit-learn.org/stable/modules/linear_model.html#logistic-regression\n",
            "  n_iter_i = _check_optimize_result(\n",
            "/usr/local/lib/python3.12/dist-packages/sklearn/linear_model/_logistic.py:465: ConvergenceWarning: lbfgs failed to converge (status=1):\n",
            "STOP: TOTAL NO. OF ITERATIONS REACHED LIMIT.\n",
            "\n",
            "Increase the number of iterations (max_iter) or scale the data as shown in:\n",
            "    https://scikit-learn.org/stable/modules/preprocessing.html\n",
            "Please also refer to the documentation for alternative solver options:\n",
            "    https://scikit-learn.org/stable/modules/linear_model.html#logistic-regression\n",
            "  n_iter_i = _check_optimize_result(\n",
            "/usr/local/lib/python3.12/dist-packages/sklearn/linear_model/_logistic.py:465: ConvergenceWarning: lbfgs failed to converge (status=1):\n",
            "STOP: TOTAL NO. OF ITERATIONS REACHED LIMIT.\n",
            "\n",
            "Increase the number of iterations (max_iter) or scale the data as shown in:\n",
            "    https://scikit-learn.org/stable/modules/preprocessing.html\n",
            "Please also refer to the documentation for alternative solver options:\n",
            "    https://scikit-learn.org/stable/modules/linear_model.html#logistic-regression\n",
            "  n_iter_i = _check_optimize_result(\n",
            "/usr/local/lib/python3.12/dist-packages/sklearn/linear_model/_logistic.py:465: ConvergenceWarning: lbfgs failed to converge (status=1):\n",
            "STOP: TOTAL NO. OF ITERATIONS REACHED LIMIT.\n",
            "\n",
            "Increase the number of iterations (max_iter) or scale the data as shown in:\n",
            "    https://scikit-learn.org/stable/modules/preprocessing.html\n",
            "Please also refer to the documentation for alternative solver options:\n",
            "    https://scikit-learn.org/stable/modules/linear_model.html#logistic-regression\n",
            "  n_iter_i = _check_optimize_result(\n"
          ]
        },
        {
          "output_type": "stream",
          "name": "stdout",
          "text": [
            "Melhor modelo: SVC(C=1, kernel='linear')\n",
            "Acurácia no teste: 1.00\n"
          ]
        }
      ],
      "source": [
        "# pipeline = Pipeline([('scaler', StandardScaler()), ('model', None)]) # melhor para redes neurais\n",
        "pipeline = Pipeline([('model', None)])\n",
        "\n",
        "# Definindo o dicionário de parâmetros para o GridSearchCV (somente diferentes modelos)\n",
        "param_grid = [\n",
        "     {'model': [RandomForestClassifier(random_state=42)]},\n",
        "     {'model': [DecisionTreeClassifier(random_state=42)], 'model__max_depth': [5,6,7]},\n",
        "     {'model': [LogisticRegression(max_iter=1000)]},\n",
        "     {'model': [KNeighborsClassifier()], 'model__n_neighbors': [3, 5, 7, 9]},\n",
        "     {'model': [MLPClassifier(max_iter=10000,random_state=42)],\n",
        "               'model__hidden_layer_sizes': [(8,16,8),(10,),(32, 128, 32)],\n",
        "               'model__activation': ['tanh','logistic'],\n",
        "                 },\n",
        "     {'model': [SVC()], 'model__C': [0.1, 1], 'model__kernel': ['linear', 'rbf']}\n",
        "]\n",
        "\n",
        "kf = KFold(n_splits=5, shuffle=True, random_state=1)\n",
        "\n",
        "# Usando o GridSearchCV para encontrar o melhor modelo\n",
        "grid_search = GridSearchCV(pipeline, param_grid, cv=kf, scoring='accuracy')\n",
        "# grid_search = GridSearchCV(pipeline, param_grid, cv=kf, scoring='f1_macro')\n",
        "\n",
        "grid_search.fit(X_train, y_train)\n",
        "\n",
        "# Exibindo o melhor modelo encontrado\n",
        "print(f\"Melhor modelo: {grid_search.best_estimator_['model']}\")\n",
        "\n",
        "# Avaliando o desempenho no conjunto de teste\n",
        "y_pred = grid_search.predict(X_test)\n",
        "accuracy = accuracy_score(y_test, y_pred)\n",
        "print(f\"Acurácia no teste: {accuracy:.2f}\")"
      ]
    },
    {
      "cell_type": "code",
      "source": [
        "grid_search.cv_results_"
      ],
      "metadata": {
        "colab": {
          "base_uri": "https://localhost:8080/"
        },
        "id": "bUEcwbN-Klps",
        "outputId": "91615add-45e2-4efe-a004-33318fa6e1e8"
      },
      "execution_count": 24,
      "outputs": [
        {
          "output_type": "execute_result",
          "data": {
            "text/plain": [
              "{'mean_fit_time': array([0.16182437, 0.00311627, 0.00298452, 0.00335274, 0.2507442 ,\n",
              "        0.00385423, 0.00369849, 0.00285182, 0.00239892, 0.05064211,\n",
              "        0.13665161, 0.68514433, 0.1225739 , 0.03852873, 0.1273634 ,\n",
              "        0.11641841, 0.00472894, 0.16746988, 0.00385542]),\n",
              " 'std_fit_time': array([6.61290478e-03, 8.41496137e-05, 3.52862719e-05, 4.04124389e-04,\n",
              "        1.19789944e-02, 1.02982196e-03, 3.10062701e-04, 3.93803195e-04,\n",
              "        9.31723701e-05, 1.18970333e-02, 3.44698108e-02, 5.01790025e-01,\n",
              "        1.35339720e-02, 1.04241788e-02, 3.47665337e-02, 1.16148433e-01,\n",
              "        4.31375805e-04, 1.32665798e-01, 8.97819159e-05]),\n",
              " 'mean_score_time': array([0.00952802, 0.00214462, 0.00205121, 0.00239348, 0.0035358 ,\n",
              "        0.00494227, 0.00533829, 0.003969  , 0.00353994, 0.00300002,\n",
              "        0.00340424, 0.00468969, 0.00278301, 0.00350285, 0.00380716,\n",
              "        0.00267859, 0.0031724 , 0.00270758, 0.00255256]),\n",
              " 'std_score_time': array([5.67430640e-04, 5.81231832e-05, 7.37573221e-06, 2.57164385e-04,\n",
              "        2.59087854e-04, 2.23879621e-04, 4.57004016e-04, 5.13836266e-04,\n",
              "        1.34490363e-04, 2.86965538e-04, 5.75060920e-04, 3.19931367e-04,\n",
              "        2.34599036e-05, 9.39297855e-04, 3.90306870e-05, 1.10820936e-04,\n",
              "        3.92538506e-04, 7.66686240e-05, 4.05203300e-05]),\n",
              " 'param_model': masked_array(data=[RandomForestClassifier(random_state=42),\n",
              "                    DecisionTreeClassifier(random_state=42),\n",
              "                    DecisionTreeClassifier(random_state=42),\n",
              "                    DecisionTreeClassifier(random_state=42),\n",
              "                    LogisticRegression(max_iter=1000),\n",
              "                    KNeighborsClassifier(), KNeighborsClassifier(),\n",
              "                    KNeighborsClassifier(), KNeighborsClassifier(),\n",
              "                    MLPClassifier(max_iter=10000, random_state=42),\n",
              "                    MLPClassifier(max_iter=10000, random_state=42),\n",
              "                    MLPClassifier(max_iter=10000, random_state=42),\n",
              "                    MLPClassifier(max_iter=10000, random_state=42),\n",
              "                    MLPClassifier(max_iter=10000, random_state=42),\n",
              "                    MLPClassifier(max_iter=10000, random_state=42), SVC(),\n",
              "                    SVC(), SVC(), SVC()],\n",
              "              mask=[False, False, False, False, False, False, False, False,\n",
              "                    False, False, False, False, False, False, False, False,\n",
              "                    False, False, False],\n",
              "        fill_value=np.str_('?'),\n",
              "             dtype=object),\n",
              " 'param_model__max_depth': masked_array(data=[--, 5, 6, 7, --, --, --, --, --, --, --, --, --, --,\n",
              "                    --, --, --, --, --],\n",
              "              mask=[ True, False, False, False,  True,  True,  True,  True,\n",
              "                     True,  True,  True,  True,  True,  True,  True,  True,\n",
              "                     True,  True,  True],\n",
              "        fill_value=999999),\n",
              " 'param_model__n_neighbors': masked_array(data=[--, --, --, --, --, 3, 5, 7, 9, --, --, --, --, --, --,\n",
              "                    --, --, --, --],\n",
              "              mask=[ True,  True,  True,  True,  True, False, False, False,\n",
              "                    False,  True,  True,  True,  True,  True,  True,  True,\n",
              "                     True,  True,  True],\n",
              "        fill_value=999999),\n",
              " 'param_model__activation': masked_array(data=[--, --, --, --, --, --, --, --, --, 'tanh', 'tanh',\n",
              "                    'tanh', 'logistic', 'logistic', 'logistic', --, --, --,\n",
              "                    --],\n",
              "              mask=[ True,  True,  True,  True,  True,  True,  True,  True,\n",
              "                     True, False, False, False, False, False, False,  True,\n",
              "                     True,  True,  True],\n",
              "        fill_value=np.str_('?'),\n",
              "             dtype=object),\n",
              " 'param_model__hidden_layer_sizes': masked_array(data=[--, --, --, --, --, --, --, --, --, (8, 16, 8), (10,),\n",
              "                    (32, 128, 32), (8, 16, 8), (10,), (32, 128, 32), --,\n",
              "                    --, --, --],\n",
              "              mask=[ True,  True,  True,  True,  True,  True,  True,  True,\n",
              "                     True, False, False, False, False, False, False,  True,\n",
              "                     True,  True,  True],\n",
              "        fill_value=np.str_('?'),\n",
              "             dtype=object),\n",
              " 'param_model__C': masked_array(data=[--, --, --, --, --, --, --, --, --, --, --, --, --, --,\n",
              "                    --, 0.1, 0.1, 1.0, 1.0],\n",
              "              mask=[ True,  True,  True,  True,  True,  True,  True,  True,\n",
              "                     True,  True,  True,  True,  True,  True,  True, False,\n",
              "                    False, False, False],\n",
              "        fill_value=1e+20),\n",
              " 'param_model__kernel': masked_array(data=[--, --, --, --, --, --, --, --, --, --, --, --, --, --,\n",
              "                    --, 'linear', 'rbf', 'linear', 'rbf'],\n",
              "              mask=[ True,  True,  True,  True,  True,  True,  True,  True,\n",
              "                     True,  True,  True,  True,  True,  True,  True, False,\n",
              "                    False, False, False],\n",
              "        fill_value=np.str_('?'),\n",
              "             dtype=object),\n",
              " 'params': [{'model': RandomForestClassifier(random_state=42)},\n",
              "  {'model': DecisionTreeClassifier(random_state=42), 'model__max_depth': 5},\n",
              "  {'model': DecisionTreeClassifier(random_state=42), 'model__max_depth': 6},\n",
              "  {'model': DecisionTreeClassifier(random_state=42), 'model__max_depth': 7},\n",
              "  {'model': LogisticRegression(max_iter=1000)},\n",
              "  {'model': KNeighborsClassifier(), 'model__n_neighbors': 3},\n",
              "  {'model': KNeighborsClassifier(), 'model__n_neighbors': 5},\n",
              "  {'model': KNeighborsClassifier(), 'model__n_neighbors': 7},\n",
              "  {'model': KNeighborsClassifier(), 'model__n_neighbors': 9},\n",
              "  {'model': MLPClassifier(max_iter=10000, random_state=42),\n",
              "   'model__activation': 'tanh',\n",
              "   'model__hidden_layer_sizes': (8, 16, 8)},\n",
              "  {'model': MLPClassifier(max_iter=10000, random_state=42),\n",
              "   'model__activation': 'tanh',\n",
              "   'model__hidden_layer_sizes': (10,)},\n",
              "  {'model': MLPClassifier(max_iter=10000, random_state=42),\n",
              "   'model__activation': 'tanh',\n",
              "   'model__hidden_layer_sizes': (32, 128, 32)},\n",
              "  {'model': MLPClassifier(max_iter=10000, random_state=42),\n",
              "   'model__activation': 'logistic',\n",
              "   'model__hidden_layer_sizes': (8, 16, 8)},\n",
              "  {'model': MLPClassifier(max_iter=10000, random_state=42),\n",
              "   'model__activation': 'logistic',\n",
              "   'model__hidden_layer_sizes': (10,)},\n",
              "  {'model': MLPClassifier(max_iter=10000, random_state=42),\n",
              "   'model__activation': 'logistic',\n",
              "   'model__hidden_layer_sizes': (32, 128, 32)},\n",
              "  {'model': SVC(), 'model__C': 0.1, 'model__kernel': 'linear'},\n",
              "  {'model': SVC(), 'model__C': 0.1, 'model__kernel': 'rbf'},\n",
              "  {'model': SVC(), 'model__C': 1, 'model__kernel': 'linear'},\n",
              "  {'model': SVC(), 'model__C': 1, 'model__kernel': 'rbf'}],\n",
              " 'split0_test_score': array([0.96296296, 0.98148148, 0.98148148, 0.98148148, 0.98148148,\n",
              "        0.7962963 , 0.81481481, 0.7962963 , 0.75925926, 0.35185185,\n",
              "        0.35185185, 0.62962963, 0.35185185, 0.35185185, 0.35185185,\n",
              "        0.96296296, 0.72222222, 0.98148148, 0.72222222]),\n",
              " 'split1_test_score': array([0.96226415, 0.94339623, 0.94339623, 0.94339623, 0.98113208,\n",
              "        0.69811321, 0.67924528, 0.71698113, 0.69811321, 0.41509434,\n",
              "        0.41509434, 0.69811321, 0.41509434, 0.41509434, 0.41509434,\n",
              "        0.96226415, 0.71698113, 0.98113208, 0.69811321]),\n",
              " 'split2_test_score': array([0.98113208, 0.94339623, 0.94339623, 0.94339623, 0.98113208,\n",
              "        0.8490566 , 0.77358491, 0.81132075, 0.79245283, 0.45283019,\n",
              "        0.45283019, 0.73584906, 0.45283019, 0.45283019, 0.45283019,\n",
              "        0.96226415, 0.77358491, 1.        , 0.75471698]),\n",
              " 'split3_test_score': array([0.98113208, 1.        , 1.        , 1.        , 1.        ,\n",
              "        0.83018868, 0.77358491, 0.77358491, 0.81132075, 0.47169811,\n",
              "        0.47169811, 0.67924528, 0.47169811, 0.47169811, 0.47169811,\n",
              "        1.        , 0.69811321, 1.        , 0.77358491]),\n",
              " 'split4_test_score': array([0.98113208, 0.94339623, 0.94339623, 0.94339623, 0.96226415,\n",
              "        0.73584906, 0.81132075, 0.75471698, 0.75471698, 0.50943396,\n",
              "        0.50943396, 0.66037736, 0.50943396, 0.50943396, 0.50943396,\n",
              "        0.98113208, 0.73584906, 0.98113208, 0.73584906]),\n",
              " 'mean_test_score': array([0.97372467, 0.96233403, 0.96233403, 0.96233403, 0.98120196,\n",
              "        0.78190077, 0.77051013, 0.77058001, 0.76317261, 0.44018169,\n",
              "        0.44018169, 0.68064291, 0.44018169, 0.44018169, 0.44018169,\n",
              "        0.97372467, 0.7293501 , 0.98874913, 0.73689727]),\n",
              " 'std_test_score': array([0.00907488, 0.02392184, 0.02392184, 0.02392184, 0.01193394,\n",
              "        0.05690338, 0.04894199, 0.0330292 , 0.03871721, 0.05362962,\n",
              "        0.05362962, 0.03568734, 0.05362962, 0.05362962, 0.05362962,\n",
              "        0.01499176, 0.02521308, 0.00918719, 0.02601609]),\n",
              " 'rank_test_score': array([ 3,  5,  5,  5,  2,  8, 10,  9, 11, 15, 15, 14, 15, 15, 15,  3, 13,\n",
              "         1, 12], dtype=int32)}"
            ]
          },
          "metadata": {},
          "execution_count": 24
        }
      ]
    },
    {
      "cell_type": "code",
      "source": [
        "grid_search_results = grid_search.cv_results_\n",
        "\n",
        "# Get the mean test score for each parameter combination\n",
        "mean_test_scores = grid_search_results['mean_test_score']\n",
        "params = grid_search_results['params']\n",
        "\n",
        "# Print the mean test score for each model\n",
        "for mean_score, param in zip(mean_test_scores, params):\n",
        "    model_name = param # ['model'].__class__.__name__\n",
        "    print(f\"Model: {model_name}, Mean Test Accuracy: {mean_score:.4f}\")"
      ],
      "metadata": {
        "colab": {
          "base_uri": "https://localhost:8080/"
        },
        "id": "kM-Co-j3x0GS",
        "outputId": "aa80f0d0-70ac-4b2c-a7d0-3f5a01a21585"
      },
      "execution_count": 25,
      "outputs": [
        {
          "output_type": "stream",
          "name": "stdout",
          "text": [
            "Model: {'model': RandomForestClassifier(random_state=42)}, Mean Test Accuracy: 0.9737\n",
            "Model: {'model': DecisionTreeClassifier(random_state=42), 'model__max_depth': 5}, Mean Test Accuracy: 0.9623\n",
            "Model: {'model': DecisionTreeClassifier(random_state=42), 'model__max_depth': 6}, Mean Test Accuracy: 0.9623\n",
            "Model: {'model': DecisionTreeClassifier(random_state=42), 'model__max_depth': 7}, Mean Test Accuracy: 0.9623\n",
            "Model: {'model': LogisticRegression(max_iter=1000)}, Mean Test Accuracy: 0.9812\n",
            "Model: {'model': KNeighborsClassifier(), 'model__n_neighbors': 3}, Mean Test Accuracy: 0.7819\n",
            "Model: {'model': KNeighborsClassifier(), 'model__n_neighbors': 5}, Mean Test Accuracy: 0.7705\n",
            "Model: {'model': KNeighborsClassifier(), 'model__n_neighbors': 7}, Mean Test Accuracy: 0.7706\n",
            "Model: {'model': KNeighborsClassifier(), 'model__n_neighbors': 9}, Mean Test Accuracy: 0.7632\n",
            "Model: {'model': MLPClassifier(max_iter=10000, random_state=42), 'model__activation': 'tanh', 'model__hidden_layer_sizes': (8, 16, 8)}, Mean Test Accuracy: 0.4402\n",
            "Model: {'model': MLPClassifier(max_iter=10000, random_state=42), 'model__activation': 'tanh', 'model__hidden_layer_sizes': (10,)}, Mean Test Accuracy: 0.4402\n",
            "Model: {'model': MLPClassifier(max_iter=10000, random_state=42), 'model__activation': 'tanh', 'model__hidden_layer_sizes': (32, 128, 32)}, Mean Test Accuracy: 0.6806\n",
            "Model: {'model': MLPClassifier(max_iter=10000, random_state=42), 'model__activation': 'logistic', 'model__hidden_layer_sizes': (8, 16, 8)}, Mean Test Accuracy: 0.4402\n",
            "Model: {'model': MLPClassifier(max_iter=10000, random_state=42), 'model__activation': 'logistic', 'model__hidden_layer_sizes': (10,)}, Mean Test Accuracy: 0.4402\n",
            "Model: {'model': MLPClassifier(max_iter=10000, random_state=42), 'model__activation': 'logistic', 'model__hidden_layer_sizes': (32, 128, 32)}, Mean Test Accuracy: 0.4402\n",
            "Model: {'model': SVC(), 'model__C': 0.1, 'model__kernel': 'linear'}, Mean Test Accuracy: 0.9737\n",
            "Model: {'model': SVC(), 'model__C': 0.1, 'model__kernel': 'rbf'}, Mean Test Accuracy: 0.7294\n",
            "Model: {'model': SVC(), 'model__C': 1, 'model__kernel': 'linear'}, Mean Test Accuracy: 0.9887\n",
            "Model: {'model': SVC(), 'model__C': 1, 'model__kernel': 'rbf'}, Mean Test Accuracy: 0.7369\n"
          ]
        }
      ]
    }
  ]
}