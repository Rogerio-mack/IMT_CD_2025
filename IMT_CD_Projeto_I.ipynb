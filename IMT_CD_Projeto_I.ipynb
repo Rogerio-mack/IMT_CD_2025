{
  "nbformat": 4,
  "nbformat_minor": 0,
  "metadata": {
    "kernelspec": {
      "display_name": "Python 3",
      "language": "python",
      "name": "python3"
    },
    "language_info": {
      "codemirror_mode": {
        "name": "ipython",
        "version": 3
      },
      "file_extension": ".py",
      "mimetype": "text/x-python",
      "name": "python",
      "nbconvert_exporter": "python",
      "pygments_lexer": "ipython3",
      "version": "3.7.4"
    },
    "colab": {
      "provenance": [],
      "include_colab_link": true
    }
  },
  "cells": [
    {
      "cell_type": "markdown",
      "metadata": {
        "id": "view-in-github",
        "colab_type": "text"
      },
      "source": [
        "<a href=\"https://colab.research.google.com/github/Rogerio-mack/IMT_CD_2025/blob/main/IMT_CD_Projeto_I.ipynb\" target=\"_parent\"><img src=\"https://colab.research.google.com/assets/colab-badge.svg\" alt=\"Open In Colab\"/></a>"
      ]
    },
    {
      "cell_type": "markdown",
      "metadata": {
        "id": "80CF3Eq9EXDW"
      },
      "source": [
        "<head>\n",
        "  <meta name=\"author\" content=\"Rogério de Oliveira\">\n",
        "  <meta institution=\"author\" content=\"ITM\">\n",
        "</head>\n",
        "\n",
        "<img src=\"https://maua.br/images/selo-60-anos-maua.svg\" width=300, align=\"right\">\n",
        "<!-- <h1 align=left><font size = 6, style=\"color:rgb(200,0,0)\"> optional title </font></h1> -->\n"
      ]
    },
    {
      "cell_type": "markdown",
      "source": [
        "# Projeto I - **EDA (Exploratory Data Analysis)**\n",
        "---\n",
        "\n",
        "<br>\n",
        "\n",
        "O objetivo do projeto é a construção completa de um **EDA (Exploratory Data Analysis)** sobre um conjunto de dados original fornecendo ***insights* relevantes sobre tema dos dados selecionados**.\n",
        "\n",
        "É esperado que os alunos empreguem no projeto boa parte dos recursos aprendidos envolvendo a **preparação e seleção de dados, visualizações e técnicas estatísticas de análise** (Testes de Hipótese, medidas de Correlação, modelos de Séries Temporais).\n",
        "\n",
        "## Definições\n",
        "\n",
        "1. **Dados de Fontes Primárias**. Devem ser empregados fontes primárias de dados, isto é dados próprios e originais de empresas, negócios, pesquisa e/ou organizações, governos, e/ou APIs. Não devem, portanto, serem empregadas bases de fontes secundárias e pré-tratados (como Kaggle, UCI etc.). Sugestões de bases públicas que são fontes primárias [aqui](https://github.com/Rogerio-mack/IMT_CD_2025/blob/main/Bases_Dados_Publicas.ipynb). **Ao menos duas fontes devem ser empregadas, buscando correlacionar dados de diferentes contextos** (por exemplo, crescimento e sustentabilidade, educação e saúde, produtos e usuários etc.).\n",
        "\n",
        "2. **Técnicas e Ferramentas**. Técnicas programáticas, incluindo, mas não limitada às de conteúdo do curso. As ferramentas devem, entretanto, estar dentro do escopo de ferramentas programáticas, de acesso livre e via Colab.\n",
        "\n",
        "3. Em princípio os projetos podem contemplar uma análise geral de dados, mas podem, alternativamente, apresentarem uma **aplicação para análise de dados individuais** como no caso de análise de dados de um usuário particular de streaming ou de um país em particular dentro de um grande conjunto de dados. **Não devem ser incluídas nesta etapa técnicas de Aprendizagem de Máquina**, que serão vistas mais adiante.\n"
      ],
      "metadata": {
        "id": "4E7cGBuZaOmL"
      }
    },
    {
      "cell_type": "markdown",
      "source": [
        "# Entrega\n",
        "\n",
        "**`GitHub`** do projeto (preferencialmente como organização) constando minimamente:\n",
        "\n",
        "1. **`readme`** do projeto\n",
        "\n",
        "2. **Notebook `python` do projeto**, **100% executável** com a aquisição, preparação e todas as análises desenvolvidas. O notebook devem ser contruído na forma de um Relatório tendo, além dos códigos,\n",
        "uma  **descrição dos procedimentos, resultados e conclusões** empregando este [Template](https://colab.research.google.com/github/Rogerio-mack/IMT_CD_2025/blob/main/IMT_Projeto_Template_S1.ipynb). Há um mínimo de técnicas aplicadas que deve ser atendido (ver a  seguir nos Critérios de Avaliação).\n",
        "\n",
        "3. **Datafólio** de resultados. Veja exemplos de Datafólios em: [correlation-one](https://www.correlation-one.com/blog/last-mile-of-the-data-science-workflow)\n",
        "\n",
        "4. Dados originais empregados (ou links de acesso) e dados intermediários produzidos. Os notebooks devem acessar os dados e executarem sem a necessidade de procedimentos externos (como download ou upload de dados pelo usuário)\n",
        "\n",
        "5. **Referências**\n",
        "\n",
        "6. Link para o vídeos (se houverem) da apresentação técnica e do datafólio."
      ],
      "metadata": {
        "id": "leEpWNTpht5z"
      }
    },
    {
      "cell_type": "markdown",
      "source": [
        "# Critérios de Avaliação\n",
        "\n",
        "Avaliação pelo professor e os **pares**.\n",
        "\n",
        "1. **Completo**\n",
        "\n",
        "> São cumpridos todos os requisitos do projeto? A quantidade de análises realizadas é satisfatória? Emprega e correlaciona diferentes bases de dados? Emprega as técnicas mínimas (ver item 3)?\n",
        "\n",
        "2. **Relevância**\n",
        "\n",
        "> As análises apresentadas são relevantes à temática dos dados? São originais, mostrando esforço em compreender a temática dos dados além das técnicas de análise? Há referências quando do emprego de conceitos relacionados aos dados.\n",
        "\n",
        "3. **Técnicas Empregadas**\n",
        "\n",
        "> Todas as técnicas são empregadas corretamente? Há identificação de um esforço do emprego de melhores práticas? Há referências quanto ao uso de novas técnicas? **É esperado o uso de ao menos 2 técnicas de testes de hipóteses ou modelos de séries temporais.**\n",
        "\n",
        "4. **Apresentação Técnica e de Resultados**\n",
        "\n",
        "> A apresentação das técnicas e dos resultados é clara, objetiva e bem cuidada?  \n",
        ">* Notebook\n",
        ">* Datafólio\n",
        ">* Vídeo\n",
        "\n",
        "5. **Conclusão**\n",
        "\n",
        "> As conclusões são justificadas e relevantes?\n",
        "\n",
        "**Bônus** (até 0.5), A critério do professor por inovações na abordagem e no uso de técnicas de Análise de Dados.\n",
        "\n"
      ],
      "metadata": {
        "id": "PCrZL_VCgScr"
      }
    }
  ]
}