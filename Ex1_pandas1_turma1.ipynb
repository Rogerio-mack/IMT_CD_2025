{
  "nbformat": 4,
  "nbformat_minor": 0,
  "metadata": {
    "colab": {
      "provenance": [],
      "authorship_tag": "ABX9TyPlAPl5piFBBXpMxvFFldSk",
      "include_colab_link": true
    },
    "kernelspec": {
      "name": "python3",
      "display_name": "Python 3"
    },
    "language_info": {
      "name": "python"
    }
  },
  "cells": [
    {
      "cell_type": "markdown",
      "metadata": {
        "id": "view-in-github",
        "colab_type": "text"
      },
      "source": [
        "<a href=\"https://colab.research.google.com/github/Rogerio-mack/IMT_CD_2025/blob/main/Ex1_pandas1_turma1.ipynb\" target=\"_parent\"><img src=\"https://colab.research.google.com/assets/colab-badge.svg\" alt=\"Open In Colab\"/></a>"
      ]
    },
    {
      "cell_type": "markdown",
      "metadata": {
        "id": "RJiGvGqyPEzF"
      },
      "source": [
        "<head>\n",
        "  <meta name=\"author\" content=\"Rogério de Oliveira\">\n",
        "  <meta institution=\"author\" content=\"ITM\">\n",
        "</head>\n",
        "\n",
        "<img src=\"https://maua.br/images/selo-60-anos-maua.svg\" width=300, align=\"right\">\n",
        "<!-- <h1 align=left><font size = 6, style=\"color:rgb(200,0,0)\"> optional title </font></h1> -->\n"
      ]
    },
    {
      "cell_type": "code",
      "metadata": {
        "id": "rYx9D4GZA5o9",
        "cellView": "form"
      },
      "source": [
        "#@markdown Nome completo e RA (*\\<nome\\>, \\<RA\\>*)\n",
        "Aluno = 'Daniel Henrique, 1115665' #@param {type:\"string\"}\n",
        "\n",
        "\n",
        "\n",
        "\n"
      ],
      "execution_count": null,
      "outputs": []
    },
    {
      "cell_type": "markdown",
      "source": [
        "# **CASE: NFL, National Football League**\n",
        "\n",
        "Este conjunto de dados apresenta estatísticas de ofensivas da NFL para jogos realizados de 2019 a 2022. São dados como jardas de passe, jardas de corrida, jardas de recepção, etc. dos jogos, estádios etc. Antes de iniciar procure entender como os dados estão organizados os dados.\n",
        "\n",
        "[Data](https://github.com/Rogerio-mack/IMT_CD_2025/raw/refs/heads/main/data/nfl_offensive_stats.csv)\n",
        "\n",
        "<br>\n",
        "\n",
        "Você poderá achar útil empregar o comando [drop_duplicates()](https://pandas.pydata.org/docs/reference/api/pandas.DataFrame.drop_duplicates.html),\n",
        "\n",
        "```\n",
        "df_nodup = df.drop_duplicates()\n",
        "```\n",
        "\n",
        "Para excluir dados em uma seleção de dados duplicados. Você pode querer utilizar isso para selecionar somente dados de jogos ou dos estádios. Dados sobre vencedores das partidas podem ser obtidos pela pontuação (`scores`) nos jogos."
      ],
      "metadata": {
        "id": "Sm2hZKI_riTr"
      }
    },
    {
      "cell_type": "markdown",
      "source": [
        "# Q1.\n",
        "\n",
        "(NFL) Qual a média de passes completos (`pass_cmp`) do jogador 'Aaron Rodgers' nos jogos que se encontram na base?"
      ],
      "metadata": {
        "id": "5GS7bF9uB75o"
      }
    },
    {
      "cell_type": "markdown",
      "source": [
        "# Q2.\n",
        "\n",
        "(NFL) Por quantos times diferentes jogaram 'Phillip Dorsett' e 'Marcus Johnson' no período de jogos que se encontram na base?"
      ],
      "metadata": {
        "id": "R-oMllTjFUwO"
      }
    },
    {
      "cell_type": "markdown",
      "source": [
        "# Q3.\n",
        "\n",
        "(NFL) Quantos jogos estão representados na base?"
      ],
      "metadata": {
        "id": "EdbVGG9Gu5vO"
      }
    },
    {
      "cell_type": "markdown",
      "source": [
        "# Q4.\n",
        "\n",
        "(NFL) O \"Bufalo Bulls\" (`BUF`) participou de quantos jogos dentre os jogos na base?  "
      ],
      "metadata": {
        "id": "nIFZpR5Ovb-r"
      }
    },
    {
      "cell_type": "markdown",
      "source": [
        "# Q5.\n",
        "(NFL) Qual time fez mais jogos em casa considerando os jogos da base?"
      ],
      "metadata": {
        "id": "8NK-UiT2Uj3s"
      }
    },
    {
      "cell_type": "markdown",
      "source": [
        "# Q6.\n",
        "Qual foi o percentual de partidas ganhas pelo \"Bufalo Bulls\" considerados todos os jogos da base em que participou?"
      ],
      "metadata": {
        "id": "e1kB4C0IVErG"
      }
    },
    {
      "cell_type": "markdown",
      "source": [
        "# Q7.\n",
        "(NFL) Que tipo de Superfície nos estádios não são encontradas nos estádios com teto (`Roof`) do tipo `outdoors`?"
      ],
      "metadata": {
        "id": "pW_zxe5jZJMx"
      }
    },
    {
      "cell_type": "markdown",
      "source": [
        "# Q8.\n",
        "(NFL) Você pode afirmar, com base nos jogos da base, que os resultados dos jogos (vitórias) favorecem o time \"da casa\"?"
      ],
      "metadata": {
        "id": "3S3xqXlh1ySH"
      }
    },
    {
      "cell_type": "markdown",
      "metadata": {
        "id": "te1NO4UoLvgn"
      },
      "source": [
        "# **CASE: Ações B3 NYC**\n",
        "\n",
        "A base de dados a seguir traz valores de fechamento, % de valorização diária (%) e volume negociado (V) de vários ativos de 2019 a 2025.\n",
        "\n",
        "  - `BVSP`, Índice Bovespa\n",
        "  - `PETR4.SA`,\n",
        "  - `VALE3.SA`,\n",
        "  - `BRL=X`, Cotação do Dólar\n",
        "  - `ITUB3.SA`,\n",
        "  - `BTC-USD`, BitCoin US\n",
        "\n",
        "Valores monetários são em moeda corrente. Valores ausentes indicam ausência de pregão/cotação, mas não há necessidade de qualquer tratamento aqui. Após entender os dados, crie os scripts necessários para responder as seguintes perguntas.\n",
        "\n",
        "[Data](https://github.com/Rogerio-mack/IMT_CD_2025/raw/refs/heads/main/data/stocks_2019_2025.csv)\n",
        "\n",
        "\n",
        "\n"
      ]
    },
    {
      "cell_type": "markdown",
      "source": [
        "# Q9.\n",
        "Considerando todo o período, qual a valorização dos ativos de maior e menor ganho?"
      ],
      "metadata": {
        "id": "WamxbfUi8vt0"
      }
    },
    {
      "cell_type": "markdown",
      "source": [
        "# Q10.\n",
        "Uma métrica comum na avaliação de ativos é verificarmos, em um período, a quantidade de dias em que o ativo teve valorização com relação ao dia anterior (**up and down**). Considerando todo o período, qual o percentual de `ups` dos ativos com mais e menos `ups`."
      ],
      "metadata": {
        "id": "O39kmicp-Gv2"
      }
    },
    {
      "cell_type": "markdown",
      "source": [
        "# Q11.\n",
        "Idem a questão anterior, mas considerando apenas o ano de 2025.\n",
        "\n",
        "Dica: `df[(df['Date'] >= '2025-01-01')]`\n"
      ],
      "metadata": {
        "id": "oH_NuY1T_0Sq"
      }
    },
    {
      "cell_type": "markdown",
      "source": [
        "# Q12.\n",
        "A *MAIOR PARTE* dos ativos da base teve sua maior valorização em um único dia no mesmo ano e mês. Qual foi esse ano-mês especial?"
      ],
      "metadata": {
        "id": "apGV7fvNARuz"
      }
    },
    {
      "cell_type": "markdown",
      "source": [
        "# Q13.\n",
        "Qual a média de variação do dólar no período, excluídos os *outliers* (atenção: não é necessário fazer qualquer tratamento para os valores ausentes)."
      ],
      "metadata": {
        "id": "tSgJxMCdBh9R"
      }
    },
    {
      "cell_type": "markdown",
      "metadata": {
        "id": "p_S-LQvThldn"
      },
      "source": [
        "# **CASE: European Energy**\n",
        "\n",
        "Os dados abaixo são da matroz energética da UE. Após entender os dados, crie os scripts necessários para responder as seguintes perguntas.\n",
        "\n",
        "[Data]('https://github.com/Rogerio-mack/IMT_CD_2025/raw/refs/heads/main/data/energy.csv')"
      ]
    },
    {
      "cell_type": "markdown",
      "source": [
        "# Q14.\n",
        "\n",
        "(European Energy) Quantos países há na base?"
      ],
      "metadata": {
        "id": "ebJ3AxrCiOA_"
      }
    },
    {
      "cell_type": "markdown",
      "metadata": {
        "id": "sxy8i0FGRLP-"
      },
      "source": [
        "# Q15.\n",
        "\n",
        "(European Energy) Qual percentual de energia nuclear produzida na Europa no ano de 2018?"
      ]
    },
    {
      "cell_type": "markdown",
      "metadata": {
        "id": "1cIu6LriZ1N7"
      },
      "source": [
        "# Q16.\n",
        "\n",
        "(European Energy) Qual o percentual da energia da França que vem de energia nuclear no ano de 2018?"
      ]
    }
  ]
}