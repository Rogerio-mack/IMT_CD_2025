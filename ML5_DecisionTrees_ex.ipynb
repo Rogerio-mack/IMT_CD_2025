{
  "nbformat": 4,
  "nbformat_minor": 0,
  "metadata": {
    "anaconda-cloud": {},
    "kernelspec": {
      "display_name": "Python 3",
      "language": "python",
      "name": "python3"
    },
    "language_info": {
      "codemirror_mode": {
        "name": "ipython",
        "version": 3
      },
      "file_extension": ".py",
      "mimetype": "text/x-python",
      "name": "python",
      "nbconvert_exporter": "python",
      "pygments_lexer": "ipython3",
      "version": "3.7.4"
    },
    "colab": {
      "name": "ML5_DecisionTrees_ex.ipynb",
      "provenance": [],
      "include_colab_link": true
    }
  },
  "cells": [
    {
      "cell_type": "markdown",
      "metadata": {
        "id": "view-in-github",
        "colab_type": "text"
      },
      "source": [
        "<a href=\"https://colab.research.google.com/github/Rogerio-mack/IMT_CD_2025/blob/main/ML5_DecisionTrees_ex.ipynb\" target=\"_parent\"><img src=\"https://colab.research.google.com/assets/colab-badge.svg\" alt=\"Open In Colab\"/></a>"
      ]
    },
    {
      "cell_type": "markdown",
      "metadata": {
        "id": "zQX8WQPeHTwc"
      },
      "source": [
        "# **5. Árvores de Decisão e Seleção de Atributos**\n",
        "\n",
        "---\n",
        "\n"
      ]
    },
    {
      "cell_type": "markdown",
      "source": [
        "Após fazer os exercícios deste laboratório responda ao **questionário correspondente da aula no Moodle**.\n",
        "\n"
      ],
      "metadata": {
        "id": "-vEjCE_y-MFT"
      }
    },
    {
      "cell_type": "markdown",
      "metadata": {
        "_uuid": "9dd9e07c590ca22f0c525222f60f0ebff4e092c6",
        "id": "kIr_4QzOlOOo"
      },
      "source": [
        "# Caso: **Propensão de Compra de Clientes por Telemarketing**\n",
        "\n",
        "https://archive.ics.uci.edu/ml/datasets/Bank+Marketing\n",
        "\n",
        "Os dados acima estão relacionados com campanhas de marketing direto de uma instituição bancária portuguesa. As campanhas de marketing foram baseadas em telefonemas. Freqüentemente, era necessário mais de um contato para o mesmo cliente, para acessar se o produto (depósito bancário) seria ('yes') ou não ('no') assinado.\n",
        "\n",
        "Os dados estão na URL: http://meusite.mackenzie.br/rogerio/TIC/bank-full.csv\n",
        "\n",
        "\n"
      ]
    },
    {
      "cell_type": "markdown",
      "metadata": {
        "id": "YeiT9oXumyn8"
      },
      "source": [
        "# Exercício. Acesse e Explore os dados\n",
        "\n",
        "Inspecione os dados. Qual o atributo classe e quantos registros de cada classe? Existem valores nulos (ausentes) a serem tratados?\n"
      ]
    },
    {
      "cell_type": "code",
      "metadata": {
        "id": "6mNBDvj2myoC"
      },
      "source": [
        "# Seu código aqui\n",
        "\n"
      ],
      "execution_count": null,
      "outputs": []
    },
    {
      "cell_type": "markdown",
      "metadata": {
        "id": "hFxyggo552J7"
      },
      "source": [
        "# Exercício. Defina as entradas `X` e saída `y` modelo\n",
        "\n",
        "Lembre-se, em um modelo de classificação $X$ são as variáveis preditoras (*independentes*) e $y$ sua variável objetivo (*dependente*). Nesse momento você não precisa se preocupar com conversão de valores, como por exemplo, *hot-encode*. Apenas verifique e associe os dados correspondentes às variáveis `X` e `y`."
      ]
    },
    {
      "cell_type": "code",
      "metadata": {
        "id": "cKqbsZ1vn5Bo"
      },
      "source": [
        "# Seu código\n"
      ],
      "execution_count": null,
      "outputs": []
    },
    {
      "cell_type": "markdown",
      "metadata": {
        "id": "UKA9v3OwsYXn"
      },
      "source": [
        "# Preparação dos Dados\n",
        "\n",
        "A **Preparação dos Dados**, como você já viu, consiste em transformações  que são necessárias ou úteis para preparar os dados para uso dos modelos. Encontram-se entre essas transformações:\n",
        "\n",
        "1. Tratamento de valores faltantes\n",
        "2. Normalizações\n",
        "3. Codificação de Valores categóricos para numéricos (*encode*)\n",
        "4. Codificação de Valores numéricos para classes de valores (discretização ou *binning*)\n",
        "5. etc.\n",
        "\n",
        "Vamos fazer aqui duas operações sobre os dados:\n",
        "\n",
        "1. **Label encode**. Embora Árvores de Decisão possam empregar atributos categóricos, o `scikit-learn` requer que esses atributos sejam `label_encode`. É um requerimento da tecnologia, não do modelo.\n",
        "\n",
        "1. **Normalização**. Árvores de Decisão também podem ser sensíveis a variação de escala e mas vamos reescalar aqui também os dados.\n",
        "\n",
        "A primeira transformação é meramente técnica e faremos para você. Mas observe o código, ele pode ser útil a você nos casos em quem muitos atributos precisam ser codificados, com Hot ou Label encode."
      ]
    },
    {
      "cell_type": "markdown",
      "metadata": {
        "id": "fI_noNByti5i"
      },
      "source": [
        "# Exercício. **Label Encode (RESOLVIDO)**\n",
        "\n",
        "Podemos fazer isso de diversas formas, mas o `scikit-learn` traz funções para isso."
      ]
    },
    {
      "cell_type": "code",
      "metadata": {
        "id": "BJrGFncFtria",
        "colab": {
          "base_uri": "https://localhost:8080/",
          "height": 1000
        },
        "outputId": "723cf7f8-d0c8-4a32-df0b-16c476989806"
      },
      "source": [
        "from sklearn.preprocessing import LabelEncoder\n",
        "\n",
        "df_categorical = X.select_dtypes(exclude='number')\n",
        "#  label encoding to all the columns\n",
        "\n",
        "display('Label Encode attributes: ', df_categorical)\n",
        "\n",
        "display('education, valores e suas quantidades antes: ', X.education.value_counts())\n",
        "\n",
        "label_encoders = {}\n",
        "for col in df_categorical:\n",
        "  le = LabelEncoder()\n",
        "  le.fit(X[col])\n",
        "  X[col] = le.transform(X[col])\n",
        "  label_encoders[col] = le # salva para empregar para novas instâncias\n",
        "\n",
        "display('education, valores e suas quantidades depois: ', X.education.value_counts())\n",
        "\n",
        "display('Label Encode attributes depois: ', X)"
      ],
      "execution_count": null,
      "outputs": [
        {
          "output_type": "display_data",
          "data": {
            "text/plain": [
              "'Label Encode attributes: '"
            ],
            "application/vnd.google.colaboratory.intrinsic+json": {
              "type": "string"
            }
          },
          "metadata": {}
        },
        {
          "output_type": "display_data",
          "data": {
            "text/plain": [
              "                job   marital  education default housing loan    contact  \\\n",
              "0        management   married   tertiary      no     yes   no    unknown   \n",
              "1        technician    single  secondary      no     yes   no    unknown   \n",
              "2      entrepreneur   married  secondary      no     yes  yes    unknown   \n",
              "3       blue-collar   married    unknown      no     yes   no    unknown   \n",
              "4           unknown    single    unknown      no      no   no    unknown   \n",
              "...             ...       ...        ...     ...     ...  ...        ...   \n",
              "45206    technician   married   tertiary      no      no   no   cellular   \n",
              "45207       retired  divorced    primary      no      no   no   cellular   \n",
              "45208       retired   married  secondary      no      no   no   cellular   \n",
              "45209   blue-collar   married  secondary      no      no   no  telephone   \n",
              "45210  entrepreneur   married  secondary      no      no   no   cellular   \n",
              "\n",
              "      month poutcome  \n",
              "0       may  unknown  \n",
              "1       may  unknown  \n",
              "2       may  unknown  \n",
              "3       may  unknown  \n",
              "4       may  unknown  \n",
              "...     ...      ...  \n",
              "45206   nov  unknown  \n",
              "45207   nov  unknown  \n",
              "45208   nov  success  \n",
              "45209   nov  unknown  \n",
              "45210   nov    other  \n",
              "\n",
              "[45211 rows x 9 columns]"
            ],
            "text/html": [
              "\n",
              "  <div id=\"df-bf33cf27-c890-4c34-a34d-ebabd6fa8f37\">\n",
              "    <div class=\"colab-df-container\">\n",
              "      <div>\n",
              "<style scoped>\n",
              "    .dataframe tbody tr th:only-of-type {\n",
              "        vertical-align: middle;\n",
              "    }\n",
              "\n",
              "    .dataframe tbody tr th {\n",
              "        vertical-align: top;\n",
              "    }\n",
              "\n",
              "    .dataframe thead th {\n",
              "        text-align: right;\n",
              "    }\n",
              "</style>\n",
              "<table border=\"1\" class=\"dataframe\">\n",
              "  <thead>\n",
              "    <tr style=\"text-align: right;\">\n",
              "      <th></th>\n",
              "      <th>job</th>\n",
              "      <th>marital</th>\n",
              "      <th>education</th>\n",
              "      <th>default</th>\n",
              "      <th>housing</th>\n",
              "      <th>loan</th>\n",
              "      <th>contact</th>\n",
              "      <th>month</th>\n",
              "      <th>poutcome</th>\n",
              "    </tr>\n",
              "  </thead>\n",
              "  <tbody>\n",
              "    <tr>\n",
              "      <th>0</th>\n",
              "      <td>management</td>\n",
              "      <td>married</td>\n",
              "      <td>tertiary</td>\n",
              "      <td>no</td>\n",
              "      <td>yes</td>\n",
              "      <td>no</td>\n",
              "      <td>unknown</td>\n",
              "      <td>may</td>\n",
              "      <td>unknown</td>\n",
              "    </tr>\n",
              "    <tr>\n",
              "      <th>1</th>\n",
              "      <td>technician</td>\n",
              "      <td>single</td>\n",
              "      <td>secondary</td>\n",
              "      <td>no</td>\n",
              "      <td>yes</td>\n",
              "      <td>no</td>\n",
              "      <td>unknown</td>\n",
              "      <td>may</td>\n",
              "      <td>unknown</td>\n",
              "    </tr>\n",
              "    <tr>\n",
              "      <th>2</th>\n",
              "      <td>entrepreneur</td>\n",
              "      <td>married</td>\n",
              "      <td>secondary</td>\n",
              "      <td>no</td>\n",
              "      <td>yes</td>\n",
              "      <td>yes</td>\n",
              "      <td>unknown</td>\n",
              "      <td>may</td>\n",
              "      <td>unknown</td>\n",
              "    </tr>\n",
              "    <tr>\n",
              "      <th>3</th>\n",
              "      <td>blue-collar</td>\n",
              "      <td>married</td>\n",
              "      <td>unknown</td>\n",
              "      <td>no</td>\n",
              "      <td>yes</td>\n",
              "      <td>no</td>\n",
              "      <td>unknown</td>\n",
              "      <td>may</td>\n",
              "      <td>unknown</td>\n",
              "    </tr>\n",
              "    <tr>\n",
              "      <th>4</th>\n",
              "      <td>unknown</td>\n",
              "      <td>single</td>\n",
              "      <td>unknown</td>\n",
              "      <td>no</td>\n",
              "      <td>no</td>\n",
              "      <td>no</td>\n",
              "      <td>unknown</td>\n",
              "      <td>may</td>\n",
              "      <td>unknown</td>\n",
              "    </tr>\n",
              "    <tr>\n",
              "      <th>...</th>\n",
              "      <td>...</td>\n",
              "      <td>...</td>\n",
              "      <td>...</td>\n",
              "      <td>...</td>\n",
              "      <td>...</td>\n",
              "      <td>...</td>\n",
              "      <td>...</td>\n",
              "      <td>...</td>\n",
              "      <td>...</td>\n",
              "    </tr>\n",
              "    <tr>\n",
              "      <th>45206</th>\n",
              "      <td>technician</td>\n",
              "      <td>married</td>\n",
              "      <td>tertiary</td>\n",
              "      <td>no</td>\n",
              "      <td>no</td>\n",
              "      <td>no</td>\n",
              "      <td>cellular</td>\n",
              "      <td>nov</td>\n",
              "      <td>unknown</td>\n",
              "    </tr>\n",
              "    <tr>\n",
              "      <th>45207</th>\n",
              "      <td>retired</td>\n",
              "      <td>divorced</td>\n",
              "      <td>primary</td>\n",
              "      <td>no</td>\n",
              "      <td>no</td>\n",
              "      <td>no</td>\n",
              "      <td>cellular</td>\n",
              "      <td>nov</td>\n",
              "      <td>unknown</td>\n",
              "    </tr>\n",
              "    <tr>\n",
              "      <th>45208</th>\n",
              "      <td>retired</td>\n",
              "      <td>married</td>\n",
              "      <td>secondary</td>\n",
              "      <td>no</td>\n",
              "      <td>no</td>\n",
              "      <td>no</td>\n",
              "      <td>cellular</td>\n",
              "      <td>nov</td>\n",
              "      <td>success</td>\n",
              "    </tr>\n",
              "    <tr>\n",
              "      <th>45209</th>\n",
              "      <td>blue-collar</td>\n",
              "      <td>married</td>\n",
              "      <td>secondary</td>\n",
              "      <td>no</td>\n",
              "      <td>no</td>\n",
              "      <td>no</td>\n",
              "      <td>telephone</td>\n",
              "      <td>nov</td>\n",
              "      <td>unknown</td>\n",
              "    </tr>\n",
              "    <tr>\n",
              "      <th>45210</th>\n",
              "      <td>entrepreneur</td>\n",
              "      <td>married</td>\n",
              "      <td>secondary</td>\n",
              "      <td>no</td>\n",
              "      <td>no</td>\n",
              "      <td>no</td>\n",
              "      <td>cellular</td>\n",
              "      <td>nov</td>\n",
              "      <td>other</td>\n",
              "    </tr>\n",
              "  </tbody>\n",
              "</table>\n",
              "<p>45211 rows × 9 columns</p>\n",
              "</div>\n",
              "      <button class=\"colab-df-convert\" onclick=\"convertToInteractive('df-bf33cf27-c890-4c34-a34d-ebabd6fa8f37')\"\n",
              "              title=\"Convert this dataframe to an interactive table.\"\n",
              "              style=\"display:none;\">\n",
              "        \n",
              "  <svg xmlns=\"http://www.w3.org/2000/svg\" height=\"24px\"viewBox=\"0 0 24 24\"\n",
              "       width=\"24px\">\n",
              "    <path d=\"M0 0h24v24H0V0z\" fill=\"none\"/>\n",
              "    <path d=\"M18.56 5.44l.94 2.06.94-2.06 2.06-.94-2.06-.94-.94-2.06-.94 2.06-2.06.94zm-11 1L8.5 8.5l.94-2.06 2.06-.94-2.06-.94L8.5 2.5l-.94 2.06-2.06.94zm10 10l.94 2.06.94-2.06 2.06-.94-2.06-.94-.94-2.06-.94 2.06-2.06.94z\"/><path d=\"M17.41 7.96l-1.37-1.37c-.4-.4-.92-.59-1.43-.59-.52 0-1.04.2-1.43.59L10.3 9.45l-7.72 7.72c-.78.78-.78 2.05 0 2.83L4 21.41c.39.39.9.59 1.41.59.51 0 1.02-.2 1.41-.59l7.78-7.78 2.81-2.81c.8-.78.8-2.07 0-2.86zM5.41 20L4 18.59l7.72-7.72 1.47 1.35L5.41 20z\"/>\n",
              "  </svg>\n",
              "      </button>\n",
              "      \n",
              "  <style>\n",
              "    .colab-df-container {\n",
              "      display:flex;\n",
              "      flex-wrap:wrap;\n",
              "      gap: 12px;\n",
              "    }\n",
              "\n",
              "    .colab-df-convert {\n",
              "      background-color: #E8F0FE;\n",
              "      border: none;\n",
              "      border-radius: 50%;\n",
              "      cursor: pointer;\n",
              "      display: none;\n",
              "      fill: #1967D2;\n",
              "      height: 32px;\n",
              "      padding: 0 0 0 0;\n",
              "      width: 32px;\n",
              "    }\n",
              "\n",
              "    .colab-df-convert:hover {\n",
              "      background-color: #E2EBFA;\n",
              "      box-shadow: 0px 1px 2px rgba(60, 64, 67, 0.3), 0px 1px 3px 1px rgba(60, 64, 67, 0.15);\n",
              "      fill: #174EA6;\n",
              "    }\n",
              "\n",
              "    [theme=dark] .colab-df-convert {\n",
              "      background-color: #3B4455;\n",
              "      fill: #D2E3FC;\n",
              "    }\n",
              "\n",
              "    [theme=dark] .colab-df-convert:hover {\n",
              "      background-color: #434B5C;\n",
              "      box-shadow: 0px 1px 3px 1px rgba(0, 0, 0, 0.15);\n",
              "      filter: drop-shadow(0px 1px 2px rgba(0, 0, 0, 0.3));\n",
              "      fill: #FFFFFF;\n",
              "    }\n",
              "  </style>\n",
              "\n",
              "      <script>\n",
              "        const buttonEl =\n",
              "          document.querySelector('#df-bf33cf27-c890-4c34-a34d-ebabd6fa8f37 button.colab-df-convert');\n",
              "        buttonEl.style.display =\n",
              "          google.colab.kernel.accessAllowed ? 'block' : 'none';\n",
              "\n",
              "        async function convertToInteractive(key) {\n",
              "          const element = document.querySelector('#df-bf33cf27-c890-4c34-a34d-ebabd6fa8f37');\n",
              "          const dataTable =\n",
              "            await google.colab.kernel.invokeFunction('convertToInteractive',\n",
              "                                                     [key], {});\n",
              "          if (!dataTable) return;\n",
              "\n",
              "          const docLinkHtml = 'Like what you see? Visit the ' +\n",
              "            '<a target=\"_blank\" href=https://colab.research.google.com/notebooks/data_table.ipynb>data table notebook</a>'\n",
              "            + ' to learn more about interactive tables.';\n",
              "          element.innerHTML = '';\n",
              "          dataTable['output_type'] = 'display_data';\n",
              "          await google.colab.output.renderOutput(dataTable, element);\n",
              "          const docLink = document.createElement('div');\n",
              "          docLink.innerHTML = docLinkHtml;\n",
              "          element.appendChild(docLink);\n",
              "        }\n",
              "      </script>\n",
              "    </div>\n",
              "  </div>\n",
              "  "
            ]
          },
          "metadata": {}
        },
        {
          "output_type": "display_data",
          "data": {
            "text/plain": [
              "'education, valores e suas quantidades antes: '"
            ],
            "application/vnd.google.colaboratory.intrinsic+json": {
              "type": "string"
            }
          },
          "metadata": {}
        },
        {
          "output_type": "display_data",
          "data": {
            "text/plain": [
              "secondary    23202\n",
              "tertiary     13301\n",
              "primary       6851\n",
              "unknown       1857\n",
              "Name: education, dtype: int64"
            ]
          },
          "metadata": {}
        },
        {
          "output_type": "display_data",
          "data": {
            "text/plain": [
              "'education, valores e suas quantidades depois: '"
            ],
            "application/vnd.google.colaboratory.intrinsic+json": {
              "type": "string"
            }
          },
          "metadata": {}
        },
        {
          "output_type": "display_data",
          "data": {
            "text/plain": [
              "1    23202\n",
              "2    13301\n",
              "0     6851\n",
              "3     1857\n",
              "Name: education, dtype: int64"
            ]
          },
          "metadata": {}
        },
        {
          "output_type": "display_data",
          "data": {
            "text/plain": [
              "'Label Encode attributes depois: '"
            ],
            "application/vnd.google.colaboratory.intrinsic+json": {
              "type": "string"
            }
          },
          "metadata": {}
        },
        {
          "output_type": "display_data",
          "data": {
            "text/plain": [
              "       age  job  marital  education  default  balance  housing  loan  contact  \\\n",
              "0       58    4        1          2        0     2143        1     0        2   \n",
              "1       44    9        2          1        0       29        1     0        2   \n",
              "2       33    2        1          1        0        2        1     1        2   \n",
              "3       47    1        1          3        0     1506        1     0        2   \n",
              "4       33   11        2          3        0        1        0     0        2   \n",
              "...    ...  ...      ...        ...      ...      ...      ...   ...      ...   \n",
              "45206   51    9        1          2        0      825        0     0        0   \n",
              "45207   71    5        0          0        0     1729        0     0        0   \n",
              "45208   72    5        1          1        0     5715        0     0        0   \n",
              "45209   57    1        1          1        0      668        0     0        1   \n",
              "45210   37    2        1          1        0     2971        0     0        0   \n",
              "\n",
              "       day  month  duration  campaign  pdays  previous  poutcome  \n",
              "0        5      8       261         1     -1         0         3  \n",
              "1        5      8       151         1     -1         0         3  \n",
              "2        5      8        76         1     -1         0         3  \n",
              "3        5      8        92         1     -1         0         3  \n",
              "4        5      8       198         1     -1         0         3  \n",
              "...    ...    ...       ...       ...    ...       ...       ...  \n",
              "45206   17      9       977         3     -1         0         3  \n",
              "45207   17      9       456         2     -1         0         3  \n",
              "45208   17      9      1127         5    184         3         2  \n",
              "45209   17      9       508         4     -1         0         3  \n",
              "45210   17      9       361         2    188        11         1  \n",
              "\n",
              "[45211 rows x 16 columns]"
            ],
            "text/html": [
              "\n",
              "  <div id=\"df-9d11b677-3896-4939-bab6-2cb4b547d720\">\n",
              "    <div class=\"colab-df-container\">\n",
              "      <div>\n",
              "<style scoped>\n",
              "    .dataframe tbody tr th:only-of-type {\n",
              "        vertical-align: middle;\n",
              "    }\n",
              "\n",
              "    .dataframe tbody tr th {\n",
              "        vertical-align: top;\n",
              "    }\n",
              "\n",
              "    .dataframe thead th {\n",
              "        text-align: right;\n",
              "    }\n",
              "</style>\n",
              "<table border=\"1\" class=\"dataframe\">\n",
              "  <thead>\n",
              "    <tr style=\"text-align: right;\">\n",
              "      <th></th>\n",
              "      <th>age</th>\n",
              "      <th>job</th>\n",
              "      <th>marital</th>\n",
              "      <th>education</th>\n",
              "      <th>default</th>\n",
              "      <th>balance</th>\n",
              "      <th>housing</th>\n",
              "      <th>loan</th>\n",
              "      <th>contact</th>\n",
              "      <th>day</th>\n",
              "      <th>month</th>\n",
              "      <th>duration</th>\n",
              "      <th>campaign</th>\n",
              "      <th>pdays</th>\n",
              "      <th>previous</th>\n",
              "      <th>poutcome</th>\n",
              "    </tr>\n",
              "  </thead>\n",
              "  <tbody>\n",
              "    <tr>\n",
              "      <th>0</th>\n",
              "      <td>58</td>\n",
              "      <td>4</td>\n",
              "      <td>1</td>\n",
              "      <td>2</td>\n",
              "      <td>0</td>\n",
              "      <td>2143</td>\n",
              "      <td>1</td>\n",
              "      <td>0</td>\n",
              "      <td>2</td>\n",
              "      <td>5</td>\n",
              "      <td>8</td>\n",
              "      <td>261</td>\n",
              "      <td>1</td>\n",
              "      <td>-1</td>\n",
              "      <td>0</td>\n",
              "      <td>3</td>\n",
              "    </tr>\n",
              "    <tr>\n",
              "      <th>1</th>\n",
              "      <td>44</td>\n",
              "      <td>9</td>\n",
              "      <td>2</td>\n",
              "      <td>1</td>\n",
              "      <td>0</td>\n",
              "      <td>29</td>\n",
              "      <td>1</td>\n",
              "      <td>0</td>\n",
              "      <td>2</td>\n",
              "      <td>5</td>\n",
              "      <td>8</td>\n",
              "      <td>151</td>\n",
              "      <td>1</td>\n",
              "      <td>-1</td>\n",
              "      <td>0</td>\n",
              "      <td>3</td>\n",
              "    </tr>\n",
              "    <tr>\n",
              "      <th>2</th>\n",
              "      <td>33</td>\n",
              "      <td>2</td>\n",
              "      <td>1</td>\n",
              "      <td>1</td>\n",
              "      <td>0</td>\n",
              "      <td>2</td>\n",
              "      <td>1</td>\n",
              "      <td>1</td>\n",
              "      <td>2</td>\n",
              "      <td>5</td>\n",
              "      <td>8</td>\n",
              "      <td>76</td>\n",
              "      <td>1</td>\n",
              "      <td>-1</td>\n",
              "      <td>0</td>\n",
              "      <td>3</td>\n",
              "    </tr>\n",
              "    <tr>\n",
              "      <th>3</th>\n",
              "      <td>47</td>\n",
              "      <td>1</td>\n",
              "      <td>1</td>\n",
              "      <td>3</td>\n",
              "      <td>0</td>\n",
              "      <td>1506</td>\n",
              "      <td>1</td>\n",
              "      <td>0</td>\n",
              "      <td>2</td>\n",
              "      <td>5</td>\n",
              "      <td>8</td>\n",
              "      <td>92</td>\n",
              "      <td>1</td>\n",
              "      <td>-1</td>\n",
              "      <td>0</td>\n",
              "      <td>3</td>\n",
              "    </tr>\n",
              "    <tr>\n",
              "      <th>4</th>\n",
              "      <td>33</td>\n",
              "      <td>11</td>\n",
              "      <td>2</td>\n",
              "      <td>3</td>\n",
              "      <td>0</td>\n",
              "      <td>1</td>\n",
              "      <td>0</td>\n",
              "      <td>0</td>\n",
              "      <td>2</td>\n",
              "      <td>5</td>\n",
              "      <td>8</td>\n",
              "      <td>198</td>\n",
              "      <td>1</td>\n",
              "      <td>-1</td>\n",
              "      <td>0</td>\n",
              "      <td>3</td>\n",
              "    </tr>\n",
              "    <tr>\n",
              "      <th>...</th>\n",
              "      <td>...</td>\n",
              "      <td>...</td>\n",
              "      <td>...</td>\n",
              "      <td>...</td>\n",
              "      <td>...</td>\n",
              "      <td>...</td>\n",
              "      <td>...</td>\n",
              "      <td>...</td>\n",
              "      <td>...</td>\n",
              "      <td>...</td>\n",
              "      <td>...</td>\n",
              "      <td>...</td>\n",
              "      <td>...</td>\n",
              "      <td>...</td>\n",
              "      <td>...</td>\n",
              "      <td>...</td>\n",
              "    </tr>\n",
              "    <tr>\n",
              "      <th>45206</th>\n",
              "      <td>51</td>\n",
              "      <td>9</td>\n",
              "      <td>1</td>\n",
              "      <td>2</td>\n",
              "      <td>0</td>\n",
              "      <td>825</td>\n",
              "      <td>0</td>\n",
              "      <td>0</td>\n",
              "      <td>0</td>\n",
              "      <td>17</td>\n",
              "      <td>9</td>\n",
              "      <td>977</td>\n",
              "      <td>3</td>\n",
              "      <td>-1</td>\n",
              "      <td>0</td>\n",
              "      <td>3</td>\n",
              "    </tr>\n",
              "    <tr>\n",
              "      <th>45207</th>\n",
              "      <td>71</td>\n",
              "      <td>5</td>\n",
              "      <td>0</td>\n",
              "      <td>0</td>\n",
              "      <td>0</td>\n",
              "      <td>1729</td>\n",
              "      <td>0</td>\n",
              "      <td>0</td>\n",
              "      <td>0</td>\n",
              "      <td>17</td>\n",
              "      <td>9</td>\n",
              "      <td>456</td>\n",
              "      <td>2</td>\n",
              "      <td>-1</td>\n",
              "      <td>0</td>\n",
              "      <td>3</td>\n",
              "    </tr>\n",
              "    <tr>\n",
              "      <th>45208</th>\n",
              "      <td>72</td>\n",
              "      <td>5</td>\n",
              "      <td>1</td>\n",
              "      <td>1</td>\n",
              "      <td>0</td>\n",
              "      <td>5715</td>\n",
              "      <td>0</td>\n",
              "      <td>0</td>\n",
              "      <td>0</td>\n",
              "      <td>17</td>\n",
              "      <td>9</td>\n",
              "      <td>1127</td>\n",
              "      <td>5</td>\n",
              "      <td>184</td>\n",
              "      <td>3</td>\n",
              "      <td>2</td>\n",
              "    </tr>\n",
              "    <tr>\n",
              "      <th>45209</th>\n",
              "      <td>57</td>\n",
              "      <td>1</td>\n",
              "      <td>1</td>\n",
              "      <td>1</td>\n",
              "      <td>0</td>\n",
              "      <td>668</td>\n",
              "      <td>0</td>\n",
              "      <td>0</td>\n",
              "      <td>1</td>\n",
              "      <td>17</td>\n",
              "      <td>9</td>\n",
              "      <td>508</td>\n",
              "      <td>4</td>\n",
              "      <td>-1</td>\n",
              "      <td>0</td>\n",
              "      <td>3</td>\n",
              "    </tr>\n",
              "    <tr>\n",
              "      <th>45210</th>\n",
              "      <td>37</td>\n",
              "      <td>2</td>\n",
              "      <td>1</td>\n",
              "      <td>1</td>\n",
              "      <td>0</td>\n",
              "      <td>2971</td>\n",
              "      <td>0</td>\n",
              "      <td>0</td>\n",
              "      <td>0</td>\n",
              "      <td>17</td>\n",
              "      <td>9</td>\n",
              "      <td>361</td>\n",
              "      <td>2</td>\n",
              "      <td>188</td>\n",
              "      <td>11</td>\n",
              "      <td>1</td>\n",
              "    </tr>\n",
              "  </tbody>\n",
              "</table>\n",
              "<p>45211 rows × 16 columns</p>\n",
              "</div>\n",
              "      <button class=\"colab-df-convert\" onclick=\"convertToInteractive('df-9d11b677-3896-4939-bab6-2cb4b547d720')\"\n",
              "              title=\"Convert this dataframe to an interactive table.\"\n",
              "              style=\"display:none;\">\n",
              "        \n",
              "  <svg xmlns=\"http://www.w3.org/2000/svg\" height=\"24px\"viewBox=\"0 0 24 24\"\n",
              "       width=\"24px\">\n",
              "    <path d=\"M0 0h24v24H0V0z\" fill=\"none\"/>\n",
              "    <path d=\"M18.56 5.44l.94 2.06.94-2.06 2.06-.94-2.06-.94-.94-2.06-.94 2.06-2.06.94zm-11 1L8.5 8.5l.94-2.06 2.06-.94-2.06-.94L8.5 2.5l-.94 2.06-2.06.94zm10 10l.94 2.06.94-2.06 2.06-.94-2.06-.94-.94-2.06-.94 2.06-2.06.94z\"/><path d=\"M17.41 7.96l-1.37-1.37c-.4-.4-.92-.59-1.43-.59-.52 0-1.04.2-1.43.59L10.3 9.45l-7.72 7.72c-.78.78-.78 2.05 0 2.83L4 21.41c.39.39.9.59 1.41.59.51 0 1.02-.2 1.41-.59l7.78-7.78 2.81-2.81c.8-.78.8-2.07 0-2.86zM5.41 20L4 18.59l7.72-7.72 1.47 1.35L5.41 20z\"/>\n",
              "  </svg>\n",
              "      </button>\n",
              "      \n",
              "  <style>\n",
              "    .colab-df-container {\n",
              "      display:flex;\n",
              "      flex-wrap:wrap;\n",
              "      gap: 12px;\n",
              "    }\n",
              "\n",
              "    .colab-df-convert {\n",
              "      background-color: #E8F0FE;\n",
              "      border: none;\n",
              "      border-radius: 50%;\n",
              "      cursor: pointer;\n",
              "      display: none;\n",
              "      fill: #1967D2;\n",
              "      height: 32px;\n",
              "      padding: 0 0 0 0;\n",
              "      width: 32px;\n",
              "    }\n",
              "\n",
              "    .colab-df-convert:hover {\n",
              "      background-color: #E2EBFA;\n",
              "      box-shadow: 0px 1px 2px rgba(60, 64, 67, 0.3), 0px 1px 3px 1px rgba(60, 64, 67, 0.15);\n",
              "      fill: #174EA6;\n",
              "    }\n",
              "\n",
              "    [theme=dark] .colab-df-convert {\n",
              "      background-color: #3B4455;\n",
              "      fill: #D2E3FC;\n",
              "    }\n",
              "\n",
              "    [theme=dark] .colab-df-convert:hover {\n",
              "      background-color: #434B5C;\n",
              "      box-shadow: 0px 1px 3px 1px rgba(0, 0, 0, 0.15);\n",
              "      filter: drop-shadow(0px 1px 2px rgba(0, 0, 0, 0.3));\n",
              "      fill: #FFFFFF;\n",
              "    }\n",
              "  </style>\n",
              "\n",
              "      <script>\n",
              "        const buttonEl =\n",
              "          document.querySelector('#df-9d11b677-3896-4939-bab6-2cb4b547d720 button.colab-df-convert');\n",
              "        buttonEl.style.display =\n",
              "          google.colab.kernel.accessAllowed ? 'block' : 'none';\n",
              "\n",
              "        async function convertToInteractive(key) {\n",
              "          const element = document.querySelector('#df-9d11b677-3896-4939-bab6-2cb4b547d720');\n",
              "          const dataTable =\n",
              "            await google.colab.kernel.invokeFunction('convertToInteractive',\n",
              "                                                     [key], {});\n",
              "          if (!dataTable) return;\n",
              "\n",
              "          const docLinkHtml = 'Like what you see? Visit the ' +\n",
              "            '<a target=\"_blank\" href=https://colab.research.google.com/notebooks/data_table.ipynb>data table notebook</a>'\n",
              "            + ' to learn more about interactive tables.';\n",
              "          element.innerHTML = '';\n",
              "          dataTable['output_type'] = 'display_data';\n",
              "          await google.colab.output.renderOutput(dataTable, element);\n",
              "          const docLink = document.createElement('div');\n",
              "          docLink.innerHTML = docLinkHtml;\n",
              "          element.appendChild(docLink);\n",
              "        }\n",
              "      </script>\n",
              "    </div>\n",
              "  </div>\n",
              "  "
            ]
          },
          "metadata": {}
        }
      ]
    },
    {
      "cell_type": "markdown",
      "metadata": {
        "id": "PA0a-38QudWG"
      },
      "source": [
        "# Exercício. Explore as técnicas de *Scale*\n",
        "\n",
        "Verifique quais  métodos abaixo correspondem aos esquemas de normalização:\n",
        "\n",
        "$$ X_s = (X - X_{min}) / (X_{max} - X_{min}) $$\n",
        "\n",
        "e a:\n",
        "\n",
        "$$ X_s = (X - X_{mean}) / X_{std} $$\n",
        "\n",
        "Esta última corresponde a ter dados com média 0 e desvio padrão 1. Você pode buscar empregar um conjunto qualquer de dados para testar os métodos."
      ]
    },
    {
      "cell_type": "code",
      "metadata": {
        "id": "g5ZlWkKMuGug"
      },
      "source": [
        "from sklearn.preprocessing import Normalizer\n",
        "from sklearn.preprocessing import MinMaxScaler\n",
        "from sklearn.preprocessing import StandardScaler\n",
        "from sklearn.preprocessing import MaxAbsScaler"
      ],
      "execution_count": null,
      "outputs": []
    },
    {
      "cell_type": "code",
      "metadata": {
        "id": "ZKYFfbP-vJvO"
      },
      "source": [
        "# Seu código aqui"
      ],
      "execution_count": null,
      "outputs": []
    },
    {
      "cell_type": "markdown",
      "metadata": {
        "id": "YnAQY3-gv1cS"
      },
      "source": [
        "# Exercício. Normalizando os Dados\n",
        "\n",
        "Aplique a normalização que leva os valores à média 0 e desvio padrão 1."
      ]
    },
    {
      "cell_type": "code",
      "metadata": {
        "id": "3_NxTv-zwD0n"
      },
      "source": [
        "# Seu código\n"
      ],
      "execution_count": null,
      "outputs": []
    },
    {
      "cell_type": "markdown",
      "source": [
        "# Exercício. Conjunto de Treinamento e Teste\n",
        "\n",
        "Empregue a função `train_test_split` e separe 0.3 dos dados para teste. Empregue o `random_state=123` para garantir a reprodutibilidade dos resultados e empregue o parâmetro `stratify` para garantir a mesma distribuição das classes nos conjuntos de treinamento e teste."
      ],
      "metadata": {
        "id": "zoKx6toC52RY"
      }
    },
    {
      "cell_type": "code",
      "metadata": {
        "id": "_RUlSbz9n-3t"
      },
      "source": [
        "# Seu código\n",
        "from sklearn.model_selection import train_test_split\n"
      ],
      "execution_count": null,
      "outputs": []
    },
    {
      "cell_type": "markdown",
      "metadata": {
        "id": "m1nJnjw3zLHz"
      },
      "source": [
        "Qual a dimensão dos conjuntos `X_train, X_test, y_train, y_test` e a média de `X_train.age`?"
      ]
    },
    {
      "cell_type": "code",
      "metadata": {
        "id": "MdCRuzqszUGj"
      },
      "source": [
        "# Seu código\n"
      ],
      "execution_count": null,
      "outputs": []
    },
    {
      "cell_type": "markdown",
      "metadata": {
        "id": "ke4f8KkRrryO"
      },
      "source": [
        "# Exercício. Treine seu modelo de Árvore de Decisão\n",
        "\n",
        "Crie 2 modelos de Árvore de Decisão, ambos vão empregar os parâmetros `criterion='gini'` e seed 123. Mas o primeiro modelo irá empregar e `max_depth=5` e o segundo `max_depth=None`. Verifique qual apresenta maior acuracidade.\n",
        "\n",
        "\n",
        "\n"
      ]
    },
    {
      "cell_type": "code",
      "source": [
        "# Seu código\n",
        "from sklearn.tree import DecisionTreeClassifier\n"
      ],
      "metadata": {
        "id": "B2cAcY4qXTbc"
      },
      "execution_count": null,
      "outputs": []
    },
    {
      "cell_type": "code",
      "metadata": {
        "id": "z33_qVJioAhI"
      },
      "source": [
        "# Seu código\n",
        "from sklearn.tree import DecisionTreeClassifier\n"
      ],
      "execution_count": null,
      "outputs": []
    },
    {
      "cell_type": "markdown",
      "source": [
        "# Exercício. Classification Report\n",
        "\n",
        "Produza o Classification Report e a Matriz de Confusão para o modelo com maior acuracidade obtido acima."
      ],
      "metadata": {
        "id": "b5HnvUmy_-yQ"
      }
    },
    {
      "cell_type": "code",
      "source": [
        "# Seu código aqui\n",
        "from sklearn.metrics import confusion_matrix\n",
        "from sklearn.metrics import accuracy_score\n",
        "from sklearn.metrics import classification_report\n",
        "\n"
      ],
      "metadata": {
        "id": "Js0P0yHB_50x"
      },
      "execution_count": null,
      "outputs": []
    },
    {
      "cell_type": "markdown",
      "source": [
        "# Exercício. Prevendo novos Casos (**Parcialmente Resolvido**)\n",
        "\n",
        "Vamos empregar o melhor modelo obtido acima para classificar novos casos de propensão dos clientes. É um exercício e você pode executar a célula a seguir para produzir esses novos casos.\n",
        "\n"
      ],
      "metadata": {
        "id": "sGHsK0FmAOi6"
      }
    },
    {
      "cell_type": "code",
      "source": [
        "#@markdown Execute para Gerar o novos Casos\n",
        "\n",
        "seed1 = 1964\n",
        "new_bank = bank.sample(20,random_state=123)\n",
        "new_bank = new_bank.sample(frac = 1)\n",
        "new_bank.y = '?'\n"
      ],
      "metadata": {
        "cellView": "form",
        "id": "gl-1OCHEZc4y"
      },
      "execution_count": null,
      "outputs": []
    },
    {
      "cell_type": "code",
      "source": [
        "display( new_bank.head() )"
      ],
      "metadata": {
        "colab": {
          "base_uri": "https://localhost:8080/",
          "height": 206
        },
        "id": "YbNssEwiZlry",
        "outputId": "3ca7674a-9862-4139-a735-090f18c73578"
      },
      "execution_count": null,
      "outputs": [
        {
          "output_type": "display_data",
          "data": {
            "text/plain": [
              "       age          job   marital  education default  balance housing loan  \\\n",
              "44816   35   management   married    unknown      no     2326     yes  yes   \n",
              "15644   27   unemployed    single  secondary      no        0     yes   no   \n",
              "44365   25   technician    single  secondary      no       31      no   no   \n",
              "15263   44  blue-collar    single  secondary      no      292      no  yes   \n",
              "10535   47   management  divorced    unknown      no      582     yes  yes   \n",
              "\n",
              "        contact  day month  duration  campaign  pdays  previous poutcome  y  \n",
              "44816  cellular   16   sep       319         1     -1         0  unknown  ?  \n",
              "15644  cellular   21   jul        53         6     -1         0  unknown  ?  \n",
              "44365  cellular    2   aug       300         3     -1         0  unknown  ?  \n",
              "15263  cellular   17   jul      1153         4     -1         0  unknown  ?  \n",
              "10535   unknown   16   jun       123         2     -1         0  unknown  ?  "
            ],
            "text/html": [
              "\n",
              "  <div id=\"df-89e2f1d2-136b-4419-9382-c1bfa8b83a01\">\n",
              "    <div class=\"colab-df-container\">\n",
              "      <div>\n",
              "<style scoped>\n",
              "    .dataframe tbody tr th:only-of-type {\n",
              "        vertical-align: middle;\n",
              "    }\n",
              "\n",
              "    .dataframe tbody tr th {\n",
              "        vertical-align: top;\n",
              "    }\n",
              "\n",
              "    .dataframe thead th {\n",
              "        text-align: right;\n",
              "    }\n",
              "</style>\n",
              "<table border=\"1\" class=\"dataframe\">\n",
              "  <thead>\n",
              "    <tr style=\"text-align: right;\">\n",
              "      <th></th>\n",
              "      <th>age</th>\n",
              "      <th>job</th>\n",
              "      <th>marital</th>\n",
              "      <th>education</th>\n",
              "      <th>default</th>\n",
              "      <th>balance</th>\n",
              "      <th>housing</th>\n",
              "      <th>loan</th>\n",
              "      <th>contact</th>\n",
              "      <th>day</th>\n",
              "      <th>month</th>\n",
              "      <th>duration</th>\n",
              "      <th>campaign</th>\n",
              "      <th>pdays</th>\n",
              "      <th>previous</th>\n",
              "      <th>poutcome</th>\n",
              "      <th>y</th>\n",
              "    </tr>\n",
              "  </thead>\n",
              "  <tbody>\n",
              "    <tr>\n",
              "      <th>44816</th>\n",
              "      <td>35</td>\n",
              "      <td>management</td>\n",
              "      <td>married</td>\n",
              "      <td>unknown</td>\n",
              "      <td>no</td>\n",
              "      <td>2326</td>\n",
              "      <td>yes</td>\n",
              "      <td>yes</td>\n",
              "      <td>cellular</td>\n",
              "      <td>16</td>\n",
              "      <td>sep</td>\n",
              "      <td>319</td>\n",
              "      <td>1</td>\n",
              "      <td>-1</td>\n",
              "      <td>0</td>\n",
              "      <td>unknown</td>\n",
              "      <td>?</td>\n",
              "    </tr>\n",
              "    <tr>\n",
              "      <th>15644</th>\n",
              "      <td>27</td>\n",
              "      <td>unemployed</td>\n",
              "      <td>single</td>\n",
              "      <td>secondary</td>\n",
              "      <td>no</td>\n",
              "      <td>0</td>\n",
              "      <td>yes</td>\n",
              "      <td>no</td>\n",
              "      <td>cellular</td>\n",
              "      <td>21</td>\n",
              "      <td>jul</td>\n",
              "      <td>53</td>\n",
              "      <td>6</td>\n",
              "      <td>-1</td>\n",
              "      <td>0</td>\n",
              "      <td>unknown</td>\n",
              "      <td>?</td>\n",
              "    </tr>\n",
              "    <tr>\n",
              "      <th>44365</th>\n",
              "      <td>25</td>\n",
              "      <td>technician</td>\n",
              "      <td>single</td>\n",
              "      <td>secondary</td>\n",
              "      <td>no</td>\n",
              "      <td>31</td>\n",
              "      <td>no</td>\n",
              "      <td>no</td>\n",
              "      <td>cellular</td>\n",
              "      <td>2</td>\n",
              "      <td>aug</td>\n",
              "      <td>300</td>\n",
              "      <td>3</td>\n",
              "      <td>-1</td>\n",
              "      <td>0</td>\n",
              "      <td>unknown</td>\n",
              "      <td>?</td>\n",
              "    </tr>\n",
              "    <tr>\n",
              "      <th>15263</th>\n",
              "      <td>44</td>\n",
              "      <td>blue-collar</td>\n",
              "      <td>single</td>\n",
              "      <td>secondary</td>\n",
              "      <td>no</td>\n",
              "      <td>292</td>\n",
              "      <td>no</td>\n",
              "      <td>yes</td>\n",
              "      <td>cellular</td>\n",
              "      <td>17</td>\n",
              "      <td>jul</td>\n",
              "      <td>1153</td>\n",
              "      <td>4</td>\n",
              "      <td>-1</td>\n",
              "      <td>0</td>\n",
              "      <td>unknown</td>\n",
              "      <td>?</td>\n",
              "    </tr>\n",
              "    <tr>\n",
              "      <th>10535</th>\n",
              "      <td>47</td>\n",
              "      <td>management</td>\n",
              "      <td>divorced</td>\n",
              "      <td>unknown</td>\n",
              "      <td>no</td>\n",
              "      <td>582</td>\n",
              "      <td>yes</td>\n",
              "      <td>yes</td>\n",
              "      <td>unknown</td>\n",
              "      <td>16</td>\n",
              "      <td>jun</td>\n",
              "      <td>123</td>\n",
              "      <td>2</td>\n",
              "      <td>-1</td>\n",
              "      <td>0</td>\n",
              "      <td>unknown</td>\n",
              "      <td>?</td>\n",
              "    </tr>\n",
              "  </tbody>\n",
              "</table>\n",
              "</div>\n",
              "      <button class=\"colab-df-convert\" onclick=\"convertToInteractive('df-89e2f1d2-136b-4419-9382-c1bfa8b83a01')\"\n",
              "              title=\"Convert this dataframe to an interactive table.\"\n",
              "              style=\"display:none;\">\n",
              "        \n",
              "  <svg xmlns=\"http://www.w3.org/2000/svg\" height=\"24px\"viewBox=\"0 0 24 24\"\n",
              "       width=\"24px\">\n",
              "    <path d=\"M0 0h24v24H0V0z\" fill=\"none\"/>\n",
              "    <path d=\"M18.56 5.44l.94 2.06.94-2.06 2.06-.94-2.06-.94-.94-2.06-.94 2.06-2.06.94zm-11 1L8.5 8.5l.94-2.06 2.06-.94-2.06-.94L8.5 2.5l-.94 2.06-2.06.94zm10 10l.94 2.06.94-2.06 2.06-.94-2.06-.94-.94-2.06-.94 2.06-2.06.94z\"/><path d=\"M17.41 7.96l-1.37-1.37c-.4-.4-.92-.59-1.43-.59-.52 0-1.04.2-1.43.59L10.3 9.45l-7.72 7.72c-.78.78-.78 2.05 0 2.83L4 21.41c.39.39.9.59 1.41.59.51 0 1.02-.2 1.41-.59l7.78-7.78 2.81-2.81c.8-.78.8-2.07 0-2.86zM5.41 20L4 18.59l7.72-7.72 1.47 1.35L5.41 20z\"/>\n",
              "  </svg>\n",
              "      </button>\n",
              "      \n",
              "  <style>\n",
              "    .colab-df-container {\n",
              "      display:flex;\n",
              "      flex-wrap:wrap;\n",
              "      gap: 12px;\n",
              "    }\n",
              "\n",
              "    .colab-df-convert {\n",
              "      background-color: #E8F0FE;\n",
              "      border: none;\n",
              "      border-radius: 50%;\n",
              "      cursor: pointer;\n",
              "      display: none;\n",
              "      fill: #1967D2;\n",
              "      height: 32px;\n",
              "      padding: 0 0 0 0;\n",
              "      width: 32px;\n",
              "    }\n",
              "\n",
              "    .colab-df-convert:hover {\n",
              "      background-color: #E2EBFA;\n",
              "      box-shadow: 0px 1px 2px rgba(60, 64, 67, 0.3), 0px 1px 3px 1px rgba(60, 64, 67, 0.15);\n",
              "      fill: #174EA6;\n",
              "    }\n",
              "\n",
              "    [theme=dark] .colab-df-convert {\n",
              "      background-color: #3B4455;\n",
              "      fill: #D2E3FC;\n",
              "    }\n",
              "\n",
              "    [theme=dark] .colab-df-convert:hover {\n",
              "      background-color: #434B5C;\n",
              "      box-shadow: 0px 1px 3px 1px rgba(0, 0, 0, 0.15);\n",
              "      filter: drop-shadow(0px 1px 2px rgba(0, 0, 0, 0.3));\n",
              "      fill: #FFFFFF;\n",
              "    }\n",
              "  </style>\n",
              "\n",
              "      <script>\n",
              "        const buttonEl =\n",
              "          document.querySelector('#df-89e2f1d2-136b-4419-9382-c1bfa8b83a01 button.colab-df-convert');\n",
              "        buttonEl.style.display =\n",
              "          google.colab.kernel.accessAllowed ? 'block' : 'none';\n",
              "\n",
              "        async function convertToInteractive(key) {\n",
              "          const element = document.querySelector('#df-89e2f1d2-136b-4419-9382-c1bfa8b83a01');\n",
              "          const dataTable =\n",
              "            await google.colab.kernel.invokeFunction('convertToInteractive',\n",
              "                                                     [key], {});\n",
              "          if (!dataTable) return;\n",
              "\n",
              "          const docLinkHtml = 'Like what you see? Visit the ' +\n",
              "            '<a target=\"_blank\" href=https://colab.research.google.com/notebooks/data_table.ipynb>data table notebook</a>'\n",
              "            + ' to learn more about interactive tables.';\n",
              "          element.innerHTML = '';\n",
              "          dataTable['output_type'] = 'display_data';\n",
              "          await google.colab.output.renderOutput(dataTable, element);\n",
              "          const docLink = document.createElement('div');\n",
              "          docLink.innerHTML = docLinkHtml;\n",
              "          element.appendChild(docLink);\n",
              "        }\n",
              "      </script>\n",
              "    </div>\n",
              "  </div>\n",
              "  "
            ]
          },
          "metadata": {}
        }
      ]
    },
    {
      "cell_type": "markdown",
      "source": [
        "Lembre-se que o modelo foi treinado com atributos diferentes do que você encontra acima (foi feito o Label Encode dos dados) além dos dados terem sido normalizados. Portanto, precisamos fazer essas mesmas transformações nos novos casos.\n",
        "\n",
        "Isso estã feito abaixo para você, mas vamos deixar a previsão dos novos casos para você fazer. Quantos casos foram classificados como 'y' nos novos casos?"
      ],
      "metadata": {
        "id": "Ryby6vo3aELj"
      }
    },
    {
      "cell_type": "code",
      "metadata": {
        "id": "RZQlYC3Txlxc"
      },
      "source": [
        "X_new = new_bank.drop(columns=['y'])\n",
        "\n",
        "for col in df_categorical:\n",
        "  le = label_encoders[col]\n",
        "  X_new[col] = le.transform(X_new[col])\n",
        "\n",
        "X_new_matrix = scaler.transform(X_new)\n",
        "X_new = pd.DataFrame(X_new_matrix,columns=X_new.columns)"
      ],
      "execution_count": null,
      "outputs": []
    },
    {
      "cell_type": "code",
      "metadata": {
        "id": "yIj_7UIuoDhG"
      },
      "source": [
        "# Seu código\n"
      ],
      "execution_count": null,
      "outputs": []
    },
    {
      "cell_type": "markdown",
      "metadata": {
        "id": "PHyo2RTlyMRp"
      },
      "source": [
        "# Exercício. Plote da Árvore de Decisão **RESOLVIDO**\n",
        "\n"
      ]
    },
    {
      "cell_type": "code",
      "metadata": {
        "id": "YKTwmuD6yShb",
        "colab": {
          "base_uri": "https://localhost:8080/",
          "height": 1000
        },
        "outputId": "7f8437ce-a58a-43e0-cc31-fa266e5b4bdb"
      },
      "source": [
        "from sklearn import tree\n",
        "tree.plot_tree(clf)"
      ],
      "execution_count": null,
      "outputs": [
        {
          "output_type": "execute_result",
          "data": {
            "text/plain": [
              "[Text(0.5270833333333333, 0.9166666666666666, 'X[11] <= 1.135\\ngini = 0.207\\nsamples = 31647\\nvalue = [27945, 3702]'),\n",
              " Text(0.26666666666666666, 0.75, 'X[10] <= 1.323\\ngini = 0.145\\nsamples = 28448\\nvalue = [26215, 2233]'),\n",
              " Text(0.13333333333333333, 0.5833333333333334, 'X[11] <= -0.208\\ngini = 0.126\\nsamples = 27611\\nvalue = [25740, 1871]'),\n",
              " Text(0.06666666666666667, 0.4166666666666667, 'X[0] <= 1.842\\ngini = 0.058\\nsamples = 17390\\nvalue = [16866, 524]'),\n",
              " Text(0.03333333333333333, 0.25, 'X[15] <= -0.061\\ngini = 0.052\\nsamples = 17104\\nvalue = [16644, 460]'),\n",
              " Text(0.016666666666666666, 0.08333333333333333, 'gini = 0.141\\nsamples = 2816\\nvalue = [2601, 215]'),\n",
              " Text(0.05, 0.08333333333333333, 'gini = 0.034\\nsamples = 14288\\nvalue = [14043, 245]'),\n",
              " Text(0.1, 0.25, 'X[11] <= -0.511\\ngini = 0.347\\nsamples = 286\\nvalue = [222, 64]'),\n",
              " Text(0.08333333333333333, 0.08333333333333333, 'gini = 0.159\\nsamples = 126\\nvalue = [115, 11]'),\n",
              " Text(0.11666666666666667, 0.08333333333333333, 'gini = 0.443\\nsamples = 160\\nvalue = [107, 53]'),\n",
              " Text(0.2, 0.4166666666666667, 'X[13] <= -0.317\\ngini = 0.229\\nsamples = 10221\\nvalue = [8874, 1347]'),\n",
              " Text(0.16666666666666666, 0.25, 'X[0] <= 1.937\\ngini = 0.169\\nsamples = 8308\\nvalue = [7535, 773]'),\n",
              " Text(0.15, 0.08333333333333333, 'gini = 0.155\\nsamples = 8171\\nvalue = [7477, 694]'),\n",
              " Text(0.18333333333333332, 0.08333333333333333, 'gini = 0.488\\nsamples = 137\\nvalue = [58, 79]'),\n",
              " Text(0.23333333333333334, 0.25, 'X[15] <= -1.072\\ngini = 0.42\\nsamples = 1913\\nvalue = [1339, 574]'),\n",
              " Text(0.21666666666666667, 0.08333333333333333, 'gini = 0.289\\nsamples = 1485\\nvalue = [1225, 260]'),\n",
              " Text(0.25, 0.08333333333333333, 'gini = 0.391\\nsamples = 428\\nvalue = [114, 314]'),\n",
              " Text(0.4, 0.5833333333333334, 'X[11] <= -0.5\\ngini = 0.491\\nsamples = 837\\nvalue = [475, 362]'),\n",
              " Text(0.3333333333333333, 0.4166666666666667, 'X[11] <= -0.698\\ngini = 0.228\\nsamples = 244\\nvalue = [212, 32]'),\n",
              " Text(0.3, 0.25, 'X[7] <= 0.926\\ngini = 0.022\\nsamples = 91\\nvalue = [90, 1]'),\n",
              " Text(0.2833333333333333, 0.08333333333333333, 'gini = 0.0\\nsamples = 84\\nvalue = [84, 0]'),\n",
              " Text(0.31666666666666665, 0.08333333333333333, 'gini = 0.245\\nsamples = 7\\nvalue = [6, 1]'),\n",
              " Text(0.36666666666666664, 0.25, 'X[5] <= -0.372\\ngini = 0.323\\nsamples = 153\\nvalue = [122, 31]'),\n",
              " Text(0.35, 0.08333333333333333, 'gini = 0.087\\nsamples = 44\\nvalue = [42, 2]'),\n",
              " Text(0.38333333333333336, 0.08333333333333333, 'gini = 0.391\\nsamples = 109\\nvalue = [80, 29]'),\n",
              " Text(0.4666666666666667, 0.4166666666666667, 'X[15] <= -2.083\\ngini = 0.494\\nsamples = 593\\nvalue = [263, 330]'),\n",
              " Text(0.43333333333333335, 0.25, 'X[9] <= -1.298\\ngini = 0.469\\nsamples = 128\\nvalue = [80, 48]'),\n",
              " Text(0.4166666666666667, 0.08333333333333333, 'gini = 0.159\\nsamples = 23\\nvalue = [21, 2]'),\n",
              " Text(0.45, 0.08333333333333333, 'gini = 0.492\\nsamples = 105\\nvalue = [59, 46]'),\n",
              " Text(0.5, 0.25, 'X[13] <= 0.462\\ngini = 0.477\\nsamples = 465\\nvalue = [183, 282]'),\n",
              " Text(0.48333333333333334, 0.08333333333333333, 'gini = 0.499\\nsamples = 282\\nvalue = [134, 148]'),\n",
              " Text(0.5166666666666667, 0.08333333333333333, 'gini = 0.392\\nsamples = 183\\nvalue = [49, 134]'),\n",
              " Text(0.7875, 0.75, 'X[11] <= 2.211\\ngini = 0.497\\nsamples = 3199\\nvalue = [1730, 1469]'),\n",
              " Text(0.6666666666666666, 0.5833333333333334, 'X[8] <= 0.957\\ngini = 0.467\\nsamples = 1918\\nvalue = [1206, 712]'),\n",
              " Text(0.6, 0.4166666666666667, 'X[13] <= -0.401\\ngini = 0.491\\nsamples = 1396\\nvalue = [792, 604]'),\n",
              " Text(0.5666666666666667, 0.25, 'X[11] <= 1.349\\ngini = 0.479\\nsamples = 1032\\nvalue = [621, 411]'),\n",
              " Text(0.55, 0.08333333333333333, 'gini = 0.418\\nsamples = 289\\nvalue = [203, 86]'),\n",
              " Text(0.5833333333333334, 0.08333333333333333, 'gini = 0.492\\nsamples = 743\\nvalue = [418, 325]'),\n",
              " Text(0.6333333333333333, 0.25, 'X[15] <= -1.072\\ngini = 0.498\\nsamples = 364\\nvalue = [171, 193]'),\n",
              " Text(0.6166666666666667, 0.08333333333333333, 'gini = 0.489\\nsamples = 275\\nvalue = [158, 117]'),\n",
              " Text(0.65, 0.08333333333333333, 'gini = 0.249\\nsamples = 89\\nvalue = [13, 76]'),\n",
              " Text(0.7333333333333333, 0.4166666666666667, 'X[11] <= 1.593\\ngini = 0.328\\nsamples = 522\\nvalue = [414, 108]'),\n",
              " Text(0.7, 0.25, 'X[10] <= 0.491\\ngini = 0.252\\nsamples = 284\\nvalue = [242, 42]'),\n",
              " Text(0.6833333333333333, 0.08333333333333333, 'gini = 0.342\\nsamples = 119\\nvalue = [93, 26]'),\n",
              " Text(0.7166666666666667, 0.08333333333333333, 'gini = 0.175\\nsamples = 165\\nvalue = [149, 16]'),\n",
              " Text(0.7666666666666667, 0.25, 'X[9] <= 1.525\\ngini = 0.401\\nsamples = 238\\nvalue = [172, 66]'),\n",
              " Text(0.75, 0.08333333333333333, 'gini = 0.376\\nsamples = 215\\nvalue = [161, 54]'),\n",
              " Text(0.7833333333333333, 0.08333333333333333, 'gini = 0.499\\nsamples = 23\\nvalue = [11, 12]'),\n",
              " Text(0.9083333333333333, 0.5833333333333334, 'X[9] <= 1.645\\ngini = 0.483\\nsamples = 1281\\nvalue = [524, 757]'),\n",
              " Text(0.8666666666666667, 0.4166666666666667, 'X[8] <= -0.156\\ngini = 0.487\\nsamples = 1212\\nvalue = [509, 703]'),\n",
              " Text(0.8333333333333334, 0.25, 'X[15] <= -1.072\\ngini = 0.474\\nsamples = 835\\nvalue = [322, 513]'),\n",
              " Text(0.8166666666666667, 0.08333333333333333, 'gini = 0.5\\nsamples = 136\\nvalue = [68, 68]'),\n",
              " Text(0.85, 0.08333333333333333, 'gini = 0.463\\nsamples = 699\\nvalue = [254, 445]'),\n",
              " Text(0.9, 0.25, 'X[10] <= 0.491\\ngini = 0.5\\nsamples = 377\\nvalue = [187, 190]'),\n",
              " Text(0.8833333333333333, 0.08333333333333333, 'gini = 0.484\\nsamples = 163\\nvalue = [67, 96]'),\n",
              " Text(0.9166666666666666, 0.08333333333333333, 'gini = 0.493\\nsamples = 214\\nvalue = [120, 94]'),\n",
              " Text(0.95, 0.4166666666666667, 'X[10] <= -1.005\\ngini = 0.34\\nsamples = 69\\nvalue = [15, 54]'),\n",
              " Text(0.9333333333333333, 0.25, 'gini = 0.0\\nsamples = 14\\nvalue = [0, 14]'),\n",
              " Text(0.9666666666666667, 0.25, 'X[11] <= 2.452\\ngini = 0.397\\nsamples = 55\\nvalue = [15, 40]'),\n",
              " Text(0.95, 0.08333333333333333, 'gini = 0.496\\nsamples = 11\\nvalue = [6, 5]'),\n",
              " Text(0.9833333333333333, 0.08333333333333333, 'gini = 0.325\\nsamples = 44\\nvalue = [9, 35]')]"
            ]
          },
          "metadata": {},
          "execution_count": 22
        },
        {
          "output_type": "display_data",
          "data": {
            "text/plain": [
              "<Figure size 432x288 with 1 Axes>"
            ],
            "image/png": "[encoded data removed]"
          },
          "metadata": {
            "needs_background": "light"
          }
        }
      ]
    },
    {
      "cell_type": "markdown",
      "source": [
        "# Exercício. Seleção de Atributos\n",
        "\n",
        "Empregue a função `SelectKBest` do Scikit-learn para determinar os 3 atributos que carregam mais informação para a determinação da classe `y`.\n",
        "\n",
        "**Dica**: Lembre-se de empregar os valores de entrada `X` já com o label encode e normalizados.\n",
        "\n"
      ],
      "metadata": {
        "id": "pOR03HZQh6On"
      }
    },
    {
      "cell_type": "code",
      "source": [
        "# Seu código aqui\n",
        "from sklearn.feature_selection import SelectKBest\n",
        "from sklearn.feature_selection import chi2\n",
        "from sklearn.feature_selection import mutual_info_classif\n",
        "\n"
      ],
      "metadata": {
        "id": "MM4JCwaFg4DU"
      },
      "execution_count": null,
      "outputs": []
    }
  ]
}