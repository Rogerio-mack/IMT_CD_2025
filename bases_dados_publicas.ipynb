{
  "nbformat": 4,
  "nbformat_minor": 0,
  "metadata": {
    "kernelspec": {
      "display_name": "Python 3",
      "language": "python",
      "name": "python3"
    },
    "language_info": {
      "codemirror_mode": {
        "name": "ipython",
        "version": 3
      },
      "file_extension": ".py",
      "mimetype": "text/x-python",
      "name": "python",
      "nbconvert_exporter": "python",
      "pygments_lexer": "ipython3",
      "version": "3.7.4"
    },
    "colab": {
      "provenance": [],
      "include_colab_link": true
    }
  },
  "cells": [
    {
      "cell_type": "markdown",
      "metadata": {
        "id": "view-in-github",
        "colab_type": "text"
      },
      "source": [
        "<a href=\"https://colab.research.google.com/github/Rogerio-mack/IMT_CD_2025/blob/main/bases_dados_publicas.ipynb\" target=\"_parent\"><img src=\"https://colab.research.google.com/assets/colab-badge.svg\" alt=\"Open In Colab\"/></a>"
      ]
    },
    {
      "cell_type": "markdown",
      "source": [
        "# Algumas **Bases de Dados Públicas**\n",
        "---\n",
        "\n"
      ],
      "metadata": {
        "id": "4E7cGBuZaOmL"
      }
    },
    {
      "cell_type": "markdown",
      "source": [
        "\\* *Em **negrito**, bases em destaque/interesse especial para este ano.*\n",
        "\n",
        "### Geral\n",
        "\n",
        "* [Portal de Dados Abertos do Governo (diversos)](https://dados.gov.br/home)\n",
        "\n",
        "### Saúde\n",
        "\n",
        "* [**FOSP Fundação Oncocentro de São Paulo**](https://fosp.saude.sp.gov.br/fosp/diretoria-adjunta-de-informacao-e-epidemiologia/rhc-registro-hospitalar-de-cancer/banco-de-dados-do-rhc/)\n",
        "\n",
        "* [**Info Dengue**](https://info.dengue.mat.br/)\n",
        "\n",
        "* [**PySUS, Doenças, Mortalidade, Dados Hospitalares**](https://pysus.readthedocs.io/en/latest/)\n",
        "\n",
        "### Mauá\n",
        "\n",
        "* [**Smart Campus Mauá**](https://www.maua.br/solucoes/eletronica-telecomunicacoes/projeto-smart-campus-maua)\n",
        "\n",
        "### Ciência, Educação e Meio Ambiente\n",
        "\n",
        "* [INMET, Instituto Nacional de Meteorologia](https://portal.inmet.gov.br/dadoshistoricos), Data\n",
        "* [Inpe, Dados Abertos sobre Queimadas](https://queimadas.dgi.inpe.br/queimadas/dados-abertos/), API + Data\n",
        "* Radio Astronomia, VLF *Very Low Frequency Data*, [VLF Data 1](https://vlf-craam.web.app/), [VLF CRAAM](https://vlf-craam.web.app/) [VLF WALDO](https://waldo.world/)\n",
        "*[Inep,\n",
        "Instituto Nacional de Estudos e Pesquisas Educacionais](https://www.gov.br/inep/pt-br/acesso-a-informacao/dados-abertos)\n",
        "\n",
        "### Diversos\n",
        "\n",
        "* [Airbnb](http://insideairbnb.com/get-the-data/), Data\n",
        "* [IMDB](https://www.imdb.com/interfaces/), Data (alternativamente [OMDBAPI](https://www.omdbapi.com/), API)\n",
        "* [Spotify](https://developer.spotify.com/documentation/web-api/), API + [Data](https://research.atspotify.com/datasets/)\n",
        "* [Waze](https://developers.google.com/waze?hl=pt-br), API\n",
        "\n",
        "### Economia e Finanças\n",
        "\n",
        "* [Gapminder](https://www.gapminder.org/), Data\n",
        "* [World Bank's Gender Data Portal](https://genderdata.worldbank.org/), Data (complementarmente use [OECD](https://www.oecd.org/gender/data/))\n",
        "* [World Inequality Database](https://wid.world/), Data\n",
        "* [World Bank – Databank - World Development Indicators](https://databank.worldbank.org/source/)\n",
        "* [INTER-AMERICAN DEVELOPMENT BANK (IDB ou BID) – DATA](https://data.iadb.org)\n",
        "* [ORGANISATION FOR ECONOMIC CO-OPERATION AND DEVELOPMENT (OECD) – ECONOMIC OUTLOOK](https://stats.oecd.org/Index.aspx?DataSetCode=EO)\n",
        "* [FEDERAL RESERVE ECONOMIC DATA (FRED)](https://fred.stlouisfed.org/)\n",
        "* [BANK FOR INTERNATIONAL SETTLEMENTS (BIS) – STATISTICS](https://www.bis.org/)\n",
        "* [US Treasury](https://home.treasury.gov/)\n",
        "* [INTERNATIONAL MONETARY FUND (IMF) – DATA](https://www.imf.org/en/Data)\n",
        "* [INSTITUTO BRASILEIRO DE GEOGRAFIA E ESTATÍSTICA (IBGE)](https://www.ibge.gov.br/)\n",
        "* [SISTEMA IBGE DE RECUPERAÇÃO AUTOMÁTICA (SIDRA)](https://sidra.ibge.gov.br/home/pimpfbr/brasil)\n",
        "* [COMISSÃO DE VALORES MOBILIÁRIOS (CVM) – CENTRAL DE SISTEMAS](http://sistemas.cvm.gov.br/)\n",
        "* [BANCO CENTRAL (BACEN) – ESTATÍSTICAS E SÉRIES TEMPORAIS](https://www.bcb.gov.br/estatisticas)\n",
        "* [INSTITUTO DE PESQUISA ECONÔMICA APLICADA (IPEA) DATA](http://www.ipeadata.gov.br/Default.aspx)\n",
        "\n",
        "\n"
      ],
      "metadata": {
        "id": "pftbdJn5O7Jg"
      }
    }
  ]
}