{
  "nbformat": 4,
  "nbformat_minor": 0,
  "metadata": {
    "colab": {
      "provenance": [],
      "authorship_tag": "ABX9TyPoKxTWR9Rd8UcHsWiytAyh",
      "include_colab_link": true
    },
    "kernelspec": {
      "name": "python3",
      "display_name": "Python 3"
    },
    "language_info": {
      "name": "python"
    }
  },
  "cells": [
    {
      "cell_type": "markdown",
      "metadata": {
        "id": "view-in-github",
        "colab_type": "text"
      },
      "source": [
        "<a href=\"https://colab.research.google.com/github/Rogerio-mack/IMT_CD_2025/blob/main/Ex1_pandas1_solucao.ipynb\" target=\"_parent\"><img src=\"https://colab.research.google.com/assets/colab-badge.svg\" alt=\"Open In Colab\"/></a>"
      ]
    },
    {
      "cell_type": "markdown",
      "metadata": {
        "id": "RJiGvGqyPEzF"
      },
      "source": [
        "<head>\n",
        "  <meta name=\"author\" content=\"Rogério de Oliveira\">\n",
        "  <meta institution=\"author\" content=\"ITM\">\n",
        "</head>\n",
        "\n",
        "<img src=\"https://maua.br/images/selo-60-anos-maua.svg\" width=300, align=\"right\">\n",
        "<!-- <h1 align=left><font size = 6, style=\"color:rgb(200,0,0)\"> optional title </font></h1> -->\n"
      ]
    },
    {
      "cell_type": "code",
      "metadata": {
        "id": "rYx9D4GZA5o9",
        "cellView": "form"
      },
      "source": [
        "#@markdown Nome completo e RA (*\\<nome\\>, \\<RA\\>*)\n",
        "Aluno = 'Adriana Fujita, 1115665' #@param {type:\"string\"}\n",
        "\n",
        "\n",
        "\n",
        "\n"
      ],
      "execution_count": 2,
      "outputs": []
    },
    {
      "cell_type": "markdown",
      "source": [
        "# **CASE: NFL, National Football League**\n",
        "\n",
        "Este conjunto de dados apresenta estatísticas de ofensivas da NFL para jogos realizados de 2019 a 2022. São dados como jardas de passe, jardas de corrida, jardas de recepção, etc. dos jogos, estádios etc. Antes de iniciar procure entender como os dados estão organizados os dados.\n",
        "\n",
        "[Data](https://github.com/Rogerio-mack/IMT_CD_2025/raw/refs/heads/main/data/nfl_offensive_stats.csv)\n",
        "\n",
        "<br>\n",
        "\n",
        "Você poderá achar útil empregar o comando [drop_duplicates()](https://pandas.pydata.org/docs/reference/api/pandas.DataFrame.drop_duplicates.html),\n",
        "\n",
        "```\n",
        "df_nodup = df.drop_duplicates()\n",
        "```\n",
        "\n",
        "Para excluir dados em uma seleção de dados duplicados. Você pode querer utilizar isso para selecionar somente dados de jogos ou dos estádios. Dados sobre vencedores das partidas podem ser obtidos pela pontuação (`scores`) nos jogos."
      ],
      "metadata": {
        "id": "Sm2hZKI_riTr"
      }
    },
    {
      "cell_type": "code",
      "source": [
        "import pandas as pd\n",
        "import numpy as np"
      ],
      "metadata": {
        "id": "zv1XAGwf4zdS"
      },
      "execution_count": 3,
      "outputs": []
    },
    {
      "cell_type": "code",
      "source": [
        "df = pd.read_csv('https://github.com/Rogerio-mack/IMT_CD_2025/raw/refs/heads/main/data/nfl_offensive_stats.csv')\n",
        "df.head()"
      ],
      "metadata": {
        "id": "iPNpiFASltbt",
        "outputId": "f54540d2-51e7-41bc-bbfa-c3443ecce443",
        "colab": {
          "base_uri": "https://localhost:8080/",
          "height": 360
        }
      },
      "execution_count": 4,
      "outputs": [
        {
          "output_type": "execute_result",
          "data": {
            "text/plain": [
              "        game_id player_id position                     player team  pass_cmp  \\\n",
              "0  201909050chi  RodgAa00        QB             Aaron Rodgers  GNB        18   \n",
              "1  201909050chi  JoneAa00        RB               Aaron Jones  GNB         0   \n",
              "2  201909050chi  ValdMa00        WR  Marquez Valdes-Scantling  GNB         0   \n",
              "3  201909050chi  AdamDa01        WR             Davante Adams  GNB         0   \n",
              "4  201909050chi  GrahJi00        TE              Jimmy Graham  GNB         0   \n",
              "\n",
              "   pass_att  pass_yds  pass_td  pass_int  ...     OT      Roof  Surface  \\\n",
              "0        30       203        1         0  ...  False  outdoors    grass   \n",
              "1         0         0        0         0  ...  False  outdoors    grass   \n",
              "2         0         0        0         0  ...  False  outdoors    grass   \n",
              "3         0         0        0         0  ...  False  outdoors    grass   \n",
              "4         0         0        0         0  ...  False  outdoors    grass   \n",
              "\n",
              "   Temperature  Humidity  Wind_Speed  Vegas_Line  Vegas_Favorite  Over_Under  \\\n",
              "0           65        69          10        -3.5             CHI        47.0   \n",
              "1           65        69          10        -3.5             CHI        47.0   \n",
              "2           65        69          10        -3.5             CHI        47.0   \n",
              "3           65        69          10        -3.5             CHI        47.0   \n",
              "4           65        69          10        -3.5             CHI        47.0   \n",
              "\n",
              "   game_date  \n",
              "0   9/5/2019  \n",
              "1   9/5/2019  \n",
              "2   9/5/2019  \n",
              "3   9/5/2019  \n",
              "4   9/5/2019  \n",
              "\n",
              "[5 rows x 69 columns]"
            ],
            "text/html": [
              "\n",
              "  <div id=\"df-58a336fc-7a22-47ab-ae20-dda1798e27a9\" class=\"colab-df-container\">\n",
              "    <div>\n",
              "<style scoped>\n",
              "    .dataframe tbody tr th:only-of-type {\n",
              "        vertical-align: middle;\n",
              "    }\n",
              "\n",
              "    .dataframe tbody tr th {\n",
              "        vertical-align: top;\n",
              "    }\n",
              "\n",
              "    .dataframe thead th {\n",
              "        text-align: right;\n",
              "    }\n",
              "</style>\n",
              "<table border=\"1\" class=\"dataframe\">\n",
              "  <thead>\n",
              "    <tr style=\"text-align: right;\">\n",
              "      <th></th>\n",
              "      <th>game_id</th>\n",
              "      <th>player_id</th>\n",
              "      <th>position</th>\n",
              "      <th>player</th>\n",
              "      <th>team</th>\n",
              "      <th>pass_cmp</th>\n",
              "      <th>pass_att</th>\n",
              "      <th>pass_yds</th>\n",
              "      <th>pass_td</th>\n",
              "      <th>pass_int</th>\n",
              "      <th>...</th>\n",
              "      <th>OT</th>\n",
              "      <th>Roof</th>\n",
              "      <th>Surface</th>\n",
              "      <th>Temperature</th>\n",
              "      <th>Humidity</th>\n",
              "      <th>Wind_Speed</th>\n",
              "      <th>Vegas_Line</th>\n",
              "      <th>Vegas_Favorite</th>\n",
              "      <th>Over_Under</th>\n",
              "      <th>game_date</th>\n",
              "    </tr>\n",
              "  </thead>\n",
              "  <tbody>\n",
              "    <tr>\n",
              "      <th>0</th>\n",
              "      <td>201909050chi</td>\n",
              "      <td>RodgAa00</td>\n",
              "      <td>QB</td>\n",
              "      <td>Aaron Rodgers</td>\n",
              "      <td>GNB</td>\n",
              "      <td>18</td>\n",
              "      <td>30</td>\n",
              "      <td>203</td>\n",
              "      <td>1</td>\n",
              "      <td>0</td>\n",
              "      <td>...</td>\n",
              "      <td>False</td>\n",
              "      <td>outdoors</td>\n",
              "      <td>grass</td>\n",
              "      <td>65</td>\n",
              "      <td>69</td>\n",
              "      <td>10</td>\n",
              "      <td>-3.5</td>\n",
              "      <td>CHI</td>\n",
              "      <td>47.0</td>\n",
              "      <td>9/5/2019</td>\n",
              "    </tr>\n",
              "    <tr>\n",
              "      <th>1</th>\n",
              "      <td>201909050chi</td>\n",
              "      <td>JoneAa00</td>\n",
              "      <td>RB</td>\n",
              "      <td>Aaron Jones</td>\n",
              "      <td>GNB</td>\n",
              "      <td>0</td>\n",
              "      <td>0</td>\n",
              "      <td>0</td>\n",
              "      <td>0</td>\n",
              "      <td>0</td>\n",
              "      <td>...</td>\n",
              "      <td>False</td>\n",
              "      <td>outdoors</td>\n",
              "      <td>grass</td>\n",
              "      <td>65</td>\n",
              "      <td>69</td>\n",
              "      <td>10</td>\n",
              "      <td>-3.5</td>\n",
              "      <td>CHI</td>\n",
              "      <td>47.0</td>\n",
              "      <td>9/5/2019</td>\n",
              "    </tr>\n",
              "    <tr>\n",
              "      <th>2</th>\n",
              "      <td>201909050chi</td>\n",
              "      <td>ValdMa00</td>\n",
              "      <td>WR</td>\n",
              "      <td>Marquez Valdes-Scantling</td>\n",
              "      <td>GNB</td>\n",
              "      <td>0</td>\n",
              "      <td>0</td>\n",
              "      <td>0</td>\n",
              "      <td>0</td>\n",
              "      <td>0</td>\n",
              "      <td>...</td>\n",
              "      <td>False</td>\n",
              "      <td>outdoors</td>\n",
              "      <td>grass</td>\n",
              "      <td>65</td>\n",
              "      <td>69</td>\n",
              "      <td>10</td>\n",
              "      <td>-3.5</td>\n",
              "      <td>CHI</td>\n",
              "      <td>47.0</td>\n",
              "      <td>9/5/2019</td>\n",
              "    </tr>\n",
              "    <tr>\n",
              "      <th>3</th>\n",
              "      <td>201909050chi</td>\n",
              "      <td>AdamDa01</td>\n",
              "      <td>WR</td>\n",
              "      <td>Davante Adams</td>\n",
              "      <td>GNB</td>\n",
              "      <td>0</td>\n",
              "      <td>0</td>\n",
              "      <td>0</td>\n",
              "      <td>0</td>\n",
              "      <td>0</td>\n",
              "      <td>...</td>\n",
              "      <td>False</td>\n",
              "      <td>outdoors</td>\n",
              "      <td>grass</td>\n",
              "      <td>65</td>\n",
              "      <td>69</td>\n",
              "      <td>10</td>\n",
              "      <td>-3.5</td>\n",
              "      <td>CHI</td>\n",
              "      <td>47.0</td>\n",
              "      <td>9/5/2019</td>\n",
              "    </tr>\n",
              "    <tr>\n",
              "      <th>4</th>\n",
              "      <td>201909050chi</td>\n",
              "      <td>GrahJi00</td>\n",
              "      <td>TE</td>\n",
              "      <td>Jimmy Graham</td>\n",
              "      <td>GNB</td>\n",
              "      <td>0</td>\n",
              "      <td>0</td>\n",
              "      <td>0</td>\n",
              "      <td>0</td>\n",
              "      <td>0</td>\n",
              "      <td>...</td>\n",
              "      <td>False</td>\n",
              "      <td>outdoors</td>\n",
              "      <td>grass</td>\n",
              "      <td>65</td>\n",
              "      <td>69</td>\n",
              "      <td>10</td>\n",
              "      <td>-3.5</td>\n",
              "      <td>CHI</td>\n",
              "      <td>47.0</td>\n",
              "      <td>9/5/2019</td>\n",
              "    </tr>\n",
              "  </tbody>\n",
              "</table>\n",
              "<p>5 rows × 69 columns</p>\n",
              "</div>\n",
              "    <div class=\"colab-df-buttons\">\n",
              "\n",
              "  <div class=\"colab-df-container\">\n",
              "    <button class=\"colab-df-convert\" onclick=\"convertToInteractive('df-58a336fc-7a22-47ab-ae20-dda1798e27a9')\"\n",
              "            title=\"Convert this dataframe to an interactive table.\"\n",
              "            style=\"display:none;\">\n",
              "\n",
              "  <svg xmlns=\"http://www.w3.org/2000/svg\" height=\"24px\" viewBox=\"0 -960 960 960\">\n",
              "    <path d=\"M120-120v-720h720v720H120Zm60-500h600v-160H180v160Zm220 220h160v-160H400v160Zm0 220h160v-160H400v160ZM180-400h160v-160H180v160Zm440 0h160v-160H620v160ZM180-180h160v-160H180v160Zm440 0h160v-160H620v160Z\"/>\n",
              "  </svg>\n",
              "    </button>\n",
              "\n",
              "  <style>\n",
              "    .colab-df-container {\n",
              "      display:flex;\n",
              "      gap: 12px;\n",
              "    }\n",
              "\n",
              "    .colab-df-convert {\n",
              "      background-color: #E8F0FE;\n",
              "      border: none;\n",
              "      border-radius: 50%;\n",
              "      cursor: pointer;\n",
              "      display: none;\n",
              "      fill: #1967D2;\n",
              "      height: 32px;\n",
              "      padding: 0 0 0 0;\n",
              "      width: 32px;\n",
              "    }\n",
              "\n",
              "    .colab-df-convert:hover {\n",
              "      background-color: #E2EBFA;\n",
              "      box-shadow: 0px 1px 2px rgba(60, 64, 67, 0.3), 0px 1px 3px 1px rgba(60, 64, 67, 0.15);\n",
              "      fill: #174EA6;\n",
              "    }\n",
              "\n",
              "    .colab-df-buttons div {\n",
              "      margin-bottom: 4px;\n",
              "    }\n",
              "\n",
              "    [theme=dark] .colab-df-convert {\n",
              "      background-color: #3B4455;\n",
              "      fill: #D2E3FC;\n",
              "    }\n",
              "\n",
              "    [theme=dark] .colab-df-convert:hover {\n",
              "      background-color: #434B5C;\n",
              "      box-shadow: 0px 1px 3px 1px rgba(0, 0, 0, 0.15);\n",
              "      filter: drop-shadow(0px 1px 2px rgba(0, 0, 0, 0.3));\n",
              "      fill: #FFFFFF;\n",
              "    }\n",
              "  </style>\n",
              "\n",
              "    <script>\n",
              "      const buttonEl =\n",
              "        document.querySelector('#df-58a336fc-7a22-47ab-ae20-dda1798e27a9 button.colab-df-convert');\n",
              "      buttonEl.style.display =\n",
              "        google.colab.kernel.accessAllowed ? 'block' : 'none';\n",
              "\n",
              "      async function convertToInteractive(key) {\n",
              "        const element = document.querySelector('#df-58a336fc-7a22-47ab-ae20-dda1798e27a9');\n",
              "        const dataTable =\n",
              "          await google.colab.kernel.invokeFunction('convertToInteractive',\n",
              "                                                    [key], {});\n",
              "        if (!dataTable) return;\n",
              "\n",
              "        const docLinkHtml = 'Like what you see? Visit the ' +\n",
              "          '<a target=\"_blank\" href=https://colab.research.google.com/notebooks/data_table.ipynb>data table notebook</a>'\n",
              "          + ' to learn more about interactive tables.';\n",
              "        element.innerHTML = '';\n",
              "        dataTable['output_type'] = 'display_data';\n",
              "        await google.colab.output.renderOutput(dataTable, element);\n",
              "        const docLink = document.createElement('div');\n",
              "        docLink.innerHTML = docLinkHtml;\n",
              "        element.appendChild(docLink);\n",
              "      }\n",
              "    </script>\n",
              "  </div>\n",
              "\n",
              "\n",
              "<div id=\"df-8ef075c9-0d5f-4ea1-b92d-d22a398ba5ab\">\n",
              "  <button class=\"colab-df-quickchart\" onclick=\"quickchart('df-8ef075c9-0d5f-4ea1-b92d-d22a398ba5ab')\"\n",
              "            title=\"Suggest charts\"\n",
              "            style=\"display:none;\">\n",
              "\n",
              "<svg xmlns=\"http://www.w3.org/2000/svg\" height=\"24px\"viewBox=\"0 0 24 24\"\n",
              "     width=\"24px\">\n",
              "    <g>\n",
              "        <path d=\"M19 3H5c-1.1 0-2 .9-2 2v14c0 1.1.9 2 2 2h14c1.1 0 2-.9 2-2V5c0-1.1-.9-2-2-2zM9 17H7v-7h2v7zm4 0h-2V7h2v10zm4 0h-2v-4h2v4z\"/>\n",
              "    </g>\n",
              "</svg>\n",
              "  </button>\n",
              "\n",
              "<style>\n",
              "  .colab-df-quickchart {\n",
              "      --bg-color: #E8F0FE;\n",
              "      --fill-color: #1967D2;\n",
              "      --hover-bg-color: #E2EBFA;\n",
              "      --hover-fill-color: #174EA6;\n",
              "      --disabled-fill-color: #AAA;\n",
              "      --disabled-bg-color: #DDD;\n",
              "  }\n",
              "\n",
              "  [theme=dark] .colab-df-quickchart {\n",
              "      --bg-color: #3B4455;\n",
              "      --fill-color: #D2E3FC;\n",
              "      --hover-bg-color: #434B5C;\n",
              "      --hover-fill-color: #FFFFFF;\n",
              "      --disabled-bg-color: #3B4455;\n",
              "      --disabled-fill-color: #666;\n",
              "  }\n",
              "\n",
              "  .colab-df-quickchart {\n",
              "    background-color: var(--bg-color);\n",
              "    border: none;\n",
              "    border-radius: 50%;\n",
              "    cursor: pointer;\n",
              "    display: none;\n",
              "    fill: var(--fill-color);\n",
              "    height: 32px;\n",
              "    padding: 0;\n",
              "    width: 32px;\n",
              "  }\n",
              "\n",
              "  .colab-df-quickchart:hover {\n",
              "    background-color: var(--hover-bg-color);\n",
              "    box-shadow: 0 1px 2px rgba(60, 64, 67, 0.3), 0 1px 3px 1px rgba(60, 64, 67, 0.15);\n",
              "    fill: var(--button-hover-fill-color);\n",
              "  }\n",
              "\n",
              "  .colab-df-quickchart-complete:disabled,\n",
              "  .colab-df-quickchart-complete:disabled:hover {\n",
              "    background-color: var(--disabled-bg-color);\n",
              "    fill: var(--disabled-fill-color);\n",
              "    box-shadow: none;\n",
              "  }\n",
              "\n",
              "  .colab-df-spinner {\n",
              "    border: 2px solid var(--fill-color);\n",
              "    border-color: transparent;\n",
              "    border-bottom-color: var(--fill-color);\n",
              "    animation:\n",
              "      spin 1s steps(1) infinite;\n",
              "  }\n",
              "\n",
              "  @keyframes spin {\n",
              "    0% {\n",
              "      border-color: transparent;\n",
              "      border-bottom-color: var(--fill-color);\n",
              "      border-left-color: var(--fill-color);\n",
              "    }\n",
              "    20% {\n",
              "      border-color: transparent;\n",
              "      border-left-color: var(--fill-color);\n",
              "      border-top-color: var(--fill-color);\n",
              "    }\n",
              "    30% {\n",
              "      border-color: transparent;\n",
              "      border-left-color: var(--fill-color);\n",
              "      border-top-color: var(--fill-color);\n",
              "      border-right-color: var(--fill-color);\n",
              "    }\n",
              "    40% {\n",
              "      border-color: transparent;\n",
              "      border-right-color: var(--fill-color);\n",
              "      border-top-color: var(--fill-color);\n",
              "    }\n",
              "    60% {\n",
              "      border-color: transparent;\n",
              "      border-right-color: var(--fill-color);\n",
              "    }\n",
              "    80% {\n",
              "      border-color: transparent;\n",
              "      border-right-color: var(--fill-color);\n",
              "      border-bottom-color: var(--fill-color);\n",
              "    }\n",
              "    90% {\n",
              "      border-color: transparent;\n",
              "      border-bottom-color: var(--fill-color);\n",
              "    }\n",
              "  }\n",
              "</style>\n",
              "\n",
              "  <script>\n",
              "    async function quickchart(key) {\n",
              "      const quickchartButtonEl =\n",
              "        document.querySelector('#' + key + ' button');\n",
              "      quickchartButtonEl.disabled = true;  // To prevent multiple clicks.\n",
              "      quickchartButtonEl.classList.add('colab-df-spinner');\n",
              "      try {\n",
              "        const charts = await google.colab.kernel.invokeFunction(\n",
              "            'suggestCharts', [key], {});\n",
              "      } catch (error) {\n",
              "        console.error('Error during call to suggestCharts:', error);\n",
              "      }\n",
              "      quickchartButtonEl.classList.remove('colab-df-spinner');\n",
              "      quickchartButtonEl.classList.add('colab-df-quickchart-complete');\n",
              "    }\n",
              "    (() => {\n",
              "      let quickchartButtonEl =\n",
              "        document.querySelector('#df-8ef075c9-0d5f-4ea1-b92d-d22a398ba5ab button');\n",
              "      quickchartButtonEl.style.display =\n",
              "        google.colab.kernel.accessAllowed ? 'block' : 'none';\n",
              "    })();\n",
              "  </script>\n",
              "</div>\n",
              "\n",
              "    </div>\n",
              "  </div>\n"
            ],
            "application/vnd.google.colaboratory.intrinsic+json": {
              "type": "dataframe",
              "variable_name": "df"
            }
          },
          "metadata": {},
          "execution_count": 4
        }
      ]
    },
    {
      "cell_type": "markdown",
      "source": [
        "# Q1.\n",
        "\n",
        "(NFL) Qual a média de passes completos (`pass_cmp`) do jogador 'Aaron Rodgers' nos jogos que se encontram na base?"
      ],
      "metadata": {
        "id": "5GS7bF9uB75o"
      }
    },
    {
      "cell_type": "code",
      "source": [
        "df[ df.player == 'Aaron Rodgers'].pass_cmp.mean()"
      ],
      "metadata": {
        "colab": {
          "base_uri": "https://localhost:8080/"
        },
        "outputId": "1807f90c-fb2a-4330-da21-bde01448c026",
        "id": "Gie4Zri1B75p"
      },
      "execution_count": 5,
      "outputs": [
        {
          "output_type": "execute_result",
          "data": {
            "text/plain": [
              "np.float64(22.90566037735849)"
            ]
          },
          "metadata": {},
          "execution_count": 5
        }
      ]
    },
    {
      "cell_type": "markdown",
      "source": [
        "# Q2.\n",
        "\n",
        "(NFL) Por quantos times diferentes jogaram 'Phillip Dorsett' e 'Marcus Johnson' no período de jogos que se encontram na base?"
      ],
      "metadata": {
        "id": "R-oMllTjFUwO"
      }
    },
    {
      "cell_type": "code",
      "source": [
        "display(df[ (df.player == 'Phillip Dorsett') ].team.unique())\n",
        "display(df[ (df.player == 'Phillip Dorsett') ].team.nunique())\n",
        "\n",
        "display(df[ (df.player == 'Marcus Johnson') ].team.unique())\n",
        "display(df[ (df.player == 'Marcus Johnson') ].team.nunique())\n"
      ],
      "metadata": {
        "colab": {
          "base_uri": "https://localhost:8080/",
          "height": 86
        },
        "outputId": "b85e688b-5a58-44eb-ba66-b1fb4f5cc439",
        "id": "Iyq9rybdFUwO"
      },
      "execution_count": 6,
      "outputs": [
        {
          "output_type": "display_data",
          "data": {
            "text/plain": [
              "array(['NWE', 'JAX', 'SEA', 'HOU'], dtype=object)"
            ]
          },
          "metadata": {}
        },
        {
          "output_type": "display_data",
          "data": {
            "text/plain": [
              "4"
            ]
          },
          "metadata": {}
        },
        {
          "output_type": "display_data",
          "data": {
            "text/plain": [
              "array(['IND', 'TEN'], dtype=object)"
            ]
          },
          "metadata": {}
        },
        {
          "output_type": "display_data",
          "data": {
            "text/plain": [
              "2"
            ]
          },
          "metadata": {}
        }
      ]
    },
    {
      "cell_type": "markdown",
      "source": [
        "# Q3.\n",
        "\n",
        "(NFL) Quantos jogos estão representados na base?"
      ],
      "metadata": {
        "id": "EdbVGG9Gu5vO"
      }
    },
    {
      "cell_type": "code",
      "source": [
        "df.game_id.nunique()"
      ],
      "metadata": {
        "id": "N1oTsrscu4vP",
        "outputId": "db01fd93-ee23-429c-e855-292f736373d5",
        "colab": {
          "base_uri": "https://localhost:8080/"
        }
      },
      "execution_count": 7,
      "outputs": [
        {
          "output_type": "execute_result",
          "data": {
            "text/plain": [
              "820"
            ]
          },
          "metadata": {},
          "execution_count": 7
        }
      ]
    },
    {
      "cell_type": "code",
      "source": [
        "len(df.game_id.drop_duplicates())"
      ],
      "metadata": {
        "id": "MCVVuzN72dmJ",
        "outputId": "8e7e92e6-dabd-47a7-a4a4-e275922a4f9b",
        "colab": {
          "base_uri": "https://localhost:8080/"
        }
      },
      "execution_count": 8,
      "outputs": [
        {
          "output_type": "execute_result",
          "data": {
            "text/plain": [
              "820"
            ]
          },
          "metadata": {},
          "execution_count": 8
        }
      ]
    },
    {
      "cell_type": "markdown",
      "source": [
        "# Q4.\n",
        "\n",
        "(NFL) O \"Bufalo Bulls\" (`BUF`) participou de quantos jogos dentre os jogos na base?  "
      ],
      "metadata": {
        "id": "nIFZpR5Ovb-r"
      }
    },
    {
      "cell_type": "markdown",
      "source": [
        "Para isso pode ser interessante criar uma base de jogos. O \"Bufalo Bulls\" pode ter jogado em casa ou como visitante."
      ],
      "metadata": {
        "id": "MoxDMMFqThBn"
      }
    },
    {
      "cell_type": "code",
      "source": [
        "df_games = df[['game_id', 'home_team','home_score','vis_team','vis_score']].drop_duplicates()\n",
        "df_games.head()"
      ],
      "metadata": {
        "id": "c93EPbb_n94z",
        "outputId": "c17a9c0e-5e53-461c-ed93-9850aa68f69c",
        "colab": {
          "base_uri": "https://localhost:8080/",
          "height": 206
        }
      },
      "execution_count": 9,
      "outputs": [
        {
          "output_type": "execute_result",
          "data": {
            "text/plain": [
              "         game_id home_team  home_score vis_team  vis_score\n",
              "0   201909050chi       CHI           3      GNB         10\n",
              "24  201909080car       CAR          27      LAR         30\n",
              "44  201909080cle       CLE          13      TEN         43\n",
              "68  201909080crd       ARI          27      DET         27\n",
              "91  201909080dal       DAL          35      NYG         17"
            ],
            "text/html": [
              "\n",
              "  <div id=\"df-84b39ace-b365-4b74-91c8-447f713a018f\" class=\"colab-df-container\">\n",
              "    <div>\n",
              "<style scoped>\n",
              "    .dataframe tbody tr th:only-of-type {\n",
              "        vertical-align: middle;\n",
              "    }\n",
              "\n",
              "    .dataframe tbody tr th {\n",
              "        vertical-align: top;\n",
              "    }\n",
              "\n",
              "    .dataframe thead th {\n",
              "        text-align: right;\n",
              "    }\n",
              "</style>\n",
              "<table border=\"1\" class=\"dataframe\">\n",
              "  <thead>\n",
              "    <tr style=\"text-align: right;\">\n",
              "      <th></th>\n",
              "      <th>game_id</th>\n",
              "      <th>home_team</th>\n",
              "      <th>home_score</th>\n",
              "      <th>vis_team</th>\n",
              "      <th>vis_score</th>\n",
              "    </tr>\n",
              "  </thead>\n",
              "  <tbody>\n",
              "    <tr>\n",
              "      <th>0</th>\n",
              "      <td>201909050chi</td>\n",
              "      <td>CHI</td>\n",
              "      <td>3</td>\n",
              "      <td>GNB</td>\n",
              "      <td>10</td>\n",
              "    </tr>\n",
              "    <tr>\n",
              "      <th>24</th>\n",
              "      <td>201909080car</td>\n",
              "      <td>CAR</td>\n",
              "      <td>27</td>\n",
              "      <td>LAR</td>\n",
              "      <td>30</td>\n",
              "    </tr>\n",
              "    <tr>\n",
              "      <th>44</th>\n",
              "      <td>201909080cle</td>\n",
              "      <td>CLE</td>\n",
              "      <td>13</td>\n",
              "      <td>TEN</td>\n",
              "      <td>43</td>\n",
              "    </tr>\n",
              "    <tr>\n",
              "      <th>68</th>\n",
              "      <td>201909080crd</td>\n",
              "      <td>ARI</td>\n",
              "      <td>27</td>\n",
              "      <td>DET</td>\n",
              "      <td>27</td>\n",
              "    </tr>\n",
              "    <tr>\n",
              "      <th>91</th>\n",
              "      <td>201909080dal</td>\n",
              "      <td>DAL</td>\n",
              "      <td>35</td>\n",
              "      <td>NYG</td>\n",
              "      <td>17</td>\n",
              "    </tr>\n",
              "  </tbody>\n",
              "</table>\n",
              "</div>\n",
              "    <div class=\"colab-df-buttons\">\n",
              "\n",
              "  <div class=\"colab-df-container\">\n",
              "    <button class=\"colab-df-convert\" onclick=\"convertToInteractive('df-84b39ace-b365-4b74-91c8-447f713a018f')\"\n",
              "            title=\"Convert this dataframe to an interactive table.\"\n",
              "            style=\"display:none;\">\n",
              "\n",
              "  <svg xmlns=\"http://www.w3.org/2000/svg\" height=\"24px\" viewBox=\"0 -960 960 960\">\n",
              "    <path d=\"M120-120v-720h720v720H120Zm60-500h600v-160H180v160Zm220 220h160v-160H400v160Zm0 220h160v-160H400v160ZM180-400h160v-160H180v160Zm440 0h160v-160H620v160ZM180-180h160v-160H180v160Zm440 0h160v-160H620v160Z\"/>\n",
              "  </svg>\n",
              "    </button>\n",
              "\n",
              "  <style>\n",
              "    .colab-df-container {\n",
              "      display:flex;\n",
              "      gap: 12px;\n",
              "    }\n",
              "\n",
              "    .colab-df-convert {\n",
              "      background-color: #E8F0FE;\n",
              "      border: none;\n",
              "      border-radius: 50%;\n",
              "      cursor: pointer;\n",
              "      display: none;\n",
              "      fill: #1967D2;\n",
              "      height: 32px;\n",
              "      padding: 0 0 0 0;\n",
              "      width: 32px;\n",
              "    }\n",
              "\n",
              "    .colab-df-convert:hover {\n",
              "      background-color: #E2EBFA;\n",
              "      box-shadow: 0px 1px 2px rgba(60, 64, 67, 0.3), 0px 1px 3px 1px rgba(60, 64, 67, 0.15);\n",
              "      fill: #174EA6;\n",
              "    }\n",
              "\n",
              "    .colab-df-buttons div {\n",
              "      margin-bottom: 4px;\n",
              "    }\n",
              "\n",
              "    [theme=dark] .colab-df-convert {\n",
              "      background-color: #3B4455;\n",
              "      fill: #D2E3FC;\n",
              "    }\n",
              "\n",
              "    [theme=dark] .colab-df-convert:hover {\n",
              "      background-color: #434B5C;\n",
              "      box-shadow: 0px 1px 3px 1px rgba(0, 0, 0, 0.15);\n",
              "      filter: drop-shadow(0px 1px 2px rgba(0, 0, 0, 0.3));\n",
              "      fill: #FFFFFF;\n",
              "    }\n",
              "  </style>\n",
              "\n",
              "    <script>\n",
              "      const buttonEl =\n",
              "        document.querySelector('#df-84b39ace-b365-4b74-91c8-447f713a018f button.colab-df-convert');\n",
              "      buttonEl.style.display =\n",
              "        google.colab.kernel.accessAllowed ? 'block' : 'none';\n",
              "\n",
              "      async function convertToInteractive(key) {\n",
              "        const element = document.querySelector('#df-84b39ace-b365-4b74-91c8-447f713a018f');\n",
              "        const dataTable =\n",
              "          await google.colab.kernel.invokeFunction('convertToInteractive',\n",
              "                                                    [key], {});\n",
              "        if (!dataTable) return;\n",
              "\n",
              "        const docLinkHtml = 'Like what you see? Visit the ' +\n",
              "          '<a target=\"_blank\" href=https://colab.research.google.com/notebooks/data_table.ipynb>data table notebook</a>'\n",
              "          + ' to learn more about interactive tables.';\n",
              "        element.innerHTML = '';\n",
              "        dataTable['output_type'] = 'display_data';\n",
              "        await google.colab.output.renderOutput(dataTable, element);\n",
              "        const docLink = document.createElement('div');\n",
              "        docLink.innerHTML = docLinkHtml;\n",
              "        element.appendChild(docLink);\n",
              "      }\n",
              "    </script>\n",
              "  </div>\n",
              "\n",
              "\n",
              "<div id=\"df-41b13fc9-5191-4740-b605-0140454f5326\">\n",
              "  <button class=\"colab-df-quickchart\" onclick=\"quickchart('df-41b13fc9-5191-4740-b605-0140454f5326')\"\n",
              "            title=\"Suggest charts\"\n",
              "            style=\"display:none;\">\n",
              "\n",
              "<svg xmlns=\"http://www.w3.org/2000/svg\" height=\"24px\"viewBox=\"0 0 24 24\"\n",
              "     width=\"24px\">\n",
              "    <g>\n",
              "        <path d=\"M19 3H5c-1.1 0-2 .9-2 2v14c0 1.1.9 2 2 2h14c1.1 0 2-.9 2-2V5c0-1.1-.9-2-2-2zM9 17H7v-7h2v7zm4 0h-2V7h2v10zm4 0h-2v-4h2v4z\"/>\n",
              "    </g>\n",
              "</svg>\n",
              "  </button>\n",
              "\n",
              "<style>\n",
              "  .colab-df-quickchart {\n",
              "      --bg-color: #E8F0FE;\n",
              "      --fill-color: #1967D2;\n",
              "      --hover-bg-color: #E2EBFA;\n",
              "      --hover-fill-color: #174EA6;\n",
              "      --disabled-fill-color: #AAA;\n",
              "      --disabled-bg-color: #DDD;\n",
              "  }\n",
              "\n",
              "  [theme=dark] .colab-df-quickchart {\n",
              "      --bg-color: #3B4455;\n",
              "      --fill-color: #D2E3FC;\n",
              "      --hover-bg-color: #434B5C;\n",
              "      --hover-fill-color: #FFFFFF;\n",
              "      --disabled-bg-color: #3B4455;\n",
              "      --disabled-fill-color: #666;\n",
              "  }\n",
              "\n",
              "  .colab-df-quickchart {\n",
              "    background-color: var(--bg-color);\n",
              "    border: none;\n",
              "    border-radius: 50%;\n",
              "    cursor: pointer;\n",
              "    display: none;\n",
              "    fill: var(--fill-color);\n",
              "    height: 32px;\n",
              "    padding: 0;\n",
              "    width: 32px;\n",
              "  }\n",
              "\n",
              "  .colab-df-quickchart:hover {\n",
              "    background-color: var(--hover-bg-color);\n",
              "    box-shadow: 0 1px 2px rgba(60, 64, 67, 0.3), 0 1px 3px 1px rgba(60, 64, 67, 0.15);\n",
              "    fill: var(--button-hover-fill-color);\n",
              "  }\n",
              "\n",
              "  .colab-df-quickchart-complete:disabled,\n",
              "  .colab-df-quickchart-complete:disabled:hover {\n",
              "    background-color: var(--disabled-bg-color);\n",
              "    fill: var(--disabled-fill-color);\n",
              "    box-shadow: none;\n",
              "  }\n",
              "\n",
              "  .colab-df-spinner {\n",
              "    border: 2px solid var(--fill-color);\n",
              "    border-color: transparent;\n",
              "    border-bottom-color: var(--fill-color);\n",
              "    animation:\n",
              "      spin 1s steps(1) infinite;\n",
              "  }\n",
              "\n",
              "  @keyframes spin {\n",
              "    0% {\n",
              "      border-color: transparent;\n",
              "      border-bottom-color: var(--fill-color);\n",
              "      border-left-color: var(--fill-color);\n",
              "    }\n",
              "    20% {\n",
              "      border-color: transparent;\n",
              "      border-left-color: var(--fill-color);\n",
              "      border-top-color: var(--fill-color);\n",
              "    }\n",
              "    30% {\n",
              "      border-color: transparent;\n",
              "      border-left-color: var(--fill-color);\n",
              "      border-top-color: var(--fill-color);\n",
              "      border-right-color: var(--fill-color);\n",
              "    }\n",
              "    40% {\n",
              "      border-color: transparent;\n",
              "      border-right-color: var(--fill-color);\n",
              "      border-top-color: var(--fill-color);\n",
              "    }\n",
              "    60% {\n",
              "      border-color: transparent;\n",
              "      border-right-color: var(--fill-color);\n",
              "    }\n",
              "    80% {\n",
              "      border-color: transparent;\n",
              "      border-right-color: var(--fill-color);\n",
              "      border-bottom-color: var(--fill-color);\n",
              "    }\n",
              "    90% {\n",
              "      border-color: transparent;\n",
              "      border-bottom-color: var(--fill-color);\n",
              "    }\n",
              "  }\n",
              "</style>\n",
              "\n",
              "  <script>\n",
              "    async function quickchart(key) {\n",
              "      const quickchartButtonEl =\n",
              "        document.querySelector('#' + key + ' button');\n",
              "      quickchartButtonEl.disabled = true;  // To prevent multiple clicks.\n",
              "      quickchartButtonEl.classList.add('colab-df-spinner');\n",
              "      try {\n",
              "        const charts = await google.colab.kernel.invokeFunction(\n",
              "            'suggestCharts', [key], {});\n",
              "      } catch (error) {\n",
              "        console.error('Error during call to suggestCharts:', error);\n",
              "      }\n",
              "      quickchartButtonEl.classList.remove('colab-df-spinner');\n",
              "      quickchartButtonEl.classList.add('colab-df-quickchart-complete');\n",
              "    }\n",
              "    (() => {\n",
              "      let quickchartButtonEl =\n",
              "        document.querySelector('#df-41b13fc9-5191-4740-b605-0140454f5326 button');\n",
              "      quickchartButtonEl.style.display =\n",
              "        google.colab.kernel.accessAllowed ? 'block' : 'none';\n",
              "    })();\n",
              "  </script>\n",
              "</div>\n",
              "\n",
              "    </div>\n",
              "  </div>\n"
            ],
            "application/vnd.google.colaboratory.intrinsic+json": {
              "type": "dataframe",
              "variable_name": "df_games",
              "summary": "{\n  \"name\": \"df_games\",\n  \"rows\": 820,\n  \"fields\": [\n    {\n      \"column\": \"game_id\",\n      \"properties\": {\n        \"dtype\": \"string\",\n        \"num_unique_values\": 820,\n        \"samples\": [\n          \"202110250sea\",\n          \"202010110htx\",\n          \"201910060htx\"\n        ],\n        \"semantic_type\": \"\",\n        \"description\": \"\"\n      }\n    },\n    {\n      \"column\": \"home_team\",\n      \"properties\": {\n        \"dtype\": \"category\",\n        \"num_unique_values\": 32,\n        \"samples\": [\n          \"IND\",\n          \"LVR\",\n          \"PIT\"\n        ],\n        \"semantic_type\": \"\",\n        \"description\": \"\"\n      }\n    },\n    {\n      \"column\": \"home_score\",\n      \"properties\": {\n        \"dtype\": \"number\",\n        \"std\": 10,\n        \"min\": 0,\n        \"max\": 56,\n        \"num_unique_values\": 50,\n        \"samples\": [\n          24,\n          46,\n          19\n        ],\n        \"semantic_type\": \"\",\n        \"description\": \"\"\n      }\n    },\n    {\n      \"column\": \"vis_team\",\n      \"properties\": {\n        \"dtype\": \"category\",\n        \"num_unique_values\": 32,\n        \"samples\": [\n          \"MIA\",\n          \"DEN\",\n          \"NOR\"\n        ],\n        \"semantic_type\": \"\",\n        \"description\": \"\"\n      }\n    },\n    {\n      \"column\": \"vis_score\",\n      \"properties\": {\n        \"dtype\": \"number\",\n        \"std\": 10,\n        \"min\": 0,\n        \"max\": 59,\n        \"num_unique_values\": 50,\n        \"samples\": [\n          16,\n          35,\n          13\n        ],\n        \"semantic_type\": \"\",\n        \"description\": \"\"\n      }\n    }\n  ]\n}"
            }
          },
          "metadata": {},
          "execution_count": 9
        }
      ]
    },
    {
      "cell_type": "code",
      "source": [
        "len( df_games[ (df_games.home_team == 'BUF') | (df_games.vis_team == 'BUF') ] )"
      ],
      "metadata": {
        "id": "1QGwCsuJT32F",
        "outputId": "0cb0445c-28fc-486a-fe3f-666c5c3c24f9",
        "colab": {
          "base_uri": "https://localhost:8080/"
        }
      },
      "execution_count": 10,
      "outputs": [
        {
          "output_type": "execute_result",
          "data": {
            "text/plain": [
              "55"
            ]
          },
          "metadata": {},
          "execution_count": 10
        }
      ]
    },
    {
      "cell_type": "markdown",
      "source": [
        "# Q5.\n",
        "(NFL) Qual time fez mais jogos em casa considerando os jogos da base?"
      ],
      "metadata": {
        "id": "8NK-UiT2Uj3s"
      }
    },
    {
      "cell_type": "code",
      "source": [
        "df_games.home_team.value_counts().head()"
      ],
      "metadata": {
        "id": "XW2vjebnUaoN",
        "outputId": "c06efdd1-ce2d-48d1-eaff-18f0cf2b7215",
        "colab": {
          "base_uri": "https://localhost:8080/",
          "height": 272
        }
      },
      "execution_count": 11,
      "outputs": [
        {
          "output_type": "execute_result",
          "data": {
            "text/plain": [
              "home_team\n",
              "KAN    33\n",
              "GNB    28\n",
              "BUF    28\n",
              "NOR    27\n",
              "CIN    27\n",
              "Name: count, dtype: int64"
            ],
            "text/html": [
              "<div>\n",
              "<style scoped>\n",
              "    .dataframe tbody tr th:only-of-type {\n",
              "        vertical-align: middle;\n",
              "    }\n",
              "\n",
              "    .dataframe tbody tr th {\n",
              "        vertical-align: top;\n",
              "    }\n",
              "\n",
              "    .dataframe thead th {\n",
              "        text-align: right;\n",
              "    }\n",
              "</style>\n",
              "<table border=\"1\" class=\"dataframe\">\n",
              "  <thead>\n",
              "    <tr style=\"text-align: right;\">\n",
              "      <th></th>\n",
              "      <th>count</th>\n",
              "    </tr>\n",
              "    <tr>\n",
              "      <th>home_team</th>\n",
              "      <th></th>\n",
              "    </tr>\n",
              "  </thead>\n",
              "  <tbody>\n",
              "    <tr>\n",
              "      <th>KAN</th>\n",
              "      <td>33</td>\n",
              "    </tr>\n",
              "    <tr>\n",
              "      <th>GNB</th>\n",
              "      <td>28</td>\n",
              "    </tr>\n",
              "    <tr>\n",
              "      <th>BUF</th>\n",
              "      <td>28</td>\n",
              "    </tr>\n",
              "    <tr>\n",
              "      <th>NOR</th>\n",
              "      <td>27</td>\n",
              "    </tr>\n",
              "    <tr>\n",
              "      <th>CIN</th>\n",
              "      <td>27</td>\n",
              "    </tr>\n",
              "  </tbody>\n",
              "</table>\n",
              "</div><br><label><b>dtype:</b> int64</label>"
            ]
          },
          "metadata": {},
          "execution_count": 11
        }
      ]
    },
    {
      "cell_type": "markdown",
      "source": [
        "# Q6.\n",
        "Qual foi o percentual de partidas ganhas pelo \"Bufalo Bulls\" considerados todos os jogos da base em que participou?"
      ],
      "metadata": {
        "id": "e1kB4C0IVErG"
      }
    },
    {
      "cell_type": "code",
      "source": [
        "home = (df_games.home_team == 'BUF')\n",
        "visit = (df_games.vis_team == 'BUF')\n",
        "\n",
        "( sum(df_games[ home ].home_score - df_games[ home ].vis_score > 0) + sum(df_games[ visit ].vis_score - df_games[ visit ].home_score > 0) ) / len( df_games[ (df_games.home_team == 'BUF') | (df_games.vis_team == 'BUF') ] )"
      ],
      "metadata": {
        "id": "i53uDqXNqVSL",
        "outputId": "573afbb2-6252-4333-cebc-ea73814ae80e",
        "colab": {
          "base_uri": "https://localhost:8080/"
        }
      },
      "execution_count": 13,
      "outputs": [
        {
          "output_type": "execute_result",
          "data": {
            "text/plain": [
              "0.6727272727272727"
            ]
          },
          "metadata": {},
          "execution_count": 13
        }
      ]
    },
    {
      "cell_type": "markdown",
      "source": [
        "# Q7.\n",
        "(NFL) Que tipo de Superfície nos estádios não são encontradas nos estádios com teto (`Roof`) do tipo `outdoors`?"
      ],
      "metadata": {
        "id": "pW_zxe5jZJMx"
      }
    },
    {
      "cell_type": "code",
      "source": [
        "df_games = df[['Roof','Surface']].drop_duplicates()\n",
        "\n",
        "print(  set(df_games.Surface.unique()) - set(df_games[df_games.Roof == 'outdoors'].Surface.unique()) )\n",
        "\n"
      ],
      "metadata": {
        "colab": {
          "base_uri": "https://localhost:8080/"
        },
        "id": "Fr7PpuZbXRf-",
        "outputId": "5655deb1-99f6-4059-b6d0-903391e24a38"
      },
      "execution_count": 14,
      "outputs": [
        {
          "output_type": "stream",
          "name": "stdout",
          "text": [
            "{'matrixturf', 'sportturf'}\n"
          ]
        }
      ]
    },
    {
      "cell_type": "code",
      "source": [
        "df_games = df[['Roof','Surface']].drop_duplicates()\n",
        "\n",
        "for roof in df_games.Roof.unique():\n",
        "  print(roof)\n",
        "  print(  set(df_games.Surface.unique()) - set(df_games[df_games.Roof == roof].Surface.unique()) )\n",
        "\n"
      ],
      "metadata": {
        "outputId": "9717ceaa-d8fd-4fb3-d151-3a061f6fc02e",
        "colab": {
          "base_uri": "https://localhost:8080/"
        },
        "id": "Od1BAYsgZht8"
      },
      "execution_count": 15,
      "outputs": [
        {
          "output_type": "stream",
          "name": "stdout",
          "text": [
            "outdoors\n",
            "{'matrixturf', 'sportturf'}\n",
            "retractable roof (closed)\n",
            "{'a_turf', 'sportturf'}\n",
            "dome\n",
            "{'a_turf', 'grass '}\n",
            "retractable roof (open)\n",
            "{'a_turf', 'sportturf', 'grass'}\n"
          ]
        }
      ]
    },
    {
      "cell_type": "markdown",
      "source": [
        "# Q8.\n",
        "(NFL) Você pode afirmar, com base nos jogos da base, que os resultados dos jogos (vitórias) favorecem o time \"da casa\"?"
      ],
      "metadata": {
        "id": "3S3xqXlh1ySH"
      }
    },
    {
      "cell_type": "code",
      "source": [
        "df_games = df[['game_id','home_team','home_score','vis_team','vis_score']].drop_duplicates()\n",
        "df_games.head()"
      ],
      "metadata": {
        "id": "P_o4S9Maakge",
        "outputId": "835c9bf6-3159-43c1-c257-fafd2f9e3ae9",
        "colab": {
          "base_uri": "https://localhost:8080/",
          "height": 206
        }
      },
      "execution_count": 16,
      "outputs": [
        {
          "output_type": "execute_result",
          "data": {
            "text/plain": [
              "         game_id home_team  home_score vis_team  vis_score\n",
              "0   201909050chi       CHI           3      GNB         10\n",
              "24  201909080car       CAR          27      LAR         30\n",
              "44  201909080cle       CLE          13      TEN         43\n",
              "68  201909080crd       ARI          27      DET         27\n",
              "91  201909080dal       DAL          35      NYG         17"
            ],
            "text/html": [
              "\n",
              "  <div id=\"df-72dda35d-9c5f-4489-9cb5-13bbd3a4729e\" class=\"colab-df-container\">\n",
              "    <div>\n",
              "<style scoped>\n",
              "    .dataframe tbody tr th:only-of-type {\n",
              "        vertical-align: middle;\n",
              "    }\n",
              "\n",
              "    .dataframe tbody tr th {\n",
              "        vertical-align: top;\n",
              "    }\n",
              "\n",
              "    .dataframe thead th {\n",
              "        text-align: right;\n",
              "    }\n",
              "</style>\n",
              "<table border=\"1\" class=\"dataframe\">\n",
              "  <thead>\n",
              "    <tr style=\"text-align: right;\">\n",
              "      <th></th>\n",
              "      <th>game_id</th>\n",
              "      <th>home_team</th>\n",
              "      <th>home_score</th>\n",
              "      <th>vis_team</th>\n",
              "      <th>vis_score</th>\n",
              "    </tr>\n",
              "  </thead>\n",
              "  <tbody>\n",
              "    <tr>\n",
              "      <th>0</th>\n",
              "      <td>201909050chi</td>\n",
              "      <td>CHI</td>\n",
              "      <td>3</td>\n",
              "      <td>GNB</td>\n",
              "      <td>10</td>\n",
              "    </tr>\n",
              "    <tr>\n",
              "      <th>24</th>\n",
              "      <td>201909080car</td>\n",
              "      <td>CAR</td>\n",
              "      <td>27</td>\n",
              "      <td>LAR</td>\n",
              "      <td>30</td>\n",
              "    </tr>\n",
              "    <tr>\n",
              "      <th>44</th>\n",
              "      <td>201909080cle</td>\n",
              "      <td>CLE</td>\n",
              "      <td>13</td>\n",
              "      <td>TEN</td>\n",
              "      <td>43</td>\n",
              "    </tr>\n",
              "    <tr>\n",
              "      <th>68</th>\n",
              "      <td>201909080crd</td>\n",
              "      <td>ARI</td>\n",
              "      <td>27</td>\n",
              "      <td>DET</td>\n",
              "      <td>27</td>\n",
              "    </tr>\n",
              "    <tr>\n",
              "      <th>91</th>\n",
              "      <td>201909080dal</td>\n",
              "      <td>DAL</td>\n",
              "      <td>35</td>\n",
              "      <td>NYG</td>\n",
              "      <td>17</td>\n",
              "    </tr>\n",
              "  </tbody>\n",
              "</table>\n",
              "</div>\n",
              "    <div class=\"colab-df-buttons\">\n",
              "\n",
              "  <div class=\"colab-df-container\">\n",
              "    <button class=\"colab-df-convert\" onclick=\"convertToInteractive('df-72dda35d-9c5f-4489-9cb5-13bbd3a4729e')\"\n",
              "            title=\"Convert this dataframe to an interactive table.\"\n",
              "            style=\"display:none;\">\n",
              "\n",
              "  <svg xmlns=\"http://www.w3.org/2000/svg\" height=\"24px\" viewBox=\"0 -960 960 960\">\n",
              "    <path d=\"M120-120v-720h720v720H120Zm60-500h600v-160H180v160Zm220 220h160v-160H400v160Zm0 220h160v-160H400v160ZM180-400h160v-160H180v160Zm440 0h160v-160H620v160ZM180-180h160v-160H180v160Zm440 0h160v-160H620v160Z\"/>\n",
              "  </svg>\n",
              "    </button>\n",
              "\n",
              "  <style>\n",
              "    .colab-df-container {\n",
              "      display:flex;\n",
              "      gap: 12px;\n",
              "    }\n",
              "\n",
              "    .colab-df-convert {\n",
              "      background-color: #E8F0FE;\n",
              "      border: none;\n",
              "      border-radius: 50%;\n",
              "      cursor: pointer;\n",
              "      display: none;\n",
              "      fill: #1967D2;\n",
              "      height: 32px;\n",
              "      padding: 0 0 0 0;\n",
              "      width: 32px;\n",
              "    }\n",
              "\n",
              "    .colab-df-convert:hover {\n",
              "      background-color: #E2EBFA;\n",
              "      box-shadow: 0px 1px 2px rgba(60, 64, 67, 0.3), 0px 1px 3px 1px rgba(60, 64, 67, 0.15);\n",
              "      fill: #174EA6;\n",
              "    }\n",
              "\n",
              "    .colab-df-buttons div {\n",
              "      margin-bottom: 4px;\n",
              "    }\n",
              "\n",
              "    [theme=dark] .colab-df-convert {\n",
              "      background-color: #3B4455;\n",
              "      fill: #D2E3FC;\n",
              "    }\n",
              "\n",
              "    [theme=dark] .colab-df-convert:hover {\n",
              "      background-color: #434B5C;\n",
              "      box-shadow: 0px 1px 3px 1px rgba(0, 0, 0, 0.15);\n",
              "      filter: drop-shadow(0px 1px 2px rgba(0, 0, 0, 0.3));\n",
              "      fill: #FFFFFF;\n",
              "    }\n",
              "  </style>\n",
              "\n",
              "    <script>\n",
              "      const buttonEl =\n",
              "        document.querySelector('#df-72dda35d-9c5f-4489-9cb5-13bbd3a4729e button.colab-df-convert');\n",
              "      buttonEl.style.display =\n",
              "        google.colab.kernel.accessAllowed ? 'block' : 'none';\n",
              "\n",
              "      async function convertToInteractive(key) {\n",
              "        const element = document.querySelector('#df-72dda35d-9c5f-4489-9cb5-13bbd3a4729e');\n",
              "        const dataTable =\n",
              "          await google.colab.kernel.invokeFunction('convertToInteractive',\n",
              "                                                    [key], {});\n",
              "        if (!dataTable) return;\n",
              "\n",
              "        const docLinkHtml = 'Like what you see? Visit the ' +\n",
              "          '<a target=\"_blank\" href=https://colab.research.google.com/notebooks/data_table.ipynb>data table notebook</a>'\n",
              "          + ' to learn more about interactive tables.';\n",
              "        element.innerHTML = '';\n",
              "        dataTable['output_type'] = 'display_data';\n",
              "        await google.colab.output.renderOutput(dataTable, element);\n",
              "        const docLink = document.createElement('div');\n",
              "        docLink.innerHTML = docLinkHtml;\n",
              "        element.appendChild(docLink);\n",
              "      }\n",
              "    </script>\n",
              "  </div>\n",
              "\n",
              "\n",
              "<div id=\"df-5ff72fba-ca7a-4b80-85be-ecf3ef4ee9ac\">\n",
              "  <button class=\"colab-df-quickchart\" onclick=\"quickchart('df-5ff72fba-ca7a-4b80-85be-ecf3ef4ee9ac')\"\n",
              "            title=\"Suggest charts\"\n",
              "            style=\"display:none;\">\n",
              "\n",
              "<svg xmlns=\"http://www.w3.org/2000/svg\" height=\"24px\"viewBox=\"0 0 24 24\"\n",
              "     width=\"24px\">\n",
              "    <g>\n",
              "        <path d=\"M19 3H5c-1.1 0-2 .9-2 2v14c0 1.1.9 2 2 2h14c1.1 0 2-.9 2-2V5c0-1.1-.9-2-2-2zM9 17H7v-7h2v7zm4 0h-2V7h2v10zm4 0h-2v-4h2v4z\"/>\n",
              "    </g>\n",
              "</svg>\n",
              "  </button>\n",
              "\n",
              "<style>\n",
              "  .colab-df-quickchart {\n",
              "      --bg-color: #E8F0FE;\n",
              "      --fill-color: #1967D2;\n",
              "      --hover-bg-color: #E2EBFA;\n",
              "      --hover-fill-color: #174EA6;\n",
              "      --disabled-fill-color: #AAA;\n",
              "      --disabled-bg-color: #DDD;\n",
              "  }\n",
              "\n",
              "  [theme=dark] .colab-df-quickchart {\n",
              "      --bg-color: #3B4455;\n",
              "      --fill-color: #D2E3FC;\n",
              "      --hover-bg-color: #434B5C;\n",
              "      --hover-fill-color: #FFFFFF;\n",
              "      --disabled-bg-color: #3B4455;\n",
              "      --disabled-fill-color: #666;\n",
              "  }\n",
              "\n",
              "  .colab-df-quickchart {\n",
              "    background-color: var(--bg-color);\n",
              "    border: none;\n",
              "    border-radius: 50%;\n",
              "    cursor: pointer;\n",
              "    display: none;\n",
              "    fill: var(--fill-color);\n",
              "    height: 32px;\n",
              "    padding: 0;\n",
              "    width: 32px;\n",
              "  }\n",
              "\n",
              "  .colab-df-quickchart:hover {\n",
              "    background-color: var(--hover-bg-color);\n",
              "    box-shadow: 0 1px 2px rgba(60, 64, 67, 0.3), 0 1px 3px 1px rgba(60, 64, 67, 0.15);\n",
              "    fill: var(--button-hover-fill-color);\n",
              "  }\n",
              "\n",
              "  .colab-df-quickchart-complete:disabled,\n",
              "  .colab-df-quickchart-complete:disabled:hover {\n",
              "    background-color: var(--disabled-bg-color);\n",
              "    fill: var(--disabled-fill-color);\n",
              "    box-shadow: none;\n",
              "  }\n",
              "\n",
              "  .colab-df-spinner {\n",
              "    border: 2px solid var(--fill-color);\n",
              "    border-color: transparent;\n",
              "    border-bottom-color: var(--fill-color);\n",
              "    animation:\n",
              "      spin 1s steps(1) infinite;\n",
              "  }\n",
              "\n",
              "  @keyframes spin {\n",
              "    0% {\n",
              "      border-color: transparent;\n",
              "      border-bottom-color: var(--fill-color);\n",
              "      border-left-color: var(--fill-color);\n",
              "    }\n",
              "    20% {\n",
              "      border-color: transparent;\n",
              "      border-left-color: var(--fill-color);\n",
              "      border-top-color: var(--fill-color);\n",
              "    }\n",
              "    30% {\n",
              "      border-color: transparent;\n",
              "      border-left-color: var(--fill-color);\n",
              "      border-top-color: var(--fill-color);\n",
              "      border-right-color: var(--fill-color);\n",
              "    }\n",
              "    40% {\n",
              "      border-color: transparent;\n",
              "      border-right-color: var(--fill-color);\n",
              "      border-top-color: var(--fill-color);\n",
              "    }\n",
              "    60% {\n",
              "      border-color: transparent;\n",
              "      border-right-color: var(--fill-color);\n",
              "    }\n",
              "    80% {\n",
              "      border-color: transparent;\n",
              "      border-right-color: var(--fill-color);\n",
              "      border-bottom-color: var(--fill-color);\n",
              "    }\n",
              "    90% {\n",
              "      border-color: transparent;\n",
              "      border-bottom-color: var(--fill-color);\n",
              "    }\n",
              "  }\n",
              "</style>\n",
              "\n",
              "  <script>\n",
              "    async function quickchart(key) {\n",
              "      const quickchartButtonEl =\n",
              "        document.querySelector('#' + key + ' button');\n",
              "      quickchartButtonEl.disabled = true;  // To prevent multiple clicks.\n",
              "      quickchartButtonEl.classList.add('colab-df-spinner');\n",
              "      try {\n",
              "        const charts = await google.colab.kernel.invokeFunction(\n",
              "            'suggestCharts', [key], {});\n",
              "      } catch (error) {\n",
              "        console.error('Error during call to suggestCharts:', error);\n",
              "      }\n",
              "      quickchartButtonEl.classList.remove('colab-df-spinner');\n",
              "      quickchartButtonEl.classList.add('colab-df-quickchart-complete');\n",
              "    }\n",
              "    (() => {\n",
              "      let quickchartButtonEl =\n",
              "        document.querySelector('#df-5ff72fba-ca7a-4b80-85be-ecf3ef4ee9ac button');\n",
              "      quickchartButtonEl.style.display =\n",
              "        google.colab.kernel.accessAllowed ? 'block' : 'none';\n",
              "    })();\n",
              "  </script>\n",
              "</div>\n",
              "\n",
              "    </div>\n",
              "  </div>\n"
            ],
            "application/vnd.google.colaboratory.intrinsic+json": {
              "type": "dataframe",
              "variable_name": "df_games",
              "summary": "{\n  \"name\": \"df_games\",\n  \"rows\": 820,\n  \"fields\": [\n    {\n      \"column\": \"game_id\",\n      \"properties\": {\n        \"dtype\": \"string\",\n        \"num_unique_values\": 820,\n        \"samples\": [\n          \"202110250sea\",\n          \"202010110htx\",\n          \"201910060htx\"\n        ],\n        \"semantic_type\": \"\",\n        \"description\": \"\"\n      }\n    },\n    {\n      \"column\": \"home_team\",\n      \"properties\": {\n        \"dtype\": \"category\",\n        \"num_unique_values\": 32,\n        \"samples\": [\n          \"IND\",\n          \"LVR\",\n          \"PIT\"\n        ],\n        \"semantic_type\": \"\",\n        \"description\": \"\"\n      }\n    },\n    {\n      \"column\": \"home_score\",\n      \"properties\": {\n        \"dtype\": \"number\",\n        \"std\": 10,\n        \"min\": 0,\n        \"max\": 56,\n        \"num_unique_values\": 50,\n        \"samples\": [\n          24,\n          46,\n          19\n        ],\n        \"semantic_type\": \"\",\n        \"description\": \"\"\n      }\n    },\n    {\n      \"column\": \"vis_team\",\n      \"properties\": {\n        \"dtype\": \"category\",\n        \"num_unique_values\": 32,\n        \"samples\": [\n          \"MIA\",\n          \"DEN\",\n          \"NOR\"\n        ],\n        \"semantic_type\": \"\",\n        \"description\": \"\"\n      }\n    },\n    {\n      \"column\": \"vis_score\",\n      \"properties\": {\n        \"dtype\": \"number\",\n        \"std\": 10,\n        \"min\": 0,\n        \"max\": 59,\n        \"num_unique_values\": 50,\n        \"samples\": [\n          16,\n          35,\n          13\n        ],\n        \"semantic_type\": \"\",\n        \"description\": \"\"\n      }\n    }\n  ]\n}"
            }
          },
          "metadata": {},
          "execution_count": 16
        }
      ]
    },
    {
      "cell_type": "code",
      "source": [
        "sum( df_games.home_score > df_games.vis_score ) / len(df_games)"
      ],
      "metadata": {
        "id": "yKZksT-xbKEu",
        "outputId": "8a344af5-bd90-4c3c-d546-96e9de9a4bf3",
        "colab": {
          "base_uri": "https://localhost:8080/"
        }
      },
      "execution_count": 17,
      "outputs": [
        {
          "output_type": "execute_result",
          "data": {
            "text/plain": [
              "0.5097560975609756"
            ]
          },
          "metadata": {},
          "execution_count": 17
        }
      ]
    },
    {
      "cell_type": "markdown",
      "source": [
        "A diferença é muito pequena e não dá para afirmar que jogos em casa favorecem o placar para os times da casa.\n",
        "\n",
        "Você ainda não aprendeu isso (veremos isso mais adiante ainda neste semestre), mas uma forma mais rigorosa de verificarmos isso é com o teste de hipótese como abaixo. Mas para o exercício aqui, isso não era necessário."
      ],
      "metadata": {
        "id": "iLf4dmjIavcg"
      }
    },
    {
      "cell_type": "code",
      "source": [
        "from scipy import stats\n",
        "\n",
        "# H0: home_score e vis_score são iguais\n",
        "# H1: home_score é significativamente maior que vis_score\n",
        "\n",
        "t_stat, p_value = stats.ttest_ind(df_games.home_score, df_games.vis_score, alternative='greater')\n",
        "\n",
        "print(f\"T-statistic: {t_stat}\")\n",
        "print(f\"P-value: {p_value}\")\n",
        "\n",
        "alpha = 0.05\n",
        "\n",
        "if p_value < alpha:\n",
        "    print(\"Rejeitamos a hipótese nula. home_score é significativamente maior que vis_score.\")\n",
        "else:\n",
        "    print(\"Falhamos em rejeitar a hipótese nula. Não há evidência suficiente para afirmar que home_score é significativamente maior que vis_score.\")\n"
      ],
      "metadata": {
        "colab": {
          "base_uri": "https://localhost:8080/"
        },
        "id": "jT-nPgNAaWmj",
        "outputId": "1fc87131-1fd1-4f42-a369-91444a5f7299"
      },
      "execution_count": 18,
      "outputs": [
        {
          "output_type": "stream",
          "name": "stdout",
          "text": [
            "T-statistic: 1.3491956573861659\n",
            "P-value: 0.08873029643487931\n",
            "Falhamos em rejeitar a hipótese nula. Não há evidência suficiente para afirmar que home_score é significativamente maior que vis_score.\n"
          ]
        }
      ]
    },
    {
      "cell_type": "markdown",
      "metadata": {
        "id": "te1NO4UoLvgn"
      },
      "source": [
        "# **CASE: Ações B3 NYC**\n",
        "\n",
        "A base de dados a seguir traz valores de fechamento, % de valorização diária (%) e volume negociado (V) de vários ativos de 2019 a 2025.\n",
        "\n",
        "  - `BVSP`, Índice Bovespa\n",
        "  - `PETR4.SA`,\n",
        "  - `VALE3.SA`,\n",
        "  - `BRL=X`, Cotação do Dólar\n",
        "  - `ITUB3.SA`,\n",
        "  - `BTC-USD`, BitCoin US\n",
        "\n",
        "Valores monetários são em moeda corrente. Valores ausentes indicam ausência de pregão/cotação, mas não há necessidade de qualquer tratamento aqui. Após entender os dados, crie os scripts necessários para responder as seguintes perguntas.\n",
        "\n",
        "[Data](https://github.com/Rogerio-mack/IMT_CD_2025/raw/refs/heads/main/data/stocks_2019_2025.csv)\n",
        "\n",
        "\n",
        "\n"
      ]
    },
    {
      "cell_type": "code",
      "source": [
        "#@markdown Prepare data\n",
        "%%script echo skipping...\n",
        "import yfinance as yf\n",
        "\n",
        "df = yf.download(['^BVSP', 'PETR4.SA', 'VALE3.SA', 'BRL=X', 'ITUB3.SA', 'BTC-USD'],'2019-01-01','2025-03-19')\n",
        "\n",
        "df_close = df['Close']\n",
        "cols = df_close.columns\n",
        "for c in cols:\n",
        "  df_close[c+' %'] = df_close[c].pct_change()\n",
        "\n",
        "df_close = df_close.reset_index()\n",
        "\n",
        "df_volume = df['Volume']\n",
        "df_volume.columns = [x + ' V' for x in df_volume.columns]\n",
        "df_volume = df_volume.reset_index()\n",
        "df_volume.drop(columns=['Date'], inplace=True)\n",
        "\n",
        "df = pd.concat([df_close, df_volume], axis=1)\n",
        "df.head()\n",
        "\n",
        "df.to_csv('stocks_2019_2025.csv',index=False)"
      ],
      "metadata": {
        "id": "AEfUcp18s-Di",
        "colab": {
          "base_uri": "https://localhost:8080/"
        },
        "cellView": "form",
        "outputId": "6e99f46c-1f40-4e2e-8731-bee6b403f43b"
      },
      "execution_count": 19,
      "outputs": [
        {
          "output_type": "stream",
          "name": "stdout",
          "text": [
            "skipping...\n"
          ]
        }
      ]
    },
    {
      "cell_type": "code",
      "source": [
        "df = pd.read_csv('https://github.com/Rogerio-mack/IMT_CD_2025/raw/refs/heads/main/data/stocks_2019_2025.csv')\n",
        "df.head()"
      ],
      "metadata": {
        "id": "Uf34RMd0RXiz",
        "outputId": "61dc5626-c9e6-4e2e-b5c2-b56f4bea897b",
        "colab": {
          "base_uri": "https://localhost:8080/",
          "height": 330
        }
      },
      "execution_count": 20,
      "outputs": [
        {
          "output_type": "execute_result",
          "data": {
            "text/plain": [
              "         Date   BRL=X      BTC-USD   ITUB3.SA  PETR4.SA   VALE3.SA    ^BVSP  \\\n",
              "0  2019-01-01  3.8800  3843.520020        NaN       NaN        NaN      NaN   \n",
              "1  2019-01-02  3.8799  3943.409424  20.093735  7.466959  30.699385  91012.0   \n",
              "2  2019-01-03  3.7863  3836.741211  20.276070  7.650064  29.443529  91564.0   \n",
              "3  2019-01-04  3.7551  3857.717529  19.936563  7.671789  31.360359  91841.0   \n",
              "4  2019-01-05     NaN  3845.194580        NaN       NaN        NaN      NaN   \n",
              "\n",
              "    BRL=X %  BTC-USD %  ITUB3.SA %  PETR4.SA %  VALE3.SA %   ^BVSP %  BRL=X V  \\\n",
              "0       NaN        NaN         NaN         NaN         NaN       NaN      0.0   \n",
              "1 -0.000026   0.025989         NaN         NaN         NaN       NaN      0.0   \n",
              "2 -0.024124  -0.027050    0.009074    0.024522   -0.040908  0.006065      0.0   \n",
              "3 -0.008240   0.005467   -0.016744    0.002840    0.065102  0.003025      0.0   \n",
              "4  0.000000  -0.003246    0.000000    0.000000    0.000000  0.000000      NaN   \n",
              "\n",
              "    BTC-USD V  ITUB3.SA V   PETR4.SA V  VALE3.SA V    ^BVSP V  \n",
              "0  4324200990         NaN          NaN         NaN        NaN  \n",
              "1  5244856836   1074590.0  104534800.0  17319600.0  5615400.0  \n",
              "2  4530215219    311300.0   95206400.0  30120000.0  6066200.0  \n",
              "3  4847965467    370040.0   72119800.0  43360100.0  5322100.0  \n",
              "4  5137609824         NaN          NaN         NaN        NaN  "
            ],
            "text/html": [
              "\n",
              "  <div id=\"df-139215a7-af51-4a83-a873-1a4a1f2f076a\" class=\"colab-df-container\">\n",
              "    <div>\n",
              "<style scoped>\n",
              "    .dataframe tbody tr th:only-of-type {\n",
              "        vertical-align: middle;\n",
              "    }\n",
              "\n",
              "    .dataframe tbody tr th {\n",
              "        vertical-align: top;\n",
              "    }\n",
              "\n",
              "    .dataframe thead th {\n",
              "        text-align: right;\n",
              "    }\n",
              "</style>\n",
              "<table border=\"1\" class=\"dataframe\">\n",
              "  <thead>\n",
              "    <tr style=\"text-align: right;\">\n",
              "      <th></th>\n",
              "      <th>Date</th>\n",
              "      <th>BRL=X</th>\n",
              "      <th>BTC-USD</th>\n",
              "      <th>ITUB3.SA</th>\n",
              "      <th>PETR4.SA</th>\n",
              "      <th>VALE3.SA</th>\n",
              "      <th>^BVSP</th>\n",
              "      <th>BRL=X %</th>\n",
              "      <th>BTC-USD %</th>\n",
              "      <th>ITUB3.SA %</th>\n",
              "      <th>PETR4.SA %</th>\n",
              "      <th>VALE3.SA %</th>\n",
              "      <th>^BVSP %</th>\n",
              "      <th>BRL=X V</th>\n",
              "      <th>BTC-USD V</th>\n",
              "      <th>ITUB3.SA V</th>\n",
              "      <th>PETR4.SA V</th>\n",
              "      <th>VALE3.SA V</th>\n",
              "      <th>^BVSP V</th>\n",
              "    </tr>\n",
              "  </thead>\n",
              "  <tbody>\n",
              "    <tr>\n",
              "      <th>0</th>\n",
              "      <td>2019-01-01</td>\n",
              "      <td>3.8800</td>\n",
              "      <td>3843.520020</td>\n",
              "      <td>NaN</td>\n",
              "      <td>NaN</td>\n",
              "      <td>NaN</td>\n",
              "      <td>NaN</td>\n",
              "      <td>NaN</td>\n",
              "      <td>NaN</td>\n",
              "      <td>NaN</td>\n",
              "      <td>NaN</td>\n",
              "      <td>NaN</td>\n",
              "      <td>NaN</td>\n",
              "      <td>0.0</td>\n",
              "      <td>4324200990</td>\n",
              "      <td>NaN</td>\n",
              "      <td>NaN</td>\n",
              "      <td>NaN</td>\n",
              "      <td>NaN</td>\n",
              "    </tr>\n",
              "    <tr>\n",
              "      <th>1</th>\n",
              "      <td>2019-01-02</td>\n",
              "      <td>3.8799</td>\n",
              "      <td>3943.409424</td>\n",
              "      <td>20.093735</td>\n",
              "      <td>7.466959</td>\n",
              "      <td>30.699385</td>\n",
              "      <td>91012.0</td>\n",
              "      <td>-0.000026</td>\n",
              "      <td>0.025989</td>\n",
              "      <td>NaN</td>\n",
              "      <td>NaN</td>\n",
              "      <td>NaN</td>\n",
              "      <td>NaN</td>\n",
              "      <td>0.0</td>\n",
              "      <td>5244856836</td>\n",
              "      <td>1074590.0</td>\n",
              "      <td>104534800.0</td>\n",
              "      <td>17319600.0</td>\n",
              "      <td>5615400.0</td>\n",
              "    </tr>\n",
              "    <tr>\n",
              "      <th>2</th>\n",
              "      <td>2019-01-03</td>\n",
              "      <td>3.7863</td>\n",
              "      <td>3836.741211</td>\n",
              "      <td>20.276070</td>\n",
              "      <td>7.650064</td>\n",
              "      <td>29.443529</td>\n",
              "      <td>91564.0</td>\n",
              "      <td>-0.024124</td>\n",
              "      <td>-0.027050</td>\n",
              "      <td>0.009074</td>\n",
              "      <td>0.024522</td>\n",
              "      <td>-0.040908</td>\n",
              "      <td>0.006065</td>\n",
              "      <td>0.0</td>\n",
              "      <td>4530215219</td>\n",
              "      <td>311300.0</td>\n",
              "      <td>95206400.0</td>\n",
              "      <td>30120000.0</td>\n",
              "      <td>6066200.0</td>\n",
              "    </tr>\n",
              "    <tr>\n",
              "      <th>3</th>\n",
              "      <td>2019-01-04</td>\n",
              "      <td>3.7551</td>\n",
              "      <td>3857.717529</td>\n",
              "      <td>19.936563</td>\n",
              "      <td>7.671789</td>\n",
              "      <td>31.360359</td>\n",
              "      <td>91841.0</td>\n",
              "      <td>-0.008240</td>\n",
              "      <td>0.005467</td>\n",
              "      <td>-0.016744</td>\n",
              "      <td>0.002840</td>\n",
              "      <td>0.065102</td>\n",
              "      <td>0.003025</td>\n",
              "      <td>0.0</td>\n",
              "      <td>4847965467</td>\n",
              "      <td>370040.0</td>\n",
              "      <td>72119800.0</td>\n",
              "      <td>43360100.0</td>\n",
              "      <td>5322100.0</td>\n",
              "    </tr>\n",
              "    <tr>\n",
              "      <th>4</th>\n",
              "      <td>2019-01-05</td>\n",
              "      <td>NaN</td>\n",
              "      <td>3845.194580</td>\n",
              "      <td>NaN</td>\n",
              "      <td>NaN</td>\n",
              "      <td>NaN</td>\n",
              "      <td>NaN</td>\n",
              "      <td>0.000000</td>\n",
              "      <td>-0.003246</td>\n",
              "      <td>0.000000</td>\n",
              "      <td>0.000000</td>\n",
              "      <td>0.000000</td>\n",
              "      <td>0.000000</td>\n",
              "      <td>NaN</td>\n",
              "      <td>5137609824</td>\n",
              "      <td>NaN</td>\n",
              "      <td>NaN</td>\n",
              "      <td>NaN</td>\n",
              "      <td>NaN</td>\n",
              "    </tr>\n",
              "  </tbody>\n",
              "</table>\n",
              "</div>\n",
              "    <div class=\"colab-df-buttons\">\n",
              "\n",
              "  <div class=\"colab-df-container\">\n",
              "    <button class=\"colab-df-convert\" onclick=\"convertToInteractive('df-139215a7-af51-4a83-a873-1a4a1f2f076a')\"\n",
              "            title=\"Convert this dataframe to an interactive table.\"\n",
              "            style=\"display:none;\">\n",
              "\n",
              "  <svg xmlns=\"http://www.w3.org/2000/svg\" height=\"24px\" viewBox=\"0 -960 960 960\">\n",
              "    <path d=\"M120-120v-720h720v720H120Zm60-500h600v-160H180v160Zm220 220h160v-160H400v160Zm0 220h160v-160H400v160ZM180-400h160v-160H180v160Zm440 0h160v-160H620v160ZM180-180h160v-160H180v160Zm440 0h160v-160H620v160Z\"/>\n",
              "  </svg>\n",
              "    </button>\n",
              "\n",
              "  <style>\n",
              "    .colab-df-container {\n",
              "      display:flex;\n",
              "      gap: 12px;\n",
              "    }\n",
              "\n",
              "    .colab-df-convert {\n",
              "      background-color: #E8F0FE;\n",
              "      border: none;\n",
              "      border-radius: 50%;\n",
              "      cursor: pointer;\n",
              "      display: none;\n",
              "      fill: #1967D2;\n",
              "      height: 32px;\n",
              "      padding: 0 0 0 0;\n",
              "      width: 32px;\n",
              "    }\n",
              "\n",
              "    .colab-df-convert:hover {\n",
              "      background-color: #E2EBFA;\n",
              "      box-shadow: 0px 1px 2px rgba(60, 64, 67, 0.3), 0px 1px 3px 1px rgba(60, 64, 67, 0.15);\n",
              "      fill: #174EA6;\n",
              "    }\n",
              "\n",
              "    .colab-df-buttons div {\n",
              "      margin-bottom: 4px;\n",
              "    }\n",
              "\n",
              "    [theme=dark] .colab-df-convert {\n",
              "      background-color: #3B4455;\n",
              "      fill: #D2E3FC;\n",
              "    }\n",
              "\n",
              "    [theme=dark] .colab-df-convert:hover {\n",
              "      background-color: #434B5C;\n",
              "      box-shadow: 0px 1px 3px 1px rgba(0, 0, 0, 0.15);\n",
              "      filter: drop-shadow(0px 1px 2px rgba(0, 0, 0, 0.3));\n",
              "      fill: #FFFFFF;\n",
              "    }\n",
              "  </style>\n",
              "\n",
              "    <script>\n",
              "      const buttonEl =\n",
              "        document.querySelector('#df-139215a7-af51-4a83-a873-1a4a1f2f076a button.colab-df-convert');\n",
              "      buttonEl.style.display =\n",
              "        google.colab.kernel.accessAllowed ? 'block' : 'none';\n",
              "\n",
              "      async function convertToInteractive(key) {\n",
              "        const element = document.querySelector('#df-139215a7-af51-4a83-a873-1a4a1f2f076a');\n",
              "        const dataTable =\n",
              "          await google.colab.kernel.invokeFunction('convertToInteractive',\n",
              "                                                    [key], {});\n",
              "        if (!dataTable) return;\n",
              "\n",
              "        const docLinkHtml = 'Like what you see? Visit the ' +\n",
              "          '<a target=\"_blank\" href=https://colab.research.google.com/notebooks/data_table.ipynb>data table notebook</a>'\n",
              "          + ' to learn more about interactive tables.';\n",
              "        element.innerHTML = '';\n",
              "        dataTable['output_type'] = 'display_data';\n",
              "        await google.colab.output.renderOutput(dataTable, element);\n",
              "        const docLink = document.createElement('div');\n",
              "        docLink.innerHTML = docLinkHtml;\n",
              "        element.appendChild(docLink);\n",
              "      }\n",
              "    </script>\n",
              "  </div>\n",
              "\n",
              "\n",
              "<div id=\"df-a70520b0-d109-4bd6-bad4-1899c02a7976\">\n",
              "  <button class=\"colab-df-quickchart\" onclick=\"quickchart('df-a70520b0-d109-4bd6-bad4-1899c02a7976')\"\n",
              "            title=\"Suggest charts\"\n",
              "            style=\"display:none;\">\n",
              "\n",
              "<svg xmlns=\"http://www.w3.org/2000/svg\" height=\"24px\"viewBox=\"0 0 24 24\"\n",
              "     width=\"24px\">\n",
              "    <g>\n",
              "        <path d=\"M19 3H5c-1.1 0-2 .9-2 2v14c0 1.1.9 2 2 2h14c1.1 0 2-.9 2-2V5c0-1.1-.9-2-2-2zM9 17H7v-7h2v7zm4 0h-2V7h2v10zm4 0h-2v-4h2v4z\"/>\n",
              "    </g>\n",
              "</svg>\n",
              "  </button>\n",
              "\n",
              "<style>\n",
              "  .colab-df-quickchart {\n",
              "      --bg-color: #E8F0FE;\n",
              "      --fill-color: #1967D2;\n",
              "      --hover-bg-color: #E2EBFA;\n",
              "      --hover-fill-color: #174EA6;\n",
              "      --disabled-fill-color: #AAA;\n",
              "      --disabled-bg-color: #DDD;\n",
              "  }\n",
              "\n",
              "  [theme=dark] .colab-df-quickchart {\n",
              "      --bg-color: #3B4455;\n",
              "      --fill-color: #D2E3FC;\n",
              "      --hover-bg-color: #434B5C;\n",
              "      --hover-fill-color: #FFFFFF;\n",
              "      --disabled-bg-color: #3B4455;\n",
              "      --disabled-fill-color: #666;\n",
              "  }\n",
              "\n",
              "  .colab-df-quickchart {\n",
              "    background-color: var(--bg-color);\n",
              "    border: none;\n",
              "    border-radius: 50%;\n",
              "    cursor: pointer;\n",
              "    display: none;\n",
              "    fill: var(--fill-color);\n",
              "    height: 32px;\n",
              "    padding: 0;\n",
              "    width: 32px;\n",
              "  }\n",
              "\n",
              "  .colab-df-quickchart:hover {\n",
              "    background-color: var(--hover-bg-color);\n",
              "    box-shadow: 0 1px 2px rgba(60, 64, 67, 0.3), 0 1px 3px 1px rgba(60, 64, 67, 0.15);\n",
              "    fill: var(--button-hover-fill-color);\n",
              "  }\n",
              "\n",
              "  .colab-df-quickchart-complete:disabled,\n",
              "  .colab-df-quickchart-complete:disabled:hover {\n",
              "    background-color: var(--disabled-bg-color);\n",
              "    fill: var(--disabled-fill-color);\n",
              "    box-shadow: none;\n",
              "  }\n",
              "\n",
              "  .colab-df-spinner {\n",
              "    border: 2px solid var(--fill-color);\n",
              "    border-color: transparent;\n",
              "    border-bottom-color: var(--fill-color);\n",
              "    animation:\n",
              "      spin 1s steps(1) infinite;\n",
              "  }\n",
              "\n",
              "  @keyframes spin {\n",
              "    0% {\n",
              "      border-color: transparent;\n",
              "      border-bottom-color: var(--fill-color);\n",
              "      border-left-color: var(--fill-color);\n",
              "    }\n",
              "    20% {\n",
              "      border-color: transparent;\n",
              "      border-left-color: var(--fill-color);\n",
              "      border-top-color: var(--fill-color);\n",
              "    }\n",
              "    30% {\n",
              "      border-color: transparent;\n",
              "      border-left-color: var(--fill-color);\n",
              "      border-top-color: var(--fill-color);\n",
              "      border-right-color: var(--fill-color);\n",
              "    }\n",
              "    40% {\n",
              "      border-color: transparent;\n",
              "      border-right-color: var(--fill-color);\n",
              "      border-top-color: var(--fill-color);\n",
              "    }\n",
              "    60% {\n",
              "      border-color: transparent;\n",
              "      border-right-color: var(--fill-color);\n",
              "    }\n",
              "    80% {\n",
              "      border-color: transparent;\n",
              "      border-right-color: var(--fill-color);\n",
              "      border-bottom-color: var(--fill-color);\n",
              "    }\n",
              "    90% {\n",
              "      border-color: transparent;\n",
              "      border-bottom-color: var(--fill-color);\n",
              "    }\n",
              "  }\n",
              "</style>\n",
              "\n",
              "  <script>\n",
              "    async function quickchart(key) {\n",
              "      const quickchartButtonEl =\n",
              "        document.querySelector('#' + key + ' button');\n",
              "      quickchartButtonEl.disabled = true;  // To prevent multiple clicks.\n",
              "      quickchartButtonEl.classList.add('colab-df-spinner');\n",
              "      try {\n",
              "        const charts = await google.colab.kernel.invokeFunction(\n",
              "            'suggestCharts', [key], {});\n",
              "      } catch (error) {\n",
              "        console.error('Error during call to suggestCharts:', error);\n",
              "      }\n",
              "      quickchartButtonEl.classList.remove('colab-df-spinner');\n",
              "      quickchartButtonEl.classList.add('colab-df-quickchart-complete');\n",
              "    }\n",
              "    (() => {\n",
              "      let quickchartButtonEl =\n",
              "        document.querySelector('#df-a70520b0-d109-4bd6-bad4-1899c02a7976 button');\n",
              "      quickchartButtonEl.style.display =\n",
              "        google.colab.kernel.accessAllowed ? 'block' : 'none';\n",
              "    })();\n",
              "  </script>\n",
              "</div>\n",
              "\n",
              "    </div>\n",
              "  </div>\n"
            ],
            "application/vnd.google.colaboratory.intrinsic+json": {
              "type": "dataframe",
              "variable_name": "df",
              "summary": "{\n  \"name\": \"df\",\n  \"rows\": 2269,\n  \"fields\": [\n    {\n      \"column\": \"Date\",\n      \"properties\": {\n        \"dtype\": \"object\",\n        \"num_unique_values\": 2269,\n        \"samples\": [\n          \"2019-07-08\",\n          \"2022-08-14\",\n          \"2023-05-06\"\n        ],\n        \"semantic_type\": \"\",\n        \"description\": \"\"\n      }\n    },\n    {\n      \"column\": \"BRL=X\",\n      \"properties\": {\n        \"dtype\": \"number\",\n        \"std\": 0.5856526280595057,\n        \"min\": 3.642800092697144,\n        \"max\": 6.300000190734863,\n        \"num_unique_values\": 1538,\n        \"samples\": [\n          5.378099918365479,\n          3.936700105667114,\n          5.923999786376953\n        ],\n        \"semantic_type\": \"\",\n        \"description\": \"\"\n      }\n    },\n    {\n      \"column\": \"BTC-USD\",\n      \"properties\": {\n        \"dtype\": \"number\",\n        \"std\": 24607.4388922247,\n        \"min\": 3399.4716796875,\n        \"max\": 106146.265625,\n        \"num_unique_values\": 2269,\n        \"samples\": [\n          12285.9580078125,\n          24319.333984375,\n          28904.623046875\n        ],\n        \"semantic_type\": \"\",\n        \"description\": \"\"\n      }\n    },\n    {\n      \"column\": \"ITUB3.SA\",\n      \"properties\": {\n        \"dtype\": \"number\",\n        \"std\": 3.3891215930034626,\n        \"min\": 13.298101425170898,\n        \"max\": 28.450000762939453,\n        \"num_unique_values\": 1462,\n        \"samples\": [\n          18.2736759185791,\n          18.424516677856445,\n          14.635231018066406\n        ],\n        \"semantic_type\": \"\",\n        \"description\": \"\"\n      }\n    },\n    {\n      \"column\": \"PETR4.SA\",\n      \"properties\": {\n        \"dtype\": \"number\",\n        \"std\": 10.281392246619804,\n        \"min\": 3.620205879211426,\n        \"max\": 38.5,\n        \"num_unique_values\": 1430,\n        \"samples\": [\n          8.629018783569336,\n          32.772369384765625,\n          9.979015350341797\n        ],\n        \"semantic_type\": \"\",\n        \"description\": \"\"\n      }\n    },\n    {\n      \"column\": \"VALE3.SA\",\n      \"properties\": {\n        \"dtype\": \"number\",\n        \"std\": 15.454400127928842,\n        \"min\": 21.033248901367188,\n        \"max\": 81.19313049316406,\n        \"num_unique_values\": 1462,\n        \"samples\": [\n          61.09287643432617,\n          58.187110900878906,\n          40.16219711303711\n        ],\n        \"semantic_type\": \"\",\n        \"description\": \"\"\n      }\n    },\n    {\n      \"column\": \"^BVSP\",\n      \"properties\": {\n        \"dtype\": \"number\",\n        \"std\": 12838.903247909773,\n        \"min\": 63570.0,\n        \"max\": 137344.0,\n        \"num_unique_values\": 1511,\n        \"samples\": [\n          110547.0,\n          127019.0,\n          136111.0\n        ],\n        \"semantic_type\": \"\",\n        \"description\": \"\"\n      }\n    },\n    {\n      \"column\": \"BRL=X %\",\n      \"properties\": {\n        \"dtype\": \"number\",\n        \"std\": 0.008627421202888728,\n        \"min\": -0.0603424001387467,\n        \"max\": 0.0620960008887261,\n        \"num_unique_values\": 1612,\n        \"samples\": [\n          0.0036878538669775,\n          0.0002677652443325,\n          -0.0109415720019178\n        ],\n        \"semantic_type\": \"\",\n        \"description\": \"\"\n      }\n    },\n    {\n      \"column\": \"BTC-USD %\",\n      \"properties\": {\n        \"dtype\": \"number\",\n        \"std\": 0.033705395168253945,\n        \"min\": -0.3716953856011707,\n        \"max\": 0.1874647376652993,\n        \"num_unique_values\": 2268,\n        \"samples\": [\n          0.0234295520141332,\n          -0.0042881625394648,\n          -0.0222492430508784\n        ],\n        \"semantic_type\": \"\",\n        \"description\": \"\"\n      }\n    },\n    {\n      \"column\": \"ITUB3.SA %\",\n      \"properties\": {\n        \"dtype\": \"number\",\n        \"std\": 0.014459744911340087,\n        \"min\": -0.2007179915220734,\n        \"max\": 0.1103301624388417,\n        \"num_unique_values\": 1520,\n        \"samples\": [\n          -0.0011320781057744,\n          0.0020958273638738,\n          0.0032537305773374\n        ],\n        \"semantic_type\": \"\",\n        \"description\": \"\"\n      }\n    },\n    {\n      \"column\": \"PETR4.SA %\",\n      \"properties\": {\n        \"dtype\": \"number\",\n        \"std\": 0.021713510205130754,\n        \"min\": -0.2969776511291681,\n        \"max\": 0.2222221697683433,\n        \"num_unique_values\": 1532,\n        \"samples\": [\n          -0.0032231088135553,\n          0.0072464227989597,\n          -0.0118131852929439\n        ],\n        \"semantic_type\": \"\",\n        \"description\": \"\"\n      }\n    },\n    {\n      \"column\": \"VALE3.SA %\",\n      \"properties\": {\n        \"dtype\": \"number\",\n        \"std\": 0.019483665413702327,\n        \"min\": -0.2455924214126208,\n        \"max\": 0.213578858529676,\n        \"num_unique_values\": 1533,\n        \"samples\": [\n          -0.0190699638231531,\n          -0.0300463415827056,\n          -0.0008975019598165\n        ],\n        \"semantic_type\": \"\",\n        \"description\": \"\"\n      }\n    },\n    {\n      \"column\": \"^BVSP %\",\n      \"properties\": {\n        \"dtype\": \"number\",\n        \"std\": 0.012701440416194141,\n        \"min\": -0.147796785290768,\n        \"max\": 0.1390821542234408,\n        \"num_unique_values\": 1544,\n        \"samples\": [\n          0.0125619025925269,\n          0.0060529081990188,\n          -0.0107323621998641\n        ],\n        \"semantic_type\": \"\",\n        \"description\": \"\"\n      }\n    },\n    {\n      \"column\": \"BRL=X V\",\n      \"properties\": {\n        \"dtype\": \"number\",\n        \"std\": 0.0,\n        \"min\": 0.0,\n        \"max\": 0.0,\n        \"num_unique_values\": 1,\n        \"samples\": [\n          0.0\n        ],\n        \"semantic_type\": \"\",\n        \"description\": \"\"\n      }\n    },\n    {\n      \"column\": \"BTC-USD V\",\n      \"properties\": {\n        \"dtype\": \"number\",\n        \"std\": 19506302374,\n        \"min\": 4324200990,\n        \"max\": 350967941479,\n        \"num_unique_values\": 2269,\n        \"samples\": [\n          23482551458\n        ],\n        \"semantic_type\": \"\",\n        \"description\": \"\"\n      }\n    },\n    {\n      \"column\": \"ITUB3.SA V\",\n      \"properties\": {\n        \"dtype\": \"number\",\n        \"std\": 845986.7369360696,\n        \"min\": 104170.0,\n        \"max\": 13290200.0,\n        \"num_unique_values\": 1436,\n        \"samples\": [\n          287100.0\n        ],\n        \"semantic_type\": \"\",\n        \"description\": \"\"\n      }\n    },\n    {\n      \"column\": \"PETR4.SA V\",\n      \"properties\": {\n        \"dtype\": \"number\",\n        \"std\": 36429191.42523127,\n        \"min\": 11526600.0,\n        \"max\": 490230400.0,\n        \"num_unique_values\": 1540,\n        \"samples\": [\n          56179000.0\n        ],\n        \"semantic_type\": \"\",\n        \"description\": \"\"\n      }\n    },\n    {\n      \"column\": \"VALE3.SA V\",\n      \"properties\": {\n        \"dtype\": \"number\",\n        \"std\": 13825073.681136433,\n        \"min\": 0.0,\n        \"max\": 220262800.0,\n        \"num_unique_values\": 1537,\n        \"samples\": [\n          22397800.0\n        ],\n        \"semantic_type\": \"\",\n        \"description\": \"\"\n      }\n    },\n    {\n      \"column\": \"^BVSP V\",\n      \"properties\": {\n        \"dtype\": \"number\",\n        \"std\": 3753681.546190339,\n        \"min\": 0.0,\n        \"max\": 26029300.0,\n        \"num_unique_values\": 1513,\n        \"samples\": [\n          15241800.0\n        ],\n        \"semantic_type\": \"\",\n        \"description\": \"\"\n      }\n    }\n  ]\n}"
            }
          },
          "metadata": {},
          "execution_count": 20
        }
      ]
    },
    {
      "cell_type": "markdown",
      "source": [
        "# Q9.\n",
        "Considerando todo o período, qual a valorização dos ativos de maior e menor ganho?\n",
        "\n"
      ],
      "metadata": {
        "id": "WamxbfUi8vt0"
      }
    },
    {
      "cell_type": "markdown",
      "source": [
        "> *Aqui empregamos o ganho acumulado linearizado, como explicamos em sala, uma medida/índice mais simples e comum para avaliar taxas (como ações ou a inflação (IPCA)). Talvez alguns tenham tido dificuldade na interpretação dessa questão e, a depender do resultado das notas (mais 1/2 dos alunos com erro neste item) esta questão pode ser alunada para efeito de notas, e assim não teremos alunos prejudicados*."
      ],
      "metadata": {
        "id": "K_hhOVwLcBQg"
      }
    },
    {
      "cell_type": "code",
      "source": [
        "df[['BRL=X %', 'BTC-USD %', 'ITUB3.SA %', 'PETR4.SA %', 'VALE3.SA %', '^BVSP %']].sum().sort_values(ascending=False)"
      ],
      "metadata": {
        "id": "J47S1GdGW3sj",
        "outputId": "82576497-08ad-4f47-ff30-ecdaa54a3837",
        "colab": {
          "base_uri": "https://localhost:8080/",
          "height": 272
        }
      },
      "execution_count": 22,
      "outputs": [
        {
          "output_type": "execute_result",
          "data": {
            "text/plain": [
              "BTC-USD %     4.375946\n",
              "PETR4.SA %    2.129061\n",
              "VALE3.SA %    1.060015\n",
              "ITUB3.SA %    0.587812\n",
              "^BVSP %       0.552941\n",
              "BRL=X %       0.465126\n",
              "dtype: float64"
            ],
            "text/html": [
              "<div>\n",
              "<style scoped>\n",
              "    .dataframe tbody tr th:only-of-type {\n",
              "        vertical-align: middle;\n",
              "    }\n",
              "\n",
              "    .dataframe tbody tr th {\n",
              "        vertical-align: top;\n",
              "    }\n",
              "\n",
              "    .dataframe thead th {\n",
              "        text-align: right;\n",
              "    }\n",
              "</style>\n",
              "<table border=\"1\" class=\"dataframe\">\n",
              "  <thead>\n",
              "    <tr style=\"text-align: right;\">\n",
              "      <th></th>\n",
              "      <th>0</th>\n",
              "    </tr>\n",
              "  </thead>\n",
              "  <tbody>\n",
              "    <tr>\n",
              "      <th>BTC-USD %</th>\n",
              "      <td>4.375946</td>\n",
              "    </tr>\n",
              "    <tr>\n",
              "      <th>PETR4.SA %</th>\n",
              "      <td>2.129061</td>\n",
              "    </tr>\n",
              "    <tr>\n",
              "      <th>VALE3.SA %</th>\n",
              "      <td>1.060015</td>\n",
              "    </tr>\n",
              "    <tr>\n",
              "      <th>ITUB3.SA %</th>\n",
              "      <td>0.587812</td>\n",
              "    </tr>\n",
              "    <tr>\n",
              "      <th>^BVSP %</th>\n",
              "      <td>0.552941</td>\n",
              "    </tr>\n",
              "    <tr>\n",
              "      <th>BRL=X %</th>\n",
              "      <td>0.465126</td>\n",
              "    </tr>\n",
              "  </tbody>\n",
              "</table>\n",
              "</div><br><label><b>dtype:</b> float64</label>"
            ]
          },
          "metadata": {},
          "execution_count": 22
        }
      ]
    },
    {
      "cell_type": "markdown",
      "source": [
        "# Q10.\n",
        "Uma métrica comum na avaliação de ativos é verificarmos, em um período, a quantidade de dias em que o ativo teve valorização com relação ao dia anterior (**up and down**). Considerando todo o período, qual o percentual de `ups` dos ativos com mais e menos `ups`."
      ],
      "metadata": {
        "id": "O39kmicp-Gv2"
      }
    },
    {
      "cell_type": "code",
      "source": [
        "(df[['BRL=X %', 'BTC-USD %', 'ITUB3.SA %', 'PETR4.SA %', 'VALE3.SA %', '^BVSP %']] > 0).sum() / len(df)"
      ],
      "metadata": {
        "id": "jYXeYIBiYuPr",
        "outputId": "c34787ef-6fbb-447d-f1ea-3c5816a0f742",
        "colab": {
          "base_uri": "https://localhost:8080/",
          "height": 272
        }
      },
      "execution_count": 23,
      "outputs": [
        {
          "output_type": "execute_result",
          "data": {
            "text/plain": [
              "BRL=X %       0.362715\n",
              "BTC-USD %     0.512120\n",
              "ITUB3.SA %    0.336712\n",
              "PETR4.SA %    0.354782\n",
              "VALE3.SA %    0.332746\n",
              "^BVSP %       0.350815\n",
              "dtype: float64"
            ],
            "text/html": [
              "<div>\n",
              "<style scoped>\n",
              "    .dataframe tbody tr th:only-of-type {\n",
              "        vertical-align: middle;\n",
              "    }\n",
              "\n",
              "    .dataframe tbody tr th {\n",
              "        vertical-align: top;\n",
              "    }\n",
              "\n",
              "    .dataframe thead th {\n",
              "        text-align: right;\n",
              "    }\n",
              "</style>\n",
              "<table border=\"1\" class=\"dataframe\">\n",
              "  <thead>\n",
              "    <tr style=\"text-align: right;\">\n",
              "      <th></th>\n",
              "      <th>0</th>\n",
              "    </tr>\n",
              "  </thead>\n",
              "  <tbody>\n",
              "    <tr>\n",
              "      <th>BRL=X %</th>\n",
              "      <td>0.362715</td>\n",
              "    </tr>\n",
              "    <tr>\n",
              "      <th>BTC-USD %</th>\n",
              "      <td>0.512120</td>\n",
              "    </tr>\n",
              "    <tr>\n",
              "      <th>ITUB3.SA %</th>\n",
              "      <td>0.336712</td>\n",
              "    </tr>\n",
              "    <tr>\n",
              "      <th>PETR4.SA %</th>\n",
              "      <td>0.354782</td>\n",
              "    </tr>\n",
              "    <tr>\n",
              "      <th>VALE3.SA %</th>\n",
              "      <td>0.332746</td>\n",
              "    </tr>\n",
              "    <tr>\n",
              "      <th>^BVSP %</th>\n",
              "      <td>0.350815</td>\n",
              "    </tr>\n",
              "  </tbody>\n",
              "</table>\n",
              "</div><br><label><b>dtype:</b> float64</label>"
            ]
          },
          "metadata": {},
          "execution_count": 23
        }
      ]
    },
    {
      "cell_type": "markdown",
      "source": [
        "# Q11.\n",
        "Idem a questão anterior, mas considerando apenas o ano de 2025.\n",
        "\n",
        "Dica: `df[(df['Date'] >= '2025-01-01')]`\n"
      ],
      "metadata": {
        "id": "oH_NuY1T_0Sq"
      }
    },
    {
      "cell_type": "code",
      "source": [
        "(df[(df['Date'] >= '2025-01-01')][['BRL=X %', 'BTC-USD %', 'ITUB3.SA %', 'PETR4.SA %', 'VALE3.SA %', '^BVSP %']] > 0).sum() / len(df[(df['Date'] >= '2025-01-01')])"
      ],
      "metadata": {
        "id": "wnRR1piabKBL",
        "outputId": "8b341520-639a-4889-f68c-3e97157e883b",
        "colab": {
          "base_uri": "https://localhost:8080/",
          "height": 272
        }
      },
      "execution_count": 24,
      "outputs": [
        {
          "output_type": "execute_result",
          "data": {
            "text/plain": [
              "BRL=X %       0.298701\n",
              "BTC-USD %     0.467532\n",
              "ITUB3.SA %    0.428571\n",
              "PETR4.SA %    0.311688\n",
              "VALE3.SA %    0.337662\n",
              "^BVSP %       0.376623\n",
              "dtype: float64"
            ],
            "text/html": [
              "<div>\n",
              "<style scoped>\n",
              "    .dataframe tbody tr th:only-of-type {\n",
              "        vertical-align: middle;\n",
              "    }\n",
              "\n",
              "    .dataframe tbody tr th {\n",
              "        vertical-align: top;\n",
              "    }\n",
              "\n",
              "    .dataframe thead th {\n",
              "        text-align: right;\n",
              "    }\n",
              "</style>\n",
              "<table border=\"1\" class=\"dataframe\">\n",
              "  <thead>\n",
              "    <tr style=\"text-align: right;\">\n",
              "      <th></th>\n",
              "      <th>0</th>\n",
              "    </tr>\n",
              "  </thead>\n",
              "  <tbody>\n",
              "    <tr>\n",
              "      <th>BRL=X %</th>\n",
              "      <td>0.298701</td>\n",
              "    </tr>\n",
              "    <tr>\n",
              "      <th>BTC-USD %</th>\n",
              "      <td>0.467532</td>\n",
              "    </tr>\n",
              "    <tr>\n",
              "      <th>ITUB3.SA %</th>\n",
              "      <td>0.428571</td>\n",
              "    </tr>\n",
              "    <tr>\n",
              "      <th>PETR4.SA %</th>\n",
              "      <td>0.311688</td>\n",
              "    </tr>\n",
              "    <tr>\n",
              "      <th>VALE3.SA %</th>\n",
              "      <td>0.337662</td>\n",
              "    </tr>\n",
              "    <tr>\n",
              "      <th>^BVSP %</th>\n",
              "      <td>0.376623</td>\n",
              "    </tr>\n",
              "  </tbody>\n",
              "</table>\n",
              "</div><br><label><b>dtype:</b> float64</label>"
            ]
          },
          "metadata": {},
          "execution_count": 24
        }
      ]
    },
    {
      "cell_type": "markdown",
      "source": [
        "# Q12.\n",
        "A *MAIOR PARTE* dos ativos da base teve sua maior valorização em um único dia no mesmo ano e mês. Qual foi esse ano-mês especial?"
      ],
      "metadata": {
        "id": "apGV7fvNARuz"
      }
    },
    {
      "cell_type": "code",
      "source": [
        "for c in ['BRL=X %', 'BTC-USD %', 'ITUB3.SA %', 'PETR4.SA %', 'VALE3.SA %', '^BVSP %']:\n",
        "  print(df.nlargest(2,c)[['Date',c]])\n",
        "\n"
      ],
      "metadata": {
        "id": "aFxlAYQOYEON",
        "outputId": "7e7b1d4f-ddd6-4715-e62d-5fa552091798",
        "colab": {
          "base_uri": "https://localhost:8080/"
        }
      },
      "execution_count": 25,
      "outputs": [
        {
          "output_type": "stream",
          "name": "stdout",
          "text": [
            "           Date   BRL=X %\n",
            "497  2020-05-12  0.062096\n",
            "541  2020-06-25  0.037973\n",
            "           Date  BTC-USD %\n",
            "769  2021-02-08   0.187465\n",
            "443  2020-03-19   0.181878\n",
            "           Date  ITUB3.SA %\n",
            "437  2020-03-13    0.110330\n",
            "483  2020-04-28    0.084419\n",
            "           Date  PETR4.SA %\n",
            "437  2020-03-13    0.222222\n",
            "448  2020-03-24    0.152174\n",
            "           Date  VALE3.SA %\n",
            "437  2020-03-13    0.213579\n",
            "434  2020-03-10    0.184509\n",
            "           Date   ^BVSP %\n",
            "437  2020-03-13  0.139082\n",
            "448  2020-03-24  0.096885\n"
          ]
        }
      ]
    },
    {
      "cell_type": "markdown",
      "source": [
        "# Q13.\n",
        "Qual a média de variação do dólar no período, excluídos os *outliers* (atenção: não é necessário fazer qualquer tratamento para os valores ausentes)."
      ],
      "metadata": {
        "id": "tSgJxMCdBh9R"
      }
    },
    {
      "cell_type": "code",
      "source": [
        "def identify_outliers(data):\n",
        "  Q1 = data.quantile(0.25)\n",
        "  Q3 = data.quantile(0.75)\n",
        "  IQR = Q3 - Q1\n",
        "  lower_bound = Q1 - 1.5 * IQR\n",
        "  upper_bound = Q3 + 1.5 * IQR\n",
        "  outliers = data[(data < lower_bound) | (data > upper_bound)].index.tolist()\n",
        "  return outliers\n",
        "\n",
        "for column in df.select_dtypes(include=np.number).columns:\n",
        "  outliers = identify_outliers(df[column])\n",
        "  num_outliers = len(outliers)\n",
        "  print(f\"Coluna: {column}, Número de outliers: {num_outliers}\")\n"
      ],
      "metadata": {
        "id": "v1Rg7nX8XXQN",
        "outputId": "ecf18551-e1d0-4150-ab12-2bbd354716c3",
        "colab": {
          "base_uri": "https://localhost:8080/"
        }
      },
      "execution_count": 29,
      "outputs": [
        {
          "output_type": "stream",
          "name": "stdout",
          "text": [
            "Coluna: BRL=X, Número de outliers: 173\n",
            "Coluna: BTC-USD, Número de outliers: 2\n",
            "Coluna: ITUB3.SA, Número de outliers: 25\n",
            "Coluna: PETR4.SA, Número de outliers: 0\n",
            "Coluna: VALE3.SA, Número de outliers: 0\n",
            "Coluna: ^BVSP, Número de outliers: 17\n",
            "Coluna: BRL=X %, Número de outliers: 332\n",
            "Coluna: BTC-USD %, Número de outliers: 182\n",
            "Coluna: ITUB3.SA %, Número de outliers: 318\n",
            "Coluna: PETR4.SA %, Número de outliers: 350\n",
            "Coluna: VALE3.SA %, Número de outliers: 397\n",
            "Coluna: ^BVSP %, Número de outliers: 303\n",
            "Coluna: BRL=X V, Número de outliers: 0\n",
            "Coluna: BTC-USD V, Número de outliers: 98\n",
            "Coluna: ITUB3.SA V, Número de outliers: 95\n",
            "Coluna: PETR4.SA V, Número de outliers: 63\n",
            "Coluna: VALE3.SA V, Número de outliers: 66\n",
            "Coluna: ^BVSP V, Número de outliers: 52\n"
          ]
        }
      ]
    },
    {
      "cell_type": "markdown",
      "source": [
        "> *A rotina acima é apenas para demonstrar o uso de uma rotina para identificar outliers. Epregando essa rotina, podemos ir direto para a questão sobre média de variação do dólar:*"
      ],
      "metadata": {
        "id": "MCwVNWS-dZY-"
      }
    },
    {
      "cell_type": "code",
      "source": [
        "outliers = identify_outliers(df['BRL=X %'])\n",
        "\n",
        "print(f\"média de variação do dólar sem outliers: {df[~df.index.isin(outliers)]['BRL=X %'].mean():.6f}\")"
      ],
      "metadata": {
        "colab": {
          "base_uri": "https://localhost:8080/"
        },
        "id": "mEpj0LvSdz77",
        "outputId": "cd017bec-23bc-44fc-cbc6-67e2abf3c3ff"
      },
      "execution_count": 46,
      "outputs": [
        {
          "output_type": "stream",
          "name": "stdout",
          "text": [
            "média de variação do dólar sem outliers: -0.000055\n"
          ]
        }
      ]
    },
    {
      "cell_type": "code",
      "source": [
        "print(f\"média de variação do dólar COM outliers: {df['BRL=X %'].mean():.6f}\")"
      ],
      "metadata": {
        "colab": {
          "base_uri": "https://localhost:8080/"
        },
        "id": "jaTm_tbgeuis",
        "outputId": "009bcaa7-a8ad-4fe8-d6c7-4ea684dca8e2"
      },
      "execution_count": 38,
      "outputs": [
        {
          "output_type": "stream",
          "name": "stdout",
          "text": [
            "média de variação do dólar COM outliers: 0.00020508\n"
          ]
        }
      ]
    },
    {
      "cell_type": "markdown",
      "metadata": {
        "id": "p_S-LQvThldn"
      },
      "source": [
        "# **CASE: European Energy**\n",
        "\n",
        "Os dados abaixo são da matroz energética da UE. Após entender os dados, crie os scripts necessários para responder as seguintes perguntas.\n",
        "\n",
        "[Data]('https://github.com/Rogerio-mack/IMT_CD_2025/raw/refs/heads/main/data/energy.csv')"
      ]
    },
    {
      "cell_type": "code",
      "source": [
        "df = pd.read_csv('https://github.com/Rogerio-mack/IMT_CD_2025/raw/refs/heads/main/data/energy.csv')\n",
        "df.head()"
      ],
      "metadata": {
        "colab": {
          "base_uri": "https://localhost:8080/",
          "height": 206
        },
        "outputId": "e61c2e6a-36d9-4ad0-afaf-9ad1aa941186",
        "id": "i21-rMmHhld0"
      },
      "execution_count": 47,
      "outputs": [
        {
          "output_type": "execute_result",
          "data": {
            "text/plain": [
              "  country country_name                  type    level     2016     2017  \\\n",
              "0      BE      Belgium  Conventional thermal  Level 1  30728.0  31316.0   \n",
              "1      BE      Belgium               Nuclear  Level 1  41430.0  40128.5   \n",
              "2      BE      Belgium                 Hydro  Level 1   1476.0   1360.9   \n",
              "3      BE      Belgium    Pumped hydro power  Level 2   1110.0   1093.2   \n",
              "4      BE      Belgium                  Wind  Level 1   5340.0   6387.9   \n",
              "\n",
              "        2018  \n",
              "0  30092.635  \n",
              "1  26995.628  \n",
              "2   1239.248  \n",
              "3    983.190  \n",
              "4   7177.346  "
            ],
            "text/html": [
              "\n",
              "  <div id=\"df-6bb46fdd-147e-43b1-9d0b-3da49cdcdd3d\" class=\"colab-df-container\">\n",
              "    <div>\n",
              "<style scoped>\n",
              "    .dataframe tbody tr th:only-of-type {\n",
              "        vertical-align: middle;\n",
              "    }\n",
              "\n",
              "    .dataframe tbody tr th {\n",
              "        vertical-align: top;\n",
              "    }\n",
              "\n",
              "    .dataframe thead th {\n",
              "        text-align: right;\n",
              "    }\n",
              "</style>\n",
              "<table border=\"1\" class=\"dataframe\">\n",
              "  <thead>\n",
              "    <tr style=\"text-align: right;\">\n",
              "      <th></th>\n",
              "      <th>country</th>\n",
              "      <th>country_name</th>\n",
              "      <th>type</th>\n",
              "      <th>level</th>\n",
              "      <th>2016</th>\n",
              "      <th>2017</th>\n",
              "      <th>2018</th>\n",
              "    </tr>\n",
              "  </thead>\n",
              "  <tbody>\n",
              "    <tr>\n",
              "      <th>0</th>\n",
              "      <td>BE</td>\n",
              "      <td>Belgium</td>\n",
              "      <td>Conventional thermal</td>\n",
              "      <td>Level 1</td>\n",
              "      <td>30728.0</td>\n",
              "      <td>31316.0</td>\n",
              "      <td>30092.635</td>\n",
              "    </tr>\n",
              "    <tr>\n",
              "      <th>1</th>\n",
              "      <td>BE</td>\n",
              "      <td>Belgium</td>\n",
              "      <td>Nuclear</td>\n",
              "      <td>Level 1</td>\n",
              "      <td>41430.0</td>\n",
              "      <td>40128.5</td>\n",
              "      <td>26995.628</td>\n",
              "    </tr>\n",
              "    <tr>\n",
              "      <th>2</th>\n",
              "      <td>BE</td>\n",
              "      <td>Belgium</td>\n",
              "      <td>Hydro</td>\n",
              "      <td>Level 1</td>\n",
              "      <td>1476.0</td>\n",
              "      <td>1360.9</td>\n",
              "      <td>1239.248</td>\n",
              "    </tr>\n",
              "    <tr>\n",
              "      <th>3</th>\n",
              "      <td>BE</td>\n",
              "      <td>Belgium</td>\n",
              "      <td>Pumped hydro power</td>\n",
              "      <td>Level 2</td>\n",
              "      <td>1110.0</td>\n",
              "      <td>1093.2</td>\n",
              "      <td>983.190</td>\n",
              "    </tr>\n",
              "    <tr>\n",
              "      <th>4</th>\n",
              "      <td>BE</td>\n",
              "      <td>Belgium</td>\n",
              "      <td>Wind</td>\n",
              "      <td>Level 1</td>\n",
              "      <td>5340.0</td>\n",
              "      <td>6387.9</td>\n",
              "      <td>7177.346</td>\n",
              "    </tr>\n",
              "  </tbody>\n",
              "</table>\n",
              "</div>\n",
              "    <div class=\"colab-df-buttons\">\n",
              "\n",
              "  <div class=\"colab-df-container\">\n",
              "    <button class=\"colab-df-convert\" onclick=\"convertToInteractive('df-6bb46fdd-147e-43b1-9d0b-3da49cdcdd3d')\"\n",
              "            title=\"Convert this dataframe to an interactive table.\"\n",
              "            style=\"display:none;\">\n",
              "\n",
              "  <svg xmlns=\"http://www.w3.org/2000/svg\" height=\"24px\" viewBox=\"0 -960 960 960\">\n",
              "    <path d=\"M120-120v-720h720v720H120Zm60-500h600v-160H180v160Zm220 220h160v-160H400v160Zm0 220h160v-160H400v160ZM180-400h160v-160H180v160Zm440 0h160v-160H620v160ZM180-180h160v-160H180v160Zm440 0h160v-160H620v160Z\"/>\n",
              "  </svg>\n",
              "    </button>\n",
              "\n",
              "  <style>\n",
              "    .colab-df-container {\n",
              "      display:flex;\n",
              "      gap: 12px;\n",
              "    }\n",
              "\n",
              "    .colab-df-convert {\n",
              "      background-color: #E8F0FE;\n",
              "      border: none;\n",
              "      border-radius: 50%;\n",
              "      cursor: pointer;\n",
              "      display: none;\n",
              "      fill: #1967D2;\n",
              "      height: 32px;\n",
              "      padding: 0 0 0 0;\n",
              "      width: 32px;\n",
              "    }\n",
              "\n",
              "    .colab-df-convert:hover {\n",
              "      background-color: #E2EBFA;\n",
              "      box-shadow: 0px 1px 2px rgba(60, 64, 67, 0.3), 0px 1px 3px 1px rgba(60, 64, 67, 0.15);\n",
              "      fill: #174EA6;\n",
              "    }\n",
              "\n",
              "    .colab-df-buttons div {\n",
              "      margin-bottom: 4px;\n",
              "    }\n",
              "\n",
              "    [theme=dark] .colab-df-convert {\n",
              "      background-color: #3B4455;\n",
              "      fill: #D2E3FC;\n",
              "    }\n",
              "\n",
              "    [theme=dark] .colab-df-convert:hover {\n",
              "      background-color: #434B5C;\n",
              "      box-shadow: 0px 1px 3px 1px rgba(0, 0, 0, 0.15);\n",
              "      filter: drop-shadow(0px 1px 2px rgba(0, 0, 0, 0.3));\n",
              "      fill: #FFFFFF;\n",
              "    }\n",
              "  </style>\n",
              "\n",
              "    <script>\n",
              "      const buttonEl =\n",
              "        document.querySelector('#df-6bb46fdd-147e-43b1-9d0b-3da49cdcdd3d button.colab-df-convert');\n",
              "      buttonEl.style.display =\n",
              "        google.colab.kernel.accessAllowed ? 'block' : 'none';\n",
              "\n",
              "      async function convertToInteractive(key) {\n",
              "        const element = document.querySelector('#df-6bb46fdd-147e-43b1-9d0b-3da49cdcdd3d');\n",
              "        const dataTable =\n",
              "          await google.colab.kernel.invokeFunction('convertToInteractive',\n",
              "                                                    [key], {});\n",
              "        if (!dataTable) return;\n",
              "\n",
              "        const docLinkHtml = 'Like what you see? Visit the ' +\n",
              "          '<a target=\"_blank\" href=https://colab.research.google.com/notebooks/data_table.ipynb>data table notebook</a>'\n",
              "          + ' to learn more about interactive tables.';\n",
              "        element.innerHTML = '';\n",
              "        dataTable['output_type'] = 'display_data';\n",
              "        await google.colab.output.renderOutput(dataTable, element);\n",
              "        const docLink = document.createElement('div');\n",
              "        docLink.innerHTML = docLinkHtml;\n",
              "        element.appendChild(docLink);\n",
              "      }\n",
              "    </script>\n",
              "  </div>\n",
              "\n",
              "\n",
              "<div id=\"df-11c18363-88b6-4e61-8bfb-1931bbcb71fd\">\n",
              "  <button class=\"colab-df-quickchart\" onclick=\"quickchart('df-11c18363-88b6-4e61-8bfb-1931bbcb71fd')\"\n",
              "            title=\"Suggest charts\"\n",
              "            style=\"display:none;\">\n",
              "\n",
              "<svg xmlns=\"http://www.w3.org/2000/svg\" height=\"24px\"viewBox=\"0 0 24 24\"\n",
              "     width=\"24px\">\n",
              "    <g>\n",
              "        <path d=\"M19 3H5c-1.1 0-2 .9-2 2v14c0 1.1.9 2 2 2h14c1.1 0 2-.9 2-2V5c0-1.1-.9-2-2-2zM9 17H7v-7h2v7zm4 0h-2V7h2v10zm4 0h-2v-4h2v4z\"/>\n",
              "    </g>\n",
              "</svg>\n",
              "  </button>\n",
              "\n",
              "<style>\n",
              "  .colab-df-quickchart {\n",
              "      --bg-color: #E8F0FE;\n",
              "      --fill-color: #1967D2;\n",
              "      --hover-bg-color: #E2EBFA;\n",
              "      --hover-fill-color: #174EA6;\n",
              "      --disabled-fill-color: #AAA;\n",
              "      --disabled-bg-color: #DDD;\n",
              "  }\n",
              "\n",
              "  [theme=dark] .colab-df-quickchart {\n",
              "      --bg-color: #3B4455;\n",
              "      --fill-color: #D2E3FC;\n",
              "      --hover-bg-color: #434B5C;\n",
              "      --hover-fill-color: #FFFFFF;\n",
              "      --disabled-bg-color: #3B4455;\n",
              "      --disabled-fill-color: #666;\n",
              "  }\n",
              "\n",
              "  .colab-df-quickchart {\n",
              "    background-color: var(--bg-color);\n",
              "    border: none;\n",
              "    border-radius: 50%;\n",
              "    cursor: pointer;\n",
              "    display: none;\n",
              "    fill: var(--fill-color);\n",
              "    height: 32px;\n",
              "    padding: 0;\n",
              "    width: 32px;\n",
              "  }\n",
              "\n",
              "  .colab-df-quickchart:hover {\n",
              "    background-color: var(--hover-bg-color);\n",
              "    box-shadow: 0 1px 2px rgba(60, 64, 67, 0.3), 0 1px 3px 1px rgba(60, 64, 67, 0.15);\n",
              "    fill: var(--button-hover-fill-color);\n",
              "  }\n",
              "\n",
              "  .colab-df-quickchart-complete:disabled,\n",
              "  .colab-df-quickchart-complete:disabled:hover {\n",
              "    background-color: var(--disabled-bg-color);\n",
              "    fill: var(--disabled-fill-color);\n",
              "    box-shadow: none;\n",
              "  }\n",
              "\n",
              "  .colab-df-spinner {\n",
              "    border: 2px solid var(--fill-color);\n",
              "    border-color: transparent;\n",
              "    border-bottom-color: var(--fill-color);\n",
              "    animation:\n",
              "      spin 1s steps(1) infinite;\n",
              "  }\n",
              "\n",
              "  @keyframes spin {\n",
              "    0% {\n",
              "      border-color: transparent;\n",
              "      border-bottom-color: var(--fill-color);\n",
              "      border-left-color: var(--fill-color);\n",
              "    }\n",
              "    20% {\n",
              "      border-color: transparent;\n",
              "      border-left-color: var(--fill-color);\n",
              "      border-top-color: var(--fill-color);\n",
              "    }\n",
              "    30% {\n",
              "      border-color: transparent;\n",
              "      border-left-color: var(--fill-color);\n",
              "      border-top-color: var(--fill-color);\n",
              "      border-right-color: var(--fill-color);\n",
              "    }\n",
              "    40% {\n",
              "      border-color: transparent;\n",
              "      border-right-color: var(--fill-color);\n",
              "      border-top-color: var(--fill-color);\n",
              "    }\n",
              "    60% {\n",
              "      border-color: transparent;\n",
              "      border-right-color: var(--fill-color);\n",
              "    }\n",
              "    80% {\n",
              "      border-color: transparent;\n",
              "      border-right-color: var(--fill-color);\n",
              "      border-bottom-color: var(--fill-color);\n",
              "    }\n",
              "    90% {\n",
              "      border-color: transparent;\n",
              "      border-bottom-color: var(--fill-color);\n",
              "    }\n",
              "  }\n",
              "</style>\n",
              "\n",
              "  <script>\n",
              "    async function quickchart(key) {\n",
              "      const quickchartButtonEl =\n",
              "        document.querySelector('#' + key + ' button');\n",
              "      quickchartButtonEl.disabled = true;  // To prevent multiple clicks.\n",
              "      quickchartButtonEl.classList.add('colab-df-spinner');\n",
              "      try {\n",
              "        const charts = await google.colab.kernel.invokeFunction(\n",
              "            'suggestCharts', [key], {});\n",
              "      } catch (error) {\n",
              "        console.error('Error during call to suggestCharts:', error);\n",
              "      }\n",
              "      quickchartButtonEl.classList.remove('colab-df-spinner');\n",
              "      quickchartButtonEl.classList.add('colab-df-quickchart-complete');\n",
              "    }\n",
              "    (() => {\n",
              "      let quickchartButtonEl =\n",
              "        document.querySelector('#df-11c18363-88b6-4e61-8bfb-1931bbcb71fd button');\n",
              "      quickchartButtonEl.style.display =\n",
              "        google.colab.kernel.accessAllowed ? 'block' : 'none';\n",
              "    })();\n",
              "  </script>\n",
              "</div>\n",
              "\n",
              "    </div>\n",
              "  </div>\n"
            ],
            "application/vnd.google.colaboratory.intrinsic+json": {
              "type": "dataframe",
              "variable_name": "df",
              "summary": "{\n  \"name\": \"df\",\n  \"rows\": 296,\n  \"fields\": [\n    {\n      \"column\": \"country\",\n      \"properties\": {\n        \"dtype\": \"category\",\n        \"num_unique_values\": 37,\n        \"samples\": [\n          \"MT\",\n          \"LV\",\n          \"DE\"\n        ],\n        \"semantic_type\": \"\",\n        \"description\": \"\"\n      }\n    },\n    {\n      \"column\": \"country_name\",\n      \"properties\": {\n        \"dtype\": \"category\",\n        \"num_unique_values\": 37,\n        \"samples\": [\n          \"Malta\",\n          \"Latvia\",\n          \"Germany\"\n        ],\n        \"semantic_type\": \"\",\n        \"description\": \"\"\n      }\n    },\n    {\n      \"column\": \"type\",\n      \"properties\": {\n        \"dtype\": \"category\",\n        \"num_unique_values\": 8,\n        \"samples\": [\n          \"Nuclear\",\n          \"Solar\",\n          \"Conventional thermal\"\n        ],\n        \"semantic_type\": \"\",\n        \"description\": \"\"\n      }\n    },\n    {\n      \"column\": \"level\",\n      \"properties\": {\n        \"dtype\": \"category\",\n        \"num_unique_values\": 2,\n        \"samples\": [\n          \"Level 2\",\n          \"Level 1\"\n        ],\n        \"semantic_type\": \"\",\n        \"description\": \"\"\n      }\n    },\n    {\n      \"column\": \"2016\",\n      \"properties\": {\n        \"dtype\": \"number\",\n        \"std\": 41066.36183110986,\n        \"min\": 0.0,\n        \"max\": 390141.0,\n        \"num_unique_values\": 194,\n        \"samples\": [\n          533.0,\n          22727.0\n        ],\n        \"semantic_type\": \"\",\n        \"description\": \"\"\n      }\n    },\n    {\n      \"column\": \"2017\",\n      \"properties\": {\n        \"dtype\": \"number\",\n        \"std\": 41029.4998776471,\n        \"min\": 0.0,\n        \"max\": 379093.955,\n        \"num_unique_values\": 203,\n        \"samples\": [\n          47246.628,\n          14718.368\n        ],\n        \"semantic_type\": \"\",\n        \"description\": \"\"\n      }\n    },\n    {\n      \"column\": \"2018\",\n      \"properties\": {\n        \"dtype\": \"number\",\n        \"std\": 39423.36089795286,\n        \"min\": 0.0,\n        \"max\": 393153.254,\n        \"num_unique_values\": 184,\n        \"samples\": [\n          600.67,\n          34803.244\n        ],\n        \"semantic_type\": \"\",\n        \"description\": \"\"\n      }\n    }\n  ]\n}"
            }
          },
          "metadata": {},
          "execution_count": 47
        }
      ]
    },
    {
      "cell_type": "markdown",
      "source": [
        "# Q14.\n",
        "\n",
        "(European Energy) Quantos países há na base?"
      ],
      "metadata": {
        "id": "ebJ3AxrCiOA_"
      }
    },
    {
      "cell_type": "code",
      "source": [
        "df.country_name.nunique()"
      ],
      "metadata": {
        "colab": {
          "base_uri": "https://localhost:8080/"
        },
        "id": "Trk8Xpj7iM6Q",
        "outputId": "19d2b1e0-1665-4d20-f042-77d1aa47a10a"
      },
      "execution_count": 51,
      "outputs": [
        {
          "output_type": "execute_result",
          "data": {
            "text/plain": [
              "37"
            ]
          },
          "metadata": {},
          "execution_count": 51
        }
      ]
    },
    {
      "cell_type": "markdown",
      "metadata": {
        "id": "sxy8i0FGRLP-"
      },
      "source": [
        "# Q15.\n",
        "\n",
        "(European Energy) Qual percentual de energia nuclear produzida na Europa no ano de 2018?"
      ]
    },
    {
      "cell_type": "code",
      "metadata": {
        "colab": {
          "base_uri": "https://localhost:8080/"
        },
        "id": "cBWWU46WZpdM",
        "outputId": "88afab83-62a9-499e-df61-843a9d7c2a67"
      },
      "source": [
        "print(f\"{df[df.type == 'Nuclear']['2018'].sum() / df['2018'].sum() * 100:.3f}\")"
      ],
      "execution_count": 54,
      "outputs": [
        {
          "output_type": "stream",
          "name": "stdout",
          "text": [
            "22.925\n"
          ]
        }
      ]
    },
    {
      "cell_type": "markdown",
      "metadata": {
        "id": "1cIu6LriZ1N7"
      },
      "source": [
        "# Q16.\n",
        "\n",
        "(European Energy) Qual o percentual da energia da França que vem de energia nuclear no ano de 2018?"
      ]
    },
    {
      "cell_type": "code",
      "metadata": {
        "colab": {
          "base_uri": "https://localhost:8080/"
        },
        "id": "efoD6J23Z1OF",
        "outputId": "cc258fc9-1c34-47a1-f722-dac5f71c65cb"
      },
      "source": [
        "print(f\"{df[(df.type == 'Nuclear') & (df.country_name == 'France')]['2018'].sum() / df[ df.country_name == 'France' ]['2018'].sum() * 100:.3f}\")"
      ],
      "execution_count": 56,
      "outputs": [
        {
          "output_type": "stream",
          "name": "stdout",
          "text": [
            "70.110\n"
          ]
        }
      ]
    }
  ]
}