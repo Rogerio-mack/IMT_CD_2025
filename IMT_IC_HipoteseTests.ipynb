{
  "nbformat": 4,
  "nbformat_minor": 0,
  "metadata": {
    "colab": {
      "provenance": [],
      "toc_visible": true,
      "authorship_tag": "ABX9TyPDZ3gsrCe/3Ib4io/csuQy",
      "include_colab_link": true
    },
    "kernelspec": {
      "name": "python3",
      "display_name": "Python 3"
    },
    "language_info": {
      "name": "python"
    }
  },
  "cells": [
    {
      "cell_type": "markdown",
      "metadata": {
        "id": "view-in-github",
        "colab_type": "text"
      },
      "source": [
        "<a href=\"https://colab.research.google.com/github/Rogerio-mack/IMT_CD_2025/blob/main/IMT_IC_HipoteseTests.ipynb\" target=\"_parent\"><img src=\"https://colab.research.google.com/assets/colab-badge.svg\" alt=\"Open In Colab\"/></a>"
      ]
    },
    {
      "cell_type": "markdown",
      "metadata": {
        "id": "80CF3Eq9EXDW"
      },
      "source": [
        "<head>\n",
        "  <meta name=\"author\" content=\"Rogério de Oliveira\">\n",
        "  <meta institution=\"author\" content=\"ITM\">\n",
        "</head>\n",
        "\n",
        "<img src=\"https://maua.br/images/selo-60-anos-maua.svg\" width=300, align=\"right\">\n",
        "<!-- <h1 align=left><font size = 6, style=\"color:rgb(200,0,0)\"> optional title </font></h1> -->\n"
      ]
    },
    {
      "cell_type": "markdown",
      "source": [
        "# **Intervalos de Confiança e Testes de Hipótese**"
      ],
      "metadata": {
        "id": "JnxFp_MHzztt"
      }
    },
    {
      "cell_type": "code",
      "source": [
        "import numpy as np\n",
        "import pandas as pd\n",
        "import matplotlib.pyplot as plt\n",
        "import seaborn as sns\n",
        "\n",
        "from scipy import stats\n",
        "from scipy.stats import norm, t"
      ],
      "metadata": {
        "id": "AgnwSGlR0fF3"
      },
      "execution_count": null,
      "outputs": []
    },
    {
      "cell_type": "markdown",
      "source": [
        "# Intervalo de Confiança (IC) para a média uma população e uma amostra (Distribuição Normal)\n",
        "\n",
        "Quando temos dados de **uma população**, podemos calcular a média e o desvio padrão exatos. A fórmula para o IC da média da população pode ser então calculado como:\n",
        "\n",
        "$$ IC = \\mu \\pm Z_{\\alpha/2} \\cdot \\left(\\frac{\\sigma}{\\sqrt{n}}\\right) $$\n",
        "onde:\n",
        "- $\\mu$ é a média da população.\n",
        "- $Z_{\\alpha/2}$ é o valor crítico da distribuição normal (para um nível de confiança $(1-\\alpha)$.\n",
        "- $\\sigma$ é o desvio padrão da população.\n",
        "- $n$ é o tamanho da população.\n",
        "\n",
        "Para **uma amostra** fazemos uma aproximação pela distribuição de t-student.\n",
        "\n",
        "$$ IC = \\bar{x} \\pm t_{\\alpha/2, n-1} \\cdot \\left(\\frac{s}{\\sqrt{n}}\\right) $$\n",
        "onde:\n",
        "- $\\bar{x}$ é a média da população.\n",
        "- $t_{\\alpha/2, n-1}$ é o valor crítico da distribuição t de Student (para um nível de confiança $(1-\\alpha)$ e $n-1$ graus de liberdade).  \n",
        "- $s$ é o desvio padrão da amostra.\n",
        "- $n$ é o tamanho da população.\n",
        "\n",
        "Na prática, para $n \\ge 30$ ambos são valores muito próximos.\n",
        "\n",
        "\n",
        "\n"
      ],
      "metadata": {
        "id": "51fzpuEWr7i5"
      }
    },
    {
      "cell_type": "code",
      "source": [
        "dados = np.array([2.3, 2.1, 3.5, 2.8, 3.3, 3.0, 2.7])\n",
        "# dados = np.random.normal(size=1000) # Tente esse agora\n",
        "\n",
        "n = len(dados)\n",
        "media_amostra = np.mean(dados)\n",
        "desvio_padrao_amostra = np.std(dados, ddof=1)\n",
        "nivel_confianca = 0.95\n",
        "\n",
        "# População\n",
        "z_critico = stats.norm.ppf((1 + nivel_confianca) / 2)\n",
        "\n",
        "margem_erro = z_critico * (desvio_padrao_amostra / np.sqrt(n))\n",
        "\n",
        "IC_inferior = media_amostra - margem_erro\n",
        "IC_superior = media_amostra + margem_erro\n",
        "print(f\"IC para a população: ({IC_inferior:.2f}, {IC_superior:.2f}), Intervalo = ({IC_superior - IC_inferior:.2f})\")\n",
        "\n",
        "# Amostra\n",
        "t_critico = stats.t.ppf((1 + nivel_confianca) / 2, df=n-1)\n",
        "\n",
        "margem_erro = t_critico * (desvio_padrao_amostra / np.sqrt(n))\n",
        "\n",
        "IC_inferior = media_amostra - margem_erro\n",
        "IC_superior = media_amostra + margem_erro\n",
        "print(f\"IC para a amostra  : ({IC_inferior:.2f}, {IC_superior:.2f}), Intervalo = ({IC_superior - IC_inferior:.2f})\")\n"
      ],
      "metadata": {
        "colab": {
          "base_uri": "https://localhost:8080/"
        },
        "id": "Nvnx566wvI3h",
        "outputId": "e3e10212-eb9b-4592-f678-36097fc01fd3"
      },
      "execution_count": null,
      "outputs": [
        {
          "output_type": "stream",
          "name": "stdout",
          "text": [
            "IC para a população: (2.44, 3.19), Intervalo = (0.75)\n",
            "IC para a amostra  : (2.35, 3.28), Intervalo = (0.93)\n"
          ]
        }
      ]
    },
    {
      "cell_type": "markdown",
      "source": [
        "## `norm.interval()`, `t.interval()`"
      ],
      "metadata": {
        "id": "ijrh3com1xGV"
      }
    },
    {
      "cell_type": "code",
      "source": [
        "IC_inferior, IC_superior = norm.interval(nivel_confianca, loc=media_amostra, scale=desvio_padrao_amostra/np.sqrt(n))\n",
        "print(f\"IC para a população: ({IC_inferior:.2f}, {IC_superior:.2f}), Intervalo = ({IC_superior - IC_inferior:.2f})\")\n",
        "\n",
        "IC_inferior, IC_superior = t.interval(nivel_confianca, loc=media_amostra, scale=desvio_padrao_amostra/np.sqrt(n), df=n-1)\n",
        "print(f\"IC para a amostra  : ({IC_inferior:.2f}, {IC_superior:.2f}), Intervalo = ({IC_superior - IC_inferior:.2f})\")"
      ],
      "metadata": {
        "id": "VYZ-eDtz04Nd",
        "outputId": "019172cc-86a0-4350-c2bd-6742b5eda68a",
        "colab": {
          "base_uri": "https://localhost:8080/"
        }
      },
      "execution_count": null,
      "outputs": [
        {
          "output_type": "stream",
          "name": "stdout",
          "text": [
            "IC para a população: (2.44, 3.19), Intervalo = (0.75)\n",
            "IC para a amostra  : (2.35, 3.28), Intervalo = (0.93)\n"
          ]
        }
      ]
    },
    {
      "cell_type": "markdown",
      "source": [
        "Grau de liberdade: em geral, $n-1$, estimada a média de $n$ elementos, se calculamos a média de $n-1$ elementos, o valor do próximo elemento está definido!"
      ],
      "metadata": {
        "id": "2WKtDlmQ5Zp0"
      }
    },
    {
      "cell_type": "code",
      "source": [
        "x = np.linspace(-4, 4, 1000)\n",
        "\n",
        "# Plot the normal distribution\n",
        "plt.plot(x, norm.pdf(x, 0, 1), label='Normal (mean=0, std=1)',linewidth=1,linestyle='--')\n",
        "\n",
        "# Plot the t-distributions for different degrees of freedom\n",
        "dfs = [2, 5, 15, 30]\n",
        "for df in dfs:\n",
        "  plt.plot(x, t.pdf(x, df), label=f't-distribution (df={df})',linewidth=1)\n",
        "\n",
        "# Add labels and title\n",
        "plt.xlabel('Value')\n",
        "plt.ylabel('Density')\n",
        "plt.title('Comparison of Normal and t-Student Distributions')\n",
        "plt.legend()\n",
        "plt.grid(True)\n",
        "plt.show()"
      ],
      "metadata": {
        "id": "6tjZn1qPnk0R",
        "outputId": "afafe298-e3c6-404c-d3b7-14e5509af660",
        "colab": {
          "base_uri": "https://localhost:8080/",
          "height": 472
        }
      },
      "execution_count": null,
      "outputs": [
        {
          "output_type": "display_data",
          "data": {
            "text/plain": [
              "<Figure size 640x480 with 1 Axes>"
            ],
            "image/png": "[encoded data removed]"
          },
          "metadata": {}
        }
      ]
    },
    {
      "cell_type": "markdown",
      "source": [
        "## Outras distribuições (desconhecida): Bootstraping e Resampling\n",
        "\n",
        "Resampling são técnicas de reamostragem e podem envolver redução do tamanho da amostra e diferentes formas de seleção dos dados (pode exemplo o *cross-validation* ou *k-fold*). O Bootstraping é uma técnica específica de reamostragem onde a amostragem é feita com reposição. Ambas podem ser técnicas úteis para estimar médias e IC para distribuições desconhecidas."
      ],
      "metadata": {
        "id": "xObQU6wG0KMe"
      }
    },
    {
      "cell_type": "code",
      "source": [
        "dados = np.array([2.3, 2.1, 3.5, 2.8, 3.3, 3.0, 2.7])\n",
        "dados = np.random.normal(size=1000) # Tente esse agora\n",
        "\n",
        "# Parâmetros do Bootstrap\n",
        "n_bootstraps = 1000\n",
        "medias_bootstrap = []\n",
        "\n",
        "np.random.seed(0)\n",
        "for _ in range(n_bootstraps):\n",
        "    amostra = np.random.choice(dados, size=len(dados), replace=True)      # Bootstrap, Cada dado pode ser selecionado várias vezes em cada amostra.\n",
        "    # amostra = np.random.choice(dados, size=int(1/3*len(dados)), replace=False)   # Resample, Cada dado pode ser selecionado uma única vez em cada amostra. Não funciona aqui para a amostra pequena.\n",
        "    medias_bootstrap.append(np.mean(amostra))\n",
        "\n",
        "IC_inferior = np.percentile(medias_bootstrap, 2.5)\n",
        "IC_superior = np.percentile(medias_bootstrap, 97.5)\n",
        "\n",
        "print(f\"IC Bootstrap: ({IC_inferior:.2f}, {IC_superior:.2f}, Intervalo = ({IC_superior - IC_inferior:.2f})\")\n",
        "\n",
        "plt.hist(medias_bootstrap, bins=30, alpha=0.7)\n",
        "plt.axvline(IC_inferior, color='r', linestyle='--', label=f'IC Inferior: {IC_inferior:.2f}')\n",
        "plt.axvline(IC_superior, color='r', linestyle='--', label=f'IC Superior: {IC_superior:.2f}')\n",
        "plt.axvline(np.mean(medias_bootstrap), color='k', linestyle='-', label=f'Média: {np.mean(medias_bootstrap):.2f}')\n",
        "\n",
        "plt.axvline(np.mean(medias_bootstrap)-2*np.std(medias_bootstrap), color='g', linestyle='-', label='$+2 \\\\sigma$')\n",
        "plt.axvline(np.mean(medias_bootstrap)+2*np.std(medias_bootstrap), color='g', linestyle='-', label='$+2 \\\\sigma$')\n",
        "\n",
        "plt.legend()\n",
        "plt.title('Distribuição das Médias Bootstrap')\n",
        "plt.xlabel('Média')\n",
        "plt.ylabel('Frequência')\n",
        "plt.show()\n"
      ],
      "metadata": {
        "colab": {
          "base_uri": "https://localhost:8080/",
          "height": 489
        },
        "id": "XjV_6GSfw1aL",
        "outputId": "c88c78dc-afdc-450f-a47d-efd35e338018"
      },
      "execution_count": null,
      "outputs": [
        {
          "output_type": "stream",
          "name": "stdout",
          "text": [
            "IC Bootstrap: (-0.03, 0.09, Intervalo = (0.12)\n"
          ]
        },
        {
          "output_type": "display_data",
          "data": {
            "text/plain": [
              "<Figure size 640x480 with 1 Axes>"
            ],
            "image/png": "[encoded data removed]"
          },
          "metadata": {}
        }
      ]
    },
    {
      "cell_type": "markdown",
      "source": [
        "Isso será particularmente útil para dados com quaiquer distribuições e saída de modelos de ML que não seguem, necessariamente, uma distribuição conhecida."
      ],
      "metadata": {
        "id": "m-sznjK74J-3"
      }
    },
    {
      "cell_type": "markdown",
      "source": [
        "# Testes Estatísticos: Testes de Hipótese ou de Significância"
      ],
      "metadata": {
        "id": "zq4NsqALDkgw"
      }
    },
    {
      "cell_type": "markdown",
      "source": [
        "**Hipótese Estatística:** Uma hipótese estatística é geralmente uma afirmação sobre um conjunto de parâmetros de uma distribuição populacional.\n",
        "\n",
        "<br>\n",
        "\n",
        "* **$H_0$ (Hipótese Nula):** A hipótese nula é uma hipótese estatística a ser testada e aceita ou rejeitada em favor de uma alternativa.\n",
        "\n",
        "Exemplos:\n",
        "* A média dos valores é igual a $\\bar{x}$.\n",
        "* A média de dois conjuntos A e B de dados é igual.\n",
        "* A média de A é maior que B.\n",
        "* A é linearmente dependente de B.\n",
        "* A é dependente de B.\n",
        "\n",
        "etc.\n",
        "\n",
        "\n",
        "* **$H_1$ (Hipótese Alternativa):** Uma hipótese alternativa é uma teoria oposta em relação à hipótese nula.\n",
        "\n",
        "<br>\n",
        "\n",
        "**Erro de tipo $\\mathrm{I}$, FALSOS POSITIVOS**\n",
        "\n",
        "Diz-se que o erro de tipo $\\mathrm{I}$ ocorre se o teste solicitar incorretamente a rejeição de $H_0$ quando estiver realmente correto.\n",
        "\n",
        "$\\alpha = P(Rejeita \\ H_0\\ |\\ H_0\\ is\\ true)$\n",
        "\n",
        "<br>\n",
        "\n",
        "**Erro de tipo $\\mathrm{II}$, FALSOS NEGATIVOS**\n",
        "\n",
        "O erro de tipo $\\mathrm{II}$ ocorre se o teste solicitar a aceitação de $H_0$ quando for falso.\n",
        "\n",
        "$\\beta = P(Aceita \\ H_0\\ |\\ H_0\\ is \\ not \\ true)$\n",
        "\n",
        "<br>\n",
        "\n",
        "**Nível de significância**\n",
        "\n",
        "Sempre que $H_0$ for verdadeiro, sua probabilidade de ser rejeitado nunca é maior que $\\alpha$. O valor $\\alpha$, chamado de nível de significância do teste, geralmente é definido antecipadamente, sendo os valores comumente escolhidos $\\alpha = 0,1, 0,05, 0,005$.\n",
        "\n",
        "<br>\n",
        "\n",
        "**P_value**\n",
        "\n",
        "O valor P, ou probabilidade calculada, é a probabilidade de encontrar os resultados observados, ou mais extremos, quando a hipótese nula (H 0) de uma questão de estudo é verdadeira - a definição de 'extremo' depende de como a hipótese está sendo testada.\n",
        "\n",
        "Se o seu valor P for menor que o nível de significância escolhido, então você rejeita a hipótese nula, ou seja, aceita que sua amostra fornece evidências razoáveis para apoiar a hipótese alternativa.\n",
        "\n",
        "\n"
      ],
      "metadata": {
        "id": "9dQIg_YAEE6Y"
      }
    },
    {
      "cell_type": "markdown",
      "source": [
        "# Diferentes Testes Estatísticos"
      ],
      "metadata": {
        "id": "ITYYbsb4Il6g"
      }
    },
    {
      "cell_type": "markdown",
      "source": [
        "| Teste Estatístico               | Situação                                          | Tipo dos Dados | Paramétrico/ Não Paramétrico | Distribuição dos Dados        |\n",
        "|--------------------------------|---------------------------------------------------|----------------|-------------------------------|-------------------------------|\n",
        "| Teste t (unpaired)             | Comparar média de duas amostras independentes     | Numérico       | Paramétrico                   | Normal ou aproximadamente normal |\n",
        "| Teste t (paired)               | Comparar média de duas amostras pareadas          | Numérico       | Paramétrico                   | Normal ou aproximadamente normal |\n",
        "| Teste z                         | Comparar proporção de uma amostra com um valor conhecido | Numérico    | Paramétrico                   | Aproximação normal (n > 30)  |\n",
        "| ANOVA                          | Comparar média de três ou mais grupos independentes | Numérico       | Paramétrico                   | Normal ou aproximadamente normal |\n",
        "| ANOVA de Medidas Repetidas     | Comparar médias em várias ocasiões                | Numérico       | Paramétrico                   | Normal ou aproximadamente normal |\n",
        "| Teste de Wilcoxon (Mann-Whitney U) | Comparar medianas de duas amostras independentes | Numérico       | Não Paramétrico               | Não normal ou distribuição desconhecida |\n",
        "| Teste de Wilcoxon Signed-Rank  | Comparar medianas de duas amostras pareadas       | Numérico       | Não Paramétrico               | Não normal ou distribuição desconhecida |\n",
        "| Teste de Kruskal-Wallis        | Comparar medianas de três ou mais grupos independentes | Numérico       | Não Paramétrico               | Não normal ou distribuição desconhecida |\n",
        "| Qui-quadrado                    | Testar independência entre duas variáveis categóricas | Categórico     | Não Paramétrico               | Não normal ou distribuição desconhecida |\n",
        "| Teste de Dependência (ex: Correlação de Pearson) | Testar dependência entre duas variáveis numéricas | Numérico | Paramétrico                   | Normal ou aproximadamente normal |\n",
        "| Teste de Friedman              | Comparar médias de três ou mais grupos pareados   | Numérico       | Não Paramétrico               | Não normal ou distribuição desconhecida |\n",
        "| Teste de Fisher (ANOVA Multivariada) | Comparar média de três ou mais grupos independentes (MANOVA) | Numérico | Paramétrico                   | Normal ou aproximadamente normal |\n",
        "| Teste de Welch (t)              | Comparar média de duas amostras independentes     | Numérico       | Paramétrico                   | Normal ou aproximadamente normal |\n"
      ],
      "metadata": {
        "id": "uDxra1N6Jzdu"
      }
    },
    {
      "cell_type": "markdown",
      "source": [
        "## Teste Bi-lateral (Bi-caudal)"
      ],
      "metadata": {
        "id": "8yxUAbGPJRqh"
      }
    },
    {
      "cell_type": "code",
      "source": [
        "media = 0\n",
        "desvio_padrao = 1\n",
        "\n",
        "# Valor crítico para alpha = 0.05 (95% de confiança)\n",
        "alpha = 0.05\n",
        "z_critico_inferior = stats.norm.ppf(alpha / 2)\n",
        "z_critico_superior = stats.norm.ppf(1 - alpha / 2)\n",
        "\n",
        "x = np.linspace(-4, 4, 1000)\n",
        "y = stats.norm.pdf(x, media, desvio_padrao)\n",
        "\n",
        "plt.figure(figsize=(7,4))\n",
        "plt.plot(x, y, label='Distribuição Normal (μ=0, σ=1)', color='blue')\n",
        "plt.fill_between(x, y, where=(x <= z_critico_inferior) | (x >= z_critico_superior), color='red', alpha=0.3, label='Região de Rejeição (α=0.05)')\n",
        "plt.fill_between(x, y, where=(x > z_critico_inferior) & (x < z_critico_superior), color='green', alpha=0.3, label='Região de Aceitação')\n",
        "plt.axvline(z_critico_inferior, color='red', linestyle='--', label=f'Z crítico inferior: {z_critico_inferior:.2f}')\n",
        "plt.axvline(z_critico_superior, color='red', linestyle='--', label=f'Z crítico superior: {z_critico_superior:.2f}')\n",
        "\n",
        "plt.title('Distribuição Normal com Regiões de Aceitação e Rejeição da Hipótese Nula')\n",
        "plt.xlabel('Valor Z')\n",
        "plt.ylabel('Densidade de Probabilidade')\n",
        "plt.legend(fontsize=10)\n",
        "plt.show()\n"
      ],
      "metadata": {
        "colab": {
          "base_uri": "https://localhost:8080/",
          "height": 411
        },
        "id": "XReVaR-WH73w",
        "outputId": "f24618ce-1914-4019-93d4-cffb768a194b"
      },
      "execution_count": null,
      "outputs": [
        {
          "output_type": "display_data",
          "data": {
            "text/plain": [
              "<Figure size 700x400 with 1 Axes>"
            ],
            "image/png": "[encoded data removed]"
          },
          "metadata": {}
        }
      ]
    },
    {
      "cell_type": "markdown",
      "source": [
        "## Teste-Unilateral (Uni-caudal)"
      ],
      "metadata": {
        "id": "fTWDohPgJUwi"
      }
    },
    {
      "cell_type": "code",
      "source": [
        "media = 0\n",
        "desvio_padrao = 1\n",
        "\n",
        "# Valor crítico para alpha = 0.05 (unilateral à direita)\n",
        "alpha = 0.05\n",
        "z_critico = stats.norm.ppf(1 - alpha)\n",
        "\n",
        "x = np.linspace(-4, 4, 1000)\n",
        "y = stats.norm.pdf(x, media, desvio_padrao)\n",
        "\n",
        "plt.figure(figsize=(6,4))\n",
        "plt.plot(x, y, label='Distribuição Normal (μ=0, σ=1)', color='blue')\n",
        "plt.fill_between(x, y, where=(x >= z_critico), color='red', alpha=0.3, label='Região de Rejeição (α=0.05)')\n",
        "plt.fill_between(x, y, where=(x < z_critico), color='green', alpha=0.3, label='Região de Aceitação')\n",
        "plt.axvline(z_critico, color='red', linestyle='--', label=f'Z crítico: {z_critico:.2f}')\n",
        "\n",
        "plt.title('Distribuição Normal com Regiões de Aceitação e Rejeição da Hipótese Nula (Teste Unilateral)')\n",
        "plt.xlabel('Valor Z')\n",
        "plt.ylabel('Densidade de Probabilidade')\n",
        "plt.legend()\n",
        "plt.show()\n"
      ],
      "metadata": {
        "colab": {
          "base_uri": "https://localhost:8080/",
          "height": 363
        },
        "id": "iUG1m8lCJB37",
        "outputId": "69be7100-9098-4b66-bf08-7c3cfadaa41c"
      },
      "execution_count": null,
      "outputs": [
        {
          "output_type": "display_data",
          "data": {
            "text/plain": [
              "<Figure size 600x400 with 1 Axes>"
            ],
            "image/png": "[encoded data removed]"
          },
          "metadata": {}
        }
      ]
    },
    {
      "cell_type": "markdown",
      "source": [
        "# **Grau de Liberdade (`dof`, degrees of freedom)**\n",
        "\n",
        "**Grau de liberdade** é o número de valores **livres para variar** em um cálculo estatístico, **dado que certas restrições já foram impostas**.\n",
        "\n",
        "Imagine que você tem **três números** cuja **média é conhecida**. Digamos:\n",
        "\n",
        "* Sabemos que a média é 10, e temos **3 valores** $x_1, x_2, x_3$. Portanto, $\n",
        "  \\frac{x_1 + x_2 + x_3}{3} = 10 \\Rightarrow x_1 + x_2 + x_3 = 30\n",
        "  $.\n",
        "\n",
        "* Se você **escolher livremente** dois dos valores (por exemplo, $x_1 = 12$ e $x_2 = 8$),\n",
        "o **terceiro valor $x_3$** **já está determinado**: $\n",
        "x_3 = 30 - (x_1 + x_2) = 30 - 20 = 10\n",
        "$.\n",
        "\n",
        "<br>\n",
        "\n",
        "**Você só tem liberdade para escolher 2 dos 3 valores.** O terceiro é **restrito** pela média. **Portanto, os graus de liberdade = número de observações (3) − número de restrições (1, a média).** Neste caso $3 - 1 = 2$\n",
        "\n",
        "\n"
      ],
      "metadata": {
        "id": "Leq5mltOG6VZ"
      }
    },
    {
      "cell_type": "markdown",
      "source": [
        "## Aplicação do `dof` na variância amostral\n",
        "\n",
        "Ao calcular a **variância de uma amostra** (ou o desvio padrão!), usamos a **média da própria amostra** (não da população). Isso **impõe uma restrição** nos dados: a soma dos desvios em relação à média **sempre será zero**.\n",
        "\n",
        "Como consequência, apenas $n - 1$ valores têm **liberdade real para variar**. Por isso, o denominador na variância amostral é $n - 1$, e dizemos que há **$n - 1$ graus de liberdade**.\n",
        "\n",
        "Se usarmos $n$ no denominador (como na variância populacional), o estimador da variância seria **tendencioso (biased)** — ele subestima a variância verdadeira da população. Usar $n - 1$ **corrige esse viés**, fornecendo uma **estimativa não tendenciosa** da variância da população a partir de uma amostra.\n",
        "\n",
        "\n",
        "\n"
      ],
      "metadata": {
        "id": "fMPmoAWDJQ4x"
      }
    },
    {
      "cell_type": "markdown",
      "source": [
        "$$ \\sigma^2 = \\sum \\frac{(x - \\mu)^2}{n}$$\n",
        "\n",
        "$$ s^2 = \\sum \\frac{(x - \\bar{x})^2}{n-1}$$"
      ],
      "metadata": {
        "id": "FAeLE735rfJk"
      }
    },
    {
      "cell_type": "markdown",
      "source": [
        "### Exemplo\n",
        "\n",
        "Mesmo para um número pequeno de amostras, com dof1 o resultado é bastante mais próximo do esperado."
      ],
      "metadata": {
        "id": "PW_wjKsiLCEi"
      }
    },
    {
      "cell_type": "code",
      "source": [
        "import numpy as np\n",
        "import matplotlib.pyplot as plt\n",
        "\n",
        "np.random.seed(42)\n",
        "populacao = np.random.normal(loc=50, scale=10, size=100000)\n",
        "\n",
        "# Variância real da população\n",
        "variancia_populacional = np.var(populacao)\n",
        "print(f\"Variância real da população: {variancia_populacional:.2f}\")\n",
        "\n",
        "# Parâmetros da simulação\n",
        "n_amostras = 10000 # aumente para ter um resultado mais próximo com ddof1\n",
        "tamanho_amostra = 30\n",
        "\n",
        "variancias_com_ddof0 = []\n",
        "variancias_com_ddof1 = []\n",
        "\n",
        "for _ in range(n_amostras):\n",
        "    amostra = np.random.choice(populacao, size=tamanho_amostra, replace=False)\n",
        "    var_ddof0 = np.var(amostra, ddof=0)\n",
        "    var_ddof1 = np.var(amostra, ddof=1)\n",
        "    variancias_com_ddof0.append(var_ddof0)\n",
        "    variancias_com_ddof1.append(var_ddof1)\n",
        "\n",
        "media_var_ddof0 = np.mean(variancias_com_ddof0)\n",
        "media_var_ddof1 = np.mean(variancias_com_ddof1)\n",
        "\n",
        "print(f\"Média das variâncias com ddof=0 (tendenciosa): {media_var_ddof0:.2f}\")\n",
        "print(f\"Média das variâncias com ddof=1 (não tendenciosa): {media_var_ddof1:.2f}\")\n",
        "\n",
        "plt.hist(variancias_com_ddof0, bins=50, alpha=0.6, label='ddof=0 (biased)')\n",
        "plt.hist(variancias_com_ddof1, bins=50, alpha=0.6, label='ddof=1 (unbiased)')\n",
        "plt.axvline(variancia_populacional, color='black', linestyle='dashed', label='Var. Populacional')\n",
        "plt.title(\"Distribuição das variâncias estimadas\")\n",
        "plt.xlabel(\"Valor da variância estimada\")\n",
        "plt.ylabel(\"Frequência\")\n",
        "plt.legend()\n",
        "plt.show()\n"
      ],
      "metadata": {
        "id": "t2ZFQk9MI8zq",
        "outputId": "b52458a8-645a-424e-c67e-f7be8ae22b7f",
        "colab": {
          "base_uri": "https://localhost:8080/",
          "height": 524
        }
      },
      "execution_count": null,
      "outputs": [
        {
          "output_type": "stream",
          "name": "stdout",
          "text": [
            "Variância real da população: 100.18\n",
            "Média das variâncias com ddof=0 (tendenciosa): 96.42\n",
            "Média das variâncias com ddof=1 (não tendenciosa): 99.75\n"
          ]
        },
        {
          "output_type": "display_data",
          "data": {
            "text/plain": [
              "<Figure size 640x480 with 1 Axes>"
            ],
            "image/png": "[encoded data removed]"
          },
          "metadata": {}
        }
      ]
    },
    {
      "cell_type": "markdown",
      "source": [
        "## Exemplo de Teste de Hipótese, Definição $\\times$ Funções..."
      ],
      "metadata": {
        "id": "twrQWUjpSXOY"
      }
    },
    {
      "cell_type": "markdown",
      "source": [
        "$$ Z_{\\alpha/2, n} = \\frac{\\mu - \\mu_0}{\\left(\\frac{\\sigma}{\\sqrt{n}}\\right)}$$\n",
        "\n",
        "$$Z_{\\alpha/2, n} = \\pm 1.96 , \\space \\space P(∣Z∣>1.96)=0.05$$\n",
        "\n",
        "$$p-\\text{value} =2⋅P(Z>∣z_c|)$$\n",
        "\n"
      ],
      "metadata": {
        "id": "Vi4UZ6acL31q"
      }
    },
    {
      "cell_type": "code",
      "source": [
        "import numpy as np\n",
        "from scipy import stats\n",
        "from scipy.stats import norm, t, ttest_1samp\n",
        "\n",
        "normal_sample = np.random.normal(loc=0, scale=1, size=100)\n",
        "\n",
        "# Cálculo direto\n",
        "mean_sample = np.mean(normal_sample)\n",
        "std_sample = np.std(normal_sample, ddof=1)\n",
        "n_sample = len(normal_sample)\n",
        "mu_0 = 0  # Média sob a hipótese nula (H0)\n",
        "\n",
        "# Cálculo da estatística t\n",
        "t_stat_manual = (mean_sample - mu_0) / (std_sample / np.sqrt(n_sample))\n",
        "\n",
        "# Graus de liberdade\n",
        "df = n_sample - 1\n",
        "\n",
        "# Cálculo do p-valor (teste bilateral)\n",
        "p_value_manual = 2 * (1 - stats.t.cdf(abs(t_stat_manual), df))\n",
        "\n",
        "print(\"Teste de Hipóteses (Cálculo Direto):\")\n",
        "print(f\"Estatística t calculada: {t_stat_manual:.4f}\")\n",
        "print(f\"P-valor calculado: {p_value_manual:.4f}\")\n",
        "\n",
        "# Interpretação (exemplo com alpha = 0.05)\n",
        "alpha = 0.05\n",
        "if p_value_manual < alpha:\n",
        "    print(f\"Com p-valor ({p_value_manual:.4f}) < alpha ({alpha}), rejeitamos a hipótese nula (H0).\")\n",
        "    print(\"A média da amostra é estatisticamente diferente de 0.\")\n",
        "else:\n",
        "    print(f\"Com p-valor ({p_value_manual:.4f}) >= alpha ({alpha}), não rejeitamos a hipótese nula (H0).\")\n",
        "    print(\"Não há evidência suficiente para dizer que a média da amostra é estatisticamente diferente de 0.\")\n",
        "\n",
        "print(\"\\n\" + \"=\"*30 + \"\\n\")\n",
        "\n",
        "# Teste de hipóteses 2: Usando ttest_1samp\n",
        "t_stat_scipy, p_value_scipy = ttest_1samp(normal_sample, mu_0)\n",
        "\n",
        "print(\"Teste de Hipóteses (Usando ttest_1samp):\")\n",
        "print(f\"Estatística t da função: {t_stat_scipy:.4f}\")\n",
        "print(f\"P-valor da função: {p_value_scipy:.4f}\")\n",
        "\n",
        "# Interpretação (exemplo com alpha = 0.05)\n",
        "if p_value_scipy < alpha:\n",
        "    print(f\"Com p-valor ({p_value_scipy:.4f}) < alpha ({alpha}), rejeitamos a hipótese nula (H0).\")\n",
        "    print(\"A média da amostra é estatisticamente diferente de 0.\")\n",
        "else:\n",
        "    print(f\"Com p-valor ({p_value_scipy:.4f}) >= alpha ({alpha}), não rejeitamos a hipótese nula (H0).\")\n",
        "    print(\"Não há evidência suficiente para dizer que a média da amostra é estatisticamente diferente de 0.\")"
      ],
      "metadata": {
        "id": "hIcCN-dxDITf",
        "outputId": "40874189-0762-4bab-ab5b-cc6a489c58ce",
        "colab": {
          "base_uri": "https://localhost:8080/"
        }
      },
      "execution_count": null,
      "outputs": [
        {
          "output_type": "stream",
          "name": "stdout",
          "text": [
            "Teste de Hipóteses (Cálculo Direto):\n",
            "Estatística t calculada: -0.6513\n",
            "P-valor calculado: 0.5164\n",
            "Com p-valor (0.5164) >= alpha (0.05), não rejeitamos a hipótese nula (H0).\n",
            "Não há evidência suficiente para dizer que a média da amostra é estatisticamente diferente de 0.\n",
            "\n",
            "==============================\n",
            "\n",
            "Teste de Hipóteses (Usando ttest_1samp):\n",
            "Estatística t da função: -0.6513\n",
            "P-valor da função: 0.5164\n",
            "Com p-valor (0.5164) >= alpha (0.05), não rejeitamos a hipótese nula (H0).\n",
            "Não há evidência suficiente para dizer que a média da amostra é estatisticamente diferente de 0.\n"
          ]
        }
      ]
    },
    {
      "cell_type": "markdown",
      "source": [
        "# Exemplo de Teste de Hipótese\n",
        "\n",
        "Vamos considerar que você tem dados de homens e mulheres e deseja testar hipóteses sobre a média de idade de homens e mulheres.\n",
        "\n",
        "\n"
      ],
      "metadata": {
        "id": "A_8OAab8LxLJ"
      }
    },
    {
      "cell_type": "code",
      "source": [
        "media_homens = 35\n",
        "media_mulheres = 35\n",
        "desvio_padrao_homens = 5\n",
        "desvio_padrao_mulheres = 5\n",
        "tamanho_amostra = 50\n",
        "\n",
        "amostra_homens = np.random.normal(media_homens, desvio_padrao_homens, tamanho_amostra+10)\n",
        "amostra_mulheres = np.random.normal(media_mulheres, desvio_padrao_mulheres, tamanho_amostra)\n"
      ],
      "metadata": {
        "id": "w3kz-2w3Mzst"
      },
      "execution_count": null,
      "outputs": []
    },
    {
      "cell_type": "code",
      "source": [
        "np.mean(amostra_homens), np.mean(amostra_mulheres)"
      ],
      "metadata": {
        "id": "hhN2alq5z2O1",
        "outputId": "12850066-8873-45bb-ff62-284f2b07986b",
        "colab": {
          "base_uri": "https://localhost:8080/"
        }
      },
      "execution_count": null,
      "outputs": [
        {
          "output_type": "execute_result",
          "data": {
            "text/plain": [
              "(np.float64(36.35522636270229), np.float64(34.30835980723295))"
            ]
          },
          "metadata": {},
          "execution_count": 43
        }
      ]
    },
    {
      "cell_type": "code",
      "source": [
        "t_stat, p_valor = stats.ttest_ind(amostra_homens, amostra_mulheres)\n",
        "\n",
        "print(\"Estatística t:\", t_stat)\n",
        "print(\"Valor p:\", p_valor)\n",
        "print()\n",
        "\n",
        "if p_valor < 0.05:\n",
        "    print(\"Rejeita a hipótese nula - as médias são estatisticamente diferentes.\")\n",
        "else:\n",
        "    print(\"Não rejeita a hipótese nula - não há evidências para afirmar diferença das médias.\")"
      ],
      "metadata": {
        "colab": {
          "base_uri": "https://localhost:8080/"
        },
        "id": "PLgWDUJTM58i",
        "outputId": "154de8df-c206-4935-b043-a54cf2f54b7a"
      },
      "execution_count": null,
      "outputs": [
        {
          "output_type": "stream",
          "name": "stdout",
          "text": [
            "Estatística t: 2.5239184824194028\n",
            "Valor p: 0.013060304757985601\n",
            "\n",
            "Rejeita a hipótese nula - as médias são estatisticamente diferentes.\n"
          ]
        }
      ]
    },
    {
      "cell_type": "code",
      "source": [
        "from statsmodels.stats.weightstats import ztest\n",
        "z_stat, p_valor = ztest(amostra_homens, amostra_mulheres, value=0)\n",
        "# z_stat, p_valor = ztest(amostra_homens, amostra_mulheres, value=0)\n",
        "\n",
        "print(\"Estatística z:\", z_stat)\n",
        "print(\"Valor p:\", p_valor)\n",
        "print()\n",
        "\n",
        "if p_valor < 0.05:\n",
        "    print(\"Rejeita a hipótese nula - as médias são estatisticamente diferentes.\")\n",
        "else:\n",
        "    print(\"Não rejeita a hipótese nula - não há evidências para afirmar diferença das médias.\")"
      ],
      "metadata": {
        "id": "BLJ9LwGP9-2e",
        "outputId": "024c66fd-e90d-4200-df74-f3073b4cb16a",
        "colab": {
          "base_uri": "https://localhost:8080/"
        }
      },
      "execution_count": null,
      "outputs": [
        {
          "output_type": "stream",
          "name": "stdout",
          "text": [
            "Estatística z: 2.5239184824194028\n",
            "Valor p: 0.011605483672594435\n",
            "\n",
            "Rejeita a hipótese nula - as médias são estatisticamente diferentes.\n"
          ]
        }
      ]
    },
    {
      "cell_type": "code",
      "source": [
        "t_stat, p_valor = stats.ttest_ind(amostra_homens, amostra_mulheres, alternative='greater')\n",
        "\n",
        "print(\"Estatística t:\", t_stat)\n",
        "print(\"Valor p:\", p_valor)\n",
        "print()\n",
        "\n",
        "if p_valor < 0.05:\n",
        "    print(\"Rejeita a hipótese nula - a média das idades dos homens é estatisticamente maior.\")\n",
        "else:\n",
        "    print(\"Não rejeita a hipótese nula - não há evidências para afirmar que a média de idade dos homens é maior.\")\n"
      ],
      "metadata": {
        "colab": {
          "base_uri": "https://localhost:8080/"
        },
        "id": "5ISOiltaNCkn",
        "outputId": "03e7c67d-1249-4e9c-eaa9-5923e1b576fa"
      },
      "execution_count": null,
      "outputs": [
        {
          "output_type": "stream",
          "name": "stdout",
          "text": [
            "Estatística t: 2.5239184824194028\n",
            "Valor p: 0.006530152378992801\n",
            "\n",
            "Rejeita a hipótese nula - a média das idades dos homens é estatisticamente maior.\n"
          ]
        }
      ]
    },
    {
      "cell_type": "markdown",
      "source": [
        "# Regra de \"Ouro\" para testar os seus testes\n",
        "\n",
        "**Force a Hipótese Nula!!!**"
      ],
      "metadata": {
        "id": "PljU-Vl_IVXv"
      }
    },
    {
      "cell_type": "markdown",
      "source": [
        "## Testes de Hipóteses: Paramétricos $\\times$ Não Paramétricos\n",
        "\n",
        "Testes Paramétricos assumem uma distribuição normal dos dados (ou alguma outra distribuição específica) requerendo outros pressupostos, como variância constante, mas têm poder estatístico maior quando os pressupostos são atendidos. Já os Testes Não Paramétricos, não assumem distribuição específica dos dados, são mais flexíveis e robustos, mas geralmente têm menor poder estatístico.\n",
        "\n",
        "* **Testes Paramétricos** $\\longrightarrow$ Distribuição normal, variância constante, grandes amostras, valores contínuos.\n",
        "* **Testes Não Paramétricos** $\\longrightarrow$ Distribuição desconhecida ou não normal, pequenas amostras, valores ordinais ou categóricos ,grande presença de *outliers*\n",
        "\n",
        "**Cuidado: usar teste paramétricos violando os pressupostos pode levar a resultados e conclusões erradas! O cálculo sempre pode ser feito, mas a interpretação e adequação do teste está com você!**\n",
        "\n",
        "<br>\n",
        "<br>"
      ],
      "metadata": {
        "id": "0WrK9gCI5Nsy"
      }
    },
    {
      "cell_type": "markdown",
      "source": [
        "# Teste de hipóteses para comparar duas médias $μ_1$ e $μ_2$ de duas populações"
      ],
      "metadata": {
        "id": "cRVCdozHztoR"
      }
    },
    {
      "cell_type": "markdown",
      "source": [
        "Sejam $X_1$ e $X_2$ as duas variáveis aleatórias de interesse com médias $\\mu_1$ e $\\mu_2$, respectivamente, e variâncias $\\sigma_1$ e $\\sigma_2$ respectivamente.\n",
        "\\\n",
        "As hipóteses de interesse são:\n",
        "\n",
        "> $H_0:μ_A=μ_B$\n",
        "\n",
        "> $H_a:μ_A \\ne μ_B$ ou $H_a:μ_A < μ_B$ ou $H_a:μ_A > μ_B$\n",
        "\n",
        "\n",
        "É necessário que as amostras aleatórias das duas populações sejam independentes.\n",
        "\n",
        "*   **Para tamanhos de amostras grandes**\n",
        "1.  Variâncias ($\\sigma_1$ e $\\sigma_2$) conhecidas é iguais (difícil de encontrar na prática)\n",
        "\\\n",
        "Usaremos a distribuição Normal padrão para calcular o valor-p (valor aproximado). O valor-p será exato se as duas v.a. tiveram distribuições normais.\n",
        "2. Variâncias ($\\sigma_1$ e $\\sigma_2$) desconhecidas, porém iguais\n",
        "\\\n",
        "Usaremos a distribuição t-student com $n_1+n_2-2$ graus de liberdade se as duas v.a. tiveram distribuições normais. Caso contrário, podemos usar a aproximação da distribuição normal uma vez que os tamanhos das amostras serão grandes.\n",
        "3. Variâncias ($\\sigma_1$ e $\\sigma_2$) desconhecidas diferentes\n",
        "\\\n",
        "Usaremos a distribuição t-student com $p$ graus de liberdade (calculados em função das variâncias amostrais) se as duas v.a. tiveram distribuições normais. Caso contrário, podemos usar a aproximação da distribuição normal uma vez que os tamanhos das amostras são grandes.\n"
      ],
      "metadata": {
        "id": "T9iH9XXo0aUH"
      }
    },
    {
      "cell_type": "markdown",
      "source": [
        "# Exemplos 1, `ttest`, `ztest`\n",
        "Agora estamos interessados em verificar se os salários médios dos homens e  as mulheres na companhia Glassdoor são diferentes.\n",
        "\\\n",
        "Vamos verificar estatísticamente usando os dados da base Glassdoor\n"
      ],
      "metadata": {
        "id": "fXINnj-3wfSk"
      }
    },
    {
      "cell_type": "code",
      "source": [
        "data = pd.read_csv('http://meusite.mackenzie.br/rogerio/TIC/Projects/glassdoordata.csv')\n",
        "data.head()"
      ],
      "metadata": {
        "colab": {
          "base_uri": "https://localhost:8080/",
          "height": 313
        },
        "id": "EtLBoUJTw4yn",
        "outputId": "0d59530e-c089-45c4-8ebb-b04357b2a0c0"
      },
      "execution_count": null,
      "outputs": [
        {
          "output_type": "execute_result",
          "data": {
            "text/plain": [
              "              jobtitle  gender  age  performance education      department  \\\n",
              "0     Graphic Designer  Female   18            5   College      Operations   \n",
              "1    Software Engineer    Male   21            5   College      Management   \n",
              "2  Warehouse Associate  Female   19            4       PhD  Administration   \n",
              "3    Software Engineer    Male   20            5   Masters           Sales   \n",
              "4     Graphic Designer    Male   26            5   Masters     Engineering   \n",
              "\n",
              "   seniority  income  bonus  \n",
              "0          2   42363   9938  \n",
              "1          5  108476  11128  \n",
              "2          5   90208   9268  \n",
              "3          4  108080  10154  \n",
              "4          5   99464   9319  "
            ],
            "text/html": [
              "\n",
              "  <div id=\"df-cf78a9d6-722f-401f-a486-957ad200fed0\" class=\"colab-df-container\">\n",
              "    <div>\n",
              "<style scoped>\n",
              "    .dataframe tbody tr th:only-of-type {\n",
              "        vertical-align: middle;\n",
              "    }\n",
              "\n",
              "    .dataframe tbody tr th {\n",
              "        vertical-align: top;\n",
              "    }\n",
              "\n",
              "    .dataframe thead th {\n",
              "        text-align: right;\n",
              "    }\n",
              "</style>\n",
              "<table border=\"1\" class=\"dataframe\">\n",
              "  <thead>\n",
              "    <tr style=\"text-align: right;\">\n",
              "      <th></th>\n",
              "      <th>jobtitle</th>\n",
              "      <th>gender</th>\n",
              "      <th>age</th>\n",
              "      <th>performance</th>\n",
              "      <th>education</th>\n",
              "      <th>department</th>\n",
              "      <th>seniority</th>\n",
              "      <th>income</th>\n",
              "      <th>bonus</th>\n",
              "    </tr>\n",
              "  </thead>\n",
              "  <tbody>\n",
              "    <tr>\n",
              "      <th>0</th>\n",
              "      <td>Graphic Designer</td>\n",
              "      <td>Female</td>\n",
              "      <td>18</td>\n",
              "      <td>5</td>\n",
              "      <td>College</td>\n",
              "      <td>Operations</td>\n",
              "      <td>2</td>\n",
              "      <td>42363</td>\n",
              "      <td>9938</td>\n",
              "    </tr>\n",
              "    <tr>\n",
              "      <th>1</th>\n",
              "      <td>Software Engineer</td>\n",
              "      <td>Male</td>\n",
              "      <td>21</td>\n",
              "      <td>5</td>\n",
              "      <td>College</td>\n",
              "      <td>Management</td>\n",
              "      <td>5</td>\n",
              "      <td>108476</td>\n",
              "      <td>11128</td>\n",
              "    </tr>\n",
              "    <tr>\n",
              "      <th>2</th>\n",
              "      <td>Warehouse Associate</td>\n",
              "      <td>Female</td>\n",
              "      <td>19</td>\n",
              "      <td>4</td>\n",
              "      <td>PhD</td>\n",
              "      <td>Administration</td>\n",
              "      <td>5</td>\n",
              "      <td>90208</td>\n",
              "      <td>9268</td>\n",
              "    </tr>\n",
              "    <tr>\n",
              "      <th>3</th>\n",
              "      <td>Software Engineer</td>\n",
              "      <td>Male</td>\n",
              "      <td>20</td>\n",
              "      <td>5</td>\n",
              "      <td>Masters</td>\n",
              "      <td>Sales</td>\n",
              "      <td>4</td>\n",
              "      <td>108080</td>\n",
              "      <td>10154</td>\n",
              "    </tr>\n",
              "    <tr>\n",
              "      <th>4</th>\n",
              "      <td>Graphic Designer</td>\n",
              "      <td>Male</td>\n",
              "      <td>26</td>\n",
              "      <td>5</td>\n",
              "      <td>Masters</td>\n",
              "      <td>Engineering</td>\n",
              "      <td>5</td>\n",
              "      <td>99464</td>\n",
              "      <td>9319</td>\n",
              "    </tr>\n",
              "  </tbody>\n",
              "</table>\n",
              "</div>\n",
              "    <div class=\"colab-df-buttons\">\n",
              "\n",
              "  <div class=\"colab-df-container\">\n",
              "    <button class=\"colab-df-convert\" onclick=\"convertToInteractive('df-cf78a9d6-722f-401f-a486-957ad200fed0')\"\n",
              "            title=\"Convert this dataframe to an interactive table.\"\n",
              "            style=\"display:none;\">\n",
              "\n",
              "  <svg xmlns=\"http://www.w3.org/2000/svg\" height=\"24px\" viewBox=\"0 -960 960 960\">\n",
              "    <path d=\"M120-120v-720h720v720H120Zm60-500h600v-160H180v160Zm220 220h160v-160H400v160Zm0 220h160v-160H400v160ZM180-400h160v-160H180v160Zm440 0h160v-160H620v160ZM180-180h160v-160H180v160Zm440 0h160v-160H620v160Z\"/>\n",
              "  </svg>\n",
              "    </button>\n",
              "\n",
              "  <style>\n",
              "    .colab-df-container {\n",
              "      display:flex;\n",
              "      gap: 12px;\n",
              "    }\n",
              "\n",
              "    .colab-df-convert {\n",
              "      background-color: #E8F0FE;\n",
              "      border: none;\n",
              "      border-radius: 50%;\n",
              "      cursor: pointer;\n",
              "      display: none;\n",
              "      fill: #1967D2;\n",
              "      height: 32px;\n",
              "      padding: 0 0 0 0;\n",
              "      width: 32px;\n",
              "    }\n",
              "\n",
              "    .colab-df-convert:hover {\n",
              "      background-color: #E2EBFA;\n",
              "      box-shadow: 0px 1px 2px rgba(60, 64, 67, 0.3), 0px 1px 3px 1px rgba(60, 64, 67, 0.15);\n",
              "      fill: #174EA6;\n",
              "    }\n",
              "\n",
              "    .colab-df-buttons div {\n",
              "      margin-bottom: 4px;\n",
              "    }\n",
              "\n",
              "    [theme=dark] .colab-df-convert {\n",
              "      background-color: #3B4455;\n",
              "      fill: #D2E3FC;\n",
              "    }\n",
              "\n",
              "    [theme=dark] .colab-df-convert:hover {\n",
              "      background-color: #434B5C;\n",
              "      box-shadow: 0px 1px 3px 1px rgba(0, 0, 0, 0.15);\n",
              "      filter: drop-shadow(0px 1px 2px rgba(0, 0, 0, 0.3));\n",
              "      fill: #FFFFFF;\n",
              "    }\n",
              "  </style>\n",
              "\n",
              "    <script>\n",
              "      const buttonEl =\n",
              "        document.querySelector('#df-cf78a9d6-722f-401f-a486-957ad200fed0 button.colab-df-convert');\n",
              "      buttonEl.style.display =\n",
              "        google.colab.kernel.accessAllowed ? 'block' : 'none';\n",
              "\n",
              "      async function convertToInteractive(key) {\n",
              "        const element = document.querySelector('#df-cf78a9d6-722f-401f-a486-957ad200fed0');\n",
              "        const dataTable =\n",
              "          await google.colab.kernel.invokeFunction('convertToInteractive',\n",
              "                                                    [key], {});\n",
              "        if (!dataTable) return;\n",
              "\n",
              "        const docLinkHtml = 'Like what you see? Visit the ' +\n",
              "          '<a target=\"_blank\" href=https://colab.research.google.com/notebooks/data_table.ipynb>data table notebook</a>'\n",
              "          + ' to learn more about interactive tables.';\n",
              "        element.innerHTML = '';\n",
              "        dataTable['output_type'] = 'display_data';\n",
              "        await google.colab.output.renderOutput(dataTable, element);\n",
              "        const docLink = document.createElement('div');\n",
              "        docLink.innerHTML = docLinkHtml;\n",
              "        element.appendChild(docLink);\n",
              "      }\n",
              "    </script>\n",
              "  </div>\n",
              "\n",
              "\n",
              "    <div id=\"df-734d0a44-d647-4d8e-be69-1c7e7136a0db\">\n",
              "      <button class=\"colab-df-quickchart\" onclick=\"quickchart('df-734d0a44-d647-4d8e-be69-1c7e7136a0db')\"\n",
              "                title=\"Suggest charts\"\n",
              "                style=\"display:none;\">\n",
              "\n",
              "<svg xmlns=\"http://www.w3.org/2000/svg\" height=\"24px\"viewBox=\"0 0 24 24\"\n",
              "     width=\"24px\">\n",
              "    <g>\n",
              "        <path d=\"M19 3H5c-1.1 0-2 .9-2 2v14c0 1.1.9 2 2 2h14c1.1 0 2-.9 2-2V5c0-1.1-.9-2-2-2zM9 17H7v-7h2v7zm4 0h-2V7h2v10zm4 0h-2v-4h2v4z\"/>\n",
              "    </g>\n",
              "</svg>\n",
              "      </button>\n",
              "\n",
              "<style>\n",
              "  .colab-df-quickchart {\n",
              "      --bg-color: #E8F0FE;\n",
              "      --fill-color: #1967D2;\n",
              "      --hover-bg-color: #E2EBFA;\n",
              "      --hover-fill-color: #174EA6;\n",
              "      --disabled-fill-color: #AAA;\n",
              "      --disabled-bg-color: #DDD;\n",
              "  }\n",
              "\n",
              "  [theme=dark] .colab-df-quickchart {\n",
              "      --bg-color: #3B4455;\n",
              "      --fill-color: #D2E3FC;\n",
              "      --hover-bg-color: #434B5C;\n",
              "      --hover-fill-color: #FFFFFF;\n",
              "      --disabled-bg-color: #3B4455;\n",
              "      --disabled-fill-color: #666;\n",
              "  }\n",
              "\n",
              "  .colab-df-quickchart {\n",
              "    background-color: var(--bg-color);\n",
              "    border: none;\n",
              "    border-radius: 50%;\n",
              "    cursor: pointer;\n",
              "    display: none;\n",
              "    fill: var(--fill-color);\n",
              "    height: 32px;\n",
              "    padding: 0;\n",
              "    width: 32px;\n",
              "  }\n",
              "\n",
              "  .colab-df-quickchart:hover {\n",
              "    background-color: var(--hover-bg-color);\n",
              "    box-shadow: 0 1px 2px rgba(60, 64, 67, 0.3), 0 1px 3px 1px rgba(60, 64, 67, 0.15);\n",
              "    fill: var(--button-hover-fill-color);\n",
              "  }\n",
              "\n",
              "  .colab-df-quickchart-complete:disabled,\n",
              "  .colab-df-quickchart-complete:disabled:hover {\n",
              "    background-color: var(--disabled-bg-color);\n",
              "    fill: var(--disabled-fill-color);\n",
              "    box-shadow: none;\n",
              "  }\n",
              "\n",
              "  .colab-df-spinner {\n",
              "    border: 2px solid var(--fill-color);\n",
              "    border-color: transparent;\n",
              "    border-bottom-color: var(--fill-color);\n",
              "    animation:\n",
              "      spin 1s steps(1) infinite;\n",
              "  }\n",
              "\n",
              "  @keyframes spin {\n",
              "    0% {\n",
              "      border-color: transparent;\n",
              "      border-bottom-color: var(--fill-color);\n",
              "      border-left-color: var(--fill-color);\n",
              "    }\n",
              "    20% {\n",
              "      border-color: transparent;\n",
              "      border-left-color: var(--fill-color);\n",
              "      border-top-color: var(--fill-color);\n",
              "    }\n",
              "    30% {\n",
              "      border-color: transparent;\n",
              "      border-left-color: var(--fill-color);\n",
              "      border-top-color: var(--fill-color);\n",
              "      border-right-color: var(--fill-color);\n",
              "    }\n",
              "    40% {\n",
              "      border-color: transparent;\n",
              "      border-right-color: var(--fill-color);\n",
              "      border-top-color: var(--fill-color);\n",
              "    }\n",
              "    60% {\n",
              "      border-color: transparent;\n",
              "      border-right-color: var(--fill-color);\n",
              "    }\n",
              "    80% {\n",
              "      border-color: transparent;\n",
              "      border-right-color: var(--fill-color);\n",
              "      border-bottom-color: var(--fill-color);\n",
              "    }\n",
              "    90% {\n",
              "      border-color: transparent;\n",
              "      border-bottom-color: var(--fill-color);\n",
              "    }\n",
              "  }\n",
              "</style>\n",
              "\n",
              "      <script>\n",
              "        async function quickchart(key) {\n",
              "          const quickchartButtonEl =\n",
              "            document.querySelector('#' + key + ' button');\n",
              "          quickchartButtonEl.disabled = true;  // To prevent multiple clicks.\n",
              "          quickchartButtonEl.classList.add('colab-df-spinner');\n",
              "          try {\n",
              "            const charts = await google.colab.kernel.invokeFunction(\n",
              "                'suggestCharts', [key], {});\n",
              "          } catch (error) {\n",
              "            console.error('Error during call to suggestCharts:', error);\n",
              "          }\n",
              "          quickchartButtonEl.classList.remove('colab-df-spinner');\n",
              "          quickchartButtonEl.classList.add('colab-df-quickchart-complete');\n",
              "        }\n",
              "        (() => {\n",
              "          let quickchartButtonEl =\n",
              "            document.querySelector('#df-734d0a44-d647-4d8e-be69-1c7e7136a0db button');\n",
              "          quickchartButtonEl.style.display =\n",
              "            google.colab.kernel.accessAllowed ? 'block' : 'none';\n",
              "        })();\n",
              "      </script>\n",
              "    </div>\n",
              "\n",
              "    </div>\n",
              "  </div>\n"
            ],
            "application/vnd.google.colaboratory.intrinsic+json": {
              "type": "dataframe",
              "variable_name": "data",
              "summary": "{\n  \"name\": \"data\",\n  \"rows\": 1000,\n  \"fields\": [\n    {\n      \"column\": \"jobtitle\",\n      \"properties\": {\n        \"dtype\": \"category\",\n        \"num_unique_values\": 10,\n        \"samples\": [\n          \"Data Scientist\",\n          \"Software Engineer\",\n          \"Driver\"\n        ],\n        \"semantic_type\": \"\",\n        \"description\": \"\"\n      }\n    },\n    {\n      \"column\": \"gender\",\n      \"properties\": {\n        \"dtype\": \"category\",\n        \"num_unique_values\": 2,\n        \"samples\": [\n          \"Male\",\n          \"Female\"\n        ],\n        \"semantic_type\": \"\",\n        \"description\": \"\"\n      }\n    },\n    {\n      \"column\": \"age\",\n      \"properties\": {\n        \"dtype\": \"number\",\n        \"std\": 14,\n        \"min\": 18,\n        \"max\": 65,\n        \"num_unique_values\": 48,\n        \"samples\": [\n          48,\n          59\n        ],\n        \"semantic_type\": \"\",\n        \"description\": \"\"\n      }\n    },\n    {\n      \"column\": \"performance\",\n      \"properties\": {\n        \"dtype\": \"number\",\n        \"std\": 1,\n        \"min\": 1,\n        \"max\": 5,\n        \"num_unique_values\": 5,\n        \"samples\": [\n          4,\n          1\n        ],\n        \"semantic_type\": \"\",\n        \"description\": \"\"\n      }\n    },\n    {\n      \"column\": \"education\",\n      \"properties\": {\n        \"dtype\": \"category\",\n        \"num_unique_values\": 4,\n        \"samples\": [\n          \"PhD\",\n          \"High School\"\n        ],\n        \"semantic_type\": \"\",\n        \"description\": \"\"\n      }\n    },\n    {\n      \"column\": \"department\",\n      \"properties\": {\n        \"dtype\": \"category\",\n        \"num_unique_values\": 5,\n        \"samples\": [\n          \"Management\",\n          \"Engineering\"\n        ],\n        \"semantic_type\": \"\",\n        \"description\": \"\"\n      }\n    },\n    {\n      \"column\": \"seniority\",\n      \"properties\": {\n        \"dtype\": \"number\",\n        \"std\": 1,\n        \"min\": 1,\n        \"max\": 5,\n        \"num_unique_values\": 5,\n        \"samples\": [\n          5,\n          1\n        ],\n        \"semantic_type\": \"\",\n        \"description\": \"\"\n      }\n    },\n    {\n      \"column\": \"income\",\n      \"properties\": {\n        \"dtype\": \"number\",\n        \"std\": 25337,\n        \"min\": 34208,\n        \"max\": 179726,\n        \"num_unique_values\": 992,\n        \"samples\": [\n          76773,\n          76865\n        ],\n        \"semantic_type\": \"\",\n        \"description\": \"\"\n      }\n    },\n    {\n      \"column\": \"bonus\",\n      \"properties\": {\n        \"dtype\": \"number\",\n        \"std\": 2004,\n        \"min\": 1703,\n        \"max\": 11293,\n        \"num_unique_values\": 941,\n        \"samples\": [\n          6578,\n          5562\n        ],\n        \"semantic_type\": \"\",\n        \"description\": \"\"\n      }\n    }\n  ]\n}"
            }
          },
          "metadata": {},
          "execution_count": 47
        }
      ]
    },
    {
      "cell_type": "code",
      "source": [
        "# Estatística descritiva\n",
        "\n",
        "incomeFemale = data[data.gender == 'Female'].income\n",
        "incomeMale = data[data.gender == 'Male'].income\n",
        "\n",
        "print('Média de Salários:')\n",
        "print('Homens: {:.2f}'.format(incomeMale.mean()))\n",
        "print('Mulheres: {:.2f}'.format(incomeFemale.mean()))\n",
        "print('Diferença da média salarial é de {:.2f} ou {:.2f}%'.format(\n",
        "        incomeMale.mean() - incomeFemale.mean(), 100*(incomeMale.mean() - incomeFemale.mean())/ incomeMale.mean()))\n",
        "print(\"\")\n",
        "print('Desvio padrão de Salários:')\n",
        "print('Homens: {:.2f}'.format(incomeMale.std()))\n",
        "print('Mulheres: {:.2f}'.format(incomeFemale.std()))\n"
      ],
      "metadata": {
        "colab": {
          "base_uri": "https://localhost:8080/"
        },
        "id": "mowFfrjUxL0y",
        "outputId": "96df9a9a-8f7a-491a-e735-bb35bb78ca4d"
      },
      "execution_count": null,
      "outputs": [
        {
          "output_type": "stream",
          "name": "stdout",
          "text": [
            "Média de Salários:\n",
            "Homens: 98457.55\n",
            "Mulheres: 89942.82\n",
            "Diferença da média salarial é de 8514.73 ou 8.65%\n",
            "\n",
            "Desvio padrão de Salários:\n",
            "Homens: 25517.52\n",
            "Mulheres: 24378.28\n"
          ]
        }
      ]
    },
    {
      "cell_type": "markdown",
      "source": [
        "Note que, aparentemente, os salários médio dos homens é maior quando comparado com o salário médio das mulheres. No entanto, observa-se um alta variabilidade nos salários destes dois grupo.  "
      ],
      "metadata": {
        "id": "9QWg8HHC6vL6"
      }
    },
    {
      "cell_type": "code",
      "source": [
        "# Histogramas\n",
        "\n",
        "fig = plt.figure(figsize=(7,4))\n",
        "sns.histplot(incomeFemale,label='Female',kde=True)\n",
        "sns.histplot(incomeMale,color='orange',alpha=0.3,label='Male',kde=True)\n",
        "\n",
        "plt.legend()\n",
        "plt.show()"
      ],
      "metadata": {
        "colab": {
          "base_uri": "https://localhost:8080/",
          "height": 388
        },
        "id": "z8CzInz4xZco",
        "outputId": "ec03cd13-7e15-4cb5-e06d-2ca7cf58c3aa"
      },
      "execution_count": null,
      "outputs": [
        {
          "output_type": "display_data",
          "data": {
            "text/plain": [
              "<Figure size 700x400 with 1 Axes>"
            ],
            "image/png": "[encoded data removed]"
          },
          "metadata": {}
        }
      ]
    },
    {
      "cell_type": "markdown",
      "source": [
        "Nota-se que as distribuições dos salários das mulheres e homens seguem, aproximadamente, uma distribuição normal. Observa-se também que as variabilidades são \"parecidas\". Assim, podemos usar a distribuição t-student, assumindo igualdade de variâncias, para testar nossa hipótese"
      ],
      "metadata": {
        "id": "8Ual9kXD1_9w"
      }
    },
    {
      "cell_type": "code",
      "source": [
        "from scipy import stats\n",
        "\n",
        "ttest_Score, value_p = stats.ttest_ind(incomeFemale, incomeMale, equal_var=True)\n",
        "\n",
        "print('p-value: {:.10f}'.format(value_p))\n",
        "\n",
        "if value_p < 0.05:\n",
        "\tprint('Rejeita-se a Hipótese Nula ao n.s. de 5%')\n",
        "else:\n",
        "\tprint('Não se rejeita a Hipótese Nula ao n.s. de 5%')"
      ],
      "metadata": {
        "colab": {
          "base_uri": "https://localhost:8080/"
        },
        "id": "pSxOkevjyipz",
        "outputId": "32277bc8-5fc3-4e73-f8db-d8f5e40ada8b"
      },
      "execution_count": null,
      "outputs": [
        {
          "output_type": "stream",
          "name": "stdout",
          "text": [
            "p-value: 0.0000000948\n",
            "Rejeita-se a Hipótese Nula ao n.s. de 5%\n"
          ]
        }
      ]
    },
    {
      "cell_type": "markdown",
      "source": [
        "Conclusão: Concluímos, portanto, que há diferença significativa entre a remuneração média dos homens e mulheres na empresa."
      ],
      "metadata": {
        "id": "HWvf2kVfz4NL"
      }
    },
    {
      "cell_type": "markdown",
      "source": [
        "**Obs** É possível usar o teste de Bartletts's para verificar se duas populações apresentam a mesma variabilidade (igualdade de variâncias)"
      ],
      "metadata": {
        "id": "wrzNLDHz7ME3"
      }
    },
    {
      "cell_type": "markdown",
      "source": [
        "## Bartlett's test\n",
        "\n",
        "As hipóteses de interesse são:\n",
        "\n",
        "> $H_0:\\sigma^2_A=\\sigma^2_B$\n",
        "\n",
        "> $H_a:\\sigma^2_A \\ne \\sigma^2_B$"
      ],
      "metadata": {
        "id": "_EjPrnFY1Bj8"
      }
    },
    {
      "cell_type": "code",
      "source": [
        "# Bartlett’s test tests the null hypothesis that all input samples are from populations with equal variances.\n",
        "\n",
        "from scipy.stats import bartlett\n",
        "Bstat, p_value = bartlett(incomeFemale, incomeMale)\n",
        "\n",
        "print('p-value: {:.10f}'.format(p_value))\n",
        "if p_value < 0.05:\n",
        "\tprint('Rejeita-se a Hipótese Nula ao n.s. de 5%')\n",
        "else:\n",
        "\tprint('Não se rejeita a Hipótese Nula ao n.s. de 5%')"
      ],
      "metadata": {
        "colab": {
          "base_uri": "https://localhost:8080/"
        },
        "id": "gdwzV45Q0q75",
        "outputId": "9439ce47-ee92-4efc-f9a8-3c88edafecf4"
      },
      "execution_count": null,
      "outputs": [
        {
          "output_type": "stream",
          "name": "stdout",
          "text": [
            "p-value: 0.1543043145\n",
            "Não se rejeita a Hipótese Nula ao n.s. de 5%\n"
          ]
        }
      ]
    },
    {
      "cell_type": "markdown",
      "source": [
        "No código abaixo apresenta-se o resultado do teste de hipótese usando-se a aproximação pela normal uma vez que os tamanhos das amostras são \"grandes\".\n"
      ],
      "metadata": {
        "id": "TT3nhn1y7jO0"
      }
    },
    {
      "cell_type": "code",
      "source": [
        "# Usando a aproximação pela normal\n",
        "\n",
        "from statsmodels.stats.weightstats import ztest\n",
        "zstat, value_p =ztest(x1=incomeFemale, x2=incomeMale, alternative=\"two-sided\")\n",
        "print('p-value: {:.10f}'.format(value_p))"
      ],
      "metadata": {
        "colab": {
          "base_uri": "https://localhost:8080/"
        },
        "id": "yv6FMv2C0xTQ",
        "outputId": "f82040aa-efc3-4954-81c5-a559af44423b"
      },
      "execution_count": null,
      "outputs": [
        {
          "output_type": "stream",
          "name": "stdout",
          "text": [
            "p-value: 0.0000000761\n"
          ]
        }
      ]
    },
    {
      "cell_type": "markdown",
      "source": [
        "## Normaltest\n",
        "\n",
        "Teste para verificar normalidade."
      ],
      "metadata": {
        "id": "ZSY1TAC-76rj"
      }
    },
    {
      "cell_type": "code",
      "source": [
        "# Os salários das mulheres segue uma dist. normal?\n",
        "from scipy.stats import normaltest\n",
        "stats, p_value = normaltest(incomeFemale)\n",
        "\n",
        "print('p-value: {:.10f}'.format(value_p))\n",
        "if p_value < 0.05:\n",
        "\tprint('Rejeita-se a Hipótese Nula ao n.s. de 5%')\n",
        "else:\n",
        "\tprint('Não se rejeita a Hipótese Nula ao n.s. de 5%')"
      ],
      "metadata": {
        "colab": {
          "base_uri": "https://localhost:8080/"
        },
        "id": "1-B1vdof7-0L",
        "outputId": "855f50d8-a22e-415b-c071-42d952765bc2"
      },
      "execution_count": null,
      "outputs": [
        {
          "output_type": "stream",
          "name": "stdout",
          "text": [
            "p-value: 0.0000000761\n",
            "Não se rejeita a Hipótese Nula ao n.s. de 5%\n"
          ]
        }
      ]
    },
    {
      "cell_type": "markdown",
      "source": [
        "Note que podemos assumir que os salários das mulheres segue aproximadamente uma dist normal"
      ],
      "metadata": {
        "id": "z2ihf3K48huo"
      }
    },
    {
      "cell_type": "markdown",
      "source": [
        "# Condições para Aplicação de Testes Paramétricos\n",
        "\n",
        "\n",
        "## Normalidade  \n",
        "\n",
        "> Os dados devem seguir uma distribuição normal ou aproximadamente normal. Especialmente importante para testes que comparam médias (como o teste t de Student).\n",
        "\n",
        "## Homogeneidade das Variâncias\n",
        "\n",
        "> As variâncias das populações das quais as amostras foram retiradas devem ser aproximadamente iguais (homocedasticidade).\n",
        "\n",
        "## Independência dos Dados\n",
        "\n",
        "> As observações devem ser independentes umas das outras, isto é, a resposta de uma observação não deve influenciar a resposta de outra (veja também os testes de amostras pareadas).\n",
        "\n",
        "## Nível de Medição\n",
        "\n",
        "> Os dados devem ser em escala intervalar ou razão, o que significa que os ##dados devem ser contínuos##.\n",
        "\n",
        ">> *Por exemplo, \"scores\" não são boas variáveis para aplicação de testes como esses*\n",
        "\n",
        "## Tamanho da Amostra\n",
        "\n",
        "> Idealmente $n>30$. Para o teste t, se a amostra é pequena, a suposição de normalidade se torna ainda mais crucial."
      ],
      "metadata": {
        "id": "2nsaxMu_Nm2J"
      }
    },
    {
      "cell_type": "markdown",
      "source": [
        "# Wilcoxon (não paramétrico) para Comparação de Médias\n",
        "\n",
        "Em fisioterapia mede-se a dor em uma escala de 1 a 10 (não contínua!) portanto não podemos aplicar um t-test."
      ],
      "metadata": {
        "id": "tyJbhgG3PvBe"
      }
    },
    {
      "cell_type": "code",
      "source": [
        "from scipy.stats import wilcoxon\n",
        "\n",
        "# Dados de medida de dor para dois tratamentos diferentes\n",
        "tratamento_a = np.array([3, 4, 2, 5, 6, 4, 7, 6, 5, 4])\n",
        "tratamento_b = np.array([2, 3, 1, 4, 5, 3, 6, 5, 4, 3])\n",
        "\n",
        "stat, p_value = wilcoxon(tratamento_a, tratamento_b)\n",
        "\n",
        "print(\"Estatística:\", stat)\n",
        "print(\"P-value:\", p_value)\n",
        "print()\n",
        "\n",
        "if p_valor < 0.05:\n",
        "    print(\"Rejeitamos a hipótese nula - as médias são estatisticamente diferentes.\")\n",
        "else:\n",
        "    print(\"Não rejeitamos a hipótese nula - não há evidências suficientes para afirmar diferença nas médias.\")\n"
      ],
      "metadata": {
        "colab": {
          "base_uri": "https://localhost:8080/"
        },
        "id": "_wtlj7lQPrMq",
        "outputId": "2eff5a32-52d3-492a-8923-1b74a44a9993"
      },
      "execution_count": null,
      "outputs": [
        {
          "output_type": "stream",
          "name": "stdout",
          "text": [
            "Estatística: 0.0\n",
            "P-value: 0.001953125\n",
            "\n",
            "Rejeitamos a hipótese nula - as médias são estatisticamente diferentes.\n"
          ]
        }
      ]
    },
    {
      "cell_type": "markdown",
      "source": [
        "# Exemplos 2\n",
        "\n",
        "Etapas de um teste de hipótese (paramétrico):\n",
        "\n",
        "1. Especifique a hipótese nula e alternativa e o teste.\n",
        "2. Colete uma amostra aleatória da população.\n",
        "3. Verifique se as condições do teste são atendidas.\n",
        "4. Calcule a estatística de teste e o valor P correspondente.\n",
        "5. Decida se deseja rejeitar ou não rejeitar sua hipótese. nula"
      ],
      "metadata": {
        "id": "CoHY8BPMLIdH"
      }
    },
    {
      "cell_type": "code",
      "source": [
        "from scipy import stats\n",
        "from scipy.stats import norm\n",
        "from scipy.stats import chi2\n",
        "from scipy.stats import t\n",
        "from scipy.stats import f\n",
        "from scipy.stats import bernoulli\n",
        "from scipy.stats import binom\n",
        "from scipy.stats import nbinom\n",
        "from scipy.stats import geom\n",
        "from scipy.stats import poisson\n",
        "from scipy.stats import uniform\n",
        "from scipy.stats import randint\n",
        "from scipy.stats import expon\n",
        "from scipy.stats import gamma\n",
        "from scipy.stats import beta\n",
        "from scipy.stats import weibull_min\n",
        "from scipy.stats import hypergeom\n",
        "from scipy.stats import shapiro\n",
        "from scipy.stats import pearsonr\n",
        "from scipy.stats import normaltest\n",
        "from scipy.stats import anderson\n",
        "from scipy.stats import spearmanr\n",
        "from scipy.stats import kendalltau\n",
        "from scipy.stats import chi2_contingency\n",
        "from scipy.stats import ttest_ind\n",
        "from scipy.stats import ttest_rel\n",
        "from scipy.stats import mannwhitneyu\n",
        "from scipy.stats import wilcoxon\n",
        "from scipy.stats import kruskal\n",
        "from scipy.stats import friedmanchisquare\n",
        "from statsmodels.tsa.stattools import adfuller\n",
        "from statsmodels.tsa.stattools import kpss\n",
        "from statsmodels.stats.weightstats import ztest\n"
      ],
      "metadata": {
        "id": "i84JbOybFu55"
      },
      "execution_count": null,
      "outputs": []
    },
    {
      "cell_type": "markdown",
      "source": [
        "## `stats.ttest_1samp(x, mu)`\n",
        "\n",
        "Testa uma média hipotética ou teórica."
      ],
      "metadata": {
        "id": "n6At1SK-SjLH"
      }
    },
    {
      "cell_type": "markdown",
      "source": [
        "## Exemplo\n",
        "\n",
        "3 empresas fazem um anúncio afirmando remunerar cientistas de dados 10% acima do mercado, cuja média é R$ 8735 a.m. Você obtêm amostra de salários de 30 cientistas de dados das empresas. Você consegue afirmar que o anúncio de quais empresas é justo?\n",
        "\n",
        "$$H_0: \\mu = 9608 $$\n",
        "$$H_1: \\mu \\ne 9608 $$\n"
      ],
      "metadata": {
        "id": "rgcv2hczKmbe"
      }
    },
    {
      "cell_type": "code",
      "source": [
        "8735*1.1"
      ],
      "metadata": {
        "colab": {
          "base_uri": "https://localhost:8080/"
        },
        "id": "tqRBauRMMUdm",
        "outputId": "4704d494-4a3e-4b6b-f88d-8beb737ecda7"
      },
      "execution_count": null,
      "outputs": [
        {
          "output_type": "execute_result",
          "data": {
            "text/plain": [
              "9608.5"
            ]
          },
          "metadata": {},
          "execution_count": 63
        }
      ]
    },
    {
      "cell_type": "code",
      "source": [
        "#@markdown\n",
        "values1 = norm.rvs(loc=9580,size=30,scale=50,random_state=123)\n",
        "values2 = norm.rvs(loc=9580,size=30,scale=100,random_state=123)\n",
        "values3 = norm.rvs(loc=9580,size=30,scale=200,random_state=123)\n"
      ],
      "metadata": {
        "cellView": "form",
        "id": "Ptiw6BXWNKqA"
      },
      "execution_count": null,
      "outputs": []
    },
    {
      "cell_type": "code",
      "source": [
        "values1.mean()"
      ],
      "metadata": {
        "colab": {
          "base_uri": "https://localhost:8080/"
        },
        "id": "JQXHzWgdNfI4",
        "outputId": "6a25f88d-dc16-4f25-fdb2-07b65df37c83"
      },
      "execution_count": null,
      "outputs": [
        {
          "output_type": "execute_result",
          "data": {
            "text/plain": [
              "9582.235698548093"
            ]
          },
          "metadata": {},
          "execution_count": 65
        }
      ]
    },
    {
      "cell_type": "code",
      "source": [
        "values2.mean()"
      ],
      "metadata": {
        "colab": {
          "base_uri": "https://localhost:8080/"
        },
        "id": "lcGinC8sNhPX",
        "outputId": "3336bd7e-726d-4855-8f1d-ceaac297a348"
      },
      "execution_count": null,
      "outputs": [
        {
          "output_type": "execute_result",
          "data": {
            "text/plain": [
              "9584.471397096186"
            ]
          },
          "metadata": {},
          "execution_count": 66
        }
      ]
    },
    {
      "cell_type": "code",
      "source": [
        "values3.mean()"
      ],
      "metadata": {
        "colab": {
          "base_uri": "https://localhost:8080/"
        },
        "id": "ZepCllm3NjPo",
        "outputId": "3823e839-0b90-4970-a255-7cf8d5a460b4"
      },
      "execution_count": null,
      "outputs": [
        {
          "output_type": "execute_result",
          "data": {
            "text/plain": [
              "9588.942794192373"
            ]
          },
          "metadata": {},
          "execution_count": 67
        }
      ]
    },
    {
      "cell_type": "code",
      "source": [
        "fig, ax = plt.subplots()\n",
        "\n",
        "sns.kdeplot(values1,ax=ax,label='empresa 1')\n",
        "sns.kdeplot(values2,ax=ax,label='empresa 2')\n",
        "sns.kdeplot(values3,ax=ax,label='empresa 3')\n",
        "ax.set_title('PDF Plot')\n",
        "\n",
        "plt.legend()\n",
        "plt.tight_layout()\n",
        "plt.show()"
      ],
      "metadata": {
        "colab": {
          "base_uri": "https://localhost:8080/",
          "height": 307
        },
        "id": "zQKGt-9SEM9M",
        "outputId": "d635bd48-eb61-4e62-a9e5-8cf76306d364"
      },
      "execution_count": null,
      "outputs": [
        {
          "output_type": "display_data",
          "data": {
            "text/plain": [
              "<Figure size 500x300 with 1 Axes>"
            ],
            "image/png": "[encoded data removed]"
          },
          "metadata": {}
        }
      ]
    },
    {
      "cell_type": "markdown",
      "source": [
        "## Trick: Validando o teste"
      ],
      "metadata": {
        "id": "9FvpFz86RtU3"
      }
    },
    {
      "cell_type": "code",
      "source": [
        "stat, p = stats.ttest_1samp(values3, values3.mean())\n",
        "\n",
        "if (p < 0.05):\n",
        "  print(\"Rejeita H0\",p)\n",
        "else:\n",
        "  print(\"Aceita H0\",p)"
      ],
      "metadata": {
        "colab": {
          "base_uri": "https://localhost:8080/"
        },
        "id": "JGP6sHNnRfwf",
        "outputId": "484dae09-2b30-40c2-def3-b70e5396b9e3"
      },
      "execution_count": null,
      "outputs": [
        {
          "output_type": "stream",
          "name": "stdout",
          "text": [
            "Aceita H0 1.0\n"
          ]
        }
      ]
    },
    {
      "cell_type": "code",
      "source": [
        "stat, p = stats.ttest_1samp(values3, values3.mean() - 4*values3.std())\n",
        "\n",
        "if (p < 0.05):\n",
        "  print(\"Rejeita H0\",p)\n",
        "else:\n",
        "  print(\"Aceita H0\",p)"
      ],
      "metadata": {
        "colab": {
          "base_uri": "https://localhost:8080/"
        },
        "id": "r24BRkemRnMf",
        "outputId": "fccc8734-97ef-47aa-9aef-069f8931afa7"
      },
      "execution_count": null,
      "outputs": [
        {
          "output_type": "stream",
          "name": "stdout",
          "text": [
            "Rejeita H0 2.1766142008525573e-19\n"
          ]
        }
      ]
    },
    {
      "cell_type": "markdown",
      "source": [
        "## Testando"
      ],
      "metadata": {
        "id": "Bem5_XfVUATv"
      }
    },
    {
      "cell_type": "code",
      "source": [
        "stat, p = stats.ttest_1samp(values1, 9608)\n",
        "\n",
        "if (p < 0.05):\n",
        "  print(\"Rejeita H0\",p)\n",
        "else:\n",
        "  print(\"Aceita H0\",p)"
      ],
      "metadata": {
        "colab": {
          "base_uri": "https://localhost:8080/"
        },
        "id": "HwZKW1xVIg_t",
        "outputId": "2bf20b31-6f94-47b2-b446-7335f6b8f595"
      },
      "execution_count": null,
      "outputs": [
        {
          "output_type": "stream",
          "name": "stdout",
          "text": [
            "Rejeita H0 0.024252947874818437\n"
          ]
        }
      ]
    },
    {
      "cell_type": "code",
      "source": [
        "stat, p = stats.ttest_1samp(values2, 9608)\n",
        "\n",
        "if (p < 0.05):\n",
        "  print(\"Rejeita H0\",p)\n",
        "else:\n",
        "  print(\"Aceita H0\",p)"
      ],
      "metadata": {
        "colab": {
          "base_uri": "https://localhost:8080/"
        },
        "id": "XWQ5z2SaN8de",
        "outputId": "aeb1d26a-1d8c-4434-b79b-aed4c9636add"
      },
      "execution_count": null,
      "outputs": [
        {
          "output_type": "stream",
          "name": "stdout",
          "text": [
            "Aceita H0 0.28663859783620127\n"
          ]
        }
      ]
    },
    {
      "cell_type": "code",
      "source": [
        "stat, p = stats.ttest_1samp(values3, 9608)\n",
        "\n",
        "if (p < 0.05):\n",
        "  print(\"Rejeita H0\",p)\n",
        "else:\n",
        "  print(\"Aceita H0\",p)"
      ],
      "metadata": {
        "colab": {
          "base_uri": "https://localhost:8080/"
        },
        "id": "_ippK834cHhy",
        "outputId": "be305b95-632d-4d53-dee5-6b7d76bd2d1e"
      },
      "execution_count": null,
      "outputs": [
        {
          "output_type": "stream",
          "name": "stdout",
          "text": [
            "Aceita H0 0.6634796139956985\n"
          ]
        }
      ]
    },
    {
      "cell_type": "markdown",
      "source": [
        "Somente a empresa 1 não parece poder afirmar ter uma média de salário 10% acima do mercado."
      ],
      "metadata": {
        "id": "J-i5UCIbVetJ"
      }
    },
    {
      "cell_type": "markdown",
      "source": [
        "## `stats.ttest_ind(x1, x2)`\n",
        "\n",
        "Testa a média de duas populações."
      ],
      "metadata": {
        "id": "EiHAAJsJSZ7Q"
      }
    },
    {
      "cell_type": "markdown",
      "source": [
        "## Exemplo\n",
        "\n",
        "Uma quarta empresa apresentou um salário médio para os cientistas de dados de R$ 9777 a.m. O salário médio dessa empresa é significativamente diferente do salário médio dos demais que justifique você buscar uma colocação nessa empresa e não nas demais?\n",
        "\n",
        "$$H_0:  \\mu_0 = \\mu_1 $$\n",
        "$$H_1: \\mu_0 \\ne \\mu_1 $$\n"
      ],
      "metadata": {
        "id": "SodQprm2S_9o"
      }
    },
    {
      "cell_type": "code",
      "source": [
        "#@markdown\n",
        "values4 = norm.rvs(loc=9720,size=20,scale=500,random_state=123)\n"
      ],
      "metadata": {
        "cellView": "form",
        "id": "D_VFK3daTVdn"
      },
      "execution_count": null,
      "outputs": []
    },
    {
      "cell_type": "code",
      "source": [
        "values4.mean()"
      ],
      "metadata": {
        "colab": {
          "base_uri": "https://localhost:8080/"
        },
        "id": "KaO7sTSwTe0R",
        "outputId": "b2f40d89-a2fe-459b-8459-0e9961dfaaa0"
      },
      "execution_count": null,
      "outputs": [
        {
          "output_type": "execute_result",
          "data": {
            "text/plain": [
              "9777.208865977645"
            ]
          },
          "metadata": {},
          "execution_count": 75
        }
      ]
    },
    {
      "cell_type": "markdown",
      "source": [
        "## Trick: Validando o teste"
      ],
      "metadata": {
        "id": "vhw_g78ZTubH"
      }
    },
    {
      "cell_type": "code",
      "source": [
        "stat, p = stats.ttest_ind(values4, values4)\n",
        "\n",
        "if (p < 0.05):\n",
        "  print(\"Rejeita H0\",p)\n",
        "else:\n",
        "  print(\"Aceita H0\",p)"
      ],
      "metadata": {
        "colab": {
          "base_uri": "https://localhost:8080/"
        },
        "id": "7XQgXSKBQ_P4",
        "outputId": "240d541e-e01c-4dcf-d18e-75bf797ad267"
      },
      "execution_count": null,
      "outputs": [
        {
          "output_type": "stream",
          "name": "stdout",
          "text": [
            "Aceita H0 1.0\n"
          ]
        }
      ]
    },
    {
      "cell_type": "markdown",
      "source": [
        "## Testando"
      ],
      "metadata": {
        "id": "pVENff07UFUP"
      }
    },
    {
      "cell_type": "code",
      "source": [
        "stat, p = stats.ttest_ind(values1, values4)\n",
        "\n",
        "if (p < 0.05):\n",
        "  print(\"Rejeita H0\",p)\n",
        "else:\n",
        "  print(\"Aceita H0\",p)"
      ],
      "metadata": {
        "colab": {
          "base_uri": "https://localhost:8080/"
        },
        "id": "bVr7fyI2UIrn",
        "outputId": "37b9c779-81e2-4fbf-fff4-fc2560bce67a"
      },
      "execution_count": null,
      "outputs": [
        {
          "output_type": "stream",
          "name": "stdout",
          "text": [
            "Aceita H0 0.09637289780091156\n"
          ]
        }
      ]
    },
    {
      "cell_type": "code",
      "source": [
        "stat, p = stats.ttest_ind(values2, values4)\n",
        "\n",
        "if (p < 0.05):\n",
        "  print(\"Rejeita H0\",p)\n",
        "else:\n",
        "  print(\"Aceita H0\",p)"
      ],
      "metadata": {
        "colab": {
          "base_uri": "https://localhost:8080/"
        },
        "id": "v6CYPug6UNpz",
        "outputId": "a7252823-bc54-408f-92bf-a257a7f344b3"
      },
      "execution_count": null,
      "outputs": [
        {
          "output_type": "stream",
          "name": "stdout",
          "text": [
            "Aceita H0 0.10676604710200716\n"
          ]
        }
      ]
    },
    {
      "cell_type": "code",
      "source": [
        "stat, p = stats.ttest_ind(values3, values4)\n",
        "\n",
        "if (p < 0.05):\n",
        "  print(\"Rejeita H0\",p)\n",
        "else:\n",
        "  print(\"Aceita H0\",p)"
      ],
      "metadata": {
        "colab": {
          "base_uri": "https://localhost:8080/"
        },
        "id": "vc-qNn27UPh4",
        "outputId": "7929e909-9b30-488f-b4c6-82b8253201fb"
      },
      "execution_count": null,
      "outputs": [
        {
          "output_type": "stream",
          "name": "stdout",
          "text": [
            "Aceita H0 0.14169685317827294\n"
          ]
        }
      ]
    },
    {
      "cell_type": "markdown",
      "source": [
        "Nenhuma das empresas têm uma diferença significativa do salário médio com a empresa 4."
      ],
      "metadata": {
        "id": "aIAp2_tOV1-E"
      }
    },
    {
      "cell_type": "markdown",
      "source": [
        "## `stats.ttest_rel(x1, x2)`  \n",
        "Testes pareados, o mesmo que,\n",
        "\n",
        "`stats.ttest_1samp(x1 - x2, 0)`  \n"
      ],
      "metadata": {
        "id": "wsI52oM4WsDo"
      }
    },
    {
      "cell_type": "markdown",
      "source": [
        "# Testes de Correlação\n",
        "\n",
        "Ou **Pearson's Correlation Test** é um teste de Hipótese em que queremos verificar se duas amostras são **linearmente dependentes**. As hipóteses são:\n",
        "\n",
        "$H_0: $ não são linearmente dependentes\n",
        "\n",
        "$H_a: $ são linearmente dependentes\n",
        "\n",
        "Esse teste é fundamental para aplicarmos ou avaliarmos modelos lineares como você verá seguir.\n",
        "\n",
        "**Nota**: A correlação verifica apenas a dependência linear. Não obstante sua importância, rejeitar a hipótese de linearmente dependentes não elimina muitas outras formas de dependência (se quiser, pense em $y = x^2$, $y = cos(x)$ ou no quarteto de Anscomble).    "
      ],
      "metadata": {
        "id": "_Wq4fPs5wNbr"
      }
    },
    {
      "cell_type": "code",
      "source": [
        "# H_0: não são linearmente dependentes\n",
        "# H_a: são linearmente dependentes\n",
        "#\n",
        "# Pearson correlation test\n",
        "\n",
        "# pearson_corr, p_value = stats.pearsonr(np.random.sample(len(data)), data.income)\n",
        "\n",
        "pearson_corr, p_value = stats.pearsonr(data.age, data.income)\n",
        "print('Pearson correlation coefficient: {:.3f}'.format(pearson_corr))\n",
        "print('p-value: {:.10f}'.format(p_value))\n",
        "\n",
        "if p_value < 0.05:\n",
        "\tprint('Rejeita-se a H0 ao n.s. de 5%') # não há dependência linear\n",
        "else:\n",
        "\tprint('Não se rejeita a H0 ao n.s. de 5%') # dependência linear"
      ],
      "metadata": {
        "id": "ch1NRxR5t5wB",
        "outputId": "8a940a69-334a-49e6-91c5-844c17ffdddc",
        "colab": {
          "base_uri": "https://localhost:8080/"
        }
      },
      "execution_count": null,
      "outputs": [
        {
          "output_type": "stream",
          "name": "stdout",
          "text": [
            "Pearson correlation coefficient: 0.563\n",
            "p-value: 0.0000000000\n",
            "Rejeita-se a H0 ao n.s. de 5%\n"
          ]
        }
      ]
    },
    {
      "cell_type": "code",
      "source": [
        "# H_0: não são monotonicamente dependentes\n",
        "# H_a: são monotonicamente dependentes\n",
        "#\n",
        "# Spearman’s rank correlation coefficient\n",
        "\n",
        "spearman_corr, p_value = stats.spearmanr(data.age, data.income)\n",
        "print('Spearman correlation coefficient: {:.3f}'.format(spearman_corr))\n",
        "print('p-value: {:.10f}'.format(p_value))\n",
        "\n",
        "if p_value < 0.05:\n",
        "\tprint('Rejeita-se a H0 ao n.s. de 5%') # não há dependência linear\n",
        "else:\n",
        "\tprint('Não se rejeita a H0 ao n.s. de 5%') # dependência linear"
      ],
      "metadata": {
        "id": "dX71EOmdwbPD",
        "outputId": "7dc5e921-89cf-4f39-eddb-9dfb94e39f3f",
        "colab": {
          "base_uri": "https://localhost:8080/"
        }
      },
      "execution_count": null,
      "outputs": [
        {
          "output_type": "stream",
          "name": "stdout",
          "text": [
            "Spearman correlation coefficient: 0.563\n",
            "p-value: 0.0000000000\n",
            "Rejeita-se a H0 ao n.s. de 5%\n"
          ]
        }
      ]
    },
    {
      "cell_type": "markdown",
      "source": [
        "# Teste de Qui-Quadrado $\\chi^2$ a Dependência de Duas Variáveis Categóricas\n",
        "\n",
        "Testes Qui-Quadrado $\\chi^2$ empregam tabelas de contingência. O que são?"
      ],
      "metadata": {
        "id": "DgQ8K8q0QvWW"
      }
    },
    {
      "cell_type": "code",
      "source": [
        "data.education.value_counts()"
      ],
      "metadata": {
        "id": "DfhiISXZyS-_",
        "outputId": "5aa6a752-b835-4929-b557-b53bed0f1535",
        "colab": {
          "base_uri": "https://localhost:8080/"
        }
      },
      "execution_count": null,
      "outputs": [
        {
          "output_type": "execute_result",
          "data": {
            "text/plain": [
              "education\n",
              "High School    265\n",
              "Masters        256\n",
              "College        241\n",
              "PhD            238\n",
              "Name: count, dtype: int64"
            ]
          },
          "metadata": {},
          "execution_count": 55
        }
      ]
    },
    {
      "cell_type": "code",
      "source": [
        "# H_0: as duas variáveis são independentes\n",
        "# H_a: as duas variáveis são dependentes\n",
        "\n",
        "ct = pd.crosstab(data.gender, data.education)\n",
        "print(ct)\n",
        "# Agora vamos realizar o teste de qui-quadrado usando o `scipy`\n",
        "\n",
        "chi2, p, dof, expected = stats.chi2_contingency(ct)\n",
        "print('Chi-square statistic:', chi2)\n",
        "print('p-value:', p)\n",
        "print('Degrees of freedom:', dof)\n",
        "# print('Expected frequencies:')\n",
        "# print(expected)\n",
        "\n",
        "print()\n",
        "if p_value < 0.05:\n",
        "\tprint('Rejeita-se a H0 ao n.s. de 5%') # não há dependência linear\n",
        "else:\n",
        "\tprint('Não se rejeita a H0 ao n.s. de 5%') # dependência linear"
      ],
      "metadata": {
        "id": "QLRfFMKDxjhW",
        "outputId": "6a143d0c-6a74-43ad-b544-222ade0d7849",
        "colab": {
          "base_uri": "https://localhost:8080/"
        }
      },
      "execution_count": null,
      "outputs": [
        {
          "output_type": "stream",
          "name": "stdout",
          "text": [
            "education  College  High School  Masters  PhD\n",
            "gender                                       \n",
            "Female         123          132      107  106\n",
            "Male           118          133      149  132\n",
            "Chi-square statistic: 5.766087051757465\n",
            "p-value: 0.12356206838006176\n",
            "Degrees of freedom: 3\n",
            "\n",
            "Rejeita-se a H0 ao n.s. de 5%\n"
          ]
        }
      ]
    }
  ]
}