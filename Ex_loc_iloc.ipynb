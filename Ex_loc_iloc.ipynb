{
  "nbformat": 4,
  "nbformat_minor": 0,
  "metadata": {
    "colab": {
      "provenance": [],
      "authorship_tag": "ABX9TyN/Gfzw31SpYnqOL2LyTBPl",
      "include_colab_link": true
    },
    "kernelspec": {
      "name": "python3",
      "display_name": "Python 3"
    },
    "language_info": {
      "name": "python"
    }
  },
  "cells": [
    {
      "cell_type": "markdown",
      "metadata": {
        "id": "view-in-github",
        "colab_type": "text"
      },
      "source": [
        "<a href=\"https://colab.research.google.com/github/Rogerio-mack/IMT_CD_2025/blob/main/Ex_loc_iloc.ipynb\" target=\"_parent\"><img src=\"https://colab.research.google.com/assets/colab-badge.svg\" alt=\"Open In Colab\"/></a>"
      ]
    },
    {
      "cell_type": "markdown",
      "metadata": {
        "id": "te1NO4UoLvgn"
      },
      "source": [
        "# **CASE: Ações B3 NYC**\n",
        "\n",
        "A base de dados a seguir traz valores de fechamento, % de valorização diária (%) e volume negociado (V) de vários ativos de 2019 a 2025.\n",
        "\n",
        "  - `BVSP`, Índice Bovespa\n",
        "  - `PETR4.SA`,\n",
        "  - `VALE3.SA`,\n",
        "  - `BRL=X`, Cotação do Dólar\n",
        "  - `ITUB3.SA`,\n",
        "  - `BTC-USD`, BitCoin US\n",
        "\n",
        "Valores monetários são em moeda corrente. Valores ausentes indicam ausência de pregão/cotação, mas não há necessidade de qualquer tratamento aqui. Após entender os dados, crie os scripts necessários para responder as seguintes perguntas.\n",
        "\n",
        "[Data](https://github.com/Rogerio-mack/IMT_CD_2025/raw/refs/heads/main/data/stocks_2019_2025.csv)\n",
        "\n",
        "\n",
        "\n"
      ]
    },
    {
      "cell_type": "markdown",
      "source": [
        "# Q1.\n",
        "\n",
        "Os dados do mês de abril de 2020 do índice bovespa foram atualizados de modo errado e encontram-se 10% maior do que o valor correto. Corrija esses valores. Em seguida apresente o novo valor de soma de todos os valores do índice na base.\n",
        "\n",
        "Dica:\n",
        "```\n",
        "df['Date'] = pd.to_datetime(df['Date'])\n",
        "df['Date'].dt.month == 4\n",
        "```"
      ],
      "metadata": {
        "id": "q7_YE44iNTvE"
      }
    },
    {
      "cell_type": "markdown",
      "source": [
        "# Q2.\n",
        "\n",
        "Para efetuar uma análise tomamos a resolução de substituir os valores ausentes do real pela média dos últimos três valores anteriores (dias anteriores). Realize essa alteração na base. Em seguida apresente o novo valor de soma de todas as cotações do real na base."
      ],
      "metadata": {
        "id": "54nZMohrN-VN"
      }
    },
    {
      "cell_type": "markdown",
      "source": [
        "# Q3.\n",
        "\n",
        "Crie os valores da série média móvel de 5 dias do valor dos ativos da bolsa brasileira (valores nulos podem ser ignorados na média). Em seguida apresente o novo valor de soma de todas essas cotações na base."
      ],
      "metadata": {
        "id": "nCEg37XhOoU5"
      }
    }
  ]
}